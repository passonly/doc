{
 "cells": [
  {
   "cell_type": "code",
   "execution_count": null,
   "id": "056e8836",
   "metadata": {},
   "outputs": [],
   "source": [
    "# 温故知新"
   ]
  },
  {
   "cell_type": "code",
   "execution_count": null,
   "id": "dd2b59d4",
   "metadata": {},
   "outputs": [],
   "source": [
    "# 出错之后, 先从自己的代码上面找原因. \n"
   ]
  },
  {
   "cell_type": "markdown",
   "id": "45a8f074",
   "metadata": {},
   "source": [
    "# 创建窗口"
   ]
  },
  {
   "cell_type": "code",
   "execution_count": 2,
   "id": "0699de0a",
   "metadata": {
    "ExecuteTime": {
     "end_time": "2022-08-10T12:58:45.757538Z",
     "start_time": "2022-08-10T12:58:45.629880Z"
    }
   },
   "outputs": [],
   "source": [
    "import cv2"
   ]
  },
  {
   "cell_type": "code",
   "execution_count": 2,
   "id": "57e638df",
   "metadata": {
    "ExecuteTime": {
     "end_time": "2022-08-08T13:05:17.680384Z",
     "start_time": "2022-08-08T13:05:17.660437Z"
    }
   },
   "outputs": [],
   "source": [
    "# 创建窗口, opencv中要显示一个东西(图片, 视频), 必须要有个窗口. \n",
    "# 创建命名窗口\n",
    "# WINDOW_AUTOSIZE 和WINDOW_NORMAL\n",
    "cv2.namedWindow('window', cv2.WINDOW_AUTOSIZE)"
   ]
  },
  {
   "cell_type": "markdown",
   "id": "2138fd35",
   "metadata": {},
   "source": [
    "# 显示图片"
   ]
  },
  {
   "cell_type": "code",
   "execution_count": null,
   "id": "b200a3fd",
   "metadata": {},
   "outputs": [],
   "source": [
    "# 莱万特 20:07:35\n",
    "图片的 通道问题 问题   啥时候 一维 二维  需要转换 有点 搞不清"
   ]
  },
  {
   "cell_type": "code",
   "execution_count": null,
   "id": "ecfdb5b1",
   "metadata": {},
   "outputs": [],
   "source": [
    "# opencv, matplotlib读进来的图片都是ndarray"
   ]
  },
  {
   "cell_type": "code",
   "execution_count": 9,
   "id": "ec8ec385",
   "metadata": {
    "ExecuteTime": {
     "end_time": "2022-08-10T12:20:01.485987Z",
     "start_time": "2022-08-10T12:20:01.476013Z"
    }
   },
   "outputs": [],
   "source": [
    "cat = cv2.imread('./cat.jpeg')"
   ]
  },
  {
   "cell_type": "code",
   "execution_count": 5,
   "id": "b7579a81",
   "metadata": {
    "ExecuteTime": {
     "end_time": "2022-08-10T12:13:28.661582Z",
     "start_time": "2022-08-10T12:13:28.644625Z"
    }
   },
   "outputs": [
    {
     "data": {
      "text/plain": [
       "(480, 640, 3)"
      ]
     },
     "execution_count": 5,
     "metadata": {},
     "output_type": "execute_result"
    }
   ],
   "source": [
    "cat.shape # 行数, 列数, 通道数"
   ]
  },
  {
   "cell_type": "code",
   "execution_count": 4,
   "id": "677e193f",
   "metadata": {
    "ExecuteTime": {
     "end_time": "2022-08-10T12:12:52.496262Z",
     "start_time": "2022-08-10T12:12:52.483296Z"
    },
    "collapsed": true
   },
   "outputs": [
    {
     "data": {
      "text/plain": [
       "array([[[204, 203, 205],\n",
       "        [205, 204, 206],\n",
       "        [206, 205, 207],\n",
       "        ...,\n",
       "        [208, 208, 208],\n",
       "        [208, 208, 208],\n",
       "        [208, 208, 208]],\n",
       "\n",
       "       [[204, 203, 205],\n",
       "        [205, 204, 206],\n",
       "        [206, 205, 207],\n",
       "        ...,\n",
       "        [208, 208, 208],\n",
       "        [208, 208, 208],\n",
       "        [208, 208, 208]],\n",
       "\n",
       "       [[204, 203, 205],\n",
       "        [204, 203, 205],\n",
       "        [205, 204, 206],\n",
       "        ...,\n",
       "        [208, 208, 208],\n",
       "        [208, 208, 208],\n",
       "        [208, 208, 208]],\n",
       "\n",
       "       ...,\n",
       "\n",
       "       [[128, 129, 133],\n",
       "        [133, 134, 138],\n",
       "        [136, 137, 141],\n",
       "        ...,\n",
       "        [214, 214, 214],\n",
       "        [214, 214, 214],\n",
       "        [214, 214, 214]],\n",
       "\n",
       "       [[124, 125, 129],\n",
       "        [128, 129, 133],\n",
       "        [130, 131, 135],\n",
       "        ...,\n",
       "        [214, 214, 214],\n",
       "        [214, 214, 214],\n",
       "        [214, 214, 214]],\n",
       "\n",
       "       [[125, 126, 130],\n",
       "        [129, 130, 134],\n",
       "        [129, 130, 134],\n",
       "        ...,\n",
       "        [214, 214, 214],\n",
       "        [214, 214, 214],\n",
       "        [214, 214, 214]]], dtype=uint8)"
      ]
     },
     "execution_count": 4,
     "metadata": {},
     "output_type": "execute_result"
    }
   ],
   "source": [
    "# ndarray\n",
    "# 彩色图片都是三维的, \n",
    "cat"
   ]
  },
  {
   "cell_type": "code",
   "execution_count": 10,
   "id": "99ab602d",
   "metadata": {
    "ExecuteTime": {
     "end_time": "2022-08-10T12:20:03.991291Z",
     "start_time": "2022-08-10T12:20:03.972340Z"
    }
   },
   "outputs": [],
   "source": [
    "# 默认按照彩色图片处理, 可以通过flags变成黑白图片\n",
    "cat_gray = cv2.imread('./cat.jpeg', 0)"
   ]
  },
  {
   "cell_type": "code",
   "execution_count": 8,
   "id": "6bc2c333",
   "metadata": {
    "ExecuteTime": {
     "end_time": "2022-08-10T12:19:08.948391Z",
     "start_time": "2022-08-10T12:19:08.932434Z"
    },
    "scrolled": true
   },
   "outputs": [
    {
     "data": {
      "text/plain": [
       "(480, 640)"
      ]
     },
     "execution_count": 8,
     "metadata": {},
     "output_type": "execute_result"
    }
   ],
   "source": [
    "cat.shape"
   ]
  },
  {
   "cell_type": "code",
   "execution_count": 14,
   "id": "580bcb17",
   "metadata": {
    "ExecuteTime": {
     "end_time": "2022-08-10T12:25:00.435897Z",
     "start_time": "2022-08-10T12:25:00.427917Z"
    }
   },
   "outputs": [],
   "source": [
    "import numpy as np"
   ]
  },
  {
   "cell_type": "code",
   "execution_count": 16,
   "id": "a93f313e",
   "metadata": {
    "ExecuteTime": {
     "end_time": "2022-08-10T12:26:29.214713Z",
     "start_time": "2022-08-10T12:26:29.190779Z"
    },
    "collapsed": true
   },
   "outputs": [
    {
     "ename": "ValueError",
     "evalue": "all the input arrays must have same number of dimensions, but the array at index 0 has 3 dimension(s) and the array at index 1 has 2 dimension(s)",
     "output_type": "error",
     "traceback": [
      "\u001b[1;31m---------------------------------------------------------------------------\u001b[0m",
      "\u001b[1;31mValueError\u001b[0m                                Traceback (most recent call last)",
      "\u001b[1;32m~\\AppData\\Local\\Temp\\ipykernel_4956\\3996691369.py\u001b[0m in \u001b[0;36m<module>\u001b[1;34m\u001b[0m\n\u001b[0;32m      5\u001b[0m \u001b[1;31m# 把两张图拼到一起. 维度不一样, 不能拼.\u001b[0m\u001b[1;33m\u001b[0m\u001b[1;33m\u001b[0m\u001b[1;33m\u001b[0m\u001b[0m\n\u001b[0;32m      6\u001b[0m \u001b[1;31m# cv2.imshow('cat', np.hstack((cat, cat_gray)))\u001b[0m\u001b[1;33m\u001b[0m\u001b[1;33m\u001b[0m\u001b[1;33m\u001b[0m\u001b[0m\n\u001b[1;32m----> 7\u001b[1;33m \u001b[0mcv2\u001b[0m\u001b[1;33m.\u001b[0m\u001b[0mimshow\u001b[0m\u001b[1;33m(\u001b[0m\u001b[1;34m'cat'\u001b[0m\u001b[1;33m,\u001b[0m \u001b[0mnp\u001b[0m\u001b[1;33m.\u001b[0m\u001b[0mvstack\u001b[0m\u001b[1;33m(\u001b[0m\u001b[1;33m(\u001b[0m\u001b[0mcat\u001b[0m\u001b[1;33m,\u001b[0m \u001b[0mcat_gray\u001b[0m\u001b[1;33m)\u001b[0m\u001b[1;33m)\u001b[0m\u001b[1;33m)\u001b[0m\u001b[1;33m\u001b[0m\u001b[1;33m\u001b[0m\u001b[0m\n\u001b[0m\u001b[0;32m      8\u001b[0m \u001b[1;33m\u001b[0m\u001b[0m\n\u001b[0;32m      9\u001b[0m \u001b[1;32mwhile\u001b[0m \u001b[1;32mTrue\u001b[0m\u001b[1;33m:\u001b[0m\u001b[1;33m\u001b[0m\u001b[1;33m\u001b[0m\u001b[0m\n",
      "\u001b[1;32m<__array_function__ internals>\u001b[0m in \u001b[0;36mvstack\u001b[1;34m(*args, **kwargs)\u001b[0m\n",
      "\u001b[1;32mD:\\.venv\\lib\\site-packages\\numpy\\core\\shape_base.py\u001b[0m in \u001b[0;36mvstack\u001b[1;34m(tup)\u001b[0m\n\u001b[0;32m    280\u001b[0m     \u001b[1;32mif\u001b[0m \u001b[1;32mnot\u001b[0m \u001b[0misinstance\u001b[0m\u001b[1;33m(\u001b[0m\u001b[0marrs\u001b[0m\u001b[1;33m,\u001b[0m \u001b[0mlist\u001b[0m\u001b[1;33m)\u001b[0m\u001b[1;33m:\u001b[0m\u001b[1;33m\u001b[0m\u001b[1;33m\u001b[0m\u001b[0m\n\u001b[0;32m    281\u001b[0m         \u001b[0marrs\u001b[0m \u001b[1;33m=\u001b[0m \u001b[1;33m[\u001b[0m\u001b[0marrs\u001b[0m\u001b[1;33m]\u001b[0m\u001b[1;33m\u001b[0m\u001b[1;33m\u001b[0m\u001b[0m\n\u001b[1;32m--> 282\u001b[1;33m     \u001b[1;32mreturn\u001b[0m \u001b[0m_nx\u001b[0m\u001b[1;33m.\u001b[0m\u001b[0mconcatenate\u001b[0m\u001b[1;33m(\u001b[0m\u001b[0marrs\u001b[0m\u001b[1;33m,\u001b[0m \u001b[1;36m0\u001b[0m\u001b[1;33m)\u001b[0m\u001b[1;33m\u001b[0m\u001b[1;33m\u001b[0m\u001b[0m\n\u001b[0m\u001b[0;32m    283\u001b[0m \u001b[1;33m\u001b[0m\u001b[0m\n\u001b[0;32m    284\u001b[0m \u001b[1;33m\u001b[0m\u001b[0m\n",
      "\u001b[1;32m<__array_function__ internals>\u001b[0m in \u001b[0;36mconcatenate\u001b[1;34m(*args, **kwargs)\u001b[0m\n",
      "\u001b[1;31mValueError\u001b[0m: all the input arrays must have same number of dimensions, but the array at index 0 has 3 dimension(s) and the array at index 1 has 2 dimension(s)"
     ]
    }
   ],
   "source": [
    "# 显示彩色图片和灰度图\n",
    "# cv2.imshow('cat', cat)\n",
    "# cv2.imshow('cat_gray', cat_gray)\n",
    "\n",
    "# 把两张图拼到一起. 维度不一样, 不能拼.\n",
    "# cv2.imshow('cat', np.hstack((cat, cat_gray)))\n",
    "# cv2.imshow('cat', np.vstack((cat, cat_gray)))\n",
    "\n",
    "\n",
    "while True:\n",
    "    key = cv2.waitKey(0)\n",
    "    if key == ord('q'):\n",
    "        cv2.destroyAllWindows()\n",
    "        break"
   ]
  },
  {
   "cell_type": "markdown",
   "id": "d4a5c2c4",
   "metadata": {},
   "source": [
    "# 保存图片"
   ]
  },
  {
   "cell_type": "code",
   "execution_count": 17,
   "id": "e098b525",
   "metadata": {
    "ExecuteTime": {
     "end_time": "2022-08-10T12:32:34.553217Z",
     "start_time": "2022-08-10T12:32:34.548230Z"
    }
   },
   "outputs": [
    {
     "data": {
      "text/plain": [
       "'4.5.5'"
      ]
     },
     "execution_count": 17,
     "metadata": {},
     "output_type": "execute_result"
    }
   ],
   "source": [
    "cv2.__version__"
   ]
  },
  {
   "cell_type": "code",
   "execution_count": 18,
   "id": "7b83a480",
   "metadata": {
    "ExecuteTime": {
     "end_time": "2022-08-10T12:33:10.837220Z",
     "start_time": "2022-08-10T12:33:10.796333Z"
    }
   },
   "outputs": [
    {
     "data": {
      "text/plain": [
       "True"
      ]
     },
     "execution_count": 18,
     "metadata": {},
     "output_type": "execute_result"
    }
   ],
   "source": [
    "cv2.imwrite('cat.png', cat)"
   ]
  },
  {
   "cell_type": "code",
   "execution_count": null,
   "id": "1f6fa3be",
   "metadata": {},
   "outputs": [],
   "source": [
    "# jpg/jpeg 0到255的整数, uint 无符号的整数. \n",
    "# png是0到1之间的小数"
   ]
  },
  {
   "cell_type": "code",
   "execution_count": null,
   "id": "7f8dff8a",
   "metadata": {},
   "outputs": [],
   "source": []
  },
  {
   "cell_type": "markdown",
   "id": "8641e95b",
   "metadata": {},
   "source": [
    "# 摄像头和视频操作"
   ]
  },
  {
   "cell_type": "code",
   "execution_count": null,
   "id": "d849ee1e",
   "metadata": {},
   "outputs": [],
   "source": [
    "# 帧, 60fps, 1080p, 1920 * 1080 一秒钟显示的图片数量.  frame per second"
   ]
  },
  {
   "cell_type": "code",
   "execution_count": 21,
   "id": "81c54c6e",
   "metadata": {
    "ExecuteTime": {
     "end_time": "2022-08-10T12:49:56.653933Z",
     "start_time": "2022-08-10T12:49:44.317912Z"
    }
   },
   "outputs": [],
   "source": [
    "# opencv可以非常方便的操作摄像头. \n",
    "# VideoCapture()\n",
    "# 传摄像头的索引/编号\n",
    "cap = cv2.VideoCapture(0)\n",
    "\n",
    "while True:\n",
    "    # 读取摄像头一帧数据. read返回标记和一帧数据\n",
    "    flag, frame = cap.read()\n",
    "    \n",
    "    # 如果没读到数据\n",
    "    if not flag:\n",
    "        # 退出\n",
    "        break\n",
    "    \n",
    "    # 显示这一帧数据\n",
    "    cv2.imshow('frame', frame)\n",
    "    \n",
    "    key = cv2.waitKey(1)\n",
    "    if key == ord('q'):\n",
    "        break\n",
    "        \n",
    "# cap使用完了之后, 需要手动释放资源\n",
    "cap.release()\n",
    "cv2.destroyAllWindows()\n",
    "    "
   ]
  },
  {
   "cell_type": "code",
   "execution_count": 7,
   "id": "75defa38",
   "metadata": {
    "ExecuteTime": {
     "end_time": "2022-08-10T13:02:12.254506Z",
     "start_time": "2022-08-10T13:01:52.591073Z"
    }
   },
   "outputs": [],
   "source": [
    "# 操作视频, 只需要把VideoCaputre中的0改成视频地址. \n",
    "\n",
    "# opencv可以非常方便的操作摄像头. \n",
    "# VideoCapture()\n",
    "# 传摄像头的索引/编号\n",
    "# cap = cv2.VideoCapture('./1.mp4')\n",
    "\n",
    "# 绝对路径写法\n",
    "cap = cv2.VideoCapture(r'D:\\AIoT-深度学习视频版\\OpenCV二期\\day01_图片和视频的加载和显示\\代码\\1.mp4')\n",
    "while True:\n",
    "    # 读取摄像头一帧数据. read返回标记和一帧数据\n",
    "    flag, frame = cap.read()\n",
    "    \n",
    "    # 如果没读到数据\n",
    "    if not flag:\n",
    "        # 退出\n",
    "        break\n",
    "    \n",
    "    # 反转\n",
    "#     frame = cv2.flip(frame, 0)\n",
    "    # 显示这一帧数据\n",
    "    cv2.imshow('frame', frame)\n",
    "    \n",
    "    # waitKey中的等待时间, 必须是大于或等于0的整数. 不能是小数, 也不能是负数. \n",
    "    key = cv2.waitKey(1)\n",
    "    if key == ord('q'):\n",
    "        break\n",
    "        \n",
    "# cap使用完了之后, 需要手动释放资源\n",
    "cap.release()\n",
    "cv2.destroyAllWindows()\n",
    "    "
   ]
  },
  {
   "cell_type": "code",
   "execution_count": null,
   "id": "be1dcfef",
   "metadata": {},
   "outputs": [],
   "source": [
    "30帧, 一秒钟30张图. 每张图之间, 时间间隔 1000ms / 30 = 33.3333333333"
   ]
  },
  {
   "cell_type": "markdown",
   "id": "2127916b",
   "metadata": {},
   "source": [
    "# 保存视频"
   ]
  },
  {
   "cell_type": "code",
   "execution_count": 9,
   "id": "e1e36df5",
   "metadata": {
    "ExecuteTime": {
     "end_time": "2022-08-10T13:29:39.199920Z",
     "start_time": "2022-08-10T13:29:17.878918Z"
    }
   },
   "outputs": [],
   "source": [
    "# opencv中保存视频, VideoWriter\n",
    "cap = cv2.VideoCapture('./1.mp4')\n",
    "\n",
    "# 视频的格式 avi, mp4, wmv\n",
    "fourcc = cv2.VideoWriter_fourcc(*'XVID')\n",
    "\n",
    "# 创建videowriter 第一个参数写要保存的视频文件名, 第二个参数写视频格式对象, 第三个参数写视频的帧数, 第四个参数写视频的尺寸\n",
    "# 视频的尺寸, 就是一个坑点. 第二个坑点就是视频格式. \n",
    "vw = cv2.VideoWriter('out2.avi', fourcc, 30, (600, 800))\n",
    "\n",
    "while cap.isOpened():\n",
    "    flag, frame = cap.read()\n",
    "    if not flag:\n",
    "        break\n",
    "        \n",
    "    # 写入每一帧\n",
    "    vw.write(frame)\n",
    "    cv2.imshow('frame', frame)\n",
    "    key = cv2.waitKey(1000 // 30)\n",
    "    if key == ord('q'):\n",
    "        break\n",
    "        \n",
    "# cap使用完了之后, 需要手动释放资源\n",
    "cap.release()\n",
    "vw.release()\n",
    "cv2.destroyAllWindows()"
   ]
  },
  {
   "cell_type": "code",
   "execution_count": 11,
   "id": "a4e13438",
   "metadata": {
    "ExecuteTime": {
     "end_time": "2022-08-10T13:35:41.397205Z",
     "start_time": "2022-08-10T13:35:26.511998Z"
    }
   },
   "outputs": [],
   "source": [
    "# 保存摄像头信息为视频\n",
    "# opencv中保存视频, VideoWriter\n",
    "cap = cv2.VideoCapture(0)\n",
    "\n",
    "# 视频的格式 avi, mp4, wmv\n",
    "fourcc = cv2.VideoWriter_fourcc(*'XVID')\n",
    "\n",
    "# 创建videowriter 第一个参数写要保存的视频文件名, 第二个参数写视频格式对象, 第三个参数写视频的帧数, 第四个参数写视频的尺寸\n",
    "# 视频的尺寸, 就是一个坑点. 第二个坑点就是视频格式. \n",
    "vw = cv2.VideoWriter('camera.avi', fourcc, 30, (640, 480))\n",
    "\n",
    "while cap.isOpened():\n",
    "    flag, frame = cap.read()\n",
    "    if not flag:\n",
    "        break\n",
    "        \n",
    "    # 写入每一帧\n",
    "    vw.write(frame)\n",
    "    cv2.imshow('frame', frame)\n",
    "    key = cv2.waitKey(1000 // 30)\n",
    "    if key == ord('q'):\n",
    "        break\n",
    "        \n",
    "# cap使用完了之后, 需要手动释放资源\n",
    "cap.release()\n",
    "vw.release()\n",
    "cv2.destroyAllWindows()"
   ]
  },
  {
   "cell_type": "markdown",
   "id": "eb32f755",
   "metadata": {},
   "source": [
    "# opencv控制鼠标"
   ]
  },
  {
   "cell_type": "code",
   "execution_count": 12,
   "id": "1bd477a5",
   "metadata": {
    "ExecuteTime": {
     "end_time": "2022-08-10T13:45:42.774080Z",
     "start_time": "2022-08-10T13:45:42.759120Z"
    }
   },
   "outputs": [
    {
     "data": {
      "text/plain": [
       "2"
      ]
     },
     "execution_count": 12,
     "metadata": {},
     "output_type": "execute_result"
    }
   ],
   "source": [
    "cv2.EVENT_RBUTTONDOWN"
   ]
  },
  {
   "cell_type": "code",
   "execution_count": 1,
   "id": "8f4e0a17",
   "metadata": {
    "ExecuteTime": {
     "end_time": "2022-08-10T14:00:09.634774Z",
     "start_time": "2022-08-10T13:59:57.350613Z"
    },
    "collapsed": true
   },
   "outputs": [
    {
     "name": "stdout",
     "output_type": "stream",
     "text": [
      "0 419 465 0 123\n",
      "0 545 417 0 123\n",
      "0 437 478 0 123\n",
      "0 432 445 0 123\n",
      "0 429 418 0 123\n",
      "0 429 396 0 123\n",
      "0 428 387 0 123\n",
      "0 428 385 0 123\n",
      "0 428 384 0 123\n",
      "0 428 378 0 123\n",
      "0 428 370 0 123\n",
      "0 428 361 0 123\n",
      "0 428 354 0 123\n",
      "0 428 352 0 123\n",
      "0 427 345 0 123\n",
      "0 424 336 0 123\n",
      "0 423 329 0 123\n",
      "0 418 318 0 123\n",
      "0 415 310 0 123\n",
      "0 413 304 0 123\n",
      "0 412 300 0 123\n",
      "0 412 298 0 123\n",
      "0 411 297 0 123\n",
      "0 411 293 0 123\n",
      "0 411 292 0 123\n",
      "0 409 290 0 123\n",
      "0 409 289 0 123\n",
      "0 409 288 0 123\n",
      "0 409 284 0 123\n",
      "0 409 280 0 123\n",
      "0 409 276 0 123\n",
      "0 409 272 0 123\n",
      "0 409 267 0 123\n",
      "0 409 263 0 123\n",
      "0 409 260 0 123\n",
      "0 407 256 0 123\n",
      "0 407 252 0 123\n",
      "0 407 251 0 123\n",
      "0 407 250 0 123\n",
      "0 407 248 0 123\n",
      "0 407 247 0 123\n",
      "0 407 245 0 123\n",
      "2 407 245 2 123\n"
     ]
    }
   ],
   "source": [
    "# 核心函数setMouseCallback\n",
    "import cv2\n",
    "cat = cv2.imread('./cat.jpeg')\n",
    "# 定义鼠标的回调, 名字可以随便取, 但是参数必须是指定5个. \n",
    "def mouse_callback(event, x, y, flags, userdata):\n",
    "    print(event, x, y, flags, userdata)\n",
    "    # 实现一个简单功能: 按下鼠标右键, 窗口退出\n",
    "    if event == cv2.EVENT_RBUTTONDOWN:\n",
    "        cv2.destroyAllWindows()\n",
    "        \n",
    "# cv2.imshow('cat', cat)\n",
    "cv2.namedWindow('cat', cv2.WINDOW_NORMAL)\n",
    "cv2.resizeWindow('cat', 640, 480)\n",
    "\n",
    "# 对显示猫的窗口实现鼠标事件\n",
    "cv2.setMouseCallback('cat', mouse_callback, '123')\n",
    "\n",
    "# 既然鼠标右键可以关闭窗口, 就没必要使用waitKey来接收按键退出了. \n",
    "while True:\n",
    "    cv2.imshow('cat', cat)\n",
    "    key = cv2.waitKey(1)\n",
    "    if key == ord('q'):\n",
    "        break\n",
    "        \n",
    "cv2.destroyAllWindows()"
   ]
  }
 ],
 "metadata": {
  "kernelspec": {
   "display_name": "Python 3 (ipykernel)",
   "language": "python",
   "name": "python3"
  },
  "language_info": {
   "codemirror_mode": {
    "name": "ipython",
    "version": 3
   },
   "file_extension": ".py",
   "mimetype": "text/x-python",
   "name": "python",
   "nbconvert_exporter": "python",
   "pygments_lexer": "ipython3",
   "version": "3.7.8"
  },
  "toc": {
   "base_numbering": 1,
   "nav_menu": {},
   "number_sections": true,
   "sideBar": true,
   "skip_h1_title": false,
   "title_cell": "Table of Contents",
   "title_sidebar": "Contents",
   "toc_cell": false,
   "toc_position": {},
   "toc_section_display": true,
   "toc_window_display": false
  }
 },
 "nbformat": 4,
 "nbformat_minor": 5
}
