{
 "cells": [
  {
   "cell_type": "code",
   "execution_count": 1,
   "id": "f701b389",
   "metadata": {
    "ExecuteTime": {
     "end_time": "2022-08-22T12:36:23.576975Z",
     "start_time": "2022-08-22T12:36:23.456298Z"
    }
   },
   "outputs": [],
   "source": [
    "import numpy as np\n",
    "import cv2 "
   ]
  },
  {
   "cell_type": "code",
   "execution_count": 7,
   "id": "ce29732d",
   "metadata": {
    "ExecuteTime": {
     "end_time": "2022-08-22T12:48:33.123912Z",
     "start_time": "2022-08-22T12:48:05.352224Z"
    }
   },
   "outputs": [],
   "source": [
    "## 位运算中掩码的作用. \n",
    "# bitwise_and(src1, src2[, dst[, mask]]) -> dst\n",
    "# 先src1和src2做与运算, 然后结果再和mask做与运算, 如果与出来的结果是true,就保持原来的值, 如果是False, 就变成0.\n",
    "cat = cv2.imread('./cat.jpeg')\n",
    "# 创建一个mask, mask必须是二维的.  mask长宽必须和与运算的图片一样大.\n",
    "mask = np.zeros((100, 100), np.uint8)\n",
    "\n",
    "mask[50:100, 50:100] = 255\n",
    "# roi region of interest\n",
    "roi = cat[:100, :100]\n",
    "cv2.imshow('roi1', roi)\n",
    "\n",
    "# 注意mask尽量写关键词参数, 因为mask前面还有一个dst参数.\n",
    "roi = cv2.bitwise_and(roi, roi, mask=mask)\n",
    "cv2.imshow('roi2', roi)\n",
    "\n",
    "cat[:100, :100] = roi\n",
    "cv2.imshow('cat', cat)\n",
    "cv2.waitKey(0)\n",
    "cv2.destroyAllWindows()"
   ]
  },
  {
   "cell_type": "markdown",
   "id": "b465652c",
   "metadata": {},
   "source": [
    "### 图像的基本变换"
   ]
  },
  {
   "cell_type": "markdown",
   "id": "d030d4a5",
   "metadata": {},
   "source": [
    "#### resize的用法"
   ]
  },
  {
   "cell_type": "code",
   "execution_count": 9,
   "id": "2b9db7ab",
   "metadata": {
    "ExecuteTime": {
     "end_time": "2022-08-22T12:58:04.341979Z",
     "start_time": "2022-08-22T12:58:04.331008Z"
    }
   },
   "outputs": [
    {
     "data": {
      "text/plain": [
       "0"
      ]
     },
     "execution_count": 9,
     "metadata": {},
     "output_type": "execute_result"
    }
   ],
   "source": [
    "cv2.INTER_NEAREST"
   ]
  },
  {
   "cell_type": "code",
   "execution_count": 17,
   "id": "27fbfcd4",
   "metadata": {
    "ExecuteTime": {
     "end_time": "2022-08-22T13:03:34.885105Z",
     "start_time": "2022-08-22T13:03:23.643187Z"
    }
   },
   "outputs": [],
   "source": [
    "dog = cv2.imread('./dog.jpeg')\n",
    "# dog.shape\n",
    "# new_dog = cv2.resize(dog, (800, 800), interpolation=cv2.INTER_NEAREST)\n",
    "# new_dog = cv2.resize(dog, (800, 800), interpolation=cv2.INTER_AREA)\n",
    "# 按比例缩放\n",
    "new_dog = cv2.resize(dog, (0, 0), fx=2, fy=2)\n",
    "\n",
    "# cv2.imshow('dog', dog)\n",
    "cv2.imshow('new_dog', new_dog)\n",
    "cv2.waitKey(0)\n",
    "cv2.destroyAllWindows()"
   ]
  },
  {
   "cell_type": "markdown",
   "id": "b9f8a09b",
   "metadata": {},
   "source": [
    "#### 图像的翻转"
   ]
  },
  {
   "cell_type": "code",
   "execution_count": 23,
   "id": "73c8959e",
   "metadata": {
    "ExecuteTime": {
     "end_time": "2022-08-22T13:19:03.699642Z",
     "start_time": "2022-08-22T13:19:02.049057Z"
    }
   },
   "outputs": [],
   "source": [
    "dog = cv2.imread('./dog.jpeg')\n",
    "\n",
    "# flipCode=0表示上下翻转\n",
    "new_dog = cv2.flip(dog, 0)\n",
    "# 左右翻转\n",
    "new_dog = cv2.flip(dog, 1)\n",
    "# 小于0, 表示上下左右翻转. \n",
    "new_dog = cv2.flip(dog, -1)\n",
    "cv2.imshow('new_dog', new_dog)\n",
    "cv2.waitKey(0)\n",
    "cv2.destroyAllWindows()"
   ]
  },
  {
   "cell_type": "markdown",
   "id": "f916c129",
   "metadata": {},
   "source": [
    "#### 图像的旋转"
   ]
  },
  {
   "cell_type": "code",
   "execution_count": 32,
   "id": "3e44c4cb",
   "metadata": {
    "ExecuteTime": {
     "end_time": "2022-08-22T13:24:40.957204Z",
     "start_time": "2022-08-22T13:24:40.952217Z"
    }
   },
   "outputs": [
    {
     "data": {
      "text/plain": [
       "0"
      ]
     },
     "execution_count": 32,
     "metadata": {},
     "output_type": "execute_result"
    }
   ],
   "source": [
    "cv2.ROTATE_90_CLOCKWISE"
   ]
  },
  {
   "cell_type": "code",
   "execution_count": 34,
   "id": "90f32ab8",
   "metadata": {
    "ExecuteTime": {
     "end_time": "2022-08-22T13:25:44.059354Z",
     "start_time": "2022-08-22T13:25:42.792743Z"
    }
   },
   "outputs": [
    {
     "name": "stdout",
     "output_type": "stream",
     "text": [
      "(360, 499, 3) (499, 360, 3)\n"
     ]
    }
   ],
   "source": [
    "dog = cv2.imread('./dog.jpeg')\n",
    "\n",
    "# 旋转180\n",
    "new_dog = cv2.rotate(dog, cv2.ROTATE_180)\n",
    "# 顺时针旋转90度\n",
    "new_dog = cv2.rotate(dog, cv2.ROTATE_90_CLOCKWISE)\n",
    "\n",
    "# 逆时针旋转90度\n",
    "new_dog = cv2.rotate(dog, cv2.ROTATE_90_COUNTERCLOCKWISE)\n",
    "\n",
    "# 使用rotate不能旋转任意角度. \n",
    "\n",
    "\n",
    "print(dog.shape, new_dog.shape)\n",
    "cv2.imshow('dog', dog)\n",
    "cv2.imshow('new_dog', new_dog)\n",
    "cv2.waitKey(0)\n",
    "cv2.destroyAllWindows()"
   ]
  },
  {
   "cell_type": "markdown",
   "id": "2913e96b",
   "metadata": {},
   "source": [
    "#### 仿射变换之平移"
   ]
  },
  {
   "cell_type": "code",
   "execution_count": 35,
   "id": "fd4c9561",
   "metadata": {
    "ExecuteTime": {
     "end_time": "2022-08-22T13:40:18.637744Z",
     "start_time": "2022-08-22T13:39:27.911477Z"
    },
    "scrolled": true
   },
   "outputs": [
    {
     "name": "stdout",
     "output_type": "stream",
     "text": [
      "(360, 499, 3) (360, 499, 3)\n"
     ]
    }
   ],
   "source": [
    "dog = cv2.imread('./dog.jpeg')\n",
    "h, w, _ = dog.shape\n",
    "\n",
    "# 变换矩阵, 必须最少是float32位\n",
    "M = np.float32([[1, 0, 100], [0, 1, 100]])\n",
    "\n",
    "# 进行平移操作. \n",
    "# opencv中, 一般都是先宽度, 后高度. \n",
    "new_dog = cv2.warpAffine(dog, M, dsize=(w, h))\n",
    "\n",
    "print(dog.shape, new_dog.shape)\n",
    "cv2.imshow('dog', dog)\n",
    "cv2.imshow('new_dog', new_dog)\n",
    "cv2.waitKey(0)\n",
    "cv2.destroyAllWindows()"
   ]
  },
  {
   "cell_type": "code",
   "execution_count": 36,
   "id": "706d6f67",
   "metadata": {
    "ExecuteTime": {
     "end_time": "2022-08-22T13:41:32.250769Z",
     "start_time": "2022-08-22T13:41:32.239798Z"
    },
    "collapsed": true
   },
   "outputs": [
    {
     "data": {
      "text/plain": [
       "array([[[  0,   0,   0],\n",
       "        [  0,   0,   0],\n",
       "        [  0,   0,   0],\n",
       "        ...,\n",
       "        [  0,   0,   0],\n",
       "        [  0,   0,   0],\n",
       "        [  0,   0,   0]],\n",
       "\n",
       "       [[  0,   0,   0],\n",
       "        [  0,   0,   0],\n",
       "        [  0,   0,   0],\n",
       "        ...,\n",
       "        [  0,   0,   0],\n",
       "        [  0,   0,   0],\n",
       "        [  0,   0,   0]],\n",
       "\n",
       "       [[  0,   0,   0],\n",
       "        [  0,   0,   0],\n",
       "        [  0,   0,   0],\n",
       "        ...,\n",
       "        [  0,   0,   0],\n",
       "        [  0,   0,   0],\n",
       "        [  0,   0,   0]],\n",
       "\n",
       "       ...,\n",
       "\n",
       "       [[  0,   0,   0],\n",
       "        [  0,   0,   0],\n",
       "        [  0,   0,   0],\n",
       "        ...,\n",
       "        [101, 153, 190],\n",
       "        [120, 171, 211],\n",
       "        [134, 186, 226]],\n",
       "\n",
       "       [[  0,   0,   0],\n",
       "        [  0,   0,   0],\n",
       "        [  0,   0,   0],\n",
       "        ...,\n",
       "        [158, 210, 247],\n",
       "        [ 85, 137, 174],\n",
       "        [117, 170, 207]],\n",
       "\n",
       "       [[  0,   0,   0],\n",
       "        [  0,   0,   0],\n",
       "        [  0,   0,   0],\n",
       "        ...,\n",
       "        [150, 202, 238],\n",
       "        [122, 174, 211],\n",
       "        [ 97, 150, 187]]], dtype=uint8)"
      ]
     },
     "execution_count": 36,
     "metadata": {},
     "output_type": "execute_result"
    }
   ],
   "source": [
    "new_dog"
   ]
  },
  {
   "cell_type": "code",
   "execution_count": null,
   "id": "68a45b5a",
   "metadata": {},
   "outputs": [],
   "source": []
  },
  {
   "cell_type": "code",
   "execution_count": 37,
   "id": "7b73e334",
   "metadata": {
    "ExecuteTime": {
     "end_time": "2022-08-22T13:42:06.053320Z",
     "start_time": "2022-08-22T13:42:06.031379Z"
    },
    "collapsed": true
   },
   "outputs": [
    {
     "ename": "ValueError",
     "evalue": "matmul: Input operand 1 has a mismatch in its core dimension 0, with gufunc signature (n?,k),(k,m?)->(n?,m?) (size 499 is different from 3)",
     "output_type": "error",
     "traceback": [
      "\u001b[1;31m---------------------------------------------------------------------------\u001b[0m",
      "\u001b[1;31mValueError\u001b[0m                                Traceback (most recent call last)",
      "\u001b[1;32m~\\AppData\\Local\\Temp\\ipykernel_22112\\1748659151.py\u001b[0m in \u001b[0;36m<module>\u001b[1;34m\u001b[0m\n\u001b[0;32m      1\u001b[0m \u001b[0mM\u001b[0m \u001b[1;33m=\u001b[0m \u001b[0mnp\u001b[0m\u001b[1;33m.\u001b[0m\u001b[0mfloat32\u001b[0m\u001b[1;33m(\u001b[0m\u001b[1;33m[\u001b[0m\u001b[1;33m[\u001b[0m\u001b[1;36m1\u001b[0m\u001b[1;33m,\u001b[0m \u001b[1;36m0\u001b[0m\u001b[1;33m,\u001b[0m \u001b[1;36m100\u001b[0m\u001b[1;33m]\u001b[0m\u001b[1;33m,\u001b[0m \u001b[1;33m[\u001b[0m\u001b[1;36m0\u001b[0m\u001b[1;33m,\u001b[0m \u001b[1;36m1\u001b[0m\u001b[1;33m,\u001b[0m \u001b[1;36m100\u001b[0m\u001b[1;33m]\u001b[0m\u001b[1;33m,\u001b[0m \u001b[1;33m[\u001b[0m\u001b[1;36m0\u001b[0m\u001b[1;33m,\u001b[0m \u001b[1;36m0\u001b[0m\u001b[1;33m,\u001b[0m \u001b[1;36m1\u001b[0m\u001b[1;33m]\u001b[0m\u001b[1;33m]\u001b[0m\u001b[1;33m)\u001b[0m\u001b[1;33m\u001b[0m\u001b[1;33m\u001b[0m\u001b[0m\n\u001b[1;32m----> 2\u001b[1;33m \u001b[0mnew_dog\u001b[0m \u001b[1;33m=\u001b[0m \u001b[0mM\u001b[0m \u001b[1;33m@\u001b[0m \u001b[0mdog\u001b[0m\u001b[1;33m\u001b[0m\u001b[1;33m\u001b[0m\u001b[0m\n\u001b[0m\u001b[0;32m      3\u001b[0m \u001b[0mnew_dog\u001b[0m\u001b[1;33m\u001b[0m\u001b[1;33m\u001b[0m\u001b[0m\n",
      "\u001b[1;31mValueError\u001b[0m: matmul: Input operand 1 has a mismatch in its core dimension 0, with gufunc signature (n?,k),(k,m?)->(n?,m?) (size 499 is different from 3)"
     ]
    }
   ],
   "source": [
    "M = np.float32([[1, 0, 100], [0, 1, 100], [0, 0, 1]])\n",
    "new_dog = M @ dog\n",
    "new_dog"
   ]
  },
  {
   "cell_type": "code",
   "execution_count": null,
   "id": "a5957c1e",
   "metadata": {},
   "outputs": [],
   "source": [
    "# 课后思考: 如果使用原始的矩阵乘法实现仿射变换. "
   ]
  },
  {
   "cell_type": "code",
   "execution_count": null,
   "id": "605875e8",
   "metadata": {},
   "outputs": [],
   "source": [
    "# 以后在深度学习中会使用opencv对图片做一系列的数据增强. "
   ]
  },
  {
   "cell_type": "markdown",
   "id": "3aad53ae",
   "metadata": {},
   "source": [
    "#### 获取变换矩阵"
   ]
  },
  {
   "cell_type": "code",
   "execution_count": 40,
   "id": "2e569b60",
   "metadata": {
    "ExecuteTime": {
     "end_time": "2022-08-22T13:53:55.291602Z",
     "start_time": "2022-08-22T13:53:42.285404Z"
    }
   },
   "outputs": [
    {
     "name": "stdout",
     "output_type": "stream",
     "text": [
      "[[  0.35355339   0.35355339  97.64881874]\n",
      " [ -0.35355339   0.35355339 204.57196065]]\n"
     ]
    }
   ],
   "source": [
    "# cv2.getRotationMatrix2D\n",
    "dog = cv2.imread('./dog.jpeg')\n",
    "h, w, _ = dog.shape\n",
    "# 获取变换矩阵\n",
    "M = cv2.getRotationMatrix2D((w/2, h/2), 45, 0.5)\n",
    "print(M)\n",
    "new_dog = cv2.warpAffine(dog, M, (w, h))\n",
    "\n",
    "cv2.imshow('dog', dog)\n",
    "cv2.imshow('new_dog', new_dog)\n",
    "cv2.waitKey(0)\n",
    "cv2.destroyAllWindows()"
   ]
  },
  {
   "cell_type": "code",
   "execution_count": 41,
   "id": "80e76bb3",
   "metadata": {
    "ExecuteTime": {
     "end_time": "2022-08-22T13:58:35.958155Z",
     "start_time": "2022-08-22T13:58:21.669389Z"
    }
   },
   "outputs": [],
   "source": [
    "# 另一种获取变换矩阵的方法\n",
    "# getAffineTransform\n",
    "dog = cv2.imread('./dog.jpeg')\n",
    "h, w, _ = dog.shape\n",
    "\n",
    "src = np.float32([[100, 100], [200, 100], [200, 300]])\n",
    "dst = np.float32([[100, 150], [360, 200], [280, 120]])\n",
    "M = cv2.getAffineTransform(src, dst)\n",
    "\n",
    "new_dog = cv2.warpAffine(dog, M, (w, h))\n",
    "cv2.imshow('dog', dog)\n",
    "cv2.imshow('new_dog', new_dog)\n",
    "cv2.waitKey(0)\n",
    "cv2.destroyAllWindows()"
   ]
  },
  {
   "cell_type": "markdown",
   "id": "31e1251e",
   "metadata": {},
   "source": [
    "#### 透视变换"
   ]
  },
  {
   "cell_type": "code",
   "execution_count": 44,
   "id": "5c5c2e42",
   "metadata": {
    "ExecuteTime": {
     "end_time": "2022-08-22T14:08:21.881412Z",
     "start_time": "2022-08-22T14:07:37.275768Z"
    }
   },
   "outputs": [
    {
     "name": "stdout",
     "output_type": "stream",
     "text": [
      "(4032, 3024, 3)\n"
     ]
    }
   ],
   "source": [
    "img = cv2.imread('./123.png')\n",
    "print(img.shape)\n",
    "# 获取变换矩阵\n",
    "# 原图的4个坐标\n",
    "src = np.float32([[100, 1100], [2100, 1100], [0, 4000], [2500, 3900]])\n",
    "dst = np.float32([[0, 0], [2300, 0], [0, 3000], [2300, 3000]])\n",
    "M = cv2.getPerspectiveTransform(src, dst)\n",
    "# 得到透视变换的变换矩阵\n",
    "new_img = cv2.warpPerspective(img, M, (2300, 3000))\n",
    "\n",
    "cv2.namedWindow('img', cv2.WINDOW_NORMAL)\n",
    "cv2.resizeWindow('img', 1080, 720)\n",
    "cv2.imshow('img', img)\n",
    "\n",
    "cv2.namedWindow('new_img', cv2.WINDOW_NORMAL)\n",
    "cv2.resizeWindow('new_img', 1080, 720)\n",
    "cv2.imshow('new_img', new_img)\n",
    "\n",
    "cv2.waitKey(0)\n",
    "cv2.destroyAllWindows()"
   ]
  }
 ],
 "metadata": {
  "kernelspec": {
   "display_name": "Python 3 (ipykernel)",
   "language": "python",
   "name": "python3"
  },
  "language_info": {
   "codemirror_mode": {
    "name": "ipython",
    "version": 3
   },
   "file_extension": ".py",
   "mimetype": "text/x-python",
   "name": "python",
   "nbconvert_exporter": "python",
   "pygments_lexer": "ipython3",
   "version": "3.7.8"
  },
  "toc": {
   "base_numbering": 1,
   "nav_menu": {},
   "number_sections": true,
   "sideBar": true,
   "skip_h1_title": false,
   "title_cell": "Table of Contents",
   "title_sidebar": "Contents",
   "toc_cell": false,
   "toc_position": {},
   "toc_section_display": true,
   "toc_window_display": false
  }
 },
 "nbformat": 4,
 "nbformat_minor": 5
}
