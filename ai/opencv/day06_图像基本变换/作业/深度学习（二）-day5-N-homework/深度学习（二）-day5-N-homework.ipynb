{
 "cells": [
  {
   "cell_type": "markdown",
   "id": "23190798",
   "metadata": {},
   "source": [
    "### 黑白图片"
   ]
  },
  {
   "cell_type": "code",
   "execution_count": 1,
   "id": "9ea5a7f2",
   "metadata": {
    "ExecuteTime": {
     "end_time": "2022-08-22T12:16:04.479323Z",
     "start_time": "2022-08-22T12:16:04.353658Z"
    }
   },
   "outputs": [],
   "source": [
    "import cv2\n",
    "import numpy as np"
   ]
  },
  {
   "cell_type": "code",
   "execution_count": null,
   "id": "cd4d9e77",
   "metadata": {
    "ExecuteTime": {
     "start_time": "2022-08-22T12:16:06.822Z"
    }
   },
   "outputs": [],
   "source": [
    "logo = cv2.imread('AppleLogo.jpg')\n",
    "cat = cv2.imread('cat.jpeg')\n",
    "cv2.imshow('logo', logo)\n",
    "cv2.imshow('cat', cat)\n",
    "\n",
    "logo = cv2.resize(logo, (100, 100)) #改变logo大小\n",
    "\n",
    "roi = cat[:100, :100] #提取猫中感兴趣的部分\n",
    "\n",
    "img = cv2.bitwise_and(roi, roi, mask =logo.min(axis=2))\n",
    "\n",
    "cat[:100, :100] = img #logo覆盖原始图片\n",
    "cv2.imshow('cat_logo' , cat)\n",
    "cv2.waitKey(0)\n",
    "cv2.destroyAllWindows()"
   ]
  },
  {
   "cell_type": "markdown",
   "id": "f6f83777",
   "metadata": {},
   "source": [
    "### 彩色图片"
   ]
  },
  {
   "cell_type": "code",
   "execution_count": 18,
   "id": "e5c56983",
   "metadata": {
    "ExecuteTime": {
     "end_time": "2022-08-19T08:12:44.079473Z",
     "start_time": "2022-08-19T08:12:41.439901Z"
    }
   },
   "outputs": [],
   "source": [
    "logo = cv2.imread('C.png')\n",
    "cat = cv2.imread('cat.jpeg')\n",
    "logo = cv2.resize(logo, (100, 100)) \n",
    "#cv2.imshow('logo', logo)\n",
    "cv2.imshow('cat', cat)\n",
    "\n",
    "#将彩色图片灰度化 在进行黑白化\n",
    "logo_gray = cv2.cvtColor(logo, cv2.COLOR_BGR2GRAY)\n",
    "#cv2.imshow('logo_gray',logo_gray)\n",
    "logo_binary = cv2.threshold(logo_gray, 100, 255, cv2.THRESH_BINARY)# 黑色背景，白色苹果\n",
    "#cv2.imshow('logo_binary',logo_binary[1]) \n",
    "\n",
    "#进行not运算 将背景转为白色 用于掩码\n",
    "logo_binary_convert = cv2.bitwise_not(logo_binary[1])\n",
    "#cv2.imshow('logo_binary_convert',logo_binary_convert)\n",
    "\n",
    "#掩码\n",
    "roi = cat[:100, :100]\n",
    "graph = cv2.bitwise_and(roi, roi, mask=logo_binary_convert)\n",
    "#cv2.imshow('graph',graph)\n",
    "\n",
    "# 想办法得到黑背景的彩色图片\n",
    "photo = logo_binary_convert.reshape(100,100,1)\n",
    "photo = np.concatenate([photo, photo, photo], axis=-1)\n",
    "photo = cv2.add(logo, photo)\n",
    "#photo为白色背景的彩色图片 但仍还需将背景转变为黑色\n",
    "cv2.imshow('photo', photo)\n",
    "#将 photo中 白色 转变为黑色\n",
    "for i in range(100):\n",
    "    for j in range(100):\n",
    "        x, y, z=photo[i, j]\n",
    "        if x == y and x == z:\n",
    "            photo[i, j] = [0, 0, 0]\n",
    "#成功将白色背景转变为黑色\n",
    "#cv2.imshow('photo',photo)\n",
    "\n",
    "#加和\n",
    "img = cv2.add(graph, photo)\n",
    "#cv2.imshow('img',img)\n",
    "#重新赋给猫\n",
    "cat[:100, :100] = img\n",
    "cv2.imshow('cat_cvt', cat)\n",
    "\n",
    "cv2.waitKey(0)\n",
    "cv2.destroyAllWindows()"
   ]
  },
  {
   "cell_type": "code",
   "execution_count": null,
   "id": "5ddaf5e4",
   "metadata": {},
   "outputs": [],
   "source": []
  }
 ],
 "metadata": {
  "kernelspec": {
   "display_name": "Python 3 (ipykernel)",
   "language": "python",
   "name": "python3"
  },
  "language_info": {
   "codemirror_mode": {
    "name": "ipython",
    "version": 3
   },
   "file_extension": ".py",
   "mimetype": "text/x-python",
   "name": "python",
   "nbconvert_exporter": "python",
   "pygments_lexer": "ipython3",
   "version": "3.7.8"
  },
  "toc": {
   "base_numbering": 1,
   "nav_menu": {},
   "number_sections": true,
   "sideBar": true,
   "skip_h1_title": false,
   "title_cell": "Table of Contents",
   "title_sidebar": "Contents",
   "toc_cell": false,
   "toc_position": {},
   "toc_section_display": true,
   "toc_window_display": false
  },
  "varInspector": {
   "cols": {
    "lenName": 16,
    "lenType": 16,
    "lenVar": 40
   },
   "kernels_config": {
    "python": {
     "delete_cmd_postfix": "",
     "delete_cmd_prefix": "del ",
     "library": "var_list.py",
     "varRefreshCmd": "print(var_dic_list())"
    },
    "r": {
     "delete_cmd_postfix": ") ",
     "delete_cmd_prefix": "rm(",
     "library": "var_list.r",
     "varRefreshCmd": "cat(var_dic_list()) "
    }
   },
   "types_to_exclude": [
    "module",
    "function",
    "builtin_function_or_method",
    "instance",
    "_Feature"
   ],
   "window_display": false
  }
 },
 "nbformat": 4,
 "nbformat_minor": 5
}
