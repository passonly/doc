{
 "cells": [
  {
   "cell_type": "code",
   "execution_count": 1,
   "id": "f851e999",
   "metadata": {
    "ExecuteTime": {
     "end_time": "2022-08-19T16:56:48.383236Z",
     "start_time": "2022-08-19T16:56:47.677670Z"
    }
   },
   "outputs": [],
   "source": [
    "import cv2\n",
    "import numpy as np\n",
    "from PIL import ImageFont, ImageDraw, Image"
   ]
  },
  {
   "cell_type": "code",
   "execution_count": 4,
   "id": "17561980",
   "metadata": {
    "ExecuteTime": {
     "end_time": "2022-08-19T16:58:02.958045Z",
     "start_time": "2022-08-19T16:57:23.369296Z"
    }
   },
   "outputs": [],
   "source": [
    "# 导入图片\n",
    "chicken = cv2.imread(\"./chicken.jpg\")\n",
    "\n",
    "\n",
    "font = ImageFont.truetype('./msyhbd.ttc', 40)\n",
    "img_pil = Image.fromarray(chicken)\n",
    "draw = ImageDraw.Draw(img_pil)\n",
    "draw.text((280, 800), 'Winner Winner Chicken Dinner', font=font, fill=(255, 255, 0, 0))\n",
    "chicken = np.array(img_pil)\n",
    "\n",
    "\n",
    "\n",
    "# Logo\n",
    "logo = np.zeros((200,200,3),np.uint8)\n",
    "# 画logo\n",
    "logo[20:70,20:70]= [255,0,0]\n",
    "logo[40:90,40:90]= [0,255,0]\n",
    "logo[60:110,60:110]= [0,0,255]\n",
    "logo[80:130,80:130]= [255,255,0]\n",
    "logo[100:150,100:150]= [0,255,255]\n",
    "logo[120:170,120:170]= [255,0,255]\n",
    "\n",
    "\n",
    "\n",
    "# bitwise_and(src1, src2[, dst[, mask]]) -> dst \n",
    "flag = np.zeros((200,200),np.uint8)\n",
    "flag[20:70,20:70]= 255\n",
    "flag[40:90,40:90]= 255\n",
    "flag[60:110,60:110]= 255\n",
    "flag[80:130,80:130]= 255\n",
    "flag[100:150,100:150]= 255\n",
    "flag[120:170,120:170]= 255\n",
    "\n",
    "# 反转\n",
    "flag_reverse = cv2.bitwise_not(flag)\n",
    "# 选择logo的位置\n",
    "part_chicken = chicken[0:200,0:200]\n",
    "finall_logo = cv2.bitwise_and(part_chicken,part_chicken,mask = flag_reverse)\n",
    "aaa = cv2.add(logo,finall_logo)\n",
    "chicken[0:200,0:200] = aaa\n",
    "\n",
    "\n",
    "cv2.imshow(\"chicken\",chicken)\n",
    "cv2.waitKey(0)\n",
    "cv2.destroyAllWindows()"
   ]
  },
  {
   "cell_type": "code",
   "execution_count": null,
   "id": "1610913a",
   "metadata": {},
   "outputs": [],
   "source": []
  }
 ],
 "metadata": {
  "kernelspec": {
   "display_name": "Python 3 (ipykernel)",
   "language": "python",
   "name": "python3"
  },
  "language_info": {
   "codemirror_mode": {
    "name": "ipython",
    "version": 3
   },
   "file_extension": ".py",
   "mimetype": "text/x-python",
   "name": "python",
   "nbconvert_exporter": "python",
   "pygments_lexer": "ipython3",
   "version": "3.8.5"
  },
  "toc": {
   "base_numbering": 1,
   "nav_menu": {},
   "number_sections": true,
   "sideBar": true,
   "skip_h1_title": false,
   "title_cell": "Table of Contents",
   "title_sidebar": "Contents",
   "toc_cell": false,
   "toc_position": {},
   "toc_section_display": true,
   "toc_window_display": false
  }
 },
 "nbformat": 4,
 "nbformat_minor": 5
}
