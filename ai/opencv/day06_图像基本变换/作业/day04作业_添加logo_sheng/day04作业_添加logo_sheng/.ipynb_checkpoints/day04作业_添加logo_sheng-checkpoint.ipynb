{
 "cells": [
  {
   "cell_type": "markdown",
   "id": "b528858e",
   "metadata": {},
   "source": [
    "### day04作业_添加logo"
   ]
  },
  {
   "cell_type": "markdown",
   "id": "006a401a",
   "metadata": {},
   "source": [
    "#### v1"
   ]
  },
  {
   "cell_type": "code",
   "execution_count": 1,
   "id": "4f68ef56",
   "metadata": {
    "ExecuteTime": {
     "end_time": "2022-08-22T12:06:20.032604Z",
     "start_time": "2022-08-22T12:06:06.058995Z"
    },
    "code_folding": []
   },
   "outputs": [],
   "source": [
    "# v1.0\n",
    "import cv2\n",
    "import numpy as np\n",
    "\n",
    "cat = cv2.imread('./img/cat.jpeg')\n",
    "cat_new = cat.copy()\n",
    "logo = cv2.imread('./img/logo.jpeg')\n",
    "logo = cv2.resize(logo,(50,50))\n",
    "\n",
    "cat[0:50,590:640] = logo\n",
    "\n",
    "cv2.imshow('img',cat)\n",
    "cv2.waitKey(0)\n",
    "cv2.destroyAllWindows()"
   ]
  },
  {
   "cell_type": "code",
   "execution_count": 2,
   "id": "b5553394",
   "metadata": {
    "ExecuteTime": {
     "end_time": "2022-08-22T12:06:51.442557Z",
     "start_time": "2022-08-22T12:06:46.650380Z"
    },
    "code_folding": [],
    "scrolled": true
   },
   "outputs": [],
   "source": [
    "# v1.1\n",
    "import cv2\n",
    "import numpy as np\n",
    "\n",
    "cat = cv2.imread('./img/cat.jpeg')\n",
    "cat_new = cat.copy()\n",
    "logo = cv2.imread('./img/logo2.jpeg')\n",
    "logo = cv2.resize(logo,(50,50))\n",
    "\n",
    "# 把logo中白色部分用原始图的颜色值代替\n",
    "cat_cut = cat[0:50,590:640]\n",
    "for i in range(50):\n",
    "    for j in range(50):\n",
    "        if np.all(logo[i][j] == np.array([255,255,255],dtype=np.uint8)):\n",
    "            # print(logo[i][j],cat_cut[i][j])\n",
    "            logo[i][j] = cat_cut[i][j]\n",
    "\n",
    "cat[0:50,590:640] = logo\n",
    "\n",
    "cv2.imshow('img',cat)\n",
    "cv2.waitKey(0)\n",
    "cv2.destroyAllWindows()"
   ]
  },
  {
   "cell_type": "code",
   "execution_count": 5,
   "id": "ae0ee2db",
   "metadata": {
    "code_folding": [
     0
    ]
   },
   "outputs": [],
   "source": [
    "# v1.2\n",
    "import cv2\n",
    "import numpy as np\n",
    "\n",
    "cat = cv2.imread('./img/cat.jpeg')\n",
    "cat_new = cat.copy()\n",
    "\n",
    "img_logo = cv2.imread(\"./img/logo2.jpeg\")\n",
    "logo = cv2.resize(img_logo, (0, 0), fx=0.2, fy=0.2, interpolation=cv2.INTER_NEAREST)\n",
    "\n",
    "cv2.imshow(\"img_logo\", logo)\n",
    "rows, cols, channel = logo.shape\n",
    "rows1, cols1, channel1 = cat.shape\n",
    "\n",
    "# 把logo中白色部分用原始图的颜色值代替\n",
    "cat_cut = cat[:rows,cols1 - cols:cols1]\n",
    "# cv2.imshow('cat_cut',cat_cut)\n",
    "for i in range(rows):\n",
    "    for j in range(cols):\n",
    "        if np.all(logo[i][j] == np.array([255,255,255],dtype=np.uint8)):\n",
    "            # print(logo[i][j],cat_cut[i][j])\n",
    "            logo[i][j] = cat_cut[i][j]\n",
    "\n",
    "cat[:rows,cols1 - cols:cols1] = logo\n",
    "\n",
    "cv2.imshow('cat',cat)\n",
    "cv2.waitKey(0)\n",
    "cv2.destroyAllWindows()"
   ]
  },
  {
   "cell_type": "markdown",
   "id": "14be788c",
   "metadata": {},
   "source": [
    "#### v2"
   ]
  },
  {
   "cell_type": "markdown",
   "id": "b3f7369c",
   "metadata": {},
   "source": [
    "##### 单个logo测试"
   ]
  },
  {
   "cell_type": "code",
   "execution_count": null,
   "id": "df6c9934",
   "metadata": {},
   "outputs": [],
   "source": [
    "import cv2\n",
    "import numpy as np\n",
    "\n",
    "img_path = './img/cat.jpeg'\n",
    "logo_path = './img/logo2.jpeg'\n",
    "save_path = './img/cat_logo.png'\n",
    "\n",
    "# 导入图片\n",
    "cat = cv2.imread(img_path)\n",
    "logo = cv2.imread(logo_path)\n",
    "\n",
    "# 修改logo比例\n",
    "logo = cv2.resize(logo, (0, 0), fx=0.2, fy=0.2, interpolation=cv2.INTER_NEAREST)\n",
    "cv2.imshow('logo',logo)\n",
    "\n",
    "# 获取图片尺寸\n",
    "row, col, _ = logo.shape\n",
    "row2, col2, _ = cat.shape\n",
    "\n",
    "# 制作掩码\n",
    "logo_gray = cv2.cvtColor(logo, cv2.COLOR_BGR2GRAY) # 灰度\n",
    "ret, mask = cv2.threshold(logo_gray, 200, 255, cv2.THRESH_BINARY)  # 二值化\n",
    "cv2.imshow('mask',mask)\n",
    "\n",
    "# logo处理\n",
    "m = mask.reshape(row,col,1)\n",
    "# m = np.concatenate((m, m, m), axis=-1)\n",
    "m = m.repeat(3, axis=2) # 转成三通道\n",
    "\n",
    "# logo背景色变白\n",
    "logo_white = cv2.add(logo,m)\n",
    "cv2.imshow('logo_white',logo_white)\n",
    "\n",
    "# logo背景色变黑\n",
    "logo_black = logo_white.copy()\n",
    "row,col,_ = logo_black.shape\n",
    "for i in range(row):\n",
    "    for j in range(col):\n",
    "        if np.all(logo_black[i][j] == np.array([255,255,255],dtype=np.uint8)):\n",
    "            logo_black[i][j] = np.array([0,0,0],dtype=np.uint8)\n",
    "# logo_black[np.where(logo_black==255)] = 0\n",
    "cv2.imshow('logo_black',logo_black)\n",
    "\n",
    "# 原图logo位置变黑\n",
    "roi = cat[:row,col2 - col:col2]\n",
    "tmp = cv2.bitwise_and(roi,roi,mask=mask)\n",
    "cv2.imshow('tmp',tmp)\n",
    "\n",
    "# 原图logo位置加上黑底logo\n",
    "logo_final = cv2.add(tmp,logo_black)\n",
    "cv2.imshow('logo_final',logo_final)\n",
    "\n",
    "# logo赋给原图q\n",
    "cat[:row,col2 - col:col2] = logo_final\n",
    "cv2.imshow('cat',cat)\n",
    "cv2.imwrite(save_path,cat)\n",
    "\n",
    "cv2.waitKey(0)\n",
    "cv2.destroyAllWindows()"
   ]
  },
  {
   "cell_type": "markdown",
   "id": "bb304a69",
   "metadata": {
    "heading_collapsed": true
   },
   "source": [
    "##### 不同logo测试"
   ]
  },
  {
   "cell_type": "code",
   "execution_count": null,
   "id": "d2134821",
   "metadata": {
    "hidden": true
   },
   "outputs": [],
   "source": [
    "import cv2\n",
    "import numpy as np\n",
    "\n",
    "\n",
    "def add_logo(img_path,logo_path,save_path):\n",
    "    # 导入图片\n",
    "    cat = cv2.imread(img_path)\n",
    "    logo = cv2.imread(logo_path)\n",
    "\n",
    "    # 修改logo比例\n",
    "    logo = cv2.resize(logo, (0, 0), fx=0.2, fy=0.2, interpolation=cv2.INTER_NEAREST)\n",
    "    #cv2.imshow('logo',logo)\n",
    "\n",
    "    # 获取图片尺寸\n",
    "    row, col, _ = logo.shape\n",
    "    row2, col2, _ = cat.shape\n",
    "\n",
    "    # 制作掩码\n",
    "    logo_gray = cv2.cvtColor(logo, cv2.COLOR_BGR2GRAY) # 灰度\n",
    "    ret, mask = cv2.threshold(logo_gray, 200, 255, cv2.THRESH_BINARY)  # 二值化\n",
    "    #cv2.imshow('mask',mask)\n",
    "\n",
    "    # logo处理\n",
    "    m = mask.reshape(row,col,1)\n",
    "    m = m.repeat(3, axis=2) # 转成三通道\n",
    "\n",
    "    # logo背景色变白\n",
    "    logo_white = cv2.add(logo,m)\n",
    "    #cv2.imshow('logo_white',logo_white)\n",
    "\n",
    "    # logo背景色变黑\n",
    "    logo_black = logo_white.copy()\n",
    "    row,col,_ = logo_black.shape\n",
    "    for i in range(row):\n",
    "        for j in range(col):\n",
    "            if np.all(logo_black[i][j] == np.array([255,255,255],dtype=np.uint8)):\n",
    "                logo_black[i][j] = np.array([0,0,0],dtype=np.uint8)\n",
    "    #logo_black[np.where(logo_black==255)] = 0\n",
    "    #cv2.imshow('logo_black',logo_black)\n",
    "\n",
    "    # 原图logo位置变黑\n",
    "    roi = cat[:row,col2 - col:col2]\n",
    "    tmp = cv2.bitwise_and(roi,roi,mask=mask)\n",
    "    #cv2.imshow('tmp',tmp)\n",
    "\n",
    "    # 原图logo位置加上黑底logo\n",
    "    logo_final = cv2.add(tmp,logo_black)\n",
    "    #cv2.imshow('logo_final',logo_final)\n",
    "\n",
    "    # logo赋给原图q\n",
    "    cat[:row,col2 - col:col2] = logo_final\n",
    "    cv2.imshow('cat',cat)\n",
    "    #cv2.imwrite(save_path,cat)\n",
    "\n",
    "    cv2.waitKey(0)\n",
    "    cv2.destroyAllWindows()\n",
    "    \n",
    "img_path = './img/cat.jpeg'\n",
    "save_path = './img/cat_logo.png'\n",
    "\n",
    "logo_path1 = './img/logo.jpeg'\n",
    "logo_path2 = './img/logo2.jpeg'\n",
    "logo_path3 = './img/logo3.jpeg'\n",
    "\n",
    "add_logo(img_path,logo_path1,save_path)\n",
    "add_logo(img_path,logo_path2,save_path)\n",
    "add_logo(img_path,logo_path3,save_path)"
   ]
  }
 ],
 "metadata": {
  "kernelspec": {
   "display_name": "Python 3 (ipykernel)",
   "language": "python",
   "name": "python3"
  },
  "language_info": {
   "codemirror_mode": {
    "name": "ipython",
    "version": 3
   },
   "file_extension": ".py",
   "mimetype": "text/x-python",
   "name": "python",
   "nbconvert_exporter": "python",
   "pygments_lexer": "ipython3",
   "version": "3.7.8"
  },
  "toc": {
   "base_numbering": 1,
   "nav_menu": {},
   "number_sections": true,
   "sideBar": true,
   "skip_h1_title": false,
   "title_cell": "Table of Contents",
   "title_sidebar": "Contents",
   "toc_cell": false,
   "toc_position": {
    "height": "calc(100% - 180px)",
    "left": "10px",
    "top": "150px",
    "width": "165px"
   },
   "toc_section_display": true,
   "toc_window_display": true
  }
 },
 "nbformat": 4,
 "nbformat_minor": 5
}
