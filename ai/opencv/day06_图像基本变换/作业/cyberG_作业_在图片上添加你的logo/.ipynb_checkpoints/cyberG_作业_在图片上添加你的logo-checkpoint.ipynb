{
 "cells": [
  {
   "cell_type": "markdown",
   "id": "b663a3ce",
   "metadata": {
    "ExecuteTime": {
     "end_time": "2022-08-21T14:53:00.573055Z",
     "start_time": "2022-08-21T14:53:00.563053Z"
    }
   },
   "source": [
    "作业：在图片上添加你的logo"
   ]
  },
  {
   "cell_type": "code",
   "execution_count": null,
   "id": "92c15d92",
   "metadata": {
    "ExecuteTime": {
     "start_time": "2022-08-22T12:02:08.210Z"
    }
   },
   "outputs": [],
   "source": [
    "import numpy as np\n",
    "import cv2\n",
    "from PIL import ImageFont, ImageDraw, Image\n",
    "\n",
    "\n",
    "# 创建背景\n",
    "def back_pic(pic):\n",
    "    pic = cv2.imread(pic)\n",
    "\n",
    "    return pic\n",
    "\n",
    "\n",
    "# 创建logo\n",
    "def create_logo():\n",
    "    # 读取logo图片\n",
    "    img1 = cv2.imread('./G1.jpg')\n",
    "    img1 = cv2.resize(img1, (70, 70), interpolation=cv2.INTER_NEAREST)\n",
    "\n",
    "    # 创建文字背景\n",
    "    img2 = np.full((25, 70, 3), fill_value=(118, 231, 255), dtype=np.uint8)\n",
    "\n",
    "    # 拼接logo图片和背景\n",
    "    img3 = np.concatenate((img2, img1), axis=0)\n",
    "\n",
    "    # 创建文字内容\n",
    "    font_path = './font/PRISTINA.TTF'\n",
    "    font = ImageFont.truetype(font_path, 25)\n",
    "    img_pil = Image.fromarray(img3)\n",
    "    draw = ImageDraw.Draw(img_pil)\n",
    "    draw.text((7, 5), 'cyberG', font=font, fill=(0, 0, 0, 0))\n",
    "\n",
    "    new_img = np.array(img_pil)\n",
    "    \n",
    "    return new_img\n",
    "\n",
    "\n",
    "# 添加logo\n",
    "def add_logo(pic, h, logo):\n",
    "    pic[h - 125:h-30, 30:100] = logo\n",
    "\n",
    "    return pic\n",
    "\n",
    "\n",
    "# 展示logo图片\n",
    "def show_logo_pic(pic):\n",
    "    cv2.imshow('logo_pic', pic)\n",
    "    cv2.waitKey(0)\n",
    "    cv2.destroyAllWindows()\n",
    "\n",
    "\n",
    "# 准备参数\n",
    "pic = back_pic('./cat.jpeg')  # 背景1：cat\n",
    "# pic = back_pic('./dog.jpeg')  # 背景2：dog\n",
    "h = pic.shape[0]\n",
    "logo = create_logo()\n",
    "\n",
    "# 调用add_logo方法\n",
    "pic = add_logo(pic, h, logo)\n",
    "\n",
    "# 调用show_logo_pic方法\n",
    "show_logo_pic(pic)"
   ]
  },
  {
   "cell_type": "code",
   "execution_count": null,
   "id": "4241653a",
   "metadata": {},
   "outputs": [],
   "source": []
  }
 ],
 "metadata": {
  "kernelspec": {
   "display_name": "Python 3 (ipykernel)",
   "language": "python",
   "name": "python3"
  },
  "language_info": {
   "codemirror_mode": {
    "name": "ipython",
    "version": 3
   },
   "file_extension": ".py",
   "mimetype": "text/x-python",
   "name": "python",
   "nbconvert_exporter": "python",
   "pygments_lexer": "ipython3",
   "version": "3.7.8"
  },
  "toc": {
   "base_numbering": 1,
   "nav_menu": {},
   "number_sections": true,
   "sideBar": true,
   "skip_h1_title": false,
   "title_cell": "Table of Contents",
   "title_sidebar": "Contents",
   "toc_cell": false,
   "toc_position": {},
   "toc_section_display": true,
   "toc_window_display": false
  }
 },
 "nbformat": 4,
 "nbformat_minor": 5
}
