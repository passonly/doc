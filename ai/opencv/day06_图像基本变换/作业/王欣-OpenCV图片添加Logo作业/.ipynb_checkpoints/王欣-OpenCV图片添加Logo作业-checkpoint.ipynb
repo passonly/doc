{
 "cells": [
  {
   "cell_type": "code",
   "execution_count": null,
   "id": "731d6800",
   "metadata": {},
   "outputs": [],
   "source": [
    "import cv2 \n",
    "import numpy as np\n",
    "\n",
    "def imgaddlogo(center_x, center_y, imgpath, logopath):\n",
    "    # 加载图片\n",
    "    img = cv2.imread(imgpath)\n",
    "    logo = cv2.imread(logopath)\n",
    "    \n",
    "    # 计算logo尺寸和高度，宽度\n",
    "    h_logo, w_logo, _  = logo.shape\n",
    "    # 计算图像高度和宽度\n",
    "    h_img, w_img, _ = img.shape\n",
    "    \n",
    "    # 从上、下、右、左计算\n",
    "    top_y = center_y - int(h_logo/2)\n",
    "    bottom_y = top_y + h_logo\n",
    "    left_x = center_x - int(w_logo/2)\n",
    "    right_x = left_x + w_logo\n",
    "    left_x = center_x - int(w_logo/2)\n",
    "    \n",
    "    # 使用 OpenCV 中的 addWeighted 函数\n",
    "    destination = img[top_y : bottom_y, left_x : right_x]\n",
    "    result = cv2.addWeighted(destination, 0.1,logo,0.9,0)\n",
    "    img[top_y : bottom_y,left_x : right_x]=result\n",
    "    \n",
    "    cv2.imshow(\"qingxin\",img)\n",
    "    cv2.imwrite('qingxing1.jpg',img)\n",
    "    while True:\n",
    "        key = cv2.waitKey(0)\n",
    "        if key == ord(\"q\"):\n",
    "            cv2.destroyAllWindows()\n",
    "            \n",
    "            \n",
    "imgaddlogo(200, 100, './xique.jpg', './qingxinlogo.png')"
   ]
  },
  {
   "cell_type": "code",
   "execution_count": null,
   "id": "37b82aad",
   "metadata": {},
   "outputs": [],
   "source": []
  }
 ],
 "metadata": {
  "kernelspec": {
   "display_name": "Python 3 (ipykernel)",
   "language": "python",
   "name": "python3"
  },
  "language_info": {
   "codemirror_mode": {
    "name": "ipython",
    "version": 3
   },
   "file_extension": ".py",
   "mimetype": "text/x-python",
   "name": "python",
   "nbconvert_exporter": "python",
   "pygments_lexer": "ipython3",
   "version": "3.9.9"
  },
  "toc": {
   "base_numbering": 1,
   "nav_menu": {},
   "number_sections": true,
   "sideBar": true,
   "skip_h1_title": false,
   "title_cell": "Table of Contents",
   "title_sidebar": "Contents",
   "toc_cell": false,
   "toc_position": {},
   "toc_section_display": true,
   "toc_window_display": false
  }
 },
 "nbformat": 4,
 "nbformat_minor": 5
}
