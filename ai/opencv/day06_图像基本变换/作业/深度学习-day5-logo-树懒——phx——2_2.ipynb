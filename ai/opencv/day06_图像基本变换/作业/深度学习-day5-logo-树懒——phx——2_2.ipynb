{
 "cells": [
  {
   "cell_type": "code",
   "execution_count": 59,
   "id": "0c08e2eb",
   "metadata": {
    "ExecuteTime": {
     "end_time": "2022-08-20T04:46:20.750281Z",
     "start_time": "2022-08-20T04:46:20.738315Z"
    }
   },
   "outputs": [],
   "source": [
    "import cv2\n",
    "import numpy as np"
   ]
  },
  {
   "cell_type": "code",
   "execution_count": 90,
   "id": "9b21cfc5",
   "metadata": {
    "ExecuteTime": {
     "end_time": "2022-08-20T04:55:15.716726Z",
     "start_time": "2022-08-20T04:55:15.697250Z"
    }
   },
   "outputs": [],
   "source": [
    "class logo:\n",
    "    def __init__(self):\n",
    "        pass\n",
    "    \n",
    "    def get_img(self):\n",
    "        img = cv2.imread('./image/homework.jpg')\n",
    "        return img\n",
    "    \n",
    "    def get_logo(self):\n",
    "        logo = cv2.imread('./image/apex_logo.jpg')\n",
    "        \n",
    "        return logo\n",
    "    \n",
    "    def resize(self):\n",
    "        img = self.get_img()\n",
    "        logo = self.get_logo()\n",
    "        logo = cv2.resize(logo, (150,75))\n",
    "        new_img = self.design(img, logo)\n",
    "        return new_img\n",
    "        \n",
    "    def design(self, img, logo):\n",
    "        #转成灰度图\n",
    "        logo_gray = cv2.cvtColor(logo,cv2.COLOR_BGR2GRAY)\n",
    "        \n",
    "        #获取\n",
    "        rows,cols = logo_gray.shape\n",
    "        print(rows,cols)\n",
    "        #设定,获取img位置\n",
    "        dx,dy=300,150\n",
    "        \n",
    "        roi=img[dx:dx+rows,dy:dy+cols]\n",
    "        print(roi.shape)\n",
    "        \n",
    "        #循环\n",
    "        for i in range(rows):\n",
    "            for j in range(cols):\n",
    "#                 print(logo_gray[i,j])\n",
    "                if logo_gray[i,j]<=30:\n",
    "                    roi[i,j] = roi[i,j]\n",
    "                else:\n",
    "                    roi[i,j] = logo[i,j]\n",
    "#                     print(roi.shape , logo.shape)\n",
    "                    \n",
    "        img[dx:dx+rows,dy:dy+cols] = roi\n",
    "        new_img = img\n",
    "        return new_img\n",
    "    \n",
    "    def run(self):\n",
    "        new_img = self.resize()\n",
    "        cv2.namedWindow('img',cv2.WINDOW_AUTOSIZE)\n",
    "        cv2.imshow('img',new_img)\n",
    "        while True:\n",
    "            key = cv2.waitKey(0)\n",
    "            if key == ord('q'):\n",
    "                break\n",
    "        cv2.destroyAllWindows()\n"
   ]
  },
  {
   "cell_type": "code",
   "execution_count": 91,
   "id": "a25cba68",
   "metadata": {
    "ExecuteTime": {
     "end_time": "2022-08-20T04:55:19.353362Z",
     "start_time": "2022-08-20T04:55:15.938848Z"
    }
   },
   "outputs": [
    {
     "name": "stdout",
     "output_type": "stream",
     "text": [
      "75 150\n",
      "(75, 150, 3)\n"
     ]
    }
   ],
   "source": [
    "run = logo()\n",
    "run.run()"
   ]
  },
  {
   "cell_type": "code",
   "execution_count": null,
   "id": "ff9a0d96",
   "metadata": {},
   "outputs": [],
   "source": []
  }
 ],
 "metadata": {
  "kernelspec": {
   "display_name": "Python 3 (ipykernel)",
   "language": "python",
   "name": "python3"
  },
  "language_info": {
   "codemirror_mode": {
    "name": "ipython",
    "version": 3
   },
   "file_extension": ".py",
   "mimetype": "text/x-python",
   "name": "python",
   "nbconvert_exporter": "python",
   "pygments_lexer": "ipython3",
   "version": "3.7.8"
  },
  "toc": {
   "base_numbering": 1,
   "nav_menu": {},
   "number_sections": true,
   "sideBar": true,
   "skip_h1_title": false,
   "title_cell": "Table of Contents",
   "title_sidebar": "Contents",
   "toc_cell": false,
   "toc_position": {},
   "toc_section_display": true,
   "toc_window_display": false
  }
 },
 "nbformat": 4,
 "nbformat_minor": 5
}
