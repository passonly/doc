{
 "cells": [
  {
   "cell_type": "code",
   "execution_count": 1,
   "id": "1d52fa9e",
   "metadata": {
    "ExecuteTime": {
     "end_time": "2022-08-17T12:34:54.183517Z",
     "start_time": "2022-08-17T12:34:54.064832Z"
    }
   },
   "outputs": [],
   "source": [
    "import cv2\n",
    "import numpy as np\n"
   ]
  },
  {
   "cell_type": "code",
   "execution_count": null,
   "id": "5560152d",
   "metadata": {
    "ExecuteTime": {
     "start_time": "2022-08-17T12:35:12.093Z"
    }
   },
   "outputs": [],
   "source": [
    "cv2.namedWindow('bgr', cv2.WINDOW_NORMAL)\n",
    "img = np.zeros((800,800,3),np.uint8)\n",
    "text1 = 'line:l'\n",
    "text2 = 'rectangle:r'\n",
    "text3 = 'circle:c'\n",
    "text4 = 'out:q'  \n",
    "\n",
    "\n",
    "cv2.putText(img,text1,(10,20),cv2.FONT_HERSHEY_COMPLEX,0.5,[200,200,200])\n",
    "cv2.putText(img,text2,(10,40),cv2.FONT_HERSHEY_COMPLEX,0.5,[200,200,200])\n",
    "cv2.putText(img,text3,(10,60),cv2.FONT_HERSHEY_COMPLEX,0.5,[200,200,200])\n",
    "cv2.putText(img,text4,(10,80),cv2.FONT_HERSHEY_COMPLEX,0.5,[200,200,200])\n",
    "cv2.imshow('bgr',img)\n",
    "\n",
    "\n",
    "def line(event, x, y, flags, userdata):\n",
    "    if event == cv2.EVENT_LBUTTONDOWN:\n",
    "        dot.append((x,y))\n",
    "    if event == cv2.EVENT_LBUTTONUP:\n",
    "        dot.append((x,y))\n",
    "        cv2.line(img,(dot[0]),(dot[1]),(220,200,255),1,64)\n",
    "        cv2.imshow('bgr',img)\n",
    "def rec(event, x, y, flags, userdata):\n",
    "    if event == cv2.EVENT_LBUTTONDOWN:\n",
    "        dot.append((x,y))\n",
    "    if event == cv2.EVENT_LBUTTONUP:\n",
    "        dot.append((x,y))\n",
    "        cv2.rectangle(img,(dot[0]),(dot[1]),(220,200,255),1,64)\n",
    "        cv2.imshow('bgr',img)\n",
    "def cir(event, x, y, flags, userdata):\n",
    "    if event == cv2.EVENT_LBUTTONDOWN:\n",
    "        dot.append((x,y))\n",
    "    if event == cv2.EVENT_LBUTTONUP:\n",
    "        dot.append((x,y))\n",
    "        a=dot[1][1]-dot[0][1]\n",
    "        b=dot[1][0]-dot[0][0]\n",
    "        r = int((a**2+b**2)**0.5)\n",
    "        cv2.circle(img,(dot[0]),r,(220,200,255),1,64)\n",
    "        cv2.imshow('bgr',img)\n",
    "while True:\n",
    "    dot = []\n",
    "    key = cv2.waitKey(0)\n",
    "    if  key == ord('l'):\n",
    "        cv2.setMouseCallback('bgr', line, 'line')\n",
    "    elif  key == ord('r'):\n",
    "        cv2.setMouseCallback('bgr', rec, 'rec')\n",
    "    elif  key == ord('c'):\n",
    "        cv2.setMouseCallback('bgr', cir, 'cir')\n",
    "    elif  key == ord('q'):\n",
    "        cv2.destroyAllWindows()\n",
    "        break\n",
    "    else:\n",
    "        continue\n"
   ]
  },
  {
   "cell_type": "markdown",
   "id": "36aa3d96",
   "metadata": {},
   "source": [
    " 鼠标事件: \n",
    "\n",
    "  - EVENT_MOUSEMOVE   0     鼠标移动\n",
    "  - EVENT_LBUTTONDOWN   1   按下鼠标左键\n",
    "  - EVENT_RBUTTONDOWN   2  按下鼠标右键\n",
    "  - EVENT_MBUTTONDOWN  3 按下鼠标中键\n",
    "  - EVENT_LBUTTONUP    4      左键释放\n",
    "  - EVENT_RBUTTONUP   5      右键释放\n",
    "  - EVENT_MBUTTONUP   6     中键释放\n",
    "  - EVENT_LBUTTONDBLCLK 7 左键双击\n",
    "  - EVENT_RBUTTONDBLCLK  8 右键双击\n",
    "  - EVENT_MBUTTONDBLCLK  9 中键双击\n",
    "  - EVENT_MOUSEWHEEL  10 鼠标滚轮上下滚动\n",
    "  - EVENT_MOUSEHWHEEL 11 鼠标左右滚动\n",
    "\n",
    "  flags:\n",
    "\n",
    "  - EVENT_FLAG_LBUTTON    1  按下左键\n",
    "  - EVENT_FLAG_RBUTTON    2  按下右键\n",
    "  - EVENT_FLAG_MBUTTON   4 按下中键\n",
    "  - EVENT_FLAG_CRTLKEY    8   按下ctrl键\n",
    "  - EVENT_FLAG_SHIFTKEY   16  按下shift键\n",
    "  - EVENT_FLAG_ALTKEY       32  按下alt键"
   ]
  },
  {
   "cell_type": "code",
   "execution_count": 28,
   "id": "0ee31f3c",
   "metadata": {
    "ExecuteTime": {
     "end_time": "2022-08-16T03:28:17.619393Z",
     "start_time": "2022-08-16T03:28:17.602439Z"
    }
   },
   "outputs": [
    {
     "data": {
      "text/plain": [
       "(-12, -5, 13.0)"
      ]
     },
     "execution_count": 28,
     "metadata": {},
     "output_type": "execute_result"
    }
   ],
   "source": [
    "dot=[]\n",
    "dot.append((10,19))\n",
    "dot.append((5,7))\n",
    "a=dot[1][1]-dot[0][1]\n",
    "b=dot[1][0]-dot[0][0]\n",
    "r = (a**2+b**2)**(1/2)\n",
    "a,b,r"
   ]
  },
  {
   "cell_type": "code",
   "execution_count": 21,
   "id": "36ddff92",
   "metadata": {
    "ExecuteTime": {
     "end_time": "2022-08-16T03:23:25.436461Z",
     "start_time": "2022-08-16T03:23:25.431456Z"
    }
   },
   "outputs": [],
   "source": [
    "num = range(20)"
   ]
  },
  {
   "cell_type": "code",
   "execution_count": 26,
   "id": "61b0b6e7",
   "metadata": {
    "ExecuteTime": {
     "end_time": "2022-08-16T03:27:07.240835Z",
     "start_time": "2022-08-16T03:27:07.229867Z"
    }
   },
   "outputs": [
    {
     "name": "stdout",
     "output_type": "stream",
     "text": [
      "3 4 5.0\n",
      "5 12 13.0\n",
      "6 8 10.0\n",
      "8 15 17.0\n",
      "9 12 15.0\n",
      "12 16 20.0\n"
     ]
    }
   ],
   "source": [
    "for i in num:\n",
    "    for j in num:\n",
    "        p = (i**2+j**2)**(1/2)\n",
    "        if p==int(p) and i>1 and j>1 and j>i>1:\n",
    "            print(i,j,p)"
   ]
  }
 ],
 "metadata": {
  "kernelspec": {
   "display_name": "Python 3 (ipykernel)",
   "language": "python",
   "name": "python3"
  },
  "language_info": {
   "codemirror_mode": {
    "name": "ipython",
    "version": 3
   },
   "file_extension": ".py",
   "mimetype": "text/x-python",
   "name": "python",
   "nbconvert_exporter": "python",
   "pygments_lexer": "ipython3",
   "version": "3.7.8"
  },
  "toc": {
   "base_numbering": 1,
   "nav_menu": {},
   "number_sections": true,
   "sideBar": true,
   "skip_h1_title": false,
   "title_cell": "Table of Contents",
   "title_sidebar": "Contents",
   "toc_cell": false,
   "toc_position": {},
   "toc_section_display": true,
   "toc_window_display": false
  }
 },
 "nbformat": 4,
 "nbformat_minor": 5
}
