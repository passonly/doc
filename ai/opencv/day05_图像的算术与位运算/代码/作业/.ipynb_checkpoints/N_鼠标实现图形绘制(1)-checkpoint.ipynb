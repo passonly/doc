{
 "cells": [
  {
   "cell_type": "markdown",
   "id": "6c46757d",
   "metadata": {},
   "source": [
    "### homework"
   ]
  },
  {
   "cell_type": "code",
   "execution_count": 1,
   "id": "398d3e45",
   "metadata": {
    "ExecuteTime": {
     "end_time": "2022-08-17T12:24:46.687397Z",
     "start_time": "2022-08-17T12:24:46.567716Z"
    }
   },
   "outputs": [],
   "source": [
    "import cv2\n",
    "import numpy as np"
   ]
  },
  {
   "cell_type": "code",
   "execution_count": null,
   "id": "39147123",
   "metadata": {
    "ExecuteTime": {
     "start_time": "2022-08-17T12:25:33.069Z"
    }
   },
   "outputs": [],
   "source": [
    "mousepress = 0\n",
    "startposition = (0,0)\n",
    "\n",
    "img = np.zeros((600,600,3), dtype=np.uint8)\n",
    "\n",
    "def mouse_callback(event, x, y, flags, userdata):\n",
    "    global mousepress, startposition\n",
    "    if event == cv2.EVENT_LBUTTONDOWN:\n",
    "        startposition = x, y\n",
    "    if event == cv2.EVENT_LBUTTONUP:\n",
    "        if mousepress == 1:\n",
    "            cv2.line(img, (startposition), (x, y), (0,0,255), 3, 16)\n",
    "        elif mousepress == 2:\n",
    "            cv2.rectangle(img,(startposition),(x,y),(0,0,255),3,16)\n",
    "        elif mousepress == 3:\n",
    "            radius = int(np.sqrt((y-startposition[1])**2 + (x-startposition[0])**2))\n",
    "            cv2.circle(img,startposition,radius,(0,0,255),3,16)\n",
    "        else:\n",
    "            print('-'*20)\n",
    "cv2.namedWindow('img')\n",
    "cv2.setMouseCallback('img',mouse_callback)\n",
    "\n",
    "while 1:\n",
    "    cv2.imshow('img',img)\n",
    "    key = cv2.waitKey(1)\n",
    "    if key == ord('l'):\n",
    "        mousepress = 1\n",
    "    elif key == ord('r'):\n",
    "        mousepress = 2\n",
    "    elif key == ord('c'):\n",
    "        mousepress = 3\n",
    "    elif key == ord('q'):\n",
    "        break\n",
    "\n",
    "cv2.destroyAllWindows()"
   ]
  },
  {
   "cell_type": "markdown",
   "id": "063024b2",
   "metadata": {},
   "source": [
    "### 关于动态绘制"
   ]
  },
  {
   "cell_type": "code",
   "execution_count": 29,
   "id": "34858247",
   "metadata": {
    "ExecuteTime": {
     "end_time": "2022-08-17T05:12:01.887183Z",
     "start_time": "2022-08-17T05:11:19.967377Z"
    }
   },
   "outputs": [],
   "source": [
    "import cv2\n",
    "import numpy as np\n",
    "mousepress = 0\n",
    "startposition = (0,0)\n",
    "\n",
    "img = np.zeros((600,600,3),dtype=np.uint8)\n",
    "\n",
    "def mouse_callback(event,x,y,flags,userdata):\n",
    "    global mousepress,startposition\n",
    "    if event == cv2.EVENT_LBUTTONDOWN:\n",
    "        startposition = x,y\n",
    "    if flags == cv2.EVENT_FLAG_LBUTTON:\n",
    "        img[:] = [0,0,0]\n",
    "        if mousepress == 1:\n",
    "            cv2.line(img,(startposition),(x,y),(0,0,255),3,16)\n",
    "        elif mousepress == 2:\n",
    "            cv2.rectangle(img,(startposition),(x,y),(0,0,255),3,16)\n",
    "        elif mousepress == 3:\n",
    "            radius = int(np.sqrt((y-startposition[1])**2 + (x-startposition[0])**2))\n",
    "            cv2.circle(img,startposition,radius,(0,0,255),3,16)\n",
    "        else:\n",
    "            print('请输入有效的按键值') \n",
    "\n",
    "cv2.namedWindow('img')\n",
    "cv2.setMouseCallback('img',mouse_callback)\n",
    "while 1:\n",
    "    cv2.imshow('img',img)\n",
    "    key = cv2.waitKey(1)\n",
    "    if key == ord('l'):\n",
    "        mousepress = 1\n",
    "    elif key == ord('r'):\n",
    "        mousepress = 2\n",
    "    elif key == ord('c'):\n",
    "        mousepress = 3\n",
    "    elif key == ord('q'):\n",
    "        break\n",
    "\n",
    "cv2.destroyAllWindows()"
   ]
  },
  {
   "cell_type": "code",
   "execution_count": null,
   "id": "fe77f890",
   "metadata": {},
   "outputs": [],
   "source": []
  }
 ],
 "metadata": {
  "kernelspec": {
   "display_name": "Python 3 (ipykernel)",
   "language": "python",
   "name": "python3"
  },
  "language_info": {
   "codemirror_mode": {
    "name": "ipython",
    "version": 3
   },
   "file_extension": ".py",
   "mimetype": "text/x-python",
   "name": "python",
   "nbconvert_exporter": "python",
   "pygments_lexer": "ipython3",
   "version": "3.7.8"
  },
  "toc": {
   "base_numbering": 1,
   "nav_menu": {},
   "number_sections": true,
   "sideBar": true,
   "skip_h1_title": false,
   "title_cell": "Table of Contents",
   "title_sidebar": "Contents",
   "toc_cell": false,
   "toc_position": {},
   "toc_section_display": true,
   "toc_window_display": false
  },
  "varInspector": {
   "cols": {
    "lenName": 16,
    "lenType": 16,
    "lenVar": 40
   },
   "kernels_config": {
    "python": {
     "delete_cmd_postfix": "",
     "delete_cmd_prefix": "del ",
     "library": "var_list.py",
     "varRefreshCmd": "print(var_dic_list())"
    },
    "r": {
     "delete_cmd_postfix": ") ",
     "delete_cmd_prefix": "rm(",
     "library": "var_list.r",
     "varRefreshCmd": "cat(var_dic_list()) "
    }
   },
   "types_to_exclude": [
    "module",
    "function",
    "builtin_function_or_method",
    "instance",
    "_Feature"
   ],
   "window_display": false
  }
 },
 "nbformat": 4,
 "nbformat_minor": 5
}
