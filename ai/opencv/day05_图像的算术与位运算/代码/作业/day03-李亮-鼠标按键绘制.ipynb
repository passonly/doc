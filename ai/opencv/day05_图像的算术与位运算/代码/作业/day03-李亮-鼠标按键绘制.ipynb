{
 "cells": [
  {
   "cell_type": "code",
   "execution_count": null,
   "id": "2c2ba18a",
   "metadata": {},
   "outputs": [],
   "source": [
    "# python编程规范 PEP 8. "
   ]
  },
  {
   "cell_type": "code",
   "execution_count": 2,
   "id": "d59ce389",
   "metadata": {
    "ExecuteTime": {
     "end_time": "2022-08-17T12:22:31.898221Z",
     "start_time": "2022-08-17T12:21:18.518388Z"
    }
   },
   "outputs": [],
   "source": [
    "# 先导python自带的包\n",
    "# 然后是第三方包\n",
    "# 然后是自己写的包\n",
    "# 中间隔一行. \n",
    "import cv2\n",
    "import numpy as np\n",
    "\n",
    "\n",
    "curshape = 0\n",
    "startpos = (0, 0)\n",
    "img = np.zeros((480, 640, 3), np.uint8)\n",
    "\n",
    "\n",
    "def mouse_callback(event, x, y, flags, userdata):\n",
    "    global curshape, startpos\n",
    "    if event == cv2.EVENT_LBUTTONDOWN:\n",
    "        # 记录起始位置\n",
    "        startpos = (x, y)\n",
    "    elif event == cv2.EVENT_LBUTTONUP:\n",
    "        # 判断要画什么类型的图.\n",
    "        if curshape == 0: # 画直线\n",
    "            cv2.line(img, startpos, (x, y), (0, 0, 255), 3)\n",
    "        elif curshape == 1: # 画矩形\n",
    "            cv2.rectangle(img, startpos, (x, y), (0, 0, 255), 3)\n",
    "        elif curshape == 2: # 画圆\n",
    "            # 注意计算半径\n",
    "            a = (x - startpos[0])\n",
    "            b = (y - startpos[1])\n",
    "            r = int((a ** 2 + b ** 2) ** 0.5)\n",
    "            # 画圆的时候, 半径必须是整数\n",
    "            cv2.circle(img, startpos, r, (0, 0, 255), 3)\n",
    "        else: # 按其他的按键\n",
    "            print('俺不会话')   \n",
    "            \n",
    "            \n",
    "# 创建窗口\n",
    "cv2.namedWindow('drawshape', cv2.WINDOW_NORMAL)\n",
    "# 设置鼠标回调函数\n",
    "cv2.setMouseCallback('drawshape', mouse_callback)\n",
    "\n",
    "\n",
    "while True:\n",
    "    cv2.imshow('drawshape', img)\n",
    "    # 检测按键\n",
    "    key = cv2.waitKey(1)\n",
    "    if key == ord('q'):\n",
    "        break\n",
    "    elif key == ord('l'):\n",
    "        curshape = 0\n",
    "    elif key == ord('r'):\n",
    "        curshape = 1\n",
    "    elif key == ord('c'):\n",
    "        curshape = 2     \n",
    "cv2.destroyAllWindows()"
   ]
  },
  {
   "cell_type": "code",
   "execution_count": null,
   "id": "fd4b016d",
   "metadata": {},
   "outputs": [],
   "source": []
  }
 ],
 "metadata": {
  "kernelspec": {
   "display_name": "Python 3 (ipykernel)",
   "language": "python",
   "name": "python3"
  },
  "language_info": {
   "codemirror_mode": {
    "name": "ipython",
    "version": 3
   },
   "file_extension": ".py",
   "mimetype": "text/x-python",
   "name": "python",
   "nbconvert_exporter": "python",
   "pygments_lexer": "ipython3",
   "version": "3.7.8"
  },
  "toc": {
   "base_numbering": 1,
   "nav_menu": {},
   "number_sections": true,
   "sideBar": true,
   "skip_h1_title": false,
   "title_cell": "Table of Contents",
   "title_sidebar": "Contents",
   "toc_cell": false,
   "toc_position": {},
   "toc_section_display": true,
   "toc_window_display": false
  }
 },
 "nbformat": 4,
 "nbformat_minor": 5
}
