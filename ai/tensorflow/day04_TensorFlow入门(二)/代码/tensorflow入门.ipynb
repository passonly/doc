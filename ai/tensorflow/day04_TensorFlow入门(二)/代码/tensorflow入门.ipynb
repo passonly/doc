{
 "cells": [
  {
   "cell_type": "code",
   "execution_count": 1,
   "id": "988abe92",
   "metadata": {
    "ExecuteTime": {
     "end_time": "2022-09-23T12:20:51.183048Z",
     "start_time": "2022-09-23T12:20:41.757261Z"
    }
   },
   "outputs": [],
   "source": [
    "import tensorflow as tf"
   ]
  },
  {
   "cell_type": "code",
   "execution_count": null,
   "id": "6e1eb9d8",
   "metadata": {},
   "outputs": [],
   "source": [
    "# 重点掌握tf的api, 以及规则"
   ]
  },
  {
   "cell_type": "markdown",
   "id": "322c55e4",
   "metadata": {},
   "source": [
    "### 常量"
   ]
  },
  {
   "cell_type": "code",
   "execution_count": 4,
   "id": "f9bdef47",
   "metadata": {
    "ExecuteTime": {
     "end_time": "2022-09-23T12:24:53.670898Z",
     "start_time": "2022-09-23T12:24:53.643970Z"
    }
   },
   "outputs": [],
   "source": [
    "# python中有没有常量, Python中没有常量. python中一切都是变量. \n",
    "# tensorflow中有常量\n",
    "# 常量就是一定赋值, 值就不能变动.\n",
    "a = tf.constant(1, dtype=tf.float32) "
   ]
  },
  {
   "cell_type": "code",
   "execution_count": 5,
   "id": "96b2ff17",
   "metadata": {
    "ExecuteTime": {
     "end_time": "2022-09-23T12:24:56.181184Z",
     "start_time": "2022-09-23T12:24:56.162234Z"
    }
   },
   "outputs": [
    {
     "data": {
      "text/plain": [
       "<tf.Tensor: shape=(), dtype=float32, numpy=1.0>"
      ]
     },
     "execution_count": 5,
     "metadata": {},
     "output_type": "execute_result"
    }
   ],
   "source": [
    "a"
   ]
  },
  {
   "cell_type": "code",
   "execution_count": 6,
   "id": "053adde0",
   "metadata": {
    "ExecuteTime": {
     "end_time": "2022-09-23T12:26:05.016580Z",
     "start_time": "2022-09-23T12:26:04.834069Z"
    }
   },
   "outputs": [
    {
     "ename": "AttributeError",
     "evalue": "'tensorflow.python.framework.ops.EagerTensor' object has no attribute 'assign'",
     "output_type": "error",
     "traceback": [
      "\u001b[1;31m---------------------------------------------------------------------------\u001b[0m",
      "\u001b[1;31mAttributeError\u001b[0m                            Traceback (most recent call last)",
      "\u001b[1;32m~\\AppData\\Local\\Temp\\ipykernel_120572\\1684686710.py\u001b[0m in \u001b[0;36m<module>\u001b[1;34m\u001b[0m\n\u001b[1;32m----> 1\u001b[1;33m \u001b[0ma\u001b[0m\u001b[1;33m.\u001b[0m\u001b[0massign\u001b[0m\u001b[1;33m(\u001b[0m\u001b[1;33m)\u001b[0m\u001b[1;33m\u001b[0m\u001b[1;33m\u001b[0m\u001b[0m\n\u001b[0m",
      "\u001b[1;32mD:\\.venv\\lib\\site-packages\\tensorflow\\python\\framework\\ops.py\u001b[0m in \u001b[0;36m__getattr__\u001b[1;34m(self, name)\u001b[0m\n\u001b[0;32m    444\u001b[0m         \u001b[0mnp_config\u001b[0m\u001b[1;33m.\u001b[0m\u001b[0menable_numpy_behavior\u001b[0m\u001b[1;33m(\u001b[0m\u001b[1;33m)\u001b[0m\u001b[1;33m\u001b[0m\u001b[1;33m\u001b[0m\u001b[0m\n\u001b[0;32m    445\u001b[0m       \"\"\")\n\u001b[1;32m--> 446\u001b[1;33m     \u001b[0mself\u001b[0m\u001b[1;33m.\u001b[0m\u001b[0m__getattribute__\u001b[0m\u001b[1;33m(\u001b[0m\u001b[0mname\u001b[0m\u001b[1;33m)\u001b[0m\u001b[1;33m\u001b[0m\u001b[1;33m\u001b[0m\u001b[0m\n\u001b[0m\u001b[0;32m    447\u001b[0m \u001b[1;33m\u001b[0m\u001b[0m\n\u001b[0;32m    448\u001b[0m   \u001b[1;33m@\u001b[0m\u001b[0mstaticmethod\u001b[0m\u001b[1;33m\u001b[0m\u001b[1;33m\u001b[0m\u001b[0m\n",
      "\u001b[1;31mAttributeError\u001b[0m: 'tensorflow.python.framework.ops.EagerTensor' object has no attribute 'assign'"
     ]
    }
   ],
   "source": [
    "# 常量不能修改值, 没有assign方法\n",
    "a.assign()"
   ]
  },
  {
   "cell_type": "code",
   "execution_count": 7,
   "id": "b50b8d66",
   "metadata": {
    "ExecuteTime": {
     "end_time": "2022-09-23T12:27:58.281351Z",
     "start_time": "2022-09-23T12:27:58.266391Z"
    }
   },
   "outputs": [
    {
     "data": {
      "text/plain": [
       "<tf.Tensor: shape=(2, 3), dtype=int32, numpy=\n",
       "array([[1, 2, 3],\n",
       "       [4, 5, 6]])>"
      ]
     },
     "execution_count": 7,
     "metadata": {},
     "output_type": "execute_result"
    }
   ],
   "source": [
    "# 一个数字, 我们叫做标量, scalar \n",
    "# 定义个常量矩阵\n",
    "a = tf.constant([[1, 2, 3], [4, 5, 6]])\n",
    "a"
   ]
  },
  {
   "cell_type": "code",
   "execution_count": 8,
   "id": "256dc94a",
   "metadata": {
    "ExecuteTime": {
     "end_time": "2022-09-23T12:28:28.264150Z",
     "start_time": "2022-09-23T12:28:28.251186Z"
    }
   },
   "outputs": [
    {
     "data": {
      "text/plain": [
       "array([[1, 2, 3],\n",
       "       [4, 5, 6]])"
      ]
     },
     "execution_count": 8,
     "metadata": {},
     "output_type": "execute_result"
    }
   ],
   "source": [
    "# 拿到常量内部的值\n",
    "a.numpy()"
   ]
  },
  {
   "cell_type": "code",
   "execution_count": 9,
   "id": "e00996f5",
   "metadata": {
    "ExecuteTime": {
     "end_time": "2022-09-23T12:38:40.701606Z",
     "start_time": "2022-09-23T12:38:40.640769Z"
    }
   },
   "outputs": [
    {
     "data": {
      "text/plain": [
       "<tf.Tensor: shape=(3,), dtype=int32, numpy=array([1, 2, 3])>"
      ]
     },
     "execution_count": 9,
     "metadata": {},
     "output_type": "execute_result"
    }
   ],
   "source": [
    "# tensorflow的tensor和numpy中的ndarray很像. 甚至可以互相转化. 他们的属性, api很多类似. \n",
    "a[0]"
   ]
  },
  {
   "cell_type": "code",
   "execution_count": 10,
   "id": "b6ee6402",
   "metadata": {
    "ExecuteTime": {
     "end_time": "2022-09-23T12:39:07.632568Z",
     "start_time": "2022-09-23T12:39:07.568739Z"
    }
   },
   "outputs": [
    {
     "data": {
      "text/plain": [
       "<tf.Tensor: shape=(2, 2), dtype=int32, numpy=\n",
       "array([[2, 3],\n",
       "       [5, 6]])>"
      ]
     },
     "execution_count": 10,
     "metadata": {},
     "output_type": "execute_result"
    }
   ],
   "source": [
    "a[:, 1:]"
   ]
  },
  {
   "cell_type": "code",
   "execution_count": 11,
   "id": "0501cfe6",
   "metadata": {
    "ExecuteTime": {
     "end_time": "2022-09-23T12:40:02.046019Z",
     "start_time": "2022-09-23T12:40:02.034051Z"
    }
   },
   "outputs": [],
   "source": [
    "# numpy中的routines(常规)函数\n",
    "import numpy as np"
   ]
  },
  {
   "cell_type": "code",
   "execution_count": null,
   "id": "38dc703f",
   "metadata": {},
   "outputs": [],
   "source": [
    "np.eye()"
   ]
  },
  {
   "cell_type": "code",
   "execution_count": null,
   "id": "3cdedc98",
   "metadata": {},
   "outputs": [],
   "source": [
    "tf.eye()"
   ]
  },
  {
   "cell_type": "code",
   "execution_count": 15,
   "id": "398750d6",
   "metadata": {
    "ExecuteTime": {
     "end_time": "2022-09-23T12:43:18.887491Z",
     "start_time": "2022-09-23T12:43:18.881506Z"
    },
    "collapsed": true
   },
   "outputs": [
    {
     "data": {
      "text/plain": [
       "array([[[[1., 1.]],\n",
       "\n",
       "        [[1., 1.]],\n",
       "\n",
       "        [[1., 1.]]],\n",
       "\n",
       "\n",
       "       [[[1., 1.]],\n",
       "\n",
       "        [[1., 1.]],\n",
       "\n",
       "        [[1., 1.]]]])"
      ]
     },
     "execution_count": 15,
     "metadata": {},
     "output_type": "execute_result"
    }
   ],
   "source": [
    "np.ones((2, 3, 1, 4))[..., 1:3]"
   ]
  },
  {
   "cell_type": "code",
   "execution_count": 13,
   "id": "fb8ef14f",
   "metadata": {
    "ExecuteTime": {
     "end_time": "2022-09-23T12:42:23.248318Z",
     "start_time": "2022-09-23T12:42:23.209422Z"
    },
    "collapsed": true
   },
   "outputs": [
    {
     "data": {
      "text/plain": [
       "<tf.Tensor: shape=(2, 3, 1, 2), dtype=float32, numpy=\n",
       "array([[[[1., 1.]],\n",
       "\n",
       "        [[1., 1.]],\n",
       "\n",
       "        [[1., 1.]]],\n",
       "\n",
       "\n",
       "       [[[1., 1.]],\n",
       "\n",
       "        [[1., 1.]],\n",
       "\n",
       "        [[1., 1.]]]], dtype=float32)>"
      ]
     },
     "execution_count": 13,
     "metadata": {},
     "output_type": "execute_result"
    }
   ],
   "source": [
    "tf.ones((2, 3, 1, 4))[:, :, :, 1:3]"
   ]
  },
  {
   "cell_type": "code",
   "execution_count": 14,
   "id": "22940bdf",
   "metadata": {
    "ExecuteTime": {
     "end_time": "2022-09-23T12:42:59.170231Z",
     "start_time": "2022-09-23T12:42:59.153277Z"
    },
    "collapsed": true
   },
   "outputs": [
    {
     "data": {
      "text/plain": [
       "<tf.Tensor: shape=(2, 3, 1, 2), dtype=float32, numpy=\n",
       "array([[[[1., 1.]],\n",
       "\n",
       "        [[1., 1.]],\n",
       "\n",
       "        [[1., 1.]]],\n",
       "\n",
       "\n",
       "       [[[1., 1.]],\n",
       "\n",
       "        [[1., 1.]],\n",
       "\n",
       "        [[1., 1.]]]], dtype=float32)>"
      ]
     },
     "execution_count": 14,
     "metadata": {},
     "output_type": "execute_result"
    }
   ],
   "source": [
    "tf.ones((2, 3, 1, 4))[..., 1:3]"
   ]
  },
  {
   "cell_type": "code",
   "execution_count": 16,
   "id": "cab6d295",
   "metadata": {
    "ExecuteTime": {
     "end_time": "2022-09-23T12:43:52.173454Z",
     "start_time": "2022-09-23T12:43:52.145528Z"
    },
    "scrolled": true
   },
   "outputs": [
    {
     "data": {
      "text/plain": [
       "<tf.Tensor: shape=(2, 3), dtype=int32, numpy=\n",
       "array([[2, 3, 4],\n",
       "       [5, 6, 7]])>"
      ]
     },
     "execution_count": 16,
     "metadata": {},
     "output_type": "execute_result"
    }
   ],
   "source": [
    "# 返回了一个新的tensor\n",
    "a + 1"
   ]
  },
  {
   "cell_type": "code",
   "execution_count": 17,
   "id": "2ef5f8af",
   "metadata": {
    "ExecuteTime": {
     "end_time": "2022-09-23T12:44:14.371078Z",
     "start_time": "2022-09-23T12:44:14.362102Z"
    },
    "scrolled": true
   },
   "outputs": [
    {
     "data": {
      "text/plain": [
       "<tf.Tensor: shape=(2, 3), dtype=int32, numpy=\n",
       "array([[1, 2, 3],\n",
       "       [4, 5, 6]])>"
      ]
     },
     "execution_count": 17,
     "metadata": {},
     "output_type": "execute_result"
    }
   ],
   "source": [
    "a"
   ]
  },
  {
   "cell_type": "code",
   "execution_count": 19,
   "id": "863b1aa4",
   "metadata": {
    "ExecuteTime": {
     "end_time": "2022-09-23T12:45:35.470147Z",
     "start_time": "2022-09-23T12:45:35.440227Z"
    },
    "collapsed": true
   },
   "outputs": [
    {
     "ename": "TypeError",
     "evalue": "'tensorflow.python.framework.ops.EagerTensor' object does not support item assignment",
     "output_type": "error",
     "traceback": [
      "\u001b[1;31m---------------------------------------------------------------------------\u001b[0m",
      "\u001b[1;31mTypeError\u001b[0m                                 Traceback (most recent call last)",
      "\u001b[1;32m~\\AppData\\Local\\Temp\\ipykernel_120572\\545230122.py\u001b[0m in \u001b[0;36m<module>\u001b[1;34m\u001b[0m\n\u001b[1;32m----> 1\u001b[1;33m \u001b[0ma\u001b[0m\u001b[1;33m[\u001b[0m\u001b[1;36m0\u001b[0m\u001b[1;33m,\u001b[0m \u001b[1;36m1\u001b[0m\u001b[1;33m]\u001b[0m \u001b[1;33m=\u001b[0m \u001b[1;36m3\u001b[0m\u001b[1;33m\u001b[0m\u001b[1;33m\u001b[0m\u001b[0m\n\u001b[0m",
      "\u001b[1;31mTypeError\u001b[0m: 'tensorflow.python.framework.ops.EagerTensor' object does not support item assignment"
     ]
    }
   ],
   "source": [
    "# 常量不能修改内部的值. \n",
    "a[0, 1] = 3"
   ]
  },
  {
   "cell_type": "code",
   "execution_count": 21,
   "id": "75080c67",
   "metadata": {
    "ExecuteTime": {
     "end_time": "2022-09-23T12:46:32.989290Z",
     "start_time": "2022-09-23T12:46:32.985301Z"
    }
   },
   "outputs": [],
   "source": [
    "a = tf.constant('abcd')"
   ]
  },
  {
   "cell_type": "code",
   "execution_count": 23,
   "id": "c9a5fc4c",
   "metadata": {
    "ExecuteTime": {
     "end_time": "2022-09-23T12:46:53.919305Z",
     "start_time": "2022-09-23T12:46:53.889385Z"
    }
   },
   "outputs": [
    {
     "data": {
      "text/plain": [
       "<tf.Tensor: shape=(), dtype=int32, numpy=4>"
      ]
     },
     "execution_count": 23,
     "metadata": {},
     "output_type": "execute_result"
    }
   ],
   "source": [
    "tf.strings.length(a)"
   ]
  },
  {
   "cell_type": "code",
   "execution_count": 24,
   "id": "61008074",
   "metadata": {
    "ExecuteTime": {
     "end_time": "2022-09-23T12:47:50.050162Z",
     "start_time": "2022-09-23T12:47:50.041185Z"
    }
   },
   "outputs": [
    {
     "data": {
      "text/plain": [
       "<tf.Tensor: shape=(), dtype=int32, numpy=4>"
      ]
     },
     "execution_count": 24,
     "metadata": {},
     "output_type": "execute_result"
    }
   ],
   "source": [
    "tf.strings.length(a, unit='UTF8_CHAR')"
   ]
  },
  {
   "cell_type": "code",
   "execution_count": 25,
   "id": "c60a5d50",
   "metadata": {
    "ExecuteTime": {
     "end_time": "2022-09-23T12:49:29.135119Z",
     "start_time": "2022-09-23T12:49:29.121158Z"
    }
   },
   "outputs": [
    {
     "data": {
      "text/plain": [
       "<tf.Tensor: shape=(3,), dtype=string, numpy=array([b'cafe', b'coffee', b'\\xe5\\x92\\x96\\xe5\\x95\\xa1'], dtype=object)>"
      ]
     },
     "execution_count": 25,
     "metadata": {},
     "output_type": "execute_result"
    }
   ],
   "source": [
    "t = tf.constant(['cafe', 'coffee', '咖啡'])\n",
    "t"
   ]
  },
  {
   "cell_type": "code",
   "execution_count": 26,
   "id": "7e17c88a",
   "metadata": {
    "ExecuteTime": {
     "end_time": "2022-09-23T12:50:00.338664Z",
     "start_time": "2022-09-23T12:50:00.328680Z"
    }
   },
   "outputs": [
    {
     "data": {
      "text/plain": [
       "<tf.Tensor: shape=(3,), dtype=int32, numpy=array([4, 6, 6])>"
      ]
     },
     "execution_count": 26,
     "metadata": {},
     "output_type": "execute_result"
    }
   ],
   "source": [
    "tf.strings.length(t)"
   ]
  },
  {
   "cell_type": "code",
   "execution_count": 27,
   "id": "55e8a7cf",
   "metadata": {
    "ExecuteTime": {
     "end_time": "2022-09-23T12:50:31.751136Z",
     "start_time": "2022-09-23T12:50:31.738171Z"
    }
   },
   "outputs": [
    {
     "data": {
      "text/plain": [
       "<tf.Tensor: shape=(3,), dtype=int32, numpy=array([4, 6, 2])>"
      ]
     },
     "execution_count": 27,
     "metadata": {},
     "output_type": "execute_result"
    }
   ],
   "source": [
    "tf.strings.length(t, unit='UTF8_CHAR')"
   ]
  },
  {
   "cell_type": "code",
   "execution_count": 28,
   "id": "b5e9f201",
   "metadata": {
    "ExecuteTime": {
     "end_time": "2022-09-23T12:51:00.701204Z",
     "start_time": "2022-09-23T12:51:00.648346Z"
    }
   },
   "outputs": [
    {
     "data": {
      "text/plain": [
       "<tf.RaggedTensor [[99, 97, 102, 101], [99, 111, 102, 102, 101, 101], [21654, 21857]]>"
      ]
     },
     "execution_count": 28,
     "metadata": {},
     "output_type": "execute_result"
    }
   ],
   "source": [
    "tf.strings.unicode_decode(t, 'UTF8')"
   ]
  },
  {
   "cell_type": "markdown",
   "id": "242706d4",
   "metadata": {},
   "source": [
    "### 变量"
   ]
  },
  {
   "cell_type": "code",
   "execution_count": 50,
   "id": "5d2fdbdf",
   "metadata": {
    "ExecuteTime": {
     "end_time": "2022-09-23T13:04:14.967210Z",
     "start_time": "2022-09-23T13:04:14.952250Z"
    }
   },
   "outputs": [],
   "source": [
    "# Variable, 内部的值可以变化. 变量一般用来定义神经网络里面需要学习的参数. \n",
    "v = tf.Variable([[1, 2, 3], [4, 5, 6]], name='v', validate_shape=False)"
   ]
  },
  {
   "cell_type": "code",
   "execution_count": 31,
   "id": "9cb22f6d",
   "metadata": {
    "ExecuteTime": {
     "end_time": "2022-09-23T12:58:04.529063Z",
     "start_time": "2022-09-23T12:58:04.512108Z"
    }
   },
   "outputs": [
    {
     "data": {
      "text/plain": [
       "<tf.Tensor: shape=(), dtype=string, numpy=b'abcd'>"
      ]
     },
     "execution_count": 31,
     "metadata": {},
     "output_type": "execute_result"
    }
   ],
   "source": [
    "a"
   ]
  },
  {
   "cell_type": "code",
   "execution_count": 33,
   "id": "fe78f6a8",
   "metadata": {
    "ExecuteTime": {
     "end_time": "2022-09-23T12:58:22.524925Z",
     "start_time": "2022-09-23T12:58:22.519938Z"
    }
   },
   "outputs": [
    {
     "data": {
      "text/plain": [
       "<tf.Variable 'v:0' shape=(2, 3) dtype=int32, numpy=\n",
       "array([[1, 2, 3],\n",
       "       [4, 5, 6]])>"
      ]
     },
     "execution_count": 33,
     "metadata": {},
     "output_type": "execute_result"
    }
   ],
   "source": [
    "v"
   ]
  },
  {
   "cell_type": "code",
   "execution_count": 34,
   "id": "d5963892",
   "metadata": {
    "ExecuteTime": {
     "end_time": "2022-09-23T12:58:44.755461Z",
     "start_time": "2022-09-23T12:58:44.736512Z"
    }
   },
   "outputs": [
    {
     "data": {
      "text/plain": [
       "array([[1, 2, 3],\n",
       "       [4, 5, 6]])"
      ]
     },
     "execution_count": 34,
     "metadata": {},
     "output_type": "execute_result"
    }
   ],
   "source": [
    "v.numpy()"
   ]
  },
  {
   "cell_type": "code",
   "execution_count": 37,
   "id": "5fadaea0",
   "metadata": {
    "ExecuteTime": {
     "end_time": "2022-09-23T12:59:31.083539Z",
     "start_time": "2022-09-23T12:59:31.064591Z"
    },
    "scrolled": true
   },
   "outputs": [
    {
     "data": {
      "text/plain": [
       "<tf.Tensor: shape=(2, 3), dtype=int32, numpy=\n",
       "array([[1, 2, 3],\n",
       "       [4, 5, 6]])>"
      ]
     },
     "execution_count": 37,
     "metadata": {},
     "output_type": "execute_result"
    }
   ],
   "source": [
    "# 返回的用变量的值创建的常量tensor\n",
    "v.value()"
   ]
  },
  {
   "cell_type": "code",
   "execution_count": 40,
   "id": "5b8cb18b",
   "metadata": {
    "ExecuteTime": {
     "end_time": "2022-09-23T13:00:53.472174Z",
     "start_time": "2022-09-23T13:00:53.456216Z"
    },
    "collapsed": true
   },
   "outputs": [
    {
     "ename": "ValueError",
     "evalue": "Cannot assign value to variable ' v:0': Shape mismatch.The variable shape (2, 3), and the assigned value shape (3,) are incompatible.",
     "output_type": "error",
     "traceback": [
      "\u001b[1;31m---------------------------------------------------------------------------\u001b[0m",
      "\u001b[1;31mValueError\u001b[0m                                Traceback (most recent call last)",
      "\u001b[1;32m~\\AppData\\Local\\Temp\\ipykernel_120572\\4017981238.py\u001b[0m in \u001b[0;36m<module>\u001b[1;34m\u001b[0m\n\u001b[1;32m----> 1\u001b[1;33m \u001b[0mv\u001b[0m\u001b[1;33m.\u001b[0m\u001b[0massign\u001b[0m\u001b[1;33m(\u001b[0m\u001b[1;33m[\u001b[0m\u001b[1;36m1\u001b[0m\u001b[1;33m,\u001b[0m \u001b[1;36m2\u001b[0m\u001b[1;33m,\u001b[0m \u001b[1;36m3\u001b[0m\u001b[1;33m]\u001b[0m\u001b[1;33m)\u001b[0m\u001b[1;33m\u001b[0m\u001b[1;33m\u001b[0m\u001b[0m\n\u001b[0m",
      "\u001b[1;32mD:\\.venv\\lib\\site-packages\\tensorflow\\python\\ops\\resource_variable_ops.py\u001b[0m in \u001b[0;36massign\u001b[1;34m(self, value, use_locking, name, read_value)\u001b[0m\n\u001b[0;32m    901\u001b[0m           \u001b[0mtensor_name\u001b[0m \u001b[1;33m=\u001b[0m \u001b[1;34m\" \"\u001b[0m \u001b[1;33m+\u001b[0m \u001b[0mstr\u001b[0m\u001b[1;33m(\u001b[0m\u001b[0mself\u001b[0m\u001b[1;33m.\u001b[0m\u001b[0mname\u001b[0m\u001b[1;33m)\u001b[0m\u001b[1;33m\u001b[0m\u001b[1;33m\u001b[0m\u001b[0m\n\u001b[0;32m    902\u001b[0m         raise ValueError(\n\u001b[1;32m--> 903\u001b[1;33m             (f\"Cannot assign value to variable '{tensor_name}': Shape mismatch.\"\n\u001b[0m\u001b[0;32m    904\u001b[0m              \u001b[1;34mf\"The variable shape {self._shape}, and the \"\u001b[0m\u001b[1;33m\u001b[0m\u001b[1;33m\u001b[0m\u001b[0m\n\u001b[0;32m    905\u001b[0m              f\"assigned value shape {value_tensor.shape} are incompatible.\"))\n",
      "\u001b[1;31mValueError\u001b[0m: Cannot assign value to variable ' v:0': Shape mismatch.The variable shape (2, 3), and the assigned value shape (3,) are incompatible."
     ]
    }
   ],
   "source": [
    "# 不可以赋值成其他形状\n",
    "v.assign([1, 2, 3])"
   ]
  },
  {
   "cell_type": "code",
   "execution_count": 42,
   "id": "fe485d12",
   "metadata": {
    "ExecuteTime": {
     "end_time": "2022-09-23T13:03:20.794116Z",
     "start_time": "2022-09-23T13:03:20.784143Z"
    }
   },
   "outputs": [],
   "source": [
    "v  = v.assign(v * 2) # v = v * 2"
   ]
  },
  {
   "cell_type": "code",
   "execution_count": 44,
   "id": "90340fd3",
   "metadata": {
    "ExecuteTime": {
     "end_time": "2022-09-23T13:03:27.192003Z",
     "start_time": "2022-09-23T13:03:27.184025Z"
    }
   },
   "outputs": [
    {
     "data": {
      "text/plain": [
       "array([[ 4,  8, 12],\n",
       "       [16, 20, 24]])"
      ]
     },
     "execution_count": 44,
     "metadata": {},
     "output_type": "execute_result"
    }
   ],
   "source": [
    "v.numpy()"
   ]
  },
  {
   "cell_type": "code",
   "execution_count": 46,
   "id": "8f89c97a",
   "metadata": {
    "ExecuteTime": {
     "end_time": "2022-09-23T13:03:35.424981Z",
     "start_time": "2022-09-23T13:03:35.408026Z"
    },
    "scrolled": true
   },
   "outputs": [
    {
     "data": {
      "text/plain": [
       "<tf.Tensor: shape=(2, 3), dtype=int32, numpy=\n",
       "array([[ 4,  8, 12],\n",
       "       [16, 20, 24]])>"
      ]
     },
     "execution_count": 46,
     "metadata": {},
     "output_type": "execute_result"
    }
   ],
   "source": [
    "v.value()"
   ]
  },
  {
   "cell_type": "code",
   "execution_count": 49,
   "id": "3c3b8ef6",
   "metadata": {
    "ExecuteTime": {
     "end_time": "2022-09-23T13:04:01.648835Z",
     "start_time": "2022-09-23T13:04:01.631880Z"
    },
    "collapsed": true
   },
   "outputs": [
    {
     "ename": "TypeError",
     "evalue": "'_UnreadVariable' object does not support item assignment",
     "output_type": "error",
     "traceback": [
      "\u001b[1;31m---------------------------------------------------------------------------\u001b[0m",
      "\u001b[1;31mTypeError\u001b[0m                                 Traceback (most recent call last)",
      "\u001b[1;32m~\\AppData\\Local\\Temp\\ipykernel_120572\\803840264.py\u001b[0m in \u001b[0;36m<module>\u001b[1;34m\u001b[0m\n\u001b[1;32m----> 1\u001b[1;33m \u001b[0mv\u001b[0m\u001b[1;33m[\u001b[0m\u001b[1;36m0\u001b[0m\u001b[1;33m,\u001b[0m \u001b[1;36m1\u001b[0m\u001b[1;33m]\u001b[0m \u001b[1;33m=\u001b[0m \u001b[1;36m18\u001b[0m\u001b[1;33m\u001b[0m\u001b[1;33m\u001b[0m\u001b[0m\n\u001b[0m",
      "\u001b[1;31mTypeError\u001b[0m: '_UnreadVariable' object does not support item assignment"
     ]
    }
   ],
   "source": [
    "v[0, 1] = 18"
   ]
  },
  {
   "cell_type": "code",
   "execution_count": 51,
   "id": "7d1e364c",
   "metadata": {
    "ExecuteTime": {
     "end_time": "2022-09-23T13:04:21.748072Z",
     "start_time": "2022-09-23T13:04:21.736104Z"
    }
   },
   "outputs": [
    {
     "data": {
      "text/plain": [
       "<tf.Variable 'v:0' shape=(2, 3) dtype=int32, numpy=\n",
       "array([[1, 2, 3],\n",
       "       [4, 5, 6]])>"
      ]
     },
     "execution_count": 51,
     "metadata": {},
     "output_type": "execute_result"
    }
   ],
   "source": [
    "v"
   ]
  },
  {
   "cell_type": "code",
   "execution_count": 52,
   "id": "f85830a3",
   "metadata": {
    "ExecuteTime": {
     "end_time": "2022-09-23T13:04:24.211483Z",
     "start_time": "2022-09-23T13:04:24.199515Z"
    },
    "scrolled": true
   },
   "outputs": [
    {
     "ename": "TypeError",
     "evalue": "'ResourceVariable' object does not support item assignment",
     "output_type": "error",
     "traceback": [
      "\u001b[1;31m---------------------------------------------------------------------------\u001b[0m",
      "\u001b[1;31mTypeError\u001b[0m                                 Traceback (most recent call last)",
      "\u001b[1;32m~\\AppData\\Local\\Temp\\ipykernel_120572\\803840264.py\u001b[0m in \u001b[0;36m<module>\u001b[1;34m\u001b[0m\n\u001b[1;32m----> 1\u001b[1;33m \u001b[0mv\u001b[0m\u001b[1;33m[\u001b[0m\u001b[1;36m0\u001b[0m\u001b[1;33m,\u001b[0m \u001b[1;36m1\u001b[0m\u001b[1;33m]\u001b[0m \u001b[1;33m=\u001b[0m \u001b[1;36m18\u001b[0m\u001b[1;33m\u001b[0m\u001b[1;33m\u001b[0m\u001b[0m\n\u001b[0m",
      "\u001b[1;31mTypeError\u001b[0m: 'ResourceVariable' object does not support item assignment"
     ]
    }
   ],
   "source": [
    "v[0, 1] = 18"
   ]
  },
  {
   "cell_type": "code",
   "execution_count": 53,
   "id": "52268170",
   "metadata": {
    "ExecuteTime": {
     "end_time": "2022-09-23T13:05:02.400331Z",
     "start_time": "2022-09-23T13:05:02.364428Z"
    }
   },
   "outputs": [
    {
     "data": {
      "text/plain": [
       "<tf.Variable 'UnreadVariable' shape=(2, 3) dtype=int32, numpy=\n",
       "array([[ 1, 18,  3],\n",
       "       [ 4,  5,  6]])>"
      ]
     },
     "execution_count": 53,
     "metadata": {},
     "output_type": "execute_result"
    }
   ],
   "source": [
    "# 变量的赋值, 只能通过assign方法去赋值. \n",
    "v[0, 1].assign(18)"
   ]
  },
  {
   "cell_type": "markdown",
   "id": "7c8bf70c",
   "metadata": {},
   "source": [
    "### tensorflow的运算"
   ]
  },
  {
   "cell_type": "code",
   "execution_count": 55,
   "id": "c3f23066",
   "metadata": {
    "ExecuteTime": {
     "end_time": "2022-09-23T13:17:26.760758Z",
     "start_time": "2022-09-23T13:17:26.751782Z"
    }
   },
   "outputs": [],
   "source": [
    "# +-*/ 矩阵乘法 \n",
    "# 有两种写法, 一种就是使用数学符号, 一种是使用tensorflow提供的api\n",
    "a = tf.constant(2)\n",
    "b = tf.constant(3)\n",
    "c = tf.constant(5)"
   ]
  },
  {
   "cell_type": "code",
   "execution_count": 56,
   "id": "2e9e5f10",
   "metadata": {
    "ExecuteTime": {
     "end_time": "2022-09-23T13:17:37.827159Z",
     "start_time": "2022-09-23T13:17:37.815189Z"
    }
   },
   "outputs": [
    {
     "data": {
      "text/plain": [
       "<tf.Tensor: shape=(), dtype=int32, numpy=5>"
      ]
     },
     "execution_count": 56,
     "metadata": {},
     "output_type": "execute_result"
    }
   ],
   "source": [
    "a + b # 2 + 3"
   ]
  },
  {
   "cell_type": "code",
   "execution_count": 57,
   "id": "6aa4552f",
   "metadata": {
    "ExecuteTime": {
     "end_time": "2022-09-23T13:18:08.571918Z",
     "start_time": "2022-09-23T13:18:08.551971Z"
    }
   },
   "outputs": [
    {
     "data": {
      "text/plain": [
       "<tf.Tensor: shape=(), dtype=int32, numpy=-1>"
      ]
     },
     "execution_count": 57,
     "metadata": {},
     "output_type": "execute_result"
    }
   ],
   "source": [
    "a - b"
   ]
  },
  {
   "cell_type": "code",
   "execution_count": 61,
   "id": "30052aac",
   "metadata": {
    "ExecuteTime": {
     "end_time": "2022-09-23T13:18:51.213856Z",
     "start_time": "2022-09-23T13:18:51.166981Z"
    }
   },
   "outputs": [
    {
     "data": {
      "text/plain": [
       "<tf.Tensor: shape=(), dtype=float64, numpy=0.6666666666666666>"
      ]
     },
     "execution_count": 61,
     "metadata": {},
     "output_type": "execute_result"
    }
   ],
   "source": [
    "tf.add(a, b)\n",
    "tf.subtract(a, b)\n",
    "tf.multiply(a, b)\n",
    "tf.divide(a, b)"
   ]
  },
  {
   "cell_type": "code",
   "execution_count": 62,
   "id": "13680bed",
   "metadata": {
    "ExecuteTime": {
     "end_time": "2022-09-23T13:20:12.651021Z",
     "start_time": "2022-09-23T13:20:12.640050Z"
    }
   },
   "outputs": [],
   "source": [
    "a = tf.constant(np.random.randint(0, 10, size=(3, 4)))\n",
    "b = tf.constant(np.random.randint(0, 10, size=(4, 5)))"
   ]
  },
  {
   "cell_type": "code",
   "execution_count": 63,
   "id": "e6a9b9d8",
   "metadata": {
    "ExecuteTime": {
     "end_time": "2022-09-23T13:20:36.667779Z",
     "start_time": "2022-09-23T13:20:36.638856Z"
    },
    "scrolled": true
   },
   "outputs": [
    {
     "data": {
      "text/plain": [
       "<tf.Tensor: shape=(3, 5), dtype=int32, numpy=\n",
       "array([[91, 63, 54, 80, 58],\n",
       "       [96, 49, 61, 86, 80],\n",
       "       [47, 40, 39, 79, 41]])>"
      ]
     },
     "execution_count": 63,
     "metadata": {},
     "output_type": "execute_result"
    }
   ],
   "source": [
    "# matrix multiply\n",
    "tf.matmul(a, b)"
   ]
  },
  {
   "cell_type": "code",
   "execution_count": 64,
   "id": "470f68a3",
   "metadata": {
    "ExecuteTime": {
     "end_time": "2022-09-23T13:20:47.326268Z",
     "start_time": "2022-09-23T13:20:47.318290Z"
    },
    "scrolled": true
   },
   "outputs": [
    {
     "data": {
      "text/plain": [
       "<tf.Tensor: shape=(3, 5), dtype=int32, numpy=\n",
       "array([[91, 63, 54, 80, 58],\n",
       "       [96, 49, 61, 86, 80],\n",
       "       [47, 40, 39, 79, 41]])>"
      ]
     },
     "execution_count": 64,
     "metadata": {},
     "output_type": "execute_result"
    }
   ],
   "source": [
    "a @ b"
   ]
  },
  {
   "cell_type": "code",
   "execution_count": 65,
   "id": "12e1b9b0",
   "metadata": {
    "ExecuteTime": {
     "end_time": "2022-09-23T13:21:13.744602Z",
     "start_time": "2022-09-23T13:21:13.720666Z"
    },
    "collapsed": true
   },
   "outputs": [
    {
     "ename": "AttributeError",
     "evalue": "'tensorflow.python.framework.ops.EagerTensor' object has no attribute 'dot'",
     "output_type": "error",
     "traceback": [
      "\u001b[1;31m---------------------------------------------------------------------------\u001b[0m",
      "\u001b[1;31mAttributeError\u001b[0m                            Traceback (most recent call last)",
      "\u001b[1;32m~\\AppData\\Local\\Temp\\ipykernel_120572\\999115207.py\u001b[0m in \u001b[0;36m<module>\u001b[1;34m\u001b[0m\n\u001b[1;32m----> 1\u001b[1;33m \u001b[0ma\u001b[0m\u001b[1;33m.\u001b[0m\u001b[0mdot\u001b[0m\u001b[1;33m(\u001b[0m\u001b[0mb\u001b[0m\u001b[1;33m)\u001b[0m\u001b[1;33m\u001b[0m\u001b[1;33m\u001b[0m\u001b[0m\n\u001b[0m",
      "\u001b[1;32mD:\\.venv\\lib\\site-packages\\tensorflow\\python\\framework\\ops.py\u001b[0m in \u001b[0;36m__getattr__\u001b[1;34m(self, name)\u001b[0m\n\u001b[0;32m    444\u001b[0m         \u001b[0mnp_config\u001b[0m\u001b[1;33m.\u001b[0m\u001b[0menable_numpy_behavior\u001b[0m\u001b[1;33m(\u001b[0m\u001b[1;33m)\u001b[0m\u001b[1;33m\u001b[0m\u001b[1;33m\u001b[0m\u001b[0m\n\u001b[0;32m    445\u001b[0m       \"\"\")\n\u001b[1;32m--> 446\u001b[1;33m     \u001b[0mself\u001b[0m\u001b[1;33m.\u001b[0m\u001b[0m__getattribute__\u001b[0m\u001b[1;33m(\u001b[0m\u001b[0mname\u001b[0m\u001b[1;33m)\u001b[0m\u001b[1;33m\u001b[0m\u001b[1;33m\u001b[0m\u001b[0m\n\u001b[0m\u001b[0;32m    447\u001b[0m \u001b[1;33m\u001b[0m\u001b[0m\n\u001b[0;32m    448\u001b[0m   \u001b[1;33m@\u001b[0m\u001b[0mstaticmethod\u001b[0m\u001b[1;33m\u001b[0m\u001b[1;33m\u001b[0m\u001b[0m\n",
      "\u001b[1;31mAttributeError\u001b[0m: 'tensorflow.python.framework.ops.EagerTensor' object has no attribute 'dot'"
     ]
    }
   ],
   "source": [
    "# tensorflow中的tensor没有dot方法. \n",
    "a.dot(b)"
   ]
  },
  {
   "cell_type": "code",
   "execution_count": 66,
   "id": "09256874",
   "metadata": {
    "ExecuteTime": {
     "end_time": "2022-09-23T13:22:30.740646Z",
     "start_time": "2022-09-23T13:22:30.720700Z"
    },
    "scrolled": true
   },
   "outputs": [
    {
     "data": {
      "text/plain": [
       "array([[6, 4, 3, 2, 9],\n",
       "       [5, 9, 7, 8, 1],\n",
       "       [8, 2, 9, 3, 0],\n",
       "       [4, 4, 0, 0, 0]])"
      ]
     },
     "execution_count": 66,
     "metadata": {},
     "output_type": "execute_result"
    }
   ],
   "source": [
    "# 聚合运算. \n",
    "n = np.random.randint(0, 10, size=(4, 5))\n",
    "n"
   ]
  },
  {
   "cell_type": "code",
   "execution_count": 67,
   "id": "cc3d3df6",
   "metadata": {
    "ExecuteTime": {
     "end_time": "2022-09-23T13:22:41.216626Z",
     "start_time": "2022-09-23T13:22:41.199670Z"
    }
   },
   "outputs": [
    {
     "data": {
      "text/plain": [
       "84"
      ]
     },
     "execution_count": 67,
     "metadata": {},
     "output_type": "execute_result"
    }
   ],
   "source": [
    "# 不指定维度, 会聚合成一个标量\n",
    "n.sum()"
   ]
  },
  {
   "cell_type": "code",
   "execution_count": 68,
   "id": "4433c9ed",
   "metadata": {
    "ExecuteTime": {
     "end_time": "2022-09-23T13:22:58.351790Z",
     "start_time": "2022-09-23T13:22:58.334835Z"
    }
   },
   "outputs": [
    {
     "data": {
      "text/plain": [
       "array([23, 19, 19, 13, 10])"
      ]
     },
     "execution_count": 68,
     "metadata": {},
     "output_type": "execute_result"
    }
   ],
   "source": [
    "# 对哪个维度进行聚合, 哪个维度就消失了. \n",
    "n.sum(axis=0)"
   ]
  },
  {
   "cell_type": "code",
   "execution_count": 69,
   "id": "34de4302",
   "metadata": {
    "ExecuteTime": {
     "end_time": "2022-09-23T13:23:57.102638Z",
     "start_time": "2022-09-23T13:23:57.095657Z"
    }
   },
   "outputs": [
    {
     "data": {
      "text/plain": [
       "array([24, 30, 22,  8])"
      ]
     },
     "execution_count": 69,
     "metadata": {},
     "output_type": "execute_result"
    }
   ],
   "source": [
    "n.sum(axis=1)"
   ]
  },
  {
   "cell_type": "code",
   "execution_count": 70,
   "id": "031a2067",
   "metadata": {
    "ExecuteTime": {
     "end_time": "2022-09-23T13:25:03.448171Z",
     "start_time": "2022-09-23T13:25:03.408278Z"
    }
   },
   "outputs": [
    {
     "data": {
      "text/plain": [
       "<tf.Tensor: shape=(), dtype=int32, numpy=84>"
      ]
     },
     "execution_count": 70,
     "metadata": {},
     "output_type": "execute_result"
    }
   ],
   "source": [
    "# tensorflow中的聚合函数, 都有一个名字reduce_sum/max/min\n",
    "# 不指定维度, 也会聚合成一个标量. \n",
    "tf.reduce_sum(n)"
   ]
  },
  {
   "cell_type": "code",
   "execution_count": 71,
   "id": "eaa5605b",
   "metadata": {
    "ExecuteTime": {
     "end_time": "2022-09-23T13:25:57.036827Z",
     "start_time": "2022-09-23T13:25:56.967014Z"
    }
   },
   "outputs": [
    {
     "data": {
      "text/plain": [
       "<tf.Tensor: shape=(5,), dtype=int32, numpy=array([23, 19, 19, 13, 10])>"
      ]
     },
     "execution_count": 71,
     "metadata": {},
     "output_type": "execute_result"
    }
   ],
   "source": [
    "tf.reduce_sum(n, axis=0)"
   ]
  },
  {
   "cell_type": "code",
   "execution_count": 72,
   "id": "641ff805",
   "metadata": {
    "ExecuteTime": {
     "end_time": "2022-09-23T13:26:05.169075Z",
     "start_time": "2022-09-23T13:26:05.160099Z"
    }
   },
   "outputs": [
    {
     "data": {
      "text/plain": [
       "<tf.Tensor: shape=(4,), dtype=int32, numpy=array([24, 30, 22,  8])>"
      ]
     },
     "execution_count": 72,
     "metadata": {},
     "output_type": "execute_result"
    }
   ],
   "source": [
    "tf.reduce_sum(n, axis=1)"
   ]
  },
  {
   "cell_type": "code",
   "execution_count": null,
   "id": "cf5f27de",
   "metadata": {},
   "outputs": [],
   "source": [
    "tf.reduce_"
   ]
  },
  {
   "cell_type": "markdown",
   "id": "04372bbc",
   "metadata": {},
   "source": [
    "### 使用tensorflow实现线性回归"
   ]
  },
  {
   "cell_type": "code",
   "execution_count": null,
   "id": "ce6771b9",
   "metadata": {},
   "outputs": [],
   "source": [
    "# 自己实现算法要分三步:\n",
    "1. 找到算法的预测函数: y = wx + b\n",
    "2. 找到算法的损失函数: 最小二乘法. \n",
    "3. 使用梯度下降求损失最小的时候的参数(w, b)"
   ]
  },
  {
   "cell_type": "code",
   "execution_count": 73,
   "id": "0c323b5d",
   "metadata": {
    "ExecuteTime": {
     "end_time": "2022-09-23T13:29:10.281932Z",
     "start_time": "2022-09-23T13:29:08.839792Z"
    }
   },
   "outputs": [],
   "source": [
    "import matplotlib.pyplot as plt"
   ]
  },
  {
   "cell_type": "code",
   "execution_count": 81,
   "id": "9238bc84",
   "metadata": {
    "ExecuteTime": {
     "end_time": "2022-09-23T13:29:48.997372Z",
     "start_time": "2022-09-23T13:29:48.902626Z"
    },
    "scrolled": true
   },
   "outputs": [
    {
     "data": {
      "text/plain": [
       "<matplotlib.collections.PathCollection at 0x1ffea0db948>"
      ]
     },
     "execution_count": 81,
     "metadata": {},
     "output_type": "execute_result"
    },
    {
     "data": {
      "image/png": "[encoded data removed]",
      "text/plain": [
       "<Figure size 432x288 with 1 Axes>"
      ]
     },
     "metadata": {
      "needs_background": "light"
     },
     "output_type": "display_data"
    }
   ],
   "source": [
    "# 创建\n",
    "x = np.linspace(0, 10, 20) + np.random.randn(20)\n",
    "y = np.linspace(0, 10, 20) + np.random.randn(20)\n",
    "plt.scatter(x, y)"
   ]
  },
  {
   "cell_type": "code",
   "execution_count": 82,
   "id": "ee479919",
   "metadata": {
    "ExecuteTime": {
     "end_time": "2022-09-23T13:30:16.150740Z",
     "start_time": "2022-09-23T13:30:14.183004Z"
    }
   },
   "outputs": [],
   "source": [
    "from sklearn.linear_model import LinearRegression"
   ]
  },
  {
   "cell_type": "code",
   "execution_count": 83,
   "id": "6b03a940",
   "metadata": {
    "ExecuteTime": {
     "end_time": "2022-09-23T13:30:42.079385Z",
     "start_time": "2022-09-23T13:30:41.998600Z"
    }
   },
   "outputs": [
    {
     "data": {
      "text/plain": [
       "LinearRegression(copy_X=True, fit_intercept=True, n_jobs=None, normalize=False)"
      ]
     },
     "execution_count": 83,
     "metadata": {},
     "output_type": "execute_result"
    }
   ],
   "source": [
    "linear = LinearRegression()\n",
    "linear.fit(x.reshape(-1, 1), y)"
   ]
  },
  {
   "cell_type": "code",
   "execution_count": 84,
   "id": "c96d51a5",
   "metadata": {
    "ExecuteTime": {
     "end_time": "2022-09-23T13:30:48.206993Z",
     "start_time": "2022-09-23T13:30:48.191036Z"
    }
   },
   "outputs": [
    {
     "data": {
      "text/plain": [
       "array([0.98080784])"
      ]
     },
     "execution_count": 84,
     "metadata": {},
     "output_type": "execute_result"
    }
   ],
   "source": [
    "linear.coef_"
   ]
  },
  {
   "cell_type": "code",
   "execution_count": 85,
   "id": "a4f1ef76",
   "metadata": {
    "ExecuteTime": {
     "end_time": "2022-09-23T13:30:55.115514Z",
     "start_time": "2022-09-23T13:30:55.110527Z"
    },
    "scrolled": true
   },
   "outputs": [
    {
     "data": {
      "text/plain": [
       "0.18804668820748205"
      ]
     },
     "execution_count": 85,
     "metadata": {},
     "output_type": "execute_result"
    }
   ],
   "source": [
    "linear.intercept_"
   ]
  },
  {
   "cell_type": "code",
   "execution_count": 86,
   "id": "ffded1f1",
   "metadata": {
    "ExecuteTime": {
     "end_time": "2022-09-23T13:32:10.273475Z",
     "start_time": "2022-09-23T13:32:10.174739Z"
    },
    "scrolled": true
   },
   "outputs": [
    {
     "data": {
      "text/plain": [
       "[<matplotlib.lines.Line2D at 0x201729ad6c8>]"
      ]
     },
     "execution_count": 86,
     "metadata": {},
     "output_type": "execute_result"
    },
    {
     "data": {
      "image/png": "[encoded data removed]",
      "text/plain": [
       "<Figure size 432x288 with 1 Axes>"
      ]
     },
     "metadata": {
      "needs_background": "light"
     },
     "output_type": "display_data"
    }
   ],
   "source": [
    "plt.scatter(x, y)\n",
    "x_test = np.linspace(0, 10, 30)\n",
    "y_test = linear.coef_[0] * x_test + linear.intercept_\n",
    "plt.plot(x_test, y_test, c='r')"
   ]
  },
  {
   "cell_type": "code",
   "execution_count": 87,
   "id": "94a96cb5",
   "metadata": {
    "ExecuteTime": {
     "end_time": "2022-09-23T13:36:54.224937Z",
     "start_time": "2022-09-23T13:36:54.206985Z"
    }
   },
   "outputs": [],
   "source": [
    "# 参数初始化\n",
    "W = tf.Variable(np.random.randn() * 0.01)\n",
    "B = tf.Variable(0.)"
   ]
  },
  {
   "cell_type": "code",
   "execution_count": 88,
   "id": "6ed1d299",
   "metadata": {
    "ExecuteTime": {
     "end_time": "2022-09-23T13:37:35.260172Z",
     "start_time": "2022-09-23T13:37:35.254188Z"
    }
   },
   "outputs": [],
   "source": [
    "# 定义预测函数\n",
    "def linear_regression(x):\n",
    "    return W * x + B"
   ]
  },
  {
   "cell_type": "code",
   "execution_count": 89,
   "id": "b7c094c2",
   "metadata": {
    "ExecuteTime": {
     "end_time": "2022-09-23T13:38:44.604683Z",
     "start_time": "2022-09-23T13:38:44.590721Z"
    }
   },
   "outputs": [],
   "source": [
    "# 定义损失函数\n",
    "# 最小二乘法\n",
    "def mean_square_loss(y_pred, y_true):\n",
    "    return tf.reduce_mean(tf.square(y_pred - y_true))"
   ]
  },
  {
   "cell_type": "code",
   "execution_count": 90,
   "id": "448186ac",
   "metadata": {
    "ExecuteTime": {
     "end_time": "2022-09-23T13:40:31.057933Z",
     "start_time": "2022-09-23T13:40:31.046962Z"
    }
   },
   "outputs": [],
   "source": [
    "# 定义优化器\n",
    "optimizer = tf.optimizers.SGD()"
   ]
  },
  {
   "cell_type": "code",
   "execution_count": 91,
   "id": "cea6b6e5",
   "metadata": {
    "ExecuteTime": {
     "end_time": "2022-09-23T13:47:27.982017Z",
     "start_time": "2022-09-23T13:47:27.966060Z"
    }
   },
   "outputs": [],
   "source": [
    "# 定义优化过程\n",
    "def run_optimization():\n",
    "    # tensorflow通过梯度带(GradientTape)去跟踪变量的梯度, 实现自动微分. \n",
    "    with tf.GradientTape() as g:\n",
    "        pred = linear_regression(x)\n",
    "        loss = mean_square_loss(pred, y)\n",
    "    \n",
    "    # 计算梯度\n",
    "    gradients = g.gradient(loss, [W, B])\n",
    "    \n",
    "    # 更新梯度\n",
    "    optimizer.apply_gradients(zip(gradients, [W, B]))"
   ]
  },
  {
   "cell_type": "code",
   "execution_count": 93,
   "id": "5e67751d",
   "metadata": {
    "ExecuteTime": {
     "end_time": "2022-09-23T13:49:52.793185Z",
     "start_time": "2022-09-23T13:49:35.117957Z"
    },
    "scrolled": true
   },
   "outputs": [
    {
     "name": "stdout",
     "output_type": "stream",
     "text": [
      "step: 1, loss: 2.405714273452759, W: 0.8760782480239868, B:0.13314484059810638\n",
      "step: 101, loss: 1.9896347522735596, W: 0.984198272228241, B:0.1655721515417099\n",
      "step: 201, loss: 1.9895451068878174, W: 0.9828008413314819, B:0.17483532428741455\n",
      "step: 301, loss: 1.9895139932632446, W: 0.9819793701171875, B:0.18028059601783752\n",
      "step: 401, loss: 1.9895036220550537, W: 0.9814965128898621, B:0.18348146975040436\n",
      "step: 501, loss: 1.9895000457763672, W: 0.9812126755714417, B:0.18536308407783508\n",
      "step: 601, loss: 1.9894987344741821, W: 0.9810458421707153, B:0.186469167470932\n",
      "step: 701, loss: 1.9894983768463135, W: 0.9809476733207703, B:0.18711943924427032\n",
      "step: 801, loss: 1.9894979000091553, W: 0.9808900356292725, B:0.18750162422657013\n",
      "step: 901, loss: 1.9894979000091553, W: 0.98085618019104, B:0.18772631883621216\n",
      "step: 1001, loss: 1.9894981384277344, W: 0.9808362722396851, B:0.18785835802555084\n",
      "step: 1101, loss: 1.9894981384277344, W: 0.9808245301246643, B:0.18793600797653198\n",
      "step: 1201, loss: 1.9894979000091553, W: 0.9808176159858704, B:0.18798165023326874\n",
      "step: 1301, loss: 1.9894977807998657, W: 0.9808135628700256, B:0.18800851702690125\n",
      "step: 1401, loss: 1.9894979000091553, W: 0.9808112382888794, B:0.18802420794963837\n",
      "step: 1501, loss: 1.9894979000091553, W: 0.9808098673820496, B:0.18803347647190094\n",
      "step: 1601, loss: 1.9894979000091553, W: 0.9808090329170227, B:0.18803881108760834\n",
      "step: 1701, loss: 1.9894979000091553, W: 0.9808085560798645, B:0.18804194033145905\n",
      "step: 1801, loss: 1.9894981384277344, W: 0.9808083176612854, B:0.18804369866847992\n",
      "step: 1901, loss: 1.9894981384277344, W: 0.9808081984519958, B:0.18804460763931274\n",
      "step: 2001, loss: 1.9894981384277344, W: 0.9808081984519958, B:0.18804460763931274\n",
      "step: 2101, loss: 1.9894981384277344, W: 0.9808081984519958, B:0.18804460763931274\n",
      "step: 2201, loss: 1.9894981384277344, W: 0.9808081984519958, B:0.18804460763931274\n",
      "step: 2301, loss: 1.9894981384277344, W: 0.9808081984519958, B:0.18804460763931274\n",
      "step: 2401, loss: 1.9894981384277344, W: 0.9808081984519958, B:0.18804460763931274\n",
      "step: 2501, loss: 1.9894981384277344, W: 0.9808081984519958, B:0.18804460763931274\n",
      "step: 2601, loss: 1.9894981384277344, W: 0.9808081984519958, B:0.18804460763931274\n",
      "step: 2701, loss: 1.9894981384277344, W: 0.9808081984519958, B:0.18804460763931274\n",
      "step: 2801, loss: 1.9894981384277344, W: 0.9808081984519958, B:0.18804460763931274\n",
      "step: 2901, loss: 1.9894981384277344, W: 0.9808081984519958, B:0.18804460763931274\n",
      "step: 3001, loss: 1.9894981384277344, W: 0.9808081984519958, B:0.18804460763931274\n",
      "step: 3101, loss: 1.9894981384277344, W: 0.9808081984519958, B:0.18804460763931274\n",
      "step: 3201, loss: 1.9894981384277344, W: 0.9808081984519958, B:0.18804460763931274\n",
      "step: 3301, loss: 1.9894981384277344, W: 0.9808081984519958, B:0.18804460763931274\n",
      "step: 3401, loss: 1.9894981384277344, W: 0.9808081984519958, B:0.18804460763931274\n",
      "step: 3501, loss: 1.9894981384277344, W: 0.9808081984519958, B:0.18804460763931274\n",
      "step: 3601, loss: 1.9894981384277344, W: 0.9808081984519958, B:0.18804460763931274\n",
      "step: 3701, loss: 1.9894981384277344, W: 0.9808081984519958, B:0.18804460763931274\n",
      "step: 3801, loss: 1.9894981384277344, W: 0.9808081984519958, B:0.18804460763931274\n",
      "step: 3901, loss: 1.9894981384277344, W: 0.9808081984519958, B:0.18804460763931274\n",
      "step: 4001, loss: 1.9894981384277344, W: 0.9808081984519958, B:0.18804460763931274\n",
      "step: 4101, loss: 1.9894981384277344, W: 0.9808081984519958, B:0.18804460763931274\n",
      "step: 4201, loss: 1.9894981384277344, W: 0.9808081984519958, B:0.18804460763931274\n",
      "step: 4301, loss: 1.9894981384277344, W: 0.9808081984519958, B:0.18804460763931274\n",
      "step: 4401, loss: 1.9894981384277344, W: 0.9808081984519958, B:0.18804460763931274\n",
      "step: 4501, loss: 1.9894981384277344, W: 0.9808081984519958, B:0.18804460763931274\n",
      "step: 4601, loss: 1.9894981384277344, W: 0.9808081984519958, B:0.18804460763931274\n",
      "step: 4701, loss: 1.9894981384277344, W: 0.9808081984519958, B:0.18804460763931274\n",
      "step: 4801, loss: 1.9894981384277344, W: 0.9808081984519958, B:0.18804460763931274\n",
      "step: 4901, loss: 1.9894981384277344, W: 0.9808081984519958, B:0.18804460763931274\n"
     ]
    }
   ],
   "source": [
    "# 训练过程\n",
    "epochs = 5000\n",
    "for epoch in range(epochs):\n",
    "    run_optimization()\n",
    "    \n",
    "    if epoch % 100 == 0:\n",
    "        pred = linear_regression(x)\n",
    "        loss = mean_square_loss(pred, y)\n",
    "        print(f'step: {epoch + 1}, loss: {loss}, W: {W.numpy()}, B:{B.numpy()}')"
   ]
  },
  {
   "cell_type": "code",
   "execution_count": 94,
   "id": "681e5aac",
   "metadata": {
    "ExecuteTime": {
     "end_time": "2022-09-23T13:50:00.433746Z",
     "start_time": "2022-09-23T13:50:00.420781Z"
    }
   },
   "outputs": [
    {
     "data": {
      "text/plain": [
       "0.9808082"
      ]
     },
     "execution_count": 94,
     "metadata": {},
     "output_type": "execute_result"
    }
   ],
   "source": [
    "W.numpy()"
   ]
  },
  {
   "cell_type": "code",
   "execution_count": 95,
   "id": "6225634d",
   "metadata": {
    "ExecuteTime": {
     "end_time": "2022-09-23T13:50:03.595290Z",
     "start_time": "2022-09-23T13:50:03.588308Z"
    }
   },
   "outputs": [
    {
     "data": {
      "text/plain": [
       "0.18804461"
      ]
     },
     "execution_count": 95,
     "metadata": {},
     "output_type": "execute_result"
    }
   ],
   "source": [
    "B.numpy()"
   ]
  },
  {
   "cell_type": "code",
   "execution_count": 96,
   "id": "19c27504",
   "metadata": {
    "ExecuteTime": {
     "end_time": "2022-09-23T13:50:08.956457Z",
     "start_time": "2022-09-23T13:50:08.941496Z"
    }
   },
   "outputs": [
    {
     "data": {
      "text/plain": [
       "array([0.98080784])"
      ]
     },
     "execution_count": 96,
     "metadata": {},
     "output_type": "execute_result"
    }
   ],
   "source": [
    "linear.coef_"
   ]
  },
  {
   "cell_type": "code",
   "execution_count": 97,
   "id": "34cc382e",
   "metadata": {
    "ExecuteTime": {
     "end_time": "2022-09-23T13:50:16.192606Z",
     "start_time": "2022-09-23T13:50:16.173657Z"
    }
   },
   "outputs": [
    {
     "data": {
      "text/plain": [
       "0.18804668820748205"
      ]
     },
     "execution_count": 97,
     "metadata": {},
     "output_type": "execute_result"
    }
   ],
   "source": [
    "linear.intercept_"
   ]
  }
 ],
 "metadata": {
  "kernelspec": {
   "display_name": "Python 3 (ipykernel)",
   "language": "python",
   "name": "python3"
  },
  "language_info": {
   "codemirror_mode": {
    "name": "ipython",
    "version": 3
   },
   "file_extension": ".py",
   "mimetype": "text/x-python",
   "name": "python",
   "nbconvert_exporter": "python",
   "pygments_lexer": "ipython3",
   "version": "3.7.8"
  },
  "toc": {
   "base_numbering": 1,
   "nav_menu": {},
   "number_sections": true,
   "sideBar": true,
   "skip_h1_title": false,
   "title_cell": "Table of Contents",
   "title_sidebar": "Contents",
   "toc_cell": false,
   "toc_position": {},
   "toc_section_display": true,
   "toc_window_display": false
  }
 },
 "nbformat": 4,
 "nbformat_minor": 5
}
