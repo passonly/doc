{
 "cells": [
  {
   "cell_type": "code",
   "execution_count": 1,
   "id": "5bd8cf2e",
   "metadata": {
    "ExecuteTime": {
     "end_time": "2022-10-17T13:27:17.717678Z",
     "start_time": "2022-10-17T13:27:09.890615Z"
    }
   },
   "outputs": [],
   "source": [
    "import tensorflow as tf\n",
    "import numpy as np\n",
    "import pandas as pd\n",
    "import matplotlib.pyplot as plt"
   ]
  },
  {
   "cell_type": "code",
   "execution_count": 2,
   "id": "4eae9c5a",
   "metadata": {
    "ExecuteTime": {
     "end_time": "2022-10-17T13:32:15.783486Z",
     "start_time": "2022-10-17T13:32:13.195408Z"
    }
   },
   "outputs": [],
   "source": [
    "# tf.data\n",
    "dataset = tf.data.Dataset.from_tensor_slices(np.arange(10))"
   ]
  },
  {
   "cell_type": "code",
   "execution_count": 3,
   "id": "c2e26bae",
   "metadata": {
    "ExecuteTime": {
     "end_time": "2022-10-17T13:32:17.514856Z",
     "start_time": "2022-10-17T13:32:17.501890Z"
    }
   },
   "outputs": [
    {
     "data": {
      "text/plain": [
       "<TensorSliceDataset element_spec=TensorSpec(shape=(), dtype=tf.int32, name=None)>"
      ]
     },
     "execution_count": 3,
     "metadata": {},
     "output_type": "execute_result"
    }
   ],
   "source": [
    "dataset"
   ]
  },
  {
   "cell_type": "code",
   "execution_count": 4,
   "id": "a9e19ecf",
   "metadata": {
    "ExecuteTime": {
     "end_time": "2022-10-17T13:33:46.328305Z",
     "start_time": "2022-10-17T13:33:46.270460Z"
    },
    "scrolled": true
   },
   "outputs": [
    {
     "name": "stdout",
     "output_type": "stream",
     "text": [
      "tf.Tensor(0, shape=(), dtype=int32)\n",
      "tf.Tensor(1, shape=(), dtype=int32)\n",
      "tf.Tensor(2, shape=(), dtype=int32)\n",
      "tf.Tensor(3, shape=(), dtype=int32)\n",
      "tf.Tensor(4, shape=(), dtype=int32)\n",
      "tf.Tensor(5, shape=(), dtype=int32)\n",
      "tf.Tensor(6, shape=(), dtype=int32)\n",
      "tf.Tensor(7, shape=(), dtype=int32)\n",
      "tf.Tensor(8, shape=(), dtype=int32)\n",
      "tf.Tensor(9, shape=(), dtype=int32)\n"
     ]
    }
   ],
   "source": [
    "# 创建数据集最基础的使用就是从dataset中方便的拿数据. \n",
    "for item in dataset:\n",
    "    print(item)"
   ]
  },
  {
   "cell_type": "code",
   "execution_count": 8,
   "id": "39d896bb",
   "metadata": {
    "ExecuteTime": {
     "end_time": "2022-10-17T13:35:16.299171Z",
     "start_time": "2022-10-17T13:35:16.286204Z"
    }
   },
   "outputs": [],
   "source": [
    "# 让数据集中的数据, 重复N次\n",
    "dataset = dataset.repeat(3)"
   ]
  },
  {
   "cell_type": "code",
   "execution_count": 9,
   "id": "a0c9183f",
   "metadata": {
    "ExecuteTime": {
     "end_time": "2022-10-17T13:35:18.313783Z",
     "start_time": "2022-10-17T13:35:18.293835Z"
    },
    "collapsed": true
   },
   "outputs": [
    {
     "name": "stdout",
     "output_type": "stream",
     "text": [
      "tf.Tensor(0, shape=(), dtype=int32)\n",
      "tf.Tensor(1, shape=(), dtype=int32)\n",
      "tf.Tensor(2, shape=(), dtype=int32)\n",
      "tf.Tensor(3, shape=(), dtype=int32)\n",
      "tf.Tensor(4, shape=(), dtype=int32)\n",
      "tf.Tensor(5, shape=(), dtype=int32)\n",
      "tf.Tensor(6, shape=(), dtype=int32)\n",
      "tf.Tensor(7, shape=(), dtype=int32)\n",
      "tf.Tensor(8, shape=(), dtype=int32)\n",
      "tf.Tensor(9, shape=(), dtype=int32)\n",
      "tf.Tensor(0, shape=(), dtype=int32)\n",
      "tf.Tensor(1, shape=(), dtype=int32)\n",
      "tf.Tensor(2, shape=(), dtype=int32)\n",
      "tf.Tensor(3, shape=(), dtype=int32)\n",
      "tf.Tensor(4, shape=(), dtype=int32)\n",
      "tf.Tensor(5, shape=(), dtype=int32)\n",
      "tf.Tensor(6, shape=(), dtype=int32)\n",
      "tf.Tensor(7, shape=(), dtype=int32)\n",
      "tf.Tensor(8, shape=(), dtype=int32)\n",
      "tf.Tensor(9, shape=(), dtype=int32)\n",
      "tf.Tensor(0, shape=(), dtype=int32)\n",
      "tf.Tensor(1, shape=(), dtype=int32)\n",
      "tf.Tensor(2, shape=(), dtype=int32)\n",
      "tf.Tensor(3, shape=(), dtype=int32)\n",
      "tf.Tensor(4, shape=(), dtype=int32)\n",
      "tf.Tensor(5, shape=(), dtype=int32)\n",
      "tf.Tensor(6, shape=(), dtype=int32)\n",
      "tf.Tensor(7, shape=(), dtype=int32)\n",
      "tf.Tensor(8, shape=(), dtype=int32)\n",
      "tf.Tensor(9, shape=(), dtype=int32)\n"
     ]
    }
   ],
   "source": [
    "for item in dataset:\n",
    "    print(item)"
   ]
  },
  {
   "cell_type": "code",
   "execution_count": 11,
   "id": "57ec52ea",
   "metadata": {
    "ExecuteTime": {
     "end_time": "2022-10-17T13:36:22.676629Z",
     "start_time": "2022-10-17T13:36:22.645712Z"
    },
    "collapsed": true
   },
   "outputs": [
    {
     "name": "stdout",
     "output_type": "stream",
     "text": [
      "tf.Tensor([0 1 2 3 4 5 6], shape=(7,), dtype=int32)\n",
      "tf.Tensor([7 8 9 0 1 2 3], shape=(7,), dtype=int32)\n",
      "tf.Tensor([4 5 6 7 8 9 0], shape=(7,), dtype=int32)\n",
      "tf.Tensor([1 2 3 4 5 6 7], shape=(7,), dtype=int32)\n",
      "tf.Tensor([8 9 0 1 2 3 4], shape=(7,), dtype=int32)\n",
      "tf.Tensor([5 6 7 8 9 0 1], shape=(7,), dtype=int32)\n",
      "tf.Tensor([2 3 4 5 6 7 8], shape=(7,), dtype=int32)\n",
      "tf.Tensor([9 0 1 2 3 4 5], shape=(7,), dtype=int32)\n",
      "tf.Tensor([6 7 8 9 0 1 2], shape=(7,), dtype=int32)\n",
      "tf.Tensor([3 4 5 6 7 8 9], shape=(7,), dtype=int32)\n",
      "tf.Tensor([0 1 2 3 4 5 6], shape=(7,), dtype=int32)\n",
      "tf.Tensor([7 8 9 0 1 2 3], shape=(7,), dtype=int32)\n",
      "tf.Tensor([4 5 6 7 8 9], shape=(6,), dtype=int32)\n"
     ]
    }
   ],
   "source": [
    "# batch就是从dataset中取一批数据的意思. \n",
    "dataset = dataset.repeat(3).batch(7)\n",
    "for batch in dataset:\n",
    "    print(batch)"
   ]
  },
  {
   "cell_type": "code",
   "execution_count": 12,
   "id": "4cc586a4",
   "metadata": {
    "ExecuteTime": {
     "end_time": "2022-10-17T13:39:58.954150Z",
     "start_time": "2022-10-17T13:39:58.941184Z"
    }
   },
   "outputs": [],
   "source": [
    "# 从元组创建dataset (x, y)\n",
    "x = np.array([[1, 2], [3, 4], [5, 6]])\n",
    "y = np.array(['cat', 'dog', 'frog'])\n",
    "dataset = tf.data.Dataset.from_tensor_slices((x, y))"
   ]
  },
  {
   "cell_type": "code",
   "execution_count": 15,
   "id": "69df8170",
   "metadata": {
    "ExecuteTime": {
     "end_time": "2022-10-17T13:40:46.044704Z",
     "start_time": "2022-10-17T13:40:46.036725Z"
    },
    "scrolled": true
   },
   "outputs": [
    {
     "name": "stdout",
     "output_type": "stream",
     "text": [
      "[1 2] cat\n",
      "[3 4] dog\n",
      "[5 6] frog\n"
     ]
    }
   ],
   "source": [
    "for item_x, item_y in dataset:\n",
    "    print(item_x.numpy(), item_y.numpy().decode())"
   ]
  },
  {
   "cell_type": "code",
   "execution_count": 18,
   "id": "ed16a9d7",
   "metadata": {
    "ExecuteTime": {
     "end_time": "2022-10-17T13:42:46.026786Z",
     "start_time": "2022-10-17T13:42:46.004845Z"
    }
   },
   "outputs": [
    {
     "name": "stdout",
     "output_type": "stream",
     "text": [
      "[1 2] cat\n",
      "[3 4] dog\n",
      "[5 6] frog\n"
     ]
    }
   ],
   "source": [
    "# 从字典创建\n",
    "dataset = tf.data.Dataset.from_tensor_slices({\n",
    "    'feature': x,\n",
    "    'label': y\n",
    "})\n",
    "for item in dataset:\n",
    "    print(item['feature'].numpy(), item['label'].numpy().decode())"
   ]
  },
  {
   "cell_type": "code",
   "execution_count": 19,
   "id": "84452218",
   "metadata": {
    "ExecuteTime": {
     "end_time": "2022-10-17T13:51:44.531591Z",
     "start_time": "2022-10-17T13:51:44.475738Z"
    }
   },
   "outputs": [],
   "source": [
    "# interleave\n",
    "# tensorflow数据集最常用的一种用法: 把文件名定义成dataset --> 读文件 --> 变成具体数据集\n",
    "\n",
    "# interleave允许我们对dataset中的每一个item做一些操作. \n",
    "dataset = tf.data.Dataset.from_tensor_slices(np.arange(10))\n",
    "dataset = dataset.repeat(3).batch(7)\n",
    "dataset = dataset.interleave(lambda v: tf.data.Dataset.from_tensor_slices(v),\n",
    "                  cycle_length = 5,\n",
    "                  block_length = 5)"
   ]
  },
  {
   "cell_type": "code",
   "execution_count": 20,
   "id": "231ba42c",
   "metadata": {
    "ExecuteTime": {
     "end_time": "2022-10-17T13:51:55.111290Z",
     "start_time": "2022-10-17T13:51:55.021531Z"
    }
   },
   "outputs": [
    {
     "name": "stdout",
     "output_type": "stream",
     "text": [
      "tf.Tensor(0, shape=(), dtype=int32)\n",
      "tf.Tensor(1, shape=(), dtype=int32)\n",
      "tf.Tensor(2, shape=(), dtype=int32)\n",
      "tf.Tensor(3, shape=(), dtype=int32)\n",
      "tf.Tensor(4, shape=(), dtype=int32)\n",
      "tf.Tensor(7, shape=(), dtype=int32)\n",
      "tf.Tensor(8, shape=(), dtype=int32)\n",
      "tf.Tensor(9, shape=(), dtype=int32)\n",
      "tf.Tensor(0, shape=(), dtype=int32)\n",
      "tf.Tensor(1, shape=(), dtype=int32)\n",
      "tf.Tensor(4, shape=(), dtype=int32)\n",
      "tf.Tensor(5, shape=(), dtype=int32)\n",
      "tf.Tensor(6, shape=(), dtype=int32)\n",
      "tf.Tensor(7, shape=(), dtype=int32)\n",
      "tf.Tensor(8, shape=(), dtype=int32)\n",
      "tf.Tensor(1, shape=(), dtype=int32)\n",
      "tf.Tensor(2, shape=(), dtype=int32)\n",
      "tf.Tensor(3, shape=(), dtype=int32)\n",
      "tf.Tensor(4, shape=(), dtype=int32)\n",
      "tf.Tensor(5, shape=(), dtype=int32)\n",
      "tf.Tensor(8, shape=(), dtype=int32)\n",
      "tf.Tensor(9, shape=(), dtype=int32)\n",
      "tf.Tensor(5, shape=(), dtype=int32)\n",
      "tf.Tensor(6, shape=(), dtype=int32)\n",
      "tf.Tensor(2, shape=(), dtype=int32)\n",
      "tf.Tensor(3, shape=(), dtype=int32)\n",
      "tf.Tensor(9, shape=(), dtype=int32)\n",
      "tf.Tensor(0, shape=(), dtype=int32)\n",
      "tf.Tensor(6, shape=(), dtype=int32)\n",
      "tf.Tensor(7, shape=(), dtype=int32)\n"
     ]
    }
   ],
   "source": [
    "for item in dataset:\n",
    "    print(item)"
   ]
  }
 ],
 "metadata": {
  "kernelspec": {
   "display_name": "Python 3 (ipykernel)",
   "language": "python",
   "name": "python3"
  },
  "language_info": {
   "codemirror_mode": {
    "name": "ipython",
    "version": 3
   },
   "file_extension": ".py",
   "mimetype": "text/x-python",
   "name": "python",
   "nbconvert_exporter": "python",
   "pygments_lexer": "ipython3",
   "version": "3.7.8"
  },
  "toc": {
   "base_numbering": 1,
   "nav_menu": {},
   "number_sections": true,
   "sideBar": true,
   "skip_h1_title": false,
   "title_cell": "Table of Contents",
   "title_sidebar": "Contents",
   "toc_cell": false,
   "toc_position": {},
   "toc_section_display": true,
   "toc_window_display": false
  }
 },
 "nbformat": 4,
 "nbformat_minor": 5
}
