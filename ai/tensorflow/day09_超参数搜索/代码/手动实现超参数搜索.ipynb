{
 "cells": [
  {
   "cell_type": "code",
   "execution_count": 1,
   "id": "af484cf2",
   "metadata": {
    "ExecuteTime": {
     "end_time": "2022-10-14T12:23:55.487926Z",
     "start_time": "2022-10-14T12:23:48.302162Z"
    }
   },
   "outputs": [],
   "source": [
    "import numpy as np\n",
    "from tensorflow import keras\n"
   ]
  },
  {
   "cell_type": "code",
   "execution_count": 2,
   "id": "0e83d04e",
   "metadata": {
    "ExecuteTime": {
     "end_time": "2022-10-14T12:23:56.521160Z",
     "start_time": "2022-10-14T12:23:55.489922Z"
    }
   },
   "outputs": [],
   "source": [
    "# 回归任务的目标值是一个连续区间任意数值.比如预测股票价格, 预测房价, 预测温度值..\n",
    "from sklearn.datasets import fetch_california_housing"
   ]
  },
  {
   "cell_type": "code",
   "execution_count": 3,
   "id": "af4ed07c",
   "metadata": {
    "ExecuteTime": {
     "end_time": "2022-10-14T12:23:56.552078Z",
     "start_time": "2022-10-14T12:23:56.525151Z"
    }
   },
   "outputs": [],
   "source": [
    "housing = fetch_california_housing()"
   ]
  },
  {
   "cell_type": "code",
   "execution_count": 4,
   "id": "3da2cd76",
   "metadata": {
    "ExecuteTime": {
     "end_time": "2022-10-14T12:23:56.568035Z",
     "start_time": "2022-10-14T12:23:56.554073Z"
    }
   },
   "outputs": [
    {
     "data": {
      "text/plain": [
       "sklearn.utils.Bunch"
      ]
     },
     "execution_count": 4,
     "metadata": {},
     "output_type": "execute_result"
    }
   ],
   "source": [
    "type(housing)"
   ]
  },
  {
   "cell_type": "code",
   "execution_count": 5,
   "id": "ed203606",
   "metadata": {
    "ExecuteTime": {
     "end_time": "2022-10-14T12:23:56.583992Z",
     "start_time": "2022-10-14T12:23:56.569033Z"
    }
   },
   "outputs": [
    {
     "data": {
      "text/plain": [
       "{'data': array([[   8.3252    ,   41.        ,    6.98412698, ...,    2.55555556,\n",
       "           37.88      , -122.23      ],\n",
       "        [   8.3014    ,   21.        ,    6.23813708, ...,    2.10984183,\n",
       "           37.86      , -122.22      ],\n",
       "        [   7.2574    ,   52.        ,    8.28813559, ...,    2.80225989,\n",
       "           37.85      , -122.24      ],\n",
       "        ...,\n",
       "        [   1.7       ,   17.        ,    5.20554273, ...,    2.3256351 ,\n",
       "           39.43      , -121.22      ],\n",
       "        [   1.8672    ,   18.        ,    5.32951289, ...,    2.12320917,\n",
       "           39.43      , -121.32      ],\n",
       "        [   2.3886    ,   16.        ,    5.25471698, ...,    2.61698113,\n",
       "           39.37      , -121.24      ]]),\n",
       " 'target': array([4.526, 3.585, 3.521, ..., 0.923, 0.847, 0.894]),\n",
       " 'feature_names': ['MedInc',\n",
       "  'HouseAge',\n",
       "  'AveRooms',\n",
       "  'AveBedrms',\n",
       "  'Population',\n",
       "  'AveOccup',\n",
       "  'Latitude',\n",
       "  'Longitude'],\n",
       " 'DESCR': '.. _california_housing_dataset:\\n\\nCalifornia Housing dataset\\n--------------------------\\n\\n**Data Set Characteristics:**\\n\\n    :Number of Instances: 20640\\n\\n    :Number of Attributes: 8 numeric, predictive attributes and the target\\n\\n    :Attribute Information:\\n        - MedInc        median income in block\\n        - HouseAge      median house age in block\\n        - AveRooms      average number of rooms\\n        - AveBedrms     average number of bedrooms\\n        - Population    block population\\n        - AveOccup      average house occupancy\\n        - Latitude      house block latitude\\n        - Longitude     house block longitude\\n\\n    :Missing Attribute Values: None\\n\\nThis dataset was obtained from the StatLib repository.\\nhttp://lib.stat.cmu.edu/datasets/\\n\\nThe target variable is the median house value for California districts.\\n\\nThis dataset was derived from the 1990 U.S. census, using one row per census\\nblock group. A block group is the smallest geographical unit for which the U.S.\\nCensus Bureau publishes sample data (a block group typically has a population\\nof 600 to 3,000 people).\\n\\nIt can be downloaded/loaded using the\\n:func:`sklearn.datasets.fetch_california_housing` function.\\n\\n.. topic:: References\\n\\n    - Pace, R. Kelley and Ronald Barry, Sparse Spatial Autoregressions,\\n      Statistics and Probability Letters, 33 (1997) 291-297\\n'}"
      ]
     },
     "execution_count": 5,
     "metadata": {},
     "output_type": "execute_result"
    }
   ],
   "source": [
    "housing"
   ]
  },
  {
   "cell_type": "code",
   "execution_count": 6,
   "id": "a36f8d67",
   "metadata": {
    "ExecuteTime": {
     "end_time": "2022-10-14T12:23:56.598952Z",
     "start_time": "2022-10-14T12:23:56.585987Z"
    }
   },
   "outputs": [],
   "source": [
    "data = housing.data\n",
    "target = housing.target"
   ]
  },
  {
   "cell_type": "code",
   "execution_count": 7,
   "id": "c716762f",
   "metadata": {
    "ExecuteTime": {
     "end_time": "2022-10-14T12:23:56.613912Z",
     "start_time": "2022-10-14T12:23:56.603940Z"
    }
   },
   "outputs": [
    {
     "name": "stdout",
     "output_type": "stream",
     "text": [
      ".. _california_housing_dataset:\n",
      "\n",
      "California Housing dataset\n",
      "--------------------------\n",
      "\n",
      "**Data Set Characteristics:**\n",
      "\n",
      "    :Number of Instances: 20640\n",
      "\n",
      "    :Number of Attributes: 8 numeric, predictive attributes and the target\n",
      "\n",
      "    :Attribute Information:\n",
      "        - MedInc        median income in block\n",
      "        - HouseAge      median house age in block\n",
      "        - AveRooms      average number of rooms\n",
      "        - AveBedrms     average number of bedrooms\n",
      "        - Population    block population\n",
      "        - AveOccup      average house occupancy\n",
      "        - Latitude      house block latitude\n",
      "        - Longitude     house block longitude\n",
      "\n",
      "    :Missing Attribute Values: None\n",
      "\n",
      "This dataset was obtained from the StatLib repository.\n",
      "http://lib.stat.cmu.edu/datasets/\n",
      "\n",
      "The target variable is the median house value for California districts.\n",
      "\n",
      "This dataset was derived from the 1990 U.S. census, using one row per census\n",
      "block group. A block group is the smallest geographical unit for which the U.S.\n",
      "Census Bureau publishes sample data (a block group typically has a population\n",
      "of 600 to 3,000 people).\n",
      "\n",
      "It can be downloaded/loaded using the\n",
      ":func:`sklearn.datasets.fetch_california_housing` function.\n",
      "\n",
      ".. topic:: References\n",
      "\n",
      "    - Pace, R. Kelley and Ronald Barry, Sparse Spatial Autoregressions,\n",
      "      Statistics and Probability Letters, 33 (1997) 291-297\n",
      "\n"
     ]
    }
   ],
   "source": [
    "print(housing.DESCR)"
   ]
  },
  {
   "cell_type": "code",
   "execution_count": 8,
   "id": "315d57ca",
   "metadata": {
    "ExecuteTime": {
     "end_time": "2022-10-14T12:23:56.629869Z",
     "start_time": "2022-10-14T12:23:56.615908Z"
    }
   },
   "outputs": [],
   "source": [
    "from sklearn.datasets import load_boston"
   ]
  },
  {
   "cell_type": "code",
   "execution_count": 9,
   "id": "ad041221",
   "metadata": {
    "ExecuteTime": {
     "end_time": "2022-10-14T12:23:56.660787Z",
     "start_time": "2022-10-14T12:23:56.630867Z"
    }
   },
   "outputs": [
    {
     "data": {
      "text/plain": [
       "{'data': array([[6.3200e-03, 1.8000e+01, 2.3100e+00, ..., 1.5300e+01, 3.9690e+02,\n",
       "         4.9800e+00],\n",
       "        [2.7310e-02, 0.0000e+00, 7.0700e+00, ..., 1.7800e+01, 3.9690e+02,\n",
       "         9.1400e+00],\n",
       "        [2.7290e-02, 0.0000e+00, 7.0700e+00, ..., 1.7800e+01, 3.9283e+02,\n",
       "         4.0300e+00],\n",
       "        ...,\n",
       "        [6.0760e-02, 0.0000e+00, 1.1930e+01, ..., 2.1000e+01, 3.9690e+02,\n",
       "         5.6400e+00],\n",
       "        [1.0959e-01, 0.0000e+00, 1.1930e+01, ..., 2.1000e+01, 3.9345e+02,\n",
       "         6.4800e+00],\n",
       "        [4.7410e-02, 0.0000e+00, 1.1930e+01, ..., 2.1000e+01, 3.9690e+02,\n",
       "         7.8800e+00]]),\n",
       " 'target': array([24. , 21.6, 34.7, 33.4, 36.2, 28.7, 22.9, 27.1, 16.5, 18.9, 15. ,\n",
       "        18.9, 21.7, 20.4, 18.2, 19.9, 23.1, 17.5, 20.2, 18.2, 13.6, 19.6,\n",
       "        15.2, 14.5, 15.6, 13.9, 16.6, 14.8, 18.4, 21. , 12.7, 14.5, 13.2,\n",
       "        13.1, 13.5, 18.9, 20. , 21. , 24.7, 30.8, 34.9, 26.6, 25.3, 24.7,\n",
       "        21.2, 19.3, 20. , 16.6, 14.4, 19.4, 19.7, 20.5, 25. , 23.4, 18.9,\n",
       "        35.4, 24.7, 31.6, 23.3, 19.6, 18.7, 16. , 22.2, 25. , 33. , 23.5,\n",
       "        19.4, 22. , 17.4, 20.9, 24.2, 21.7, 22.8, 23.4, 24.1, 21.4, 20. ,\n",
       "        20.8, 21.2, 20.3, 28. , 23.9, 24.8, 22.9, 23.9, 26.6, 22.5, 22.2,\n",
       "        23.6, 28.7, 22.6, 22. , 22.9, 25. , 20.6, 28.4, 21.4, 38.7, 43.8,\n",
       "        33.2, 27.5, 26.5, 18.6, 19.3, 20.1, 19.5, 19.5, 20.4, 19.8, 19.4,\n",
       "        21.7, 22.8, 18.8, 18.7, 18.5, 18.3, 21.2, 19.2, 20.4, 19.3, 22. ,\n",
       "        20.3, 20.5, 17.3, 18.8, 21.4, 15.7, 16.2, 18. , 14.3, 19.2, 19.6,\n",
       "        23. , 18.4, 15.6, 18.1, 17.4, 17.1, 13.3, 17.8, 14. , 14.4, 13.4,\n",
       "        15.6, 11.8, 13.8, 15.6, 14.6, 17.8, 15.4, 21.5, 19.6, 15.3, 19.4,\n",
       "        17. , 15.6, 13.1, 41.3, 24.3, 23.3, 27. , 50. , 50. , 50. , 22.7,\n",
       "        25. , 50. , 23.8, 23.8, 22.3, 17.4, 19.1, 23.1, 23.6, 22.6, 29.4,\n",
       "        23.2, 24.6, 29.9, 37.2, 39.8, 36.2, 37.9, 32.5, 26.4, 29.6, 50. ,\n",
       "        32. , 29.8, 34.9, 37. , 30.5, 36.4, 31.1, 29.1, 50. , 33.3, 30.3,\n",
       "        34.6, 34.9, 32.9, 24.1, 42.3, 48.5, 50. , 22.6, 24.4, 22.5, 24.4,\n",
       "        20. , 21.7, 19.3, 22.4, 28.1, 23.7, 25. , 23.3, 28.7, 21.5, 23. ,\n",
       "        26.7, 21.7, 27.5, 30.1, 44.8, 50. , 37.6, 31.6, 46.7, 31.5, 24.3,\n",
       "        31.7, 41.7, 48.3, 29. , 24. , 25.1, 31.5, 23.7, 23.3, 22. , 20.1,\n",
       "        22.2, 23.7, 17.6, 18.5, 24.3, 20.5, 24.5, 26.2, 24.4, 24.8, 29.6,\n",
       "        42.8, 21.9, 20.9, 44. , 50. , 36. , 30.1, 33.8, 43.1, 48.8, 31. ,\n",
       "        36.5, 22.8, 30.7, 50. , 43.5, 20.7, 21.1, 25.2, 24.4, 35.2, 32.4,\n",
       "        32. , 33.2, 33.1, 29.1, 35.1, 45.4, 35.4, 46. , 50. , 32.2, 22. ,\n",
       "        20.1, 23.2, 22.3, 24.8, 28.5, 37.3, 27.9, 23.9, 21.7, 28.6, 27.1,\n",
       "        20.3, 22.5, 29. , 24.8, 22. , 26.4, 33.1, 36.1, 28.4, 33.4, 28.2,\n",
       "        22.8, 20.3, 16.1, 22.1, 19.4, 21.6, 23.8, 16.2, 17.8, 19.8, 23.1,\n",
       "        21. , 23.8, 23.1, 20.4, 18.5, 25. , 24.6, 23. , 22.2, 19.3, 22.6,\n",
       "        19.8, 17.1, 19.4, 22.2, 20.7, 21.1, 19.5, 18.5, 20.6, 19. , 18.7,\n",
       "        32.7, 16.5, 23.9, 31.2, 17.5, 17.2, 23.1, 24.5, 26.6, 22.9, 24.1,\n",
       "        18.6, 30.1, 18.2, 20.6, 17.8, 21.7, 22.7, 22.6, 25. , 19.9, 20.8,\n",
       "        16.8, 21.9, 27.5, 21.9, 23.1, 50. , 50. , 50. , 50. , 50. , 13.8,\n",
       "        13.8, 15. , 13.9, 13.3, 13.1, 10.2, 10.4, 10.9, 11.3, 12.3,  8.8,\n",
       "         7.2, 10.5,  7.4, 10.2, 11.5, 15.1, 23.2,  9.7, 13.8, 12.7, 13.1,\n",
       "        12.5,  8.5,  5. ,  6.3,  5.6,  7.2, 12.1,  8.3,  8.5,  5. , 11.9,\n",
       "        27.9, 17.2, 27.5, 15. , 17.2, 17.9, 16.3,  7. ,  7.2,  7.5, 10.4,\n",
       "         8.8,  8.4, 16.7, 14.2, 20.8, 13.4, 11.7,  8.3, 10.2, 10.9, 11. ,\n",
       "         9.5, 14.5, 14.1, 16.1, 14.3, 11.7, 13.4,  9.6,  8.7,  8.4, 12.8,\n",
       "        10.5, 17.1, 18.4, 15.4, 10.8, 11.8, 14.9, 12.6, 14.1, 13. , 13.4,\n",
       "        15.2, 16.1, 17.8, 14.9, 14.1, 12.7, 13.5, 14.9, 20. , 16.4, 17.7,\n",
       "        19.5, 20.2, 21.4, 19.9, 19. , 19.1, 19.1, 20.1, 19.9, 19.6, 23.2,\n",
       "        29.8, 13.8, 13.3, 16.7, 12. , 14.6, 21.4, 23. , 23.7, 25. , 21.8,\n",
       "        20.6, 21.2, 19.1, 20.6, 15.2,  7. ,  8.1, 13.6, 20.1, 21.8, 24.5,\n",
       "        23.1, 19.7, 18.3, 21.2, 17.5, 16.8, 22.4, 20.6, 23.9, 22. , 11.9]),\n",
       " 'feature_names': array(['CRIM', 'ZN', 'INDUS', 'CHAS', 'NOX', 'RM', 'AGE', 'DIS', 'RAD',\n",
       "        'TAX', 'PTRATIO', 'B', 'LSTAT'], dtype='<U7'),\n",
       " 'DESCR': \".. _boston_dataset:\\n\\nBoston house prices dataset\\n---------------------------\\n\\n**Data Set Characteristics:**  \\n\\n    :Number of Instances: 506 \\n\\n    :Number of Attributes: 13 numeric/categorical predictive. Median Value (attribute 14) is usually the target.\\n\\n    :Attribute Information (in order):\\n        - CRIM     per capita crime rate by town\\n        - ZN       proportion of residential land zoned for lots over 25,000 sq.ft.\\n        - INDUS    proportion of non-retail business acres per town\\n        - CHAS     Charles River dummy variable (= 1 if tract bounds river; 0 otherwise)\\n        - NOX      nitric oxides concentration (parts per 10 million)\\n        - RM       average number of rooms per dwelling\\n        - AGE      proportion of owner-occupied units built prior to 1940\\n        - DIS      weighted distances to five Boston employment centres\\n        - RAD      index of accessibility to radial highways\\n        - TAX      full-value property-tax rate per $10,000\\n        - PTRATIO  pupil-teacher ratio by town\\n        - B        1000(Bk - 0.63)^2 where Bk is the proportion of blacks by town\\n        - LSTAT    % lower status of the population\\n        - MEDV     Median value of owner-occupied homes in $1000's\\n\\n    :Missing Attribute Values: None\\n\\n    :Creator: Harrison, D. and Rubinfeld, D.L.\\n\\nThis is a copy of UCI ML housing dataset.\\nhttps://archive.ics.uci.edu/ml/machine-learning-databases/housing/\\n\\n\\nThis dataset was taken from the StatLib library which is maintained at Carnegie Mellon University.\\n\\nThe Boston house-price data of Harrison, D. and Rubinfeld, D.L. 'Hedonic\\nprices and the demand for clean air', J. Environ. Economics & Management,\\nvol.5, 81-102, 1978.   Used in Belsley, Kuh & Welsch, 'Regression diagnostics\\n...', Wiley, 1980.   N.B. Various transformations are used in the table on\\npages 244-261 of the latter.\\n\\nThe Boston house-price data has been used in many machine learning papers that address regression\\nproblems.   \\n     \\n.. topic:: References\\n\\n   - Belsley, Kuh & Welsch, 'Regression diagnostics: Identifying Influential Data and Sources of Collinearity', Wiley, 1980. 244-261.\\n   - Quinlan,R. (1993). Combining Instance-Based and Model-Based Learning. In Proceedings on the Tenth International Conference of Machine Learning, 236-243, University of Massachusetts, Amherst. Morgan Kaufmann.\\n\",\n",
       " 'filename': 'D:\\\\.venv\\\\lib\\\\site-packages\\\\sklearn\\\\datasets\\\\data\\\\boston_house_prices.csv'}"
      ]
     },
     "execution_count": 9,
     "metadata": {},
     "output_type": "execute_result"
    }
   ],
   "source": [
    "load_boston()"
   ]
  },
  {
   "cell_type": "code",
   "execution_count": 10,
   "id": "8707ce42",
   "metadata": {
    "ExecuteTime": {
     "end_time": "2022-10-14T12:23:56.723620Z",
     "start_time": "2022-10-14T12:23:56.663780Z"
    },
    "scrolled": true
   },
   "outputs": [
    {
     "name": "stdout",
     "output_type": "stream",
     "text": [
      "(11610, 8) (11610,)\n",
      "(3870, 8) (3870,)\n",
      "(5160, 8) (5160,)\n"
     ]
    }
   ],
   "source": [
    "from sklearn.model_selection import train_test_split\n",
    "\n",
    "x_train_all, x_test, y_train_all, y_test = train_test_split(data, target, random_state=7)\n",
    "x_train, x_valid, y_train, y_valid = train_test_split(x_train_all, y_train_all, random_state=10)\n",
    "print(x_train.shape, y_train.shape)\n",
    "print(x_valid.shape, y_valid.shape)\n",
    "print(x_test.shape, y_test.shape)"
   ]
  },
  {
   "cell_type": "code",
   "execution_count": 11,
   "id": "09c84d7e",
   "metadata": {
    "ExecuteTime": {
     "end_time": "2022-10-14T12:23:56.738579Z",
     "start_time": "2022-10-14T12:23:56.725614Z"
    }
   },
   "outputs": [
    {
     "data": {
      "text/plain": [
       "array([[ 3.42310000e+00,  6.00000000e+00,  4.71142857e+00,\n",
       "         1.05428571e+00,  7.32000000e+02,  2.09142857e+00,\n",
       "         3.80000000e+01, -1.21350000e+02],\n",
       "       [ 1.26670000e+00,  7.00000000e+00,  3.32624113e+00,\n",
       "         1.05319149e+00,  1.18700000e+03,  4.20921986e+00,\n",
       "         3.25400000e+01, -1.17040000e+02],\n",
       "       [ 1.39290000e+00,  5.20000000e+01,  5.00000000e+00,\n",
       "         9.53488372e-01,  1.26000000e+02,  2.93023256e+00,\n",
       "         3.79200000e+01, -1.22360000e+02],\n",
       "       [ 2.63640000e+00,  3.90000000e+01,  3.57777778e+00,\n",
       "         9.11111111e-01,  3.19000000e+02,  3.54444444e+00,\n",
       "         3.40100000e+01, -1.18180000e+02],\n",
       "       [ 2.56820000e+00,  5.20000000e+01,  4.50000000e+00,\n",
       "         1.12264151e+00,  2.18000000e+02,  2.05660377e+00,\n",
       "         3.78500000e+01, -1.22290000e+02],\n",
       "       [ 8.73640000e+00,  2.30000000e+01,  7.28311258e+00,\n",
       "         1.21274834e+00,  2.75000000e+03,  2.27649007e+00,\n",
       "         3.40200000e+01, -1.18660000e+02],\n",
       "       [ 4.52210000e+00,  1.60000000e+01,  6.38494624e+00,\n",
       "         1.10537634e+00,  1.59400000e+03,  3.42795699e+00,\n",
       "         3.29200000e+01, -1.17150000e+02],\n",
       "       [ 2.31550000e+00,  1.40000000e+01,  4.29014599e+00,\n",
       "         1.13138686e+00,  1.21500000e+03,  2.21715328e+00,\n",
       "         3.97600000e+01, -1.21840000e+02],\n",
       "       [ 3.45190000e+00,  1.50000000e+01,  6.15730337e+00,\n",
       "         1.13033708e+00,  1.18800000e+03,  2.66966292e+00,\n",
       "         4.12800000e+01, -1.22450000e+02],\n",
       "       [ 6.67830000e+00,  1.60000000e+01,  6.45687646e+00,\n",
       "         9.46386946e-01,  1.26900000e+03,  2.95804196e+00,\n",
       "         3.27700000e+01, -1.16920000e+02]])"
      ]
     },
     "execution_count": 11,
     "metadata": {},
     "output_type": "execute_result"
    }
   ],
   "source": [
    "x_train[:10]"
   ]
  },
  {
   "cell_type": "code",
   "execution_count": 12,
   "id": "315670f4",
   "metadata": {
    "ExecuteTime": {
     "end_time": "2022-10-14T12:23:56.753539Z",
     "start_time": "2022-10-14T12:23:56.739576Z"
    }
   },
   "outputs": [
    {
     "data": {
      "text/plain": [
       "array([1.238  , 0.675  , 1.042  , 1.488  , 1.2    , 5.00001, 1.683  ,\n",
       "       1.023  , 1.288  , 2.75   ])"
      ]
     },
     "execution_count": 12,
     "metadata": {},
     "output_type": "execute_result"
    }
   ],
   "source": [
    "y_train[:10]"
   ]
  },
  {
   "cell_type": "code",
   "execution_count": 13,
   "id": "a1c111c0",
   "metadata": {
    "ExecuteTime": {
     "end_time": "2022-10-14T12:23:56.768500Z",
     "start_time": "2022-10-14T12:23:56.755534Z"
    }
   },
   "outputs": [],
   "source": [
    "import pandas as pd"
   ]
  },
  {
   "cell_type": "code",
   "execution_count": 14,
   "id": "8ca856a5",
   "metadata": {
    "ExecuteTime": {
     "end_time": "2022-10-14T12:23:56.784462Z",
     "start_time": "2022-10-14T12:23:56.770494Z"
    },
    "scrolled": true
   },
   "outputs": [],
   "source": [
    "df = pd.DataFrame(x_train, columns=housing.feature_names)"
   ]
  },
  {
   "cell_type": "code",
   "execution_count": 15,
   "id": "c80b74c2",
   "metadata": {
    "ExecuteTime": {
     "end_time": "2022-10-14T12:23:56.814378Z",
     "start_time": "2022-10-14T12:23:56.787449Z"
    },
    "scrolled": true
   },
   "outputs": [
    {
     "name": "stdout",
     "output_type": "stream",
     "text": [
      "<class 'pandas.core.frame.DataFrame'>\n",
      "RangeIndex: 11610 entries, 0 to 11609\n",
      "Data columns (total 8 columns):\n",
      " #   Column      Non-Null Count  Dtype  \n",
      "---  ------      --------------  -----  \n",
      " 0   MedInc      11610 non-null  float64\n",
      " 1   HouseAge    11610 non-null  float64\n",
      " 2   AveRooms    11610 non-null  float64\n",
      " 3   AveBedrms   11610 non-null  float64\n",
      " 4   Population  11610 non-null  float64\n",
      " 5   AveOccup    11610 non-null  float64\n",
      " 6   Latitude    11610 non-null  float64\n",
      " 7   Longitude   11610 non-null  float64\n",
      "dtypes: float64(8)\n",
      "memory usage: 725.8 KB\n"
     ]
    }
   ],
   "source": [
    "df.info()"
   ]
  },
  {
   "cell_type": "code",
   "execution_count": 16,
   "id": "fffa6b10",
   "metadata": {
    "ExecuteTime": {
     "end_time": "2022-10-14T12:23:56.860253Z",
     "start_time": "2022-10-14T12:23:56.815373Z"
    },
    "scrolled": true
   },
   "outputs": [
    {
     "data": {
      "text/html": [
       "<div>\n",
       "<style scoped>\n",
       "    .dataframe tbody tr th:only-of-type {\n",
       "        vertical-align: middle;\n",
       "    }\n",
       "\n",
       "    .dataframe tbody tr th {\n",
       "        vertical-align: top;\n",
       "    }\n",
       "\n",
       "    .dataframe thead th {\n",
       "        text-align: right;\n",
       "    }\n",
       "</style>\n",
       "<table border=\"1\" class=\"dataframe\">\n",
       "  <thead>\n",
       "    <tr style=\"text-align: right;\">\n",
       "      <th></th>\n",
       "      <th>MedInc</th>\n",
       "      <th>HouseAge</th>\n",
       "      <th>AveRooms</th>\n",
       "      <th>AveBedrms</th>\n",
       "      <th>Population</th>\n",
       "      <th>AveOccup</th>\n",
       "      <th>Latitude</th>\n",
       "      <th>Longitude</th>\n",
       "    </tr>\n",
       "  </thead>\n",
       "  <tbody>\n",
       "    <tr>\n",
       "      <th>count</th>\n",
       "      <td>11610.000000</td>\n",
       "      <td>11610.000000</td>\n",
       "      <td>11610.000000</td>\n",
       "      <td>11610.000000</td>\n",
       "      <td>11610.000000</td>\n",
       "      <td>11610.000000</td>\n",
       "      <td>11610.000000</td>\n",
       "      <td>11610.000000</td>\n",
       "    </tr>\n",
       "    <tr>\n",
       "      <th>mean</th>\n",
       "      <td>3.849622</td>\n",
       "      <td>28.672093</td>\n",
       "      <td>5.433468</td>\n",
       "      <td>1.100115</td>\n",
       "      <td>1430.323170</td>\n",
       "      <td>3.063673</td>\n",
       "      <td>35.650221</td>\n",
       "      <td>-119.589140</td>\n",
       "    </tr>\n",
       "    <tr>\n",
       "      <th>std</th>\n",
       "      <td>1.873817</td>\n",
       "      <td>12.580254</td>\n",
       "      <td>2.786144</td>\n",
       "      <td>0.548182</td>\n",
       "      <td>1166.870676</td>\n",
       "      <td>7.645761</td>\n",
       "      <td>2.135333</td>\n",
       "      <td>1.997227</td>\n",
       "    </tr>\n",
       "    <tr>\n",
       "      <th>min</th>\n",
       "      <td>0.499900</td>\n",
       "      <td>1.000000</td>\n",
       "      <td>0.846154</td>\n",
       "      <td>0.333333</td>\n",
       "      <td>5.000000</td>\n",
       "      <td>1.066176</td>\n",
       "      <td>32.540000</td>\n",
       "      <td>-124.350000</td>\n",
       "    </tr>\n",
       "    <tr>\n",
       "      <th>25%</th>\n",
       "      <td>2.562500</td>\n",
       "      <td>18.000000</td>\n",
       "      <td>4.426587</td>\n",
       "      <td>1.006428</td>\n",
       "      <td>790.000000</td>\n",
       "      <td>2.431696</td>\n",
       "      <td>33.940000</td>\n",
       "      <td>-121.810000</td>\n",
       "    </tr>\n",
       "    <tr>\n",
       "      <th>50%</th>\n",
       "      <td>3.525000</td>\n",
       "      <td>29.000000</td>\n",
       "      <td>5.223940</td>\n",
       "      <td>1.049261</td>\n",
       "      <td>1167.000000</td>\n",
       "      <td>2.813165</td>\n",
       "      <td>34.260000</td>\n",
       "      <td>-118.520000</td>\n",
       "    </tr>\n",
       "    <tr>\n",
       "      <th>75%</th>\n",
       "      <td>4.719300</td>\n",
       "      <td>37.000000</td>\n",
       "      <td>6.029486</td>\n",
       "      <td>1.099153</td>\n",
       "      <td>1733.750000</td>\n",
       "      <td>3.282670</td>\n",
       "      <td>37.720000</td>\n",
       "      <td>-118.020000</td>\n",
       "    </tr>\n",
       "    <tr>\n",
       "      <th>max</th>\n",
       "      <td>15.000100</td>\n",
       "      <td>52.000000</td>\n",
       "      <td>141.909091</td>\n",
       "      <td>34.066667</td>\n",
       "      <td>35682.000000</td>\n",
       "      <td>599.714286</td>\n",
       "      <td>41.950000</td>\n",
       "      <td>-114.310000</td>\n",
       "    </tr>\n",
       "  </tbody>\n",
       "</table>\n",
       "</div>"
      ],
      "text/plain": [
       "             MedInc      HouseAge      AveRooms     AveBedrms    Population  \\\n",
       "count  11610.000000  11610.000000  11610.000000  11610.000000  11610.000000   \n",
       "mean       3.849622     28.672093      5.433468      1.100115   1430.323170   \n",
       "std        1.873817     12.580254      2.786144      0.548182   1166.870676   \n",
       "min        0.499900      1.000000      0.846154      0.333333      5.000000   \n",
       "25%        2.562500     18.000000      4.426587      1.006428    790.000000   \n",
       "50%        3.525000     29.000000      5.223940      1.049261   1167.000000   \n",
       "75%        4.719300     37.000000      6.029486      1.099153   1733.750000   \n",
       "max       15.000100     52.000000    141.909091     34.066667  35682.000000   \n",
       "\n",
       "           AveOccup      Latitude     Longitude  \n",
       "count  11610.000000  11610.000000  11610.000000  \n",
       "mean       3.063673     35.650221   -119.589140  \n",
       "std        7.645761      2.135333      1.997227  \n",
       "min        1.066176     32.540000   -124.350000  \n",
       "25%        2.431696     33.940000   -121.810000  \n",
       "50%        2.813165     34.260000   -118.520000  \n",
       "75%        3.282670     37.720000   -118.020000  \n",
       "max      599.714286     41.950000   -114.310000  "
      ]
     },
     "execution_count": 16,
     "metadata": {},
     "output_type": "execute_result"
    }
   ],
   "source": [
    "df.describe()"
   ]
  },
  {
   "cell_type": "code",
   "execution_count": 17,
   "id": "5e071458",
   "metadata": {
    "ExecuteTime": {
     "end_time": "2022-10-14T12:23:56.876210Z",
     "start_time": "2022-10-14T12:23:56.863246Z"
    }
   },
   "outputs": [],
   "source": [
    "# 标准化处理\n",
    "from sklearn.preprocessing import StandardScaler\n",
    "\n",
    "scaler = StandardScaler()\n",
    "x_train_scaled = scaler.fit_transform(x_train)\n",
    "\n",
    "x_valid_scaled = scaler.transform(x_valid)\n",
    "x_test_scaled = scaler.transform(x_test)"
   ]
  },
  {
   "cell_type": "code",
   "execution_count": 18,
   "id": "bbac46bc",
   "metadata": {
    "ExecuteTime": {
     "end_time": "2022-10-14T12:23:56.891170Z",
     "start_time": "2022-10-14T12:23:56.878205Z"
    },
    "scrolled": true
   },
   "outputs": [
    {
     "data": {
      "text/plain": [
       "8"
      ]
     },
     "execution_count": 18,
     "metadata": {},
     "output_type": "execute_result"
    }
   ],
   "source": [
    "x_train.shape[-1]"
   ]
  },
  {
   "cell_type": "code",
   "execution_count": 19,
   "id": "a05a68f0",
   "metadata": {
    "ExecuteTime": {
     "end_time": "2022-10-14T12:23:56.906130Z",
     "start_time": "2022-10-14T12:23:56.893165Z"
    }
   },
   "outputs": [
    {
     "data": {
      "text/plain": [
       "(8,)"
      ]
     },
     "execution_count": 19,
     "metadata": {},
     "output_type": "execute_result"
    }
   ],
   "source": [
    "x_train.shape[1:]"
   ]
  },
  {
   "cell_type": "code",
   "execution_count": 20,
   "id": "70deffb3",
   "metadata": {
    "ExecuteTime": {
     "end_time": "2022-10-14T12:24:01.514793Z",
     "start_time": "2022-10-14T12:23:56.907128Z"
    }
   },
   "outputs": [],
   "source": [
    "# 定义网络\n",
    "model = keras.models.Sequential([\n",
    "    keras.layers.Dense(32, activation='relu', input_shape=x_train.shape[1:]),\n",
    "    keras.layers.Dense(1)\n",
    "])"
   ]
  },
  {
   "cell_type": "code",
   "execution_count": 21,
   "id": "f2c2257a",
   "metadata": {
    "ExecuteTime": {
     "end_time": "2022-10-14T12:24:01.544713Z",
     "start_time": "2022-10-14T12:24:01.517786Z"
    },
    "scrolled": true
   },
   "outputs": [
    {
     "name": "stdout",
     "output_type": "stream",
     "text": [
      "Model: \"sequential\"\n",
      "_________________________________________________________________\n",
      " Layer (type)                Output Shape              Param #   \n",
      "=================================================================\n",
      " dense (Dense)               (None, 32)                288       \n",
      "                                                                 \n",
      " dense_1 (Dense)             (None, 1)                 33        \n",
      "                                                                 \n",
      "=================================================================\n",
      "Total params: 321\n",
      "Trainable params: 321\n",
      "Non-trainable params: 0\n",
      "_________________________________________________________________\n"
     ]
    }
   ],
   "source": [
    "model.summary()"
   ]
  },
  {
   "cell_type": "code",
   "execution_count": 24,
   "id": "88b08a50",
   "metadata": {
    "ExecuteTime": {
     "end_time": "2022-10-14T12:24:01.592588Z",
     "start_time": "2022-10-14T12:24:01.578622Z"
    }
   },
   "outputs": [],
   "source": [
    "import os"
   ]
  },
  {
   "cell_type": "code",
   "execution_count": 26,
   "id": "bc2ed535",
   "metadata": {
    "ExecuteTime": {
     "end_time": "2022-10-14T12:33:36.109146Z",
     "start_time": "2022-10-14T12:31:10.355810Z"
    },
    "collapsed": true
   },
   "outputs": [
    {
     "name": "stdout",
     "output_type": "stream",
     "text": [
      "Epoch 1/100\n",
      "182/182 [==============================] - 1s 5ms/step - loss: 5.3060 - mse: 5.3060 - val_loss: 4.7325 - val_mse: 4.7325\n",
      "Epoch 2/100\n",
      "182/182 [==============================] - 1s 3ms/step - loss: 4.3630 - mse: 4.3630 - val_loss: 3.9116 - val_mse: 3.9116\n",
      "Epoch 3/100\n",
      "182/182 [==============================] - 1s 3ms/step - loss: 3.6337 - mse: 3.6337 - val_loss: 3.2697 - val_mse: 3.2697\n",
      "Epoch 4/100\n",
      "182/182 [==============================] - 1s 3ms/step - loss: 3.0625 - mse: 3.0625 - val_loss: 2.7641 - val_mse: 2.7641\n",
      "Epoch 5/100\n",
      "182/182 [==============================] - 1s 4ms/step - loss: 2.6139 - mse: 2.6139 - val_loss: 2.3658 - val_mse: 2.3658\n",
      "Epoch 6/100\n",
      "182/182 [==============================] - 1s 3ms/step - loss: 2.2597 - mse: 2.2597 - val_loss: 2.0502 - val_mse: 2.0502\n",
      "Epoch 7/100\n",
      "182/182 [==============================] - 1s 4ms/step - loss: 1.9786 - mse: 1.9786 - val_loss: 1.7999 - val_mse: 1.7999\n",
      "Epoch 8/100\n",
      "182/182 [==============================] - 1s 4ms/step - loss: 1.7552 - mse: 1.7552 - val_loss: 1.6013 - val_mse: 1.6013\n",
      "Epoch 9/100\n",
      "182/182 [==============================] - 1s 3ms/step - loss: 1.5774 - mse: 1.5774 - val_loss: 1.4437 - val_mse: 1.4437\n",
      "Epoch 10/100\n",
      "182/182 [==============================] - 1s 3ms/step - loss: 1.4353 - mse: 1.4353 - val_loss: 1.3183 - val_mse: 1.3183\n",
      "Epoch 11/100\n",
      "182/182 [==============================] - 1s 4ms/step - loss: 1.3215 - mse: 1.3215 - val_loss: 1.2184 - val_mse: 1.2184\n",
      "Epoch 12/100\n",
      "182/182 [==============================] - 1s 4ms/step - loss: 1.2298 - mse: 1.2298 - val_loss: 1.1386 - val_mse: 1.1386\n",
      "Epoch 13/100\n",
      "182/182 [==============================] - 1s 4ms/step - loss: 1.1558 - mse: 1.1558 - val_loss: 1.0744 - val_mse: 1.0744\n",
      "Epoch 14/100\n",
      "182/182 [==============================] - 1s 3ms/step - loss: 1.0957 - mse: 1.0957 - val_loss: 1.0228 - val_mse: 1.0228\n",
      "Epoch 15/100\n",
      "182/182 [==============================] - 1s 3ms/step - loss: 1.0466 - mse: 1.0466 - val_loss: 0.9809 - val_mse: 0.9809\n",
      "Epoch 16/100\n",
      "182/182 [==============================] - 1s 3ms/step - loss: 1.0061 - mse: 1.0061 - val_loss: 0.9469 - val_mse: 0.9469\n",
      "Epoch 17/100\n",
      "182/182 [==============================] - 1s 4ms/step - loss: 0.9726 - mse: 0.9726 - val_loss: 0.9190 - val_mse: 0.9190\n",
      "Epoch 18/100\n",
      "182/182 [==============================] - 1s 3ms/step - loss: 0.9448 - mse: 0.9448 - val_loss: 0.8959 - val_mse: 0.8959\n",
      "Epoch 19/100\n",
      "182/182 [==============================] - 1s 3ms/step - loss: 0.9213 - mse: 0.9213 - val_loss: 0.8767 - val_mse: 0.8767\n",
      "Epoch 20/100\n",
      "182/182 [==============================] - 1s 3ms/step - loss: 0.9015 - mse: 0.9015 - val_loss: 0.8607 - val_mse: 0.8607\n",
      "Epoch 21/100\n",
      "182/182 [==============================] - 1s 4ms/step - loss: 0.8846 - mse: 0.8846 - val_loss: 0.8471 - val_mse: 0.8471\n",
      "Epoch 22/100\n",
      "182/182 [==============================] - 1s 3ms/step - loss: 0.8700 - mse: 0.8700 - val_loss: 0.8354 - val_mse: 0.8354\n",
      "Epoch 23/100\n",
      "182/182 [==============================] - 1s 3ms/step - loss: 0.8574 - mse: 0.8574 - val_loss: 0.8253 - val_mse: 0.8253\n",
      "Epoch 24/100\n",
      "182/182 [==============================] - 1s 3ms/step - loss: 0.8465 - mse: 0.8465 - val_loss: 0.8165 - val_mse: 0.8165\n",
      "Epoch 25/100\n",
      "182/182 [==============================] - 1s 3ms/step - loss: 0.8368 - mse: 0.8368 - val_loss: 0.8088 - val_mse: 0.8088\n",
      "Epoch 26/100\n",
      "182/182 [==============================] - 1s 3ms/step - loss: 0.8283 - mse: 0.8283 - val_loss: 0.8019 - val_mse: 0.8019\n",
      "Epoch 27/100\n",
      "182/182 [==============================] - 1s 4ms/step - loss: 0.8207 - mse: 0.8207 - val_loss: 0.7958 - val_mse: 0.7958\n",
      "Epoch 28/100\n",
      "182/182 [==============================] - 1s 3ms/step - loss: 0.8138 - mse: 0.8138 - val_loss: 0.7902 - val_mse: 0.7902\n",
      "Epoch 29/100\n",
      "182/182 [==============================] - 1s 4ms/step - loss: 0.8076 - mse: 0.8076 - val_loss: 0.7851 - val_mse: 0.7851\n",
      "Epoch 30/100\n",
      "182/182 [==============================] - 1s 3ms/step - loss: 0.8020 - mse: 0.8020 - val_loss: 0.7805 - val_mse: 0.7805\n",
      "Epoch 31/100\n",
      "182/182 [==============================] - 1s 3ms/step - loss: 0.7968 - mse: 0.7968 - val_loss: 0.7761 - val_mse: 0.7761\n",
      "Epoch 32/100\n",
      "182/182 [==============================] - 1s 3ms/step - loss: 0.7919 - mse: 0.7919 - val_loss: 0.7720 - val_mse: 0.7720\n",
      "Epoch 33/100\n",
      "182/182 [==============================] - 1s 3ms/step - loss: 0.7875 - mse: 0.7875 - val_loss: 0.7683 - val_mse: 0.7683\n",
      "Epoch 34/100\n",
      "182/182 [==============================] - 1s 3ms/step - loss: 0.7833 - mse: 0.7833 - val_loss: 0.7647 - val_mse: 0.7647\n",
      "Epoch 35/100\n",
      "182/182 [==============================] - 1s 3ms/step - loss: 0.7794 - mse: 0.7794 - val_loss: 0.7613 - val_mse: 0.7613\n",
      "Epoch 36/100\n",
      "182/182 [==============================] - 1s 3ms/step - loss: 0.7757 - mse: 0.7757 - val_loss: 0.7580 - val_mse: 0.7580\n",
      "Epoch 37/100\n",
      "182/182 [==============================] - 1s 4ms/step - loss: 0.7722 - mse: 0.7722 - val_loss: 0.7549 - val_mse: 0.7549\n",
      "Epoch 38/100\n",
      "182/182 [==============================] - 1s 5ms/step - loss: 0.7688 - mse: 0.7688 - val_loss: 0.7519 - val_mse: 0.7519\n",
      "Epoch 39/100\n",
      "182/182 [==============================] - 1s 4ms/step - loss: 0.7656 - mse: 0.7656 - val_loss: 0.7490 - val_mse: 0.7490\n",
      "Epoch 40/100\n",
      "182/182 [==============================] - 1s 4ms/step - loss: 0.7626 - mse: 0.7626 - val_loss: 0.7462 - val_mse: 0.7462\n",
      "Epoch 41/100\n",
      "182/182 [==============================] - 1s 5ms/step - loss: 0.7596 - mse: 0.7596 - val_loss: 0.7435 - val_mse: 0.7435\n",
      "Epoch 42/100\n",
      "182/182 [==============================] - 1s 5ms/step - loss: 0.7567 - mse: 0.7567 - val_loss: 0.7408 - val_mse: 0.7408\n",
      "Epoch 43/100\n",
      "182/182 [==============================] - 1s 5ms/step - loss: 0.7539 - mse: 0.7539 - val_loss: 0.7382 - val_mse: 0.7382\n",
      "Epoch 44/100\n",
      "182/182 [==============================] - 1s 6ms/step - loss: 0.7513 - mse: 0.7513 - val_loss: 0.7357 - val_mse: 0.7357\n",
      "Epoch 45/100\n",
      "182/182 [==============================] - 1s 4ms/step - loss: 0.7486 - mse: 0.7486 - val_loss: 0.7333 - val_mse: 0.7333\n",
      "Epoch 46/100\n",
      "182/182 [==============================] - 1s 4ms/step - loss: 0.7461 - mse: 0.7461 - val_loss: 0.7308 - val_mse: 0.7308\n",
      "Epoch 47/100\n",
      "182/182 [==============================] - 1s 3ms/step - loss: 0.7436 - mse: 0.7436 - val_loss: 0.7285 - val_mse: 0.7285\n",
      "Epoch 48/100\n",
      "182/182 [==============================] - 1s 3ms/step - loss: 0.7412 - mse: 0.7412 - val_loss: 0.7262 - val_mse: 0.7262\n",
      "Epoch 49/100\n",
      "182/182 [==============================] - 1s 3ms/step - loss: 0.7388 - mse: 0.7388 - val_loss: 0.7239 - val_mse: 0.7239\n",
      "Epoch 50/100\n",
      "182/182 [==============================] - 1s 3ms/step - loss: 0.7364 - mse: 0.7364 - val_loss: 0.7216 - val_mse: 0.7216\n",
      "Epoch 51/100\n",
      "182/182 [==============================] - 1s 3ms/step - loss: 0.7341 - mse: 0.7341 - val_loss: 0.7194 - val_mse: 0.7194\n",
      "Epoch 52/100\n",
      "182/182 [==============================] - 1s 4ms/step - loss: 0.7318 - mse: 0.7318 - val_loss: 0.7172 - val_mse: 0.7172\n",
      "Epoch 53/100\n",
      "182/182 [==============================] - 1s 3ms/step - loss: 0.7296 - mse: 0.7296 - val_loss: 0.7150 - val_mse: 0.7150\n",
      "Epoch 54/100\n",
      "182/182 [==============================] - 1s 3ms/step - loss: 0.7274 - mse: 0.7274 - val_loss: 0.7129 - val_mse: 0.7129\n",
      "Epoch 55/100\n",
      "182/182 [==============================] - 1s 3ms/step - loss: 0.7252 - mse: 0.7252 - val_loss: 0.7108 - val_mse: 0.7108\n",
      "Epoch 56/100\n",
      "182/182 [==============================] - 1s 4ms/step - loss: 0.7231 - mse: 0.7231 - val_loss: 0.7087 - val_mse: 0.7087\n",
      "Epoch 57/100\n",
      "182/182 [==============================] - 1s 3ms/step - loss: 0.7210 - mse: 0.7210 - val_loss: 0.7066 - val_mse: 0.7066\n",
      "Epoch 58/100\n",
      "182/182 [==============================] - 1s 3ms/step - loss: 0.7189 - mse: 0.7189 - val_loss: 0.7046 - val_mse: 0.7046\n",
      "Epoch 59/100\n",
      "182/182 [==============================] - 1s 3ms/step - loss: 0.7169 - mse: 0.7169 - val_loss: 0.7026 - val_mse: 0.7026\n",
      "Epoch 60/100\n",
      "182/182 [==============================] - 1s 3ms/step - loss: 0.7148 - mse: 0.7148 - val_loss: 0.7006 - val_mse: 0.7006\n",
      "Epoch 61/100\n",
      "182/182 [==============================] - 1s 3ms/step - loss: 0.7128 - mse: 0.7128 - val_loss: 0.6985 - val_mse: 0.6985\n",
      "Epoch 62/100\n"
     ]
    },
    {
     "name": "stdout",
     "output_type": "stream",
     "text": [
      "182/182 [==============================] - 1s 3ms/step - loss: 0.7108 - mse: 0.7108 - val_loss: 0.6966 - val_mse: 0.6966\n",
      "Epoch 63/100\n",
      "182/182 [==============================] - 1s 3ms/step - loss: 0.7089 - mse: 0.7089 - val_loss: 0.6946 - val_mse: 0.6946\n",
      "Epoch 1/100\n",
      "182/182 [==============================] - 1s 4ms/step - loss: 5.8514 - mse: 5.8514 - val_loss: 4.3826 - val_mse: 4.3826\n",
      "Epoch 2/100\n",
      "182/182 [==============================] - 1s 3ms/step - loss: 3.5537 - mse: 3.5537 - val_loss: 2.7959 - val_mse: 2.7959\n",
      "Epoch 3/100\n",
      "182/182 [==============================] - 1s 3ms/step - loss: 2.4176 - mse: 2.4176 - val_loss: 1.9703 - val_mse: 1.9703\n",
      "Epoch 4/100\n",
      "182/182 [==============================] - 1s 3ms/step - loss: 1.8045 - mse: 1.8045 - val_loss: 1.5075 - val_mse: 1.5075\n",
      "Epoch 5/100\n",
      "182/182 [==============================] - 1s 3ms/step - loss: 1.4451 - mse: 1.4451 - val_loss: 1.2334 - val_mse: 1.2334\n",
      "Epoch 6/100\n",
      "182/182 [==============================] - 1s 3ms/step - loss: 1.2161 - mse: 1.2161 - val_loss: 1.0551 - val_mse: 1.0551\n",
      "Epoch 7/100\n",
      "182/182 [==============================] - 1s 4ms/step - loss: 1.0623 - mse: 1.0623 - val_loss: 0.9368 - val_mse: 0.9368\n",
      "Epoch 8/100\n",
      "182/182 [==============================] - 1s 4ms/step - loss: 0.9546 - mse: 0.9546 - val_loss: 0.8543 - val_mse: 0.8543\n",
      "Epoch 9/100\n",
      "182/182 [==============================] - 1s 4ms/step - loss: 0.8767 - mse: 0.8767 - val_loss: 0.7949 - val_mse: 0.7949\n",
      "Epoch 10/100\n",
      "182/182 [==============================] - 1s 3ms/step - loss: 0.8197 - mse: 0.8197 - val_loss: 0.7512 - val_mse: 0.7512\n",
      "Epoch 11/100\n",
      "182/182 [==============================] - 1s 3ms/step - loss: 0.7773 - mse: 0.7773 - val_loss: 0.7186 - val_mse: 0.7186\n",
      "Epoch 12/100\n",
      "182/182 [==============================] - 1s 3ms/step - loss: 0.7451 - mse: 0.7451 - val_loss: 0.6939 - val_mse: 0.6939\n",
      "Epoch 13/100\n",
      "182/182 [==============================] - 1s 4ms/step - loss: 0.7206 - mse: 0.7206 - val_loss: 0.6751 - val_mse: 0.6751\n",
      "Epoch 14/100\n",
      "182/182 [==============================] - 1s 4ms/step - loss: 0.7014 - mse: 0.7014 - val_loss: 0.6602 - val_mse: 0.6602\n",
      "Epoch 15/100\n",
      "182/182 [==============================] - 1s 3ms/step - loss: 0.6862 - mse: 0.6862 - val_loss: 0.6481 - val_mse: 0.6481\n",
      "Epoch 16/100\n",
      "182/182 [==============================] - 1s 4ms/step - loss: 0.6736 - mse: 0.6736 - val_loss: 0.6382 - val_mse: 0.6382\n",
      "Epoch 17/100\n",
      "182/182 [==============================] - 1s 3ms/step - loss: 0.6632 - mse: 0.6632 - val_loss: 0.6297 - val_mse: 0.6297\n",
      "Epoch 18/100\n",
      "182/182 [==============================] - 1s 3ms/step - loss: 0.6543 - mse: 0.6543 - val_loss: 0.6224 - val_mse: 0.6224\n",
      "Epoch 19/100\n",
      "182/182 [==============================] - 1s 4ms/step - loss: 0.6466 - mse: 0.6466 - val_loss: 0.6160 - val_mse: 0.6160\n",
      "Epoch 20/100\n",
      "182/182 [==============================] - 1s 4ms/step - loss: 0.6397 - mse: 0.6397 - val_loss: 0.6101 - val_mse: 0.6101\n",
      "Epoch 21/100\n",
      "182/182 [==============================] - 1s 3ms/step - loss: 0.6335 - mse: 0.6335 - val_loss: 0.6048 - val_mse: 0.6048\n",
      "Epoch 22/100\n",
      "182/182 [==============================] - 1s 3ms/step - loss: 0.6279 - mse: 0.6279 - val_loss: 0.6000 - val_mse: 0.6000\n",
      "Epoch 23/100\n",
      "182/182 [==============================] - 1s 3ms/step - loss: 0.6228 - mse: 0.6228 - val_loss: 0.5954 - val_mse: 0.5954\n",
      "Epoch 24/100\n",
      "182/182 [==============================] - 1s 4ms/step - loss: 0.6181 - mse: 0.6181 - val_loss: 0.5911 - val_mse: 0.5911\n",
      "Epoch 25/100\n",
      "182/182 [==============================] - 1s 3ms/step - loss: 0.6136 - mse: 0.6136 - val_loss: 0.5871 - val_mse: 0.5871\n",
      "Epoch 26/100\n",
      "182/182 [==============================] - 1s 3ms/step - loss: 0.6094 - mse: 0.6094 - val_loss: 0.5832 - val_mse: 0.5832\n",
      "Epoch 27/100\n",
      "182/182 [==============================] - 1s 3ms/step - loss: 0.6054 - mse: 0.6054 - val_loss: 0.5795 - val_mse: 0.5795\n",
      "Epoch 28/100\n",
      "182/182 [==============================] - 1s 3ms/step - loss: 0.6016 - mse: 0.6016 - val_loss: 0.5760 - val_mse: 0.5760\n",
      "Epoch 29/100\n",
      "182/182 [==============================] - 1s 3ms/step - loss: 0.5980 - mse: 0.5980 - val_loss: 0.5726 - val_mse: 0.5726\n",
      "Epoch 30/100\n",
      "182/182 [==============================] - 1s 3ms/step - loss: 0.5946 - mse: 0.5946 - val_loss: 0.5693 - val_mse: 0.5693\n",
      "Epoch 31/100\n",
      "182/182 [==============================] - 1s 3ms/step - loss: 0.5913 - mse: 0.5913 - val_loss: 0.5662 - val_mse: 0.5662\n",
      "Epoch 32/100\n",
      "182/182 [==============================] - 1s 3ms/step - loss: 0.5882 - mse: 0.5882 - val_loss: 0.5631 - val_mse: 0.5631\n",
      "Epoch 33/100\n",
      "182/182 [==============================] - 1s 4ms/step - loss: 0.5851 - mse: 0.5851 - val_loss: 0.5602 - val_mse: 0.5602\n",
      "Epoch 34/100\n",
      "182/182 [==============================] - 1s 3ms/step - loss: 0.5822 - mse: 0.5822 - val_loss: 0.5573 - val_mse: 0.5573\n",
      "Epoch 35/100\n",
      "182/182 [==============================] - 1s 3ms/step - loss: 0.5794 - mse: 0.5794 - val_loss: 0.5545 - val_mse: 0.5545\n",
      "Epoch 36/100\n",
      "182/182 [==============================] - 1s 3ms/step - loss: 0.5766 - mse: 0.5766 - val_loss: 0.5519 - val_mse: 0.5519\n",
      "Epoch 37/100\n",
      "182/182 [==============================] - 1s 3ms/step - loss: 0.5739 - mse: 0.5739 - val_loss: 0.5493 - val_mse: 0.5493\n",
      "Epoch 38/100\n",
      "182/182 [==============================] - 1s 3ms/step - loss: 0.5714 - mse: 0.5714 - val_loss: 0.5468 - val_mse: 0.5468\n",
      "Epoch 39/100\n",
      "182/182 [==============================] - 1s 3ms/step - loss: 0.5689 - mse: 0.5689 - val_loss: 0.5444 - val_mse: 0.5444\n",
      "Epoch 40/100\n",
      "182/182 [==============================] - 1s 3ms/step - loss: 0.5665 - mse: 0.5665 - val_loss: 0.5420 - val_mse: 0.5420\n",
      "Epoch 41/100\n",
      "182/182 [==============================] - 1s 3ms/step - loss: 0.5642 - mse: 0.5642 - val_loss: 0.5397 - val_mse: 0.5397\n",
      "Epoch 42/100\n",
      "182/182 [==============================] - 1s 4ms/step - loss: 0.5619 - mse: 0.5619 - val_loss: 0.5375 - val_mse: 0.5375\n",
      "Epoch 43/100\n",
      "182/182 [==============================] - 1s 3ms/step - loss: 0.5597 - mse: 0.5597 - val_loss: 0.5353 - val_mse: 0.5353\n",
      "Epoch 44/100\n",
      "182/182 [==============================] - 1s 3ms/step - loss: 0.5575 - mse: 0.5575 - val_loss: 0.5332 - val_mse: 0.5332\n",
      "Epoch 45/100\n",
      "182/182 [==============================] - 1s 3ms/step - loss: 0.5554 - mse: 0.5554 - val_loss: 0.5312 - val_mse: 0.5312\n",
      "Epoch 46/100\n",
      "182/182 [==============================] - 1s 3ms/step - loss: 0.5534 - mse: 0.5534 - val_loss: 0.5292 - val_mse: 0.5292\n",
      "Epoch 47/100\n",
      "182/182 [==============================] - 1s 3ms/step - loss: 0.5514 - mse: 0.5514 - val_loss: 0.5272 - val_mse: 0.5272\n",
      "Epoch 48/100\n",
      "182/182 [==============================] - 1s 3ms/step - loss: 0.5494 - mse: 0.5494 - val_loss: 0.5253 - val_mse: 0.5253\n",
      "Epoch 1/100\n",
      "182/182 [==============================] - 1s 4ms/step - loss: 2.6413 - mse: 2.6413 - val_loss: 1.5432 - val_mse: 1.5432\n",
      "Epoch 2/100\n",
      "182/182 [==============================] - 1s 3ms/step - loss: 1.2368 - mse: 1.2368 - val_loss: 0.9516 - val_mse: 0.9516\n",
      "Epoch 3/100\n",
      "182/182 [==============================] - 1s 3ms/step - loss: 0.8863 - mse: 0.8863 - val_loss: 0.7917 - val_mse: 0.7917\n",
      "Epoch 4/100\n",
      "182/182 [==============================] - 1s 3ms/step - loss: 0.7776 - mse: 0.7776 - val_loss: 0.7393 - val_mse: 0.7393\n",
      "Epoch 5/100\n",
      "182/182 [==============================] - 1s 5ms/step - loss: 0.7359 - mse: 0.7359 - val_loss: 0.7145 - val_mse: 0.7145\n",
      "Epoch 6/100\n",
      "182/182 [==============================] - 1s 4ms/step - loss: 0.7129 - mse: 0.7129 - val_loss: 0.6965 - val_mse: 0.6965\n",
      "Epoch 7/100\n",
      "182/182 [==============================] - 1s 3ms/step - loss: 0.6954 - mse: 0.6954 - val_loss: 0.6790 - val_mse: 0.6790\n",
      "Epoch 8/100\n",
      "182/182 [==============================] - 1s 3ms/step - loss: 0.6803 - mse: 0.6803 - val_loss: 0.6643 - val_mse: 0.6643\n",
      "Epoch 9/100\n",
      "182/182 [==============================] - 1s 4ms/step - loss: 0.6669 - mse: 0.6669 - val_loss: 0.6513 - val_mse: 0.6513\n",
      "Epoch 10/100\n",
      "182/182 [==============================] - 1s 4ms/step - loss: 0.6542 - mse: 0.6542 - val_loss: 0.6391 - val_mse: 0.6391\n",
      "Epoch 11/100\n",
      "182/182 [==============================] - 1s 3ms/step - loss: 0.6423 - mse: 0.6423 - val_loss: 0.6284 - val_mse: 0.6284\n",
      "Epoch 12/100\n"
     ]
    },
    {
     "name": "stdout",
     "output_type": "stream",
     "text": [
      "182/182 [==============================] - 1s 3ms/step - loss: 0.6315 - mse: 0.6315 - val_loss: 0.6175 - val_mse: 0.6175\n",
      "Epoch 13/100\n",
      "182/182 [==============================] - 1s 3ms/step - loss: 0.6211 - mse: 0.6211 - val_loss: 0.6074 - val_mse: 0.6074\n",
      "Epoch 14/100\n",
      "182/182 [==============================] - 1s 4ms/step - loss: 0.6116 - mse: 0.6116 - val_loss: 0.5976 - val_mse: 0.5976\n",
      "Epoch 15/100\n",
      "182/182 [==============================] - 1s 3ms/step - loss: 0.6026 - mse: 0.6026 - val_loss: 0.5894 - val_mse: 0.5894\n",
      "Epoch 16/100\n",
      "182/182 [==============================] - 1s 3ms/step - loss: 0.5941 - mse: 0.5941 - val_loss: 0.5811 - val_mse: 0.5811\n",
      "Epoch 17/100\n",
      "182/182 [==============================] - 1s 4ms/step - loss: 0.5861 - mse: 0.5861 - val_loss: 0.5734 - val_mse: 0.5734\n",
      "Epoch 18/100\n",
      "182/182 [==============================] - 1s 3ms/step - loss: 0.5788 - mse: 0.5788 - val_loss: 0.5667 - val_mse: 0.5667\n",
      "Epoch 19/100\n",
      "182/182 [==============================] - 1s 3ms/step - loss: 0.5719 - mse: 0.5719 - val_loss: 0.5601 - val_mse: 0.5601\n",
      "Epoch 20/100\n",
      "182/182 [==============================] - 1s 4ms/step - loss: 0.5656 - mse: 0.5656 - val_loss: 0.5541 - val_mse: 0.5541\n",
      "Epoch 21/100\n",
      "182/182 [==============================] - 1s 4ms/step - loss: 0.5596 - mse: 0.5596 - val_loss: 0.5482 - val_mse: 0.5482\n",
      "Epoch 22/100\n",
      "182/182 [==============================] - 1s 4ms/step - loss: 0.5537 - mse: 0.5537 - val_loss: 0.5422 - val_mse: 0.5422\n",
      "Epoch 23/100\n",
      "182/182 [==============================] - 1s 3ms/step - loss: 0.5487 - mse: 0.5487 - val_loss: 0.5370 - val_mse: 0.5370\n",
      "Epoch 24/100\n",
      "182/182 [==============================] - 1s 3ms/step - loss: 0.5440 - mse: 0.5440 - val_loss: 0.5323 - val_mse: 0.5323\n",
      "Epoch 25/100\n",
      "182/182 [==============================] - 1s 4ms/step - loss: 0.5396 - mse: 0.5396 - val_loss: 0.5281 - val_mse: 0.5281\n",
      "Epoch 26/100\n",
      "182/182 [==============================] - 1s 4ms/step - loss: 0.5354 - mse: 0.5354 - val_loss: 0.5239 - val_mse: 0.5239\n",
      "Epoch 27/100\n",
      "182/182 [==============================] - 1s 3ms/step - loss: 0.5315 - mse: 0.5315 - val_loss: 0.5202 - val_mse: 0.5202\n",
      "Epoch 28/100\n",
      "182/182 [==============================] - 1s 3ms/step - loss: 0.5278 - mse: 0.5278 - val_loss: 0.5161 - val_mse: 0.5161\n",
      "Epoch 29/100\n",
      "182/182 [==============================] - 1s 3ms/step - loss: 0.5243 - mse: 0.5243 - val_loss: 0.5124 - val_mse: 0.5124\n",
      "Epoch 30/100\n",
      "182/182 [==============================] - 1s 4ms/step - loss: 0.5212 - mse: 0.5212 - val_loss: 0.5094 - val_mse: 0.5094\n",
      "Epoch 31/100\n",
      "182/182 [==============================] - 1s 4ms/step - loss: 0.5181 - mse: 0.5181 - val_loss: 0.5061 - val_mse: 0.5061\n",
      "Epoch 32/100\n",
      "182/182 [==============================] - 1s 4ms/step - loss: 0.5150 - mse: 0.5150 - val_loss: 0.5029 - val_mse: 0.5029\n",
      "Epoch 33/100\n",
      "182/182 [==============================] - 1s 4ms/step - loss: 0.5123 - mse: 0.5123 - val_loss: 0.4998 - val_mse: 0.4998\n",
      "Epoch 34/100\n",
      "182/182 [==============================] - 1s 3ms/step - loss: 0.5096 - mse: 0.5096 - val_loss: 0.4970 - val_mse: 0.4970\n",
      "Epoch 35/100\n",
      "182/182 [==============================] - 1s 3ms/step - loss: 0.5070 - mse: 0.5070 - val_loss: 0.4943 - val_mse: 0.4943\n",
      "Epoch 36/100\n",
      "182/182 [==============================] - 1s 3ms/step - loss: 0.5046 - mse: 0.5046 - val_loss: 0.4917 - val_mse: 0.4917\n",
      "Epoch 37/100\n",
      "182/182 [==============================] - 1s 4ms/step - loss: 0.5023 - mse: 0.5023 - val_loss: 0.4892 - val_mse: 0.4892\n",
      "Epoch 38/100\n",
      "182/182 [==============================] - 1s 3ms/step - loss: 0.4999 - mse: 0.4999 - val_loss: 0.4868 - val_mse: 0.4868\n",
      "Epoch 39/100\n",
      "182/182 [==============================] - 1s 3ms/step - loss: 0.4979 - mse: 0.4979 - val_loss: 0.4843 - val_mse: 0.4843\n",
      "Epoch 40/100\n",
      "182/182 [==============================] - 1s 3ms/step - loss: 0.4959 - mse: 0.4959 - val_loss: 0.4820 - val_mse: 0.4820\n",
      "Epoch 41/100\n",
      "182/182 [==============================] - 1s 3ms/step - loss: 0.4939 - mse: 0.4939 - val_loss: 0.4799 - val_mse: 0.4799\n",
      "Epoch 42/100\n",
      "182/182 [==============================] - 1s 3ms/step - loss: 0.4919 - mse: 0.4919 - val_loss: 0.4777 - val_mse: 0.4777\n",
      "Epoch 43/100\n",
      "182/182 [==============================] - 1s 3ms/step - loss: 0.4900 - mse: 0.4900 - val_loss: 0.4758 - val_mse: 0.4758\n",
      "Epoch 44/100\n",
      "182/182 [==============================] - 1s 4ms/step - loss: 0.4882 - mse: 0.4882 - val_loss: 0.4738 - val_mse: 0.4738\n",
      "Epoch 45/100\n",
      "182/182 [==============================] - 1s 3ms/step - loss: 0.4865 - mse: 0.4865 - val_loss: 0.4719 - val_mse: 0.4719\n",
      "Epoch 46/100\n",
      "182/182 [==============================] - 1s 3ms/step - loss: 0.4847 - mse: 0.4847 - val_loss: 0.4699 - val_mse: 0.4699\n",
      "Epoch 47/100\n",
      "182/182 [==============================] - 1s 3ms/step - loss: 0.4832 - mse: 0.4832 - val_loss: 0.4679 - val_mse: 0.4679\n",
      "Epoch 1/100\n",
      "182/182 [==============================] - 1s 4ms/step - loss: 1.7851 - mse: 1.7851 - val_loss: 0.7703 - val_mse: 0.7703\n",
      "Epoch 2/100\n",
      "182/182 [==============================] - 1s 3ms/step - loss: 0.7150 - mse: 0.7150 - val_loss: 0.6440 - val_mse: 0.6440\n",
      "Epoch 3/100\n",
      "182/182 [==============================] - 1s 4ms/step - loss: 0.6318 - mse: 0.6318 - val_loss: 0.5898 - val_mse: 0.5898\n",
      "Epoch 4/100\n",
      "182/182 [==============================] - 1s 3ms/step - loss: 0.5894 - mse: 0.5894 - val_loss: 0.5579 - val_mse: 0.5579\n",
      "Epoch 5/100\n",
      "182/182 [==============================] - 1s 3ms/step - loss: 0.5581 - mse: 0.5581 - val_loss: 0.5300 - val_mse: 0.5300\n",
      "Epoch 6/100\n",
      "182/182 [==============================] - 1s 4ms/step - loss: 0.5368 - mse: 0.5368 - val_loss: 0.5099 - val_mse: 0.5099\n",
      "Epoch 7/100\n",
      "182/182 [==============================] - 1s 3ms/step - loss: 0.5189 - mse: 0.5189 - val_loss: 0.4970 - val_mse: 0.4970\n",
      "Epoch 8/100\n",
      "182/182 [==============================] - 1s 4ms/step - loss: 0.5053 - mse: 0.5053 - val_loss: 0.4838 - val_mse: 0.4838\n",
      "Epoch 9/100\n",
      "182/182 [==============================] - 1s 4ms/step - loss: 0.4950 - mse: 0.4950 - val_loss: 0.4745 - val_mse: 0.4745\n",
      "Epoch 10/100\n",
      "182/182 [==============================] - 1s 4ms/step - loss: 0.4871 - mse: 0.4871 - val_loss: 0.4667 - val_mse: 0.4667\n",
      "Epoch 11/100\n",
      "182/182 [==============================] - 1s 3ms/step - loss: 0.4800 - mse: 0.4800 - val_loss: 0.4596 - val_mse: 0.4596\n",
      "Epoch 12/100\n",
      "182/182 [==============================] - 1s 3ms/step - loss: 0.4731 - mse: 0.4731 - val_loss: 0.4521 - val_mse: 0.4521\n",
      "Epoch 13/100\n",
      "182/182 [==============================] - 1s 4ms/step - loss: 0.4724 - mse: 0.4724 - val_loss: 0.4476 - val_mse: 0.4476\n",
      "Epoch 14/100\n",
      "182/182 [==============================] - 1s 3ms/step - loss: 0.4642 - mse: 0.4642 - val_loss: 0.4432 - val_mse: 0.4432\n",
      "Epoch 15/100\n",
      "182/182 [==============================] - 1s 3ms/step - loss: 0.4592 - mse: 0.4592 - val_loss: 0.4403 - val_mse: 0.4403\n",
      "Epoch 16/100\n",
      "182/182 [==============================] - 1s 4ms/step - loss: 0.4562 - mse: 0.4562 - val_loss: 0.4359 - val_mse: 0.4359\n",
      "Epoch 17/100\n",
      "182/182 [==============================] - 1s 4ms/step - loss: 0.4529 - mse: 0.4529 - val_loss: 0.4311 - val_mse: 0.4311\n",
      "Epoch 18/100\n",
      "182/182 [==============================] - 1s 3ms/step - loss: 0.4492 - mse: 0.4492 - val_loss: 0.4294 - val_mse: 0.4294\n",
      "Epoch 19/100\n",
      "182/182 [==============================] - 1s 3ms/step - loss: 0.4463 - mse: 0.4463 - val_loss: 0.4262 - val_mse: 0.4262\n",
      "Epoch 20/100\n",
      "182/182 [==============================] - 1s 4ms/step - loss: 0.4431 - mse: 0.4431 - val_loss: 0.4231 - val_mse: 0.4231\n",
      "Epoch 21/100\n",
      "182/182 [==============================] - 1s 3ms/step - loss: 0.4397 - mse: 0.4397 - val_loss: 0.4210 - val_mse: 0.4210\n",
      "Epoch 22/100\n",
      "182/182 [==============================] - 1s 3ms/step - loss: 0.4361 - mse: 0.4361 - val_loss: 0.4172 - val_mse: 0.4172\n",
      "Epoch 23/100\n",
      "182/182 [==============================] - 1s 3ms/step - loss: 0.4357 - mse: 0.4357 - val_loss: 0.4149 - val_mse: 0.4149\n",
      "Epoch 24/100\n",
      "182/182 [==============================] - 1s 3ms/step - loss: 0.4320 - mse: 0.4320 - val_loss: 0.4139 - val_mse: 0.4139\n",
      "Epoch 25/100\n",
      "182/182 [==============================] - 1s 4ms/step - loss: 0.4298 - mse: 0.4298 - val_loss: 0.4110 - val_mse: 0.4110\n",
      "Epoch 26/100\n"
     ]
    },
    {
     "name": "stdout",
     "output_type": "stream",
     "text": [
      "182/182 [==============================] - 1s 3ms/step - loss: 0.4274 - mse: 0.4274 - val_loss: 0.4098 - val_mse: 0.4098\n",
      "Epoch 27/100\n",
      "182/182 [==============================] - 1s 3ms/step - loss: 0.4257 - mse: 0.4257 - val_loss: 0.4068 - val_mse: 0.4068\n",
      "Epoch 28/100\n",
      "182/182 [==============================] - 1s 3ms/step - loss: 0.4251 - mse: 0.4251 - val_loss: 0.4049 - val_mse: 0.4049\n",
      "Epoch 29/100\n",
      "182/182 [==============================] - 1s 3ms/step - loss: 0.4234 - mse: 0.4234 - val_loss: 0.4042 - val_mse: 0.4042\n",
      "Epoch 30/100\n",
      "182/182 [==============================] - 1s 3ms/step - loss: 0.4215 - mse: 0.4215 - val_loss: 0.4020 - val_mse: 0.4020\n",
      "Epoch 31/100\n",
      "182/182 [==============================] - 1s 3ms/step - loss: 0.4198 - mse: 0.4198 - val_loss: 0.4006 - val_mse: 0.4006\n",
      "Epoch 32/100\n",
      "182/182 [==============================] - 1s 3ms/step - loss: 0.4167 - mse: 0.4167 - val_loss: 0.4004 - val_mse: 0.4004\n",
      "Epoch 1/100\n",
      "182/182 [==============================] - 1s 4ms/step - loss: 0.9858 - mse: 0.9858 - val_loss: 0.6030 - val_mse: 0.6030\n",
      "Epoch 2/100\n",
      "182/182 [==============================] - 1s 3ms/step - loss: 0.5661 - mse: 0.5661 - val_loss: 0.5094 - val_mse: 0.5094\n",
      "Epoch 3/100\n",
      "182/182 [==============================] - 1s 3ms/step - loss: 0.5044 - mse: 0.5044 - val_loss: 0.4646 - val_mse: 0.4646\n",
      "Epoch 4/100\n",
      "182/182 [==============================] - 1s 3ms/step - loss: 0.5166 - mse: 0.5166 - val_loss: 0.4420 - val_mse: 0.4420\n",
      "Epoch 5/100\n",
      "182/182 [==============================] - 1s 4ms/step - loss: 0.5098 - mse: 0.5098 - val_loss: 0.4299 - val_mse: 0.4299\n",
      "Epoch 6/100\n",
      "182/182 [==============================] - 1s 3ms/step - loss: 0.4518 - mse: 0.4518 - val_loss: 0.4184 - val_mse: 0.4184\n",
      "Epoch 7/100\n",
      "182/182 [==============================] - 1s 3ms/step - loss: 0.4431 - mse: 0.4431 - val_loss: 0.4116 - val_mse: 0.4116\n",
      "Epoch 8/100\n",
      "182/182 [==============================] - 1s 3ms/step - loss: 0.4332 - mse: 0.4332 - val_loss: 0.4084 - val_mse: 0.4084\n",
      "Epoch 9/100\n",
      "182/182 [==============================] - 1s 5ms/step - loss: 0.4222 - mse: 0.4222 - val_loss: 0.4024 - val_mse: 0.4024\n",
      "Epoch 10/100\n",
      "182/182 [==============================] - 1s 4ms/step - loss: 0.4216 - mse: 0.4216 - val_loss: 0.3949 - val_mse: 0.3949\n",
      "Epoch 11/100\n",
      "182/182 [==============================] - 1s 3ms/step - loss: 0.4113 - mse: 0.4113 - val_loss: 0.3894 - val_mse: 0.3894\n",
      "Epoch 12/100\n",
      "182/182 [==============================] - 1s 4ms/step - loss: 0.4098 - mse: 0.4098 - val_loss: 0.3877 - val_mse: 0.3877\n",
      "Epoch 13/100\n",
      "182/182 [==============================] - 1s 3ms/step - loss: 0.4035 - mse: 0.4035 - val_loss: 0.3823 - val_mse: 0.3823\n",
      "Epoch 14/100\n",
      "182/182 [==============================] - 1s 3ms/step - loss: 0.4013 - mse: 0.4013 - val_loss: 0.3810 - val_mse: 0.3810\n",
      "Epoch 15/100\n",
      "182/182 [==============================] - 1s 3ms/step - loss: 0.3970 - mse: 0.3970 - val_loss: 0.3798 - val_mse: 0.3798\n",
      "Epoch 16/100\n",
      "182/182 [==============================] - 1s 3ms/step - loss: 0.3937 - mse: 0.3937 - val_loss: 0.3759 - val_mse: 0.3759\n",
      "Epoch 17/100\n",
      "182/182 [==============================] - 1s 3ms/step - loss: 0.3916 - mse: 0.3916 - val_loss: 0.3772 - val_mse: 0.3772\n",
      "Epoch 18/100\n",
      "182/182 [==============================] - 1s 4ms/step - loss: 0.3911 - mse: 0.3911 - val_loss: 0.3713 - val_mse: 0.3713\n",
      "Epoch 19/100\n",
      "182/182 [==============================] - 1s 3ms/step - loss: 0.3862 - mse: 0.3862 - val_loss: 0.3709 - val_mse: 0.3709\n",
      "Epoch 20/100\n",
      "182/182 [==============================] - 1s 3ms/step - loss: 0.3843 - mse: 0.3843 - val_loss: 0.3692 - val_mse: 0.3692\n",
      "Epoch 21/100\n",
      "182/182 [==============================] - 1s 4ms/step - loss: 0.3826 - mse: 0.3826 - val_loss: 0.3662 - val_mse: 0.3662\n",
      "Epoch 22/100\n",
      "182/182 [==============================] - 1s 3ms/step - loss: 0.3812 - mse: 0.3812 - val_loss: 0.3671 - val_mse: 0.3671\n",
      "Epoch 23/100\n",
      "182/182 [==============================] - 1s 3ms/step - loss: 0.3805 - mse: 0.3805 - val_loss: 0.3649 - val_mse: 0.3649\n",
      "Epoch 1/100\n",
      "182/182 [==============================] - 1s 4ms/step - loss: 0.7912 - mse: 0.7912 - val_loss: 0.4999 - val_mse: 0.4999\n",
      "Epoch 2/100\n",
      "182/182 [==============================] - 1s 4ms/step - loss: 0.4937 - mse: 0.4937 - val_loss: 0.4466 - val_mse: 0.4466\n",
      "Epoch 3/100\n",
      "182/182 [==============================] - 1s 4ms/step - loss: 0.4476 - mse: 0.4476 - val_loss: 0.4306 - val_mse: 0.4306\n",
      "Epoch 4/100\n",
      "182/182 [==============================] - 1s 3ms/step - loss: 0.4239 - mse: 0.4239 - val_loss: 0.4018 - val_mse: 0.4018\n",
      "Epoch 5/100\n",
      "182/182 [==============================] - 1s 3ms/step - loss: 0.4084 - mse: 0.4084 - val_loss: 0.3859 - val_mse: 0.3859\n",
      "Epoch 6/100\n",
      "182/182 [==============================] - 1s 3ms/step - loss: 0.4006 - mse: 0.4006 - val_loss: 0.3731 - val_mse: 0.3731\n",
      "Epoch 7/100\n",
      "182/182 [==============================] - 1s 3ms/step - loss: 0.3925 - mse: 0.3925 - val_loss: 0.3721 - val_mse: 0.3721\n",
      "Epoch 8/100\n",
      "182/182 [==============================] - 1s 3ms/step - loss: 0.3873 - mse: 0.3873 - val_loss: 0.3685 - val_mse: 0.3685\n",
      "Epoch 9/100\n",
      "182/182 [==============================] - 1s 3ms/step - loss: 0.3834 - mse: 0.3834 - val_loss: 0.3613 - val_mse: 0.3613\n",
      "Epoch 10/100\n",
      "182/182 [==============================] - 1s 3ms/step - loss: 0.3778 - mse: 0.3778 - val_loss: 0.3673 - val_mse: 0.3673\n",
      "Epoch 11/100\n",
      "182/182 [==============================] - 1s 3ms/step - loss: 0.3763 - mse: 0.3763 - val_loss: 0.3658 - val_mse: 0.3658\n",
      "Epoch 12/100\n",
      "182/182 [==============================] - 1s 3ms/step - loss: 0.3720 - mse: 0.3720 - val_loss: 0.3760 - val_mse: 0.3760\n",
      "Epoch 13/100\n",
      "182/182 [==============================] - 1s 3ms/step - loss: 0.3709 - mse: 0.3709 - val_loss: 0.3533 - val_mse: 0.3533\n",
      "Epoch 14/100\n",
      "182/182 [==============================] - 1s 3ms/step - loss: 0.3659 - mse: 0.3659 - val_loss: 0.3545 - val_mse: 0.3545\n"
     ]
    }
   ],
   "source": [
    "# 对学习率做超参数搜索\n",
    "learning_rates = [1e-4, 3e-4, 1e-3, 3e-3, 1e-2, 3e-2]\n",
    "\n",
    "histories = []\n",
    "for lr in learning_rates:\n",
    "    model = keras.models.Sequential([\n",
    "        keras.layers.Dense(32, activation='relu', input_shape=x_train.shape[1:]),\n",
    "        keras.layers.Dense(1)\n",
    "    ])\n",
    "    optimizer = keras.optimizers.SGD(lr)\n",
    "    model.compile(loss='mean_squared_error', optimizer=optimizer, metrics=['mse'])\n",
    "    callbacks = [keras.callbacks.EarlyStopping(patience=5, min_delta=1e-2)]\n",
    "    \n",
    "    history = model.fit(x_train_scaled, \n",
    "                        y_train, \n",
    "                        batch_size=64, \n",
    "                        epochs=100, \n",
    "                        validation_data=(x_valid_scaled, y_valid), \n",
    "                        callbacks=callbacks)\n",
    "    histories.append(history)"
   ]
  },
  {
   "cell_type": "code",
   "execution_count": 29,
   "id": "94e67813",
   "metadata": {
    "ExecuteTime": {
     "end_time": "2022-10-14T12:40:03.848694Z",
     "start_time": "2022-10-14T12:40:03.836727Z"
    }
   },
   "outputs": [],
   "source": [
    "import matplotlib.pyplot as plt"
   ]
  },
  {
   "cell_type": "code",
   "execution_count": 30,
   "id": "13864c67",
   "metadata": {
    "ExecuteTime": {
     "end_time": "2022-10-14T12:40:06.887560Z",
     "start_time": "2022-10-14T12:40:06.877587Z"
    }
   },
   "outputs": [],
   "source": [
    "def plot_learning_curve(history):\n",
    "    pd.DataFrame(history.history).plot(figsize=(8, 5))\n",
    "    plt.grid()\n",
    "    plt.gca().set_ylim(0, 1)\n",
    "    plt.show()"
   ]
  },
  {
   "cell_type": "code",
   "execution_count": 31,
   "id": "0e2edc90",
   "metadata": {
    "ExecuteTime": {
     "end_time": "2022-10-14T12:40:09.557413Z",
     "start_time": "2022-10-14T12:40:08.878231Z"
    },
    "scrolled": false
   },
   "outputs": [
    {
     "name": "stdout",
     "output_type": "stream",
     "text": [
      "0.0001\n"
     ]
    },
    {
     "data": {
      "image/png": "[encoded data removed]",
      "text/plain": [
       "<Figure size 576x360 with 1 Axes>"
      ]
     },
     "metadata": {
      "needs_background": "light"
     },
     "output_type": "display_data"
    },
    {
     "name": "stdout",
     "output_type": "stream",
     "text": [
      "0.0003\n"
     ]
    },
    {
     "data": {
      "image/png": "[encoded data removed]",
      "text/plain": [
       "<Figure size 576x360 with 1 Axes>"
      ]
     },
     "metadata": {
      "needs_background": "light"
     },
     "output_type": "display_data"
    },
    {
     "name": "stdout",
     "output_type": "stream",
     "text": [
      "0.001\n"
     ]
    },
    {
     "data": {
      "image/png": "[encoded data removed]",
      "text/plain": [
       "<Figure size 576x360 with 1 Axes>"
      ]
     },
     "metadata": {
      "needs_background": "light"
     },
     "output_type": "display_data"
    },
    {
     "name": "stdout",
     "output_type": "stream",
     "text": [
      "0.003\n"
     ]
    },
    {
     "data": {
      "image/png": "[encoded data removed]",
      "text/plain": [
       "<Figure size 576x360 with 1 Axes>"
      ]
     },
     "metadata": {
      "needs_background": "light"
     },
     "output_type": "display_data"
    },
    {
     "name": "stdout",
     "output_type": "stream",
     "text": [
      "0.01\n"
     ]
    },
    {
     "data": {
      "image/png": "[encoded data removed]",
      "text/plain": [
       "<Figure size 576x360 with 1 Axes>"
      ]
     },
     "metadata": {
      "needs_background": "light"
     },
     "output_type": "display_data"
    },
    {
     "name": "stdout",
     "output_type": "stream",
     "text": [
      "0.03\n"
     ]
    },
    {
     "data": {
      "image/png": "[encoded data removed]",
      "text/plain": [
       "<Figure size 576x360 with 1 Axes>"
      ]
     },
     "metadata": {
      "needs_background": "light"
     },
     "output_type": "display_data"
    }
   ],
   "source": [
    "for lr, history in zip(learning_rates, histories):\n",
    "    print(lr)\n",
    "    plot_learning_curve(history)"
   ]
  }
 ],
 "metadata": {
  "kernelspec": {
   "display_name": "Python 3 (ipykernel)",
   "language": "python",
   "name": "python3"
  },
  "language_info": {
   "codemirror_mode": {
    "name": "ipython",
    "version": 3
   },
   "file_extension": ".py",
   "mimetype": "text/x-python",
   "name": "python",
   "nbconvert_exporter": "python",
   "pygments_lexer": "ipython3",
   "version": "3.7.8"
  },
  "toc": {
   "base_numbering": 1,
   "nav_menu": {},
   "number_sections": true,
   "sideBar": true,
   "skip_h1_title": false,
   "title_cell": "Table of Contents",
   "title_sidebar": "Contents",
   "toc_cell": false,
   "toc_position": {},
   "toc_section_display": true,
   "toc_window_display": false
  }
 },
 "nbformat": 4,
 "nbformat_minor": 5
}
