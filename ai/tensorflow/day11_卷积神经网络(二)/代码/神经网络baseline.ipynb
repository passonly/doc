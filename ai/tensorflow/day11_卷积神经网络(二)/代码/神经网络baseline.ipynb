{
 "cells": [
  {
   "cell_type": "code",
   "execution_count": 1,
   "id": "777ffa77",
   "metadata": {
    "ExecuteTime": {
     "end_time": "2022-10-21T12:52:59.466366Z",
     "start_time": "2022-10-21T12:52:56.251963Z"
    }
   },
   "outputs": [],
   "source": [
    "from tensorflow import keras\n",
    "import tensorflow as tf\n",
    "import numpy as np\n",
    "import pandas as pd\n",
    "import matplotlib.pyplot as plt"
   ]
  },
  {
   "cell_type": "code",
   "execution_count": 4,
   "id": "feeb790e",
   "metadata": {
    "ExecuteTime": {
     "end_time": "2022-10-21T12:54:09.095131Z",
     "start_time": "2022-10-21T12:54:08.365082Z"
    }
   },
   "outputs": [],
   "source": [
    "(x_train_all, y_train_all), (x_test, y_test) = keras.datasets.fashion_mnist.load_data()\n"
   ]
  },
  {
   "cell_type": "code",
   "execution_count": 5,
   "id": "5304efdd",
   "metadata": {
    "ExecuteTime": {
     "end_time": "2022-10-21T12:54:40.366488Z",
     "start_time": "2022-10-21T12:54:40.356515Z"
    }
   },
   "outputs": [
    {
     "data": {
      "text/plain": [
       "(60000, 28, 28)"
      ]
     },
     "execution_count": 5,
     "metadata": {},
     "output_type": "execute_result"
    }
   ],
   "source": [
    "x_train_all.shape"
   ]
  },
  {
   "cell_type": "code",
   "execution_count": 6,
   "id": "4fd04ff1",
   "metadata": {
    "ExecuteTime": {
     "end_time": "2022-10-21T12:54:46.223821Z",
     "start_time": "2022-10-21T12:54:46.211853Z"
    }
   },
   "outputs": [
    {
     "data": {
      "text/plain": [
       "(10000, 28, 28)"
      ]
     },
     "execution_count": 6,
     "metadata": {},
     "output_type": "execute_result"
    }
   ],
   "source": [
    "x_test.shape"
   ]
  },
  {
   "cell_type": "code",
   "execution_count": 8,
   "id": "f9664d7f",
   "metadata": {
    "ExecuteTime": {
     "end_time": "2022-10-21T12:55:03.490638Z",
     "start_time": "2022-10-21T12:55:03.476675Z"
    }
   },
   "outputs": [
    {
     "data": {
      "text/plain": [
       "array([0, 1, 2, 3, 4, 5, 6, 7, 8, 9], dtype=uint8)"
      ]
     },
     "execution_count": 8,
     "metadata": {},
     "output_type": "execute_result"
    }
   ],
   "source": [
    "np.unique(y_train_all)"
   ]
  },
  {
   "cell_type": "code",
   "execution_count": 9,
   "id": "434804bb",
   "metadata": {
    "ExecuteTime": {
     "end_time": "2022-10-21T12:55:35.552880Z",
     "start_time": "2022-10-21T12:55:35.533930Z"
    }
   },
   "outputs": [],
   "source": [
    "x_valid, x_train = x_train_all[:5000], x_train_all[5000:]\n",
    "y_valid, y_train = y_train_all[:5000], y_train_all[5000:]"
   ]
  },
  {
   "cell_type": "code",
   "execution_count": 10,
   "id": "7159d2c2",
   "metadata": {
    "ExecuteTime": {
     "end_time": "2022-10-21T12:55:54.786436Z",
     "start_time": "2022-10-21T12:55:54.780452Z"
    }
   },
   "outputs": [
    {
     "data": {
      "text/plain": [
       "dtype('uint8')"
      ]
     },
     "execution_count": 10,
     "metadata": {},
     "output_type": "execute_result"
    }
   ],
   "source": [
    "x_train_all.dtype"
   ]
  },
  {
   "cell_type": "code",
   "execution_count": 11,
   "id": "f241320b",
   "metadata": {
    "ExecuteTime": {
     "end_time": "2022-10-21T12:58:45.679851Z",
     "start_time": "2022-10-21T12:58:44.419223Z"
    }
   },
   "outputs": [],
   "source": [
    "# 标准化处理\n",
    "from sklearn.preprocessing import StandardScaler\n",
    "\n",
    "scaler = StandardScaler()\n",
    "x_train_scaled = scaler.fit_transform(x_train.reshape(55000, -1) / 255.0)\n",
    "x_valid_scaled = scaler.transform(x_valid.reshape(5000, -1) / 255.0)\n",
    "x_test_scaled = scaler.transform(x_test.reshape(10000, -1) / 255.0)"
   ]
  },
  {
   "cell_type": "code",
   "execution_count": 12,
   "id": "ed0d8f35",
   "metadata": {
    "ExecuteTime": {
     "end_time": "2022-10-21T12:58:52.808783Z",
     "start_time": "2022-10-21T12:58:52.788838Z"
    },
    "scrolled": true
   },
   "outputs": [
    {
     "data": {
      "text/plain": [
       "(55000, 784)"
      ]
     },
     "execution_count": 12,
     "metadata": {},
     "output_type": "execute_result"
    }
   ],
   "source": [
    "x_train_scaled.shape"
   ]
  },
  {
   "cell_type": "code",
   "execution_count": 13,
   "id": "aae7d804",
   "metadata": {
    "ExecuteTime": {
     "end_time": "2022-10-21T12:58:58.615253Z",
     "start_time": "2022-10-21T12:58:58.603285Z"
    }
   },
   "outputs": [
    {
     "data": {
      "text/plain": [
       "dtype('float64')"
      ]
     },
     "execution_count": 13,
     "metadata": {},
     "output_type": "execute_result"
    }
   ],
   "source": [
    "x_train_scaled.dtype"
   ]
  },
  {
   "cell_type": "code",
   "execution_count": 17,
   "id": "62d09e05",
   "metadata": {
    "ExecuteTime": {
     "end_time": "2022-10-21T13:03:15.301691Z",
     "start_time": "2022-10-21T13:03:15.293712Z"
    }
   },
   "outputs": [],
   "source": [
    "def make_dataset(data, target, epochs, batch_size, shuffle=True):\n",
    "    dataset = tf.data.Dataset.from_tensor_slices((data, target))\n",
    "    if shuffle:\n",
    "        dataset = dataset.shuffle(10000)\n",
    "    dataset = dataset.repeat(epochs).batch(batch_size).prefetch(50)\n",
    "    return dataset"
   ]
  },
  {
   "cell_type": "code",
   "execution_count": 18,
   "id": "8847a681",
   "metadata": {
    "ExecuteTime": {
     "end_time": "2022-10-21T13:03:20.550651Z",
     "start_time": "2022-10-21T13:03:20.219537Z"
    }
   },
   "outputs": [],
   "source": [
    "batch_size = 64\n",
    "epochs = 30\n",
    "train_dataset = make_dataset(x_train_scaled, y_train, epochs, batch_size)"
   ]
  },
  {
   "cell_type": "code",
   "execution_count": 20,
   "id": "611e3ada",
   "metadata": {
    "ExecuteTime": {
     "end_time": "2022-10-21T13:05:56.209312Z",
     "start_time": "2022-10-21T13:05:56.100600Z"
    }
   },
   "outputs": [],
   "source": [
    "# 创建model\n",
    "model = keras.models.Sequential()\n",
    "model.add(keras.layers.Dense(512, activation='relu', input_shape=(784,)))\n",
    "model.add(keras.layers.Dense(256, activation='relu'))\n",
    "model.add(keras.layers.Dense(10, activation='softmax'))\n",
    "\n",
    "model.compile(loss='sparse_categorical_crossentropy', optimizer='adam', metrics=['acc'])"
   ]
  },
  {
   "cell_type": "code",
   "execution_count": 21,
   "id": "1cbdce74",
   "metadata": {
    "ExecuteTime": {
     "end_time": "2022-10-21T13:06:07.274714Z",
     "start_time": "2022-10-21T13:06:07.243796Z"
    },
    "scrolled": true
   },
   "outputs": [
    {
     "name": "stdout",
     "output_type": "stream",
     "text": [
      "Model: \"sequential\"\n",
      "_________________________________________________________________\n",
      " Layer (type)                Output Shape              Param #   \n",
      "=================================================================\n",
      " dense (Dense)               (None, 512)               401920    \n",
      "                                                                 \n",
      " dense_1 (Dense)             (None, 256)               131328    \n",
      "                                                                 \n",
      " dense_2 (Dense)             (None, 10)                2570      \n",
      "                                                                 \n",
      "=================================================================\n",
      "Total params: 535,818\n",
      "Trainable params: 535,818\n",
      "Non-trainable params: 0\n",
      "_________________________________________________________________\n"
     ]
    }
   ],
   "source": [
    "model.summary()"
   ]
  },
  {
   "cell_type": "code",
   "execution_count": 22,
   "id": "f733ba77",
   "metadata": {
    "ExecuteTime": {
     "end_time": "2022-10-21T13:06:42.925359Z",
     "start_time": "2022-10-21T13:06:42.879481Z"
    }
   },
   "outputs": [],
   "source": [
    "eval_dataset = make_dataset(x_valid_scaled, y_valid, epochs=1, batch_size=32, shuffle=False)"
   ]
  },
  {
   "cell_type": "code",
   "execution_count": 24,
   "id": "f4448f7e",
   "metadata": {
    "ExecuteTime": {
     "end_time": "2022-10-21T13:09:19.510539Z",
     "start_time": "2022-10-21T13:07:53.828712Z"
    },
    "collapsed": true
   },
   "outputs": [
    {
     "name": "stdout",
     "output_type": "stream",
     "text": [
      "Epoch 1/30\n",
      "859/859 [==============================] - 5s 3ms/step - loss: 0.4347 - acc: 0.8411 - val_loss: 0.3621 - val_acc: 0.8678\n",
      "Epoch 2/30\n",
      "859/859 [==============================] - 3s 3ms/step - loss: 0.3249 - acc: 0.8797 - val_loss: 0.3318 - val_acc: 0.8808\n",
      "Epoch 3/30\n",
      "859/859 [==============================] - 3s 3ms/step - loss: 0.2852 - acc: 0.8928 - val_loss: 0.3480 - val_acc: 0.8754\n",
      "Epoch 4/30\n",
      "859/859 [==============================] - 3s 3ms/step - loss: 0.2581 - acc: 0.9032 - val_loss: 0.3365 - val_acc: 0.8826\n",
      "Epoch 5/30\n",
      "859/859 [==============================] - 3s 3ms/step - loss: 0.2381 - acc: 0.9105 - val_loss: 0.3113 - val_acc: 0.8888\n",
      "Epoch 6/30\n",
      "859/859 [==============================] - 3s 3ms/step - loss: 0.2172 - acc: 0.9187 - val_loss: 0.3346 - val_acc: 0.8916\n",
      "Epoch 7/30\n",
      "859/859 [==============================] - 3s 3ms/step - loss: 0.1991 - acc: 0.9252 - val_loss: 0.3241 - val_acc: 0.8952\n",
      "Epoch 8/30\n",
      "859/859 [==============================] - 3s 3ms/step - loss: 0.1842 - acc: 0.9300 - val_loss: 0.3492 - val_acc: 0.8900\n",
      "Epoch 9/30\n",
      "859/859 [==============================] - 3s 3ms/step - loss: 0.1714 - acc: 0.9353 - val_loss: 0.3430 - val_acc: 0.8914\n",
      "Epoch 10/30\n",
      "859/859 [==============================] - 3s 3ms/step - loss: 0.1587 - acc: 0.9392 - val_loss: 0.3866 - val_acc: 0.8918\n",
      "Epoch 11/30\n",
      "859/859 [==============================] - 3s 3ms/step - loss: 0.1456 - acc: 0.9449 - val_loss: 0.3838 - val_acc: 0.8912\n",
      "Epoch 12/30\n",
      "859/859 [==============================] - 3s 3ms/step - loss: 0.1398 - acc: 0.9486 - val_loss: 0.3987 - val_acc: 0.8876\n",
      "Epoch 13/30\n",
      "859/859 [==============================] - 3s 3ms/step - loss: 0.1277 - acc: 0.9513 - val_loss: 0.4103 - val_acc: 0.8880\n",
      "Epoch 14/30\n",
      "859/859 [==============================] - 3s 3ms/step - loss: 0.1229 - acc: 0.9546 - val_loss: 0.4247 - val_acc: 0.8934\n",
      "Epoch 15/30\n",
      "859/859 [==============================] - 3s 3ms/step - loss: 0.1091 - acc: 0.9600 - val_loss: 0.4462 - val_acc: 0.8880\n",
      "Epoch 16/30\n",
      "859/859 [==============================] - 3s 3ms/step - loss: 0.1067 - acc: 0.9597 - val_loss: 0.4755 - val_acc: 0.8942\n",
      "Epoch 17/30\n",
      "859/859 [==============================] - 3s 3ms/step - loss: 0.1043 - acc: 0.9609 - val_loss: 0.4785 - val_acc: 0.8948\n",
      "Epoch 18/30\n",
      "859/859 [==============================] - 3s 3ms/step - loss: 0.0952 - acc: 0.9649 - val_loss: 0.4863 - val_acc: 0.8938\n",
      "Epoch 19/30\n",
      "859/859 [==============================] - 3s 3ms/step - loss: 0.0903 - acc: 0.9670 - val_loss: 0.5512 - val_acc: 0.8924\n",
      "Epoch 20/30\n",
      "859/859 [==============================] - 3s 3ms/step - loss: 0.0851 - acc: 0.9683 - val_loss: 0.5441 - val_acc: 0.8936\n",
      "Epoch 21/30\n",
      "859/859 [==============================] - 3s 3ms/step - loss: 0.0827 - acc: 0.9694 - val_loss: 0.5791 - val_acc: 0.8934\n",
      "Epoch 22/30\n",
      "859/859 [==============================] - 3s 3ms/step - loss: 0.0830 - acc: 0.9697 - val_loss: 0.5436 - val_acc: 0.8970\n",
      "Epoch 23/30\n",
      "859/859 [==============================] - 3s 3ms/step - loss: 0.0788 - acc: 0.9722 - val_loss: 0.5884 - val_acc: 0.8960\n",
      "Epoch 24/30\n",
      "859/859 [==============================] - 3s 3ms/step - loss: 0.0751 - acc: 0.9729 - val_loss: 0.5938 - val_acc: 0.8960\n",
      "Epoch 25/30\n",
      "859/859 [==============================] - 3s 3ms/step - loss: 0.0733 - acc: 0.9736 - val_loss: 0.6474 - val_acc: 0.8960\n",
      "Epoch 26/30\n",
      "859/859 [==============================] - 3s 3ms/step - loss: 0.0675 - acc: 0.9768 - val_loss: 0.6379 - val_acc: 0.9004\n",
      "Epoch 27/30\n",
      "859/859 [==============================] - 3s 3ms/step - loss: 0.0711 - acc: 0.9750 - val_loss: 0.6812 - val_acc: 0.8900\n",
      "Epoch 28/30\n",
      "859/859 [==============================] - 3s 3ms/step - loss: 0.0730 - acc: 0.9744 - val_loss: 0.6670 - val_acc: 0.8906\n",
      "Epoch 29/30\n",
      "859/859 [==============================] - 3s 3ms/step - loss: 0.0577 - acc: 0.9794 - val_loss: 0.6892 - val_acc: 0.8984\n",
      "Epoch 30/30\n",
      "859/859 [==============================] - 3s 3ms/step - loss: 0.0602 - acc: 0.9790 - val_loss: 0.7265 - val_acc: 0.8998\n"
     ]
    }
   ],
   "source": [
    "history = model.fit(train_dataset,\n",
    "                   steps_per_epoch=x_train_scaled.shape[0] // batch_size,\n",
    "                   epochs=30,\n",
    "                   validation_data=eval_dataset)"
   ]
  },
  {
   "cell_type": "code",
   "execution_count": 25,
   "id": "e1703652",
   "metadata": {
    "ExecuteTime": {
     "end_time": "2022-10-21T13:22:32.195840Z",
     "start_time": "2022-10-21T13:22:32.122037Z"
    }
   },
   "outputs": [],
   "source": [
    "test_dataset = make_dataset(x_test_scaled, y_test, 1, 32)"
   ]
  },
  {
   "cell_type": "code",
   "execution_count": 26,
   "id": "91f77735",
   "metadata": {
    "ExecuteTime": {
     "end_time": "2022-10-21T13:22:38.281563Z",
     "start_time": "2022-10-21T13:22:37.269270Z"
    }
   },
   "outputs": [
    {
     "name": "stdout",
     "output_type": "stream",
     "text": [
      "313/313 [==============================] - 1s 3ms/step - loss: 0.7457 - acc: 0.8942\n"
     ]
    },
    {
     "data": {
      "text/plain": [
       "[0.745733380317688, 0.8942000269889832]"
      ]
     },
     "execution_count": 26,
     "metadata": {},
     "output_type": "execute_result"
    }
   ],
   "source": [
    "model.evaluate(test_dataset)"
   ]
  }
 ],
 "metadata": {
  "kernelspec": {
   "display_name": "Python 3 (ipykernel)",
   "language": "python",
   "name": "python3"
  },
  "language_info": {
   "codemirror_mode": {
    "name": "ipython",
    "version": 3
   },
   "file_extension": ".py",
   "mimetype": "text/x-python",
   "name": "python",
   "nbconvert_exporter": "python",
   "pygments_lexer": "ipython3",
   "version": "3.7.8"
  },
  "toc": {
   "base_numbering": 1,
   "nav_menu": {},
   "number_sections": true,
   "sideBar": true,
   "skip_h1_title": false,
   "title_cell": "Table of Contents",
   "title_sidebar": "Contents",
   "toc_cell": false,
   "toc_position": {},
   "toc_section_display": true,
   "toc_window_display": false
  }
 },
 "nbformat": 4,
 "nbformat_minor": 5
}
