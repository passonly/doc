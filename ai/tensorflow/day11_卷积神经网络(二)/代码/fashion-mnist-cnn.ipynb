{
 "cells": [
  {
   "cell_type": "code",
   "execution_count": 18,
   "id": "777ffa77",
   "metadata": {
    "ExecuteTime": {
     "end_time": "2022-10-21T13:50:04.421665Z",
     "start_time": "2022-10-21T13:50:04.410694Z"
    }
   },
   "outputs": [],
   "source": [
    "from tensorflow import keras\n",
    "import tensorflow as tf\n",
    "import numpy as np\n",
    "import pandas as pd\n",
    "import matplotlib.pyplot as plt"
   ]
  },
  {
   "cell_type": "code",
   "execution_count": 19,
   "id": "feeb790e",
   "metadata": {
    "ExecuteTime": {
     "end_time": "2022-10-21T13:50:04.811622Z",
     "start_time": "2022-10-21T13:50:04.423660Z"
    }
   },
   "outputs": [],
   "source": [
    "(x_train_all, y_train_all), (x_test, y_test) = keras.datasets.fashion_mnist.load_data()\n"
   ]
  },
  {
   "cell_type": "code",
   "execution_count": 20,
   "id": "5304efdd",
   "metadata": {
    "ExecuteTime": {
     "end_time": "2022-10-21T13:50:04.827579Z",
     "start_time": "2022-10-21T13:50:04.812619Z"
    }
   },
   "outputs": [
    {
     "data": {
      "text/plain": [
       "(60000, 28, 28)"
      ]
     },
     "execution_count": 20,
     "metadata": {},
     "output_type": "execute_result"
    }
   ],
   "source": [
    "x_train_all.shape"
   ]
  },
  {
   "cell_type": "code",
   "execution_count": 21,
   "id": "4fd04ff1",
   "metadata": {
    "ExecuteTime": {
     "end_time": "2022-10-21T13:50:04.842539Z",
     "start_time": "2022-10-21T13:50:04.829574Z"
    }
   },
   "outputs": [
    {
     "data": {
      "text/plain": [
       "(10000, 28, 28)"
      ]
     },
     "execution_count": 21,
     "metadata": {},
     "output_type": "execute_result"
    }
   ],
   "source": [
    "x_test.shape"
   ]
  },
  {
   "cell_type": "code",
   "execution_count": 22,
   "id": "f9664d7f",
   "metadata": {
    "ExecuteTime": {
     "end_time": "2022-10-21T13:50:04.873457Z",
     "start_time": "2022-10-21T13:50:04.846529Z"
    }
   },
   "outputs": [
    {
     "data": {
      "text/plain": [
       "array([0, 1, 2, 3, 4, 5, 6, 7, 8, 9], dtype=uint8)"
      ]
     },
     "execution_count": 22,
     "metadata": {},
     "output_type": "execute_result"
    }
   ],
   "source": [
    "np.unique(y_train_all)"
   ]
  },
  {
   "cell_type": "code",
   "execution_count": 23,
   "id": "434804bb",
   "metadata": {
    "ExecuteTime": {
     "end_time": "2022-10-21T13:50:04.889414Z",
     "start_time": "2022-10-21T13:50:04.875452Z"
    }
   },
   "outputs": [],
   "source": [
    "x_valid, x_train = x_train_all[:5000], x_train_all[5000:]\n",
    "y_valid, y_train = y_train_all[:5000], y_train_all[5000:]"
   ]
  },
  {
   "cell_type": "code",
   "execution_count": 24,
   "id": "7159d2c2",
   "metadata": {
    "ExecuteTime": {
     "end_time": "2022-10-21T13:50:04.904374Z",
     "start_time": "2022-10-21T13:50:04.893404Z"
    }
   },
   "outputs": [
    {
     "data": {
      "text/plain": [
       "dtype('uint8')"
      ]
     },
     "execution_count": 24,
     "metadata": {},
     "output_type": "execute_result"
    }
   ],
   "source": [
    "x_train_all.dtype"
   ]
  },
  {
   "cell_type": "code",
   "execution_count": 25,
   "id": "f241320b",
   "metadata": {
    "ExecuteTime": {
     "end_time": "2022-10-21T13:50:06.144058Z",
     "start_time": "2022-10-21T13:50:04.906369Z"
    }
   },
   "outputs": [],
   "source": [
    "# 标准化处理\n",
    "from sklearn.preprocessing import StandardScaler\n",
    "\n",
    "scaler = StandardScaler()\n",
    "x_train_scaled = scaler.fit_transform(x_train.reshape(55000, -1) / 255.0).reshape(-1, 28, 28, 1)\n",
    "x_valid_scaled = scaler.transform(x_valid.reshape(5000, -1) / 255.0).reshape(-1, 28, 28, 1)\n",
    "x_test_scaled = scaler.transform(x_test.reshape(10000, -1) / 255.0).reshape(-1, 28, 28, 1)"
   ]
  },
  {
   "cell_type": "code",
   "execution_count": 26,
   "id": "ed0d8f35",
   "metadata": {
    "ExecuteTime": {
     "end_time": "2022-10-21T13:50:06.160016Z",
     "start_time": "2022-10-21T13:50:06.145055Z"
    },
    "scrolled": true
   },
   "outputs": [
    {
     "data": {
      "text/plain": [
       "(55000, 28, 28, 1)"
      ]
     },
     "execution_count": 26,
     "metadata": {},
     "output_type": "execute_result"
    }
   ],
   "source": [
    "x_train_scaled.shape"
   ]
  },
  {
   "cell_type": "code",
   "execution_count": 27,
   "id": "aae7d804",
   "metadata": {
    "ExecuteTime": {
     "end_time": "2022-10-21T13:50:06.174979Z",
     "start_time": "2022-10-21T13:50:06.163007Z"
    }
   },
   "outputs": [
    {
     "data": {
      "text/plain": [
       "dtype('float64')"
      ]
     },
     "execution_count": 27,
     "metadata": {},
     "output_type": "execute_result"
    }
   ],
   "source": [
    "x_train_scaled.dtype"
   ]
  },
  {
   "cell_type": "code",
   "execution_count": 28,
   "id": "62d09e05",
   "metadata": {
    "ExecuteTime": {
     "end_time": "2022-10-21T13:50:06.204896Z",
     "start_time": "2022-10-21T13:50:06.176970Z"
    }
   },
   "outputs": [],
   "source": [
    "def make_dataset(data, target, epochs, batch_size, shuffle=True):\n",
    "    dataset = tf.data.Dataset.from_tensor_slices((data, target))\n",
    "    if shuffle:\n",
    "        dataset = dataset.shuffle(10000)\n",
    "    dataset = dataset.repeat(epochs).batch(batch_size).prefetch(50)\n",
    "    return dataset"
   ]
  },
  {
   "cell_type": "code",
   "execution_count": 29,
   "id": "8847a681",
   "metadata": {
    "ExecuteTime": {
     "end_time": "2022-10-21T13:50:06.530026Z",
     "start_time": "2022-10-21T13:50:06.206890Z"
    }
   },
   "outputs": [],
   "source": [
    "batch_size = 64\n",
    "epochs = 30\n",
    "train_dataset = make_dataset(x_train_scaled, y_train, epochs, batch_size)"
   ]
  },
  {
   "cell_type": "code",
   "execution_count": 30,
   "id": "611e3ada",
   "metadata": {
    "ExecuteTime": {
     "end_time": "2022-10-21T13:50:06.638737Z",
     "start_time": "2022-10-21T13:50:06.532021Z"
    }
   },
   "outputs": [],
   "source": [
    "# 创建model\n",
    "model = keras.models.Sequential()\n",
    "model.add(keras.layers.Conv2D(filters = 32,\n",
    "                             kernel_size = 3,\n",
    "                             padding = 'same',\n",
    "                             activation = 'relu',\n",
    "                             input_shape = (28, 28, 1)))\n",
    "        \n",
    "\n",
    "model.add(keras.layers.Conv2D(filters = 32,\n",
    "                             kernel_size = 3,\n",
    "                             padding = 'same',\n",
    "                             activation = 'relu'))\n",
    "          \n",
    "# 池化          \n",
    "model.add(keras.layers.MaxPool2D())          \n",
    "\n",
    "model.add(keras.layers.Conv2D(filters = 64,\n",
    "                             kernel_size = 3,\n",
    "                             padding = 'same',\n",
    "                             activation = 'relu'))\n",
    "model.add(keras.layers.Conv2D(filters = 64,\n",
    "                             kernel_size = 3,\n",
    "                             padding = 'same',\n",
    "                             activation = 'relu'))\n",
    "\n",
    "model.add(keras.layers.MaxPool2D())   \n",
    "\n",
    "model.add(keras.layers.Conv2D(filters = 128,\n",
    "                             kernel_size = 3,\n",
    "                             padding = 'same',\n",
    "                             activation = 'relu'))\n",
    "\n",
    "model.add(keras.layers.Conv2D(filters = 128,\n",
    "                             kernel_size = 3,\n",
    "                             padding = 'same',\n",
    "                             activation = 'relu'))\n",
    "\n",
    "model.add(keras.layers.MaxPool2D())\n",
    "\n",
    "# flatten之后放到全连接\n",
    "model.add(keras.layers.Flatten())\n",
    "model.add(keras.layers.Dense(512, activation='relu'))\n",
    "model.add(keras.layers.Dense(256, activation='relu'))\n",
    "model.add(keras.layers.Dense(10, activation='softmax'))\n",
    "\n",
    "model.compile(loss='sparse_categorical_crossentropy', optimizer='adam', metrics=['acc'])"
   ]
  },
  {
   "cell_type": "code",
   "execution_count": 31,
   "id": "1cbdce74",
   "metadata": {
    "ExecuteTime": {
     "end_time": "2022-10-21T13:50:06.668656Z",
     "start_time": "2022-10-21T13:50:06.640730Z"
    },
    "scrolled": false
   },
   "outputs": [
    {
     "name": "stdout",
     "output_type": "stream",
     "text": [
      "Model: \"sequential_1\"\n",
      "_________________________________________________________________\n",
      " Layer (type)                Output Shape              Param #   \n",
      "=================================================================\n",
      " conv2d_6 (Conv2D)           (None, 28, 28, 32)        320       \n",
      "                                                                 \n",
      " conv2d_7 (Conv2D)           (None, 28, 28, 32)        9248      \n",
      "                                                                 \n",
      " max_pooling2d_3 (MaxPooling  (None, 14, 14, 32)       0         \n",
      " 2D)                                                             \n",
      "                                                                 \n",
      " conv2d_8 (Conv2D)           (None, 14, 14, 64)        18496     \n",
      "                                                                 \n",
      " conv2d_9 (Conv2D)           (None, 14, 14, 64)        36928     \n",
      "                                                                 \n",
      " max_pooling2d_4 (MaxPooling  (None, 7, 7, 64)         0         \n",
      " 2D)                                                             \n",
      "                                                                 \n",
      " conv2d_10 (Conv2D)          (None, 7, 7, 128)         73856     \n",
      "                                                                 \n",
      " conv2d_11 (Conv2D)          (None, 7, 7, 128)         147584    \n",
      "                                                                 \n",
      " max_pooling2d_5 (MaxPooling  (None, 3, 3, 128)        0         \n",
      " 2D)                                                             \n",
      "                                                                 \n",
      " flatten_1 (Flatten)         (None, 1152)              0         \n",
      "                                                                 \n",
      " dense_3 (Dense)             (None, 512)               590336    \n",
      "                                                                 \n",
      " dense_4 (Dense)             (None, 256)               131328    \n",
      "                                                                 \n",
      " dense_5 (Dense)             (None, 10)                2570      \n",
      "                                                                 \n",
      "=================================================================\n",
      "Total params: 1,010,666\n",
      "Trainable params: 1,010,666\n",
      "Non-trainable params: 0\n",
      "_________________________________________________________________\n"
     ]
    }
   ],
   "source": [
    "model.summary()"
   ]
  },
  {
   "cell_type": "code",
   "execution_count": 32,
   "id": "f733ba77",
   "metadata": {
    "ExecuteTime": {
     "end_time": "2022-10-21T13:50:06.698575Z",
     "start_time": "2022-10-21T13:50:06.669653Z"
    }
   },
   "outputs": [],
   "source": [
    "eval_dataset = make_dataset(x_valid_scaled, y_valid, epochs=1, batch_size=32, shuffle=False)"
   ]
  },
  {
   "cell_type": "code",
   "execution_count": 33,
   "id": "f4448f7e",
   "metadata": {
    "ExecuteTime": {
     "end_time": "2022-10-21T13:54:05.072992Z",
     "start_time": "2022-10-21T13:50:06.699572Z"
    }
   },
   "outputs": [
    {
     "name": "stdout",
     "output_type": "stream",
     "text": [
      "Epoch 1/30\n",
      "859/859 [==============================] - 20s 9ms/step - loss: 0.4610 - acc: 0.8300 - val_loss: 0.3347 - val_acc: 0.8674\n",
      "Epoch 2/30\n",
      "859/859 [==============================] - 7s 8ms/step - loss: 0.2771 - acc: 0.8977 - val_loss: 0.2597 - val_acc: 0.9016\n",
      "Epoch 3/30\n",
      "859/859 [==============================] - 7s 9ms/step - loss: 0.2258 - acc: 0.9163 - val_loss: 0.2346 - val_acc: 0.9108\n",
      "Epoch 4/30\n",
      "859/859 [==============================] - 8s 9ms/step - loss: 0.1957 - acc: 0.9273 - val_loss: 0.2232 - val_acc: 0.9194\n",
      "Epoch 5/30\n",
      "859/859 [==============================] - 7s 9ms/step - loss: 0.1674 - acc: 0.9375 - val_loss: 0.2316 - val_acc: 0.9208\n",
      "Epoch 6/30\n",
      "859/859 [==============================] - 8s 9ms/step - loss: 0.1471 - acc: 0.9448 - val_loss: 0.2373 - val_acc: 0.9200\n",
      "Epoch 7/30\n",
      "859/859 [==============================] - 7s 8ms/step - loss: 0.1296 - acc: 0.9510 - val_loss: 0.2484 - val_acc: 0.9220\n",
      "Epoch 8/30\n",
      "859/859 [==============================] - 8s 9ms/step - loss: 0.1121 - acc: 0.9579 - val_loss: 0.2595 - val_acc: 0.9200\n",
      "Epoch 9/30\n",
      "859/859 [==============================] - 7s 9ms/step - loss: 0.1019 - acc: 0.9624 - val_loss: 0.2682 - val_acc: 0.9250\n",
      "Epoch 10/30\n",
      "859/859 [==============================] - 7s 8ms/step - loss: 0.0871 - acc: 0.9679 - val_loss: 0.2619 - val_acc: 0.9280\n",
      "Epoch 11/30\n",
      "859/859 [==============================] - 7s 8ms/step - loss: 0.0812 - acc: 0.9702 - val_loss: 0.3134 - val_acc: 0.9222\n",
      "Epoch 12/30\n",
      "859/859 [==============================] - 8s 9ms/step - loss: 0.0697 - acc: 0.9737 - val_loss: 0.3207 - val_acc: 0.9204\n",
      "Epoch 13/30\n",
      "859/859 [==============================] - 8s 9ms/step - loss: 0.0650 - acc: 0.9757 - val_loss: 0.3121 - val_acc: 0.9218\n",
      "Epoch 14/30\n",
      "859/859 [==============================] - 8s 9ms/step - loss: 0.0596 - acc: 0.9789 - val_loss: 0.3565 - val_acc: 0.9248\n",
      "Epoch 15/30\n",
      "859/859 [==============================] - 7s 8ms/step - loss: 0.0551 - acc: 0.9803 - val_loss: 0.3485 - val_acc: 0.9242\n",
      "Epoch 16/30\n",
      "859/859 [==============================] - 8s 9ms/step - loss: 0.0520 - acc: 0.9812 - val_loss: 0.3641 - val_acc: 0.9282\n",
      "Epoch 17/30\n",
      "859/859 [==============================] - 7s 9ms/step - loss: 0.0495 - acc: 0.9824 - val_loss: 0.3773 - val_acc: 0.9210\n",
      "Epoch 18/30\n",
      "859/859 [==============================] - 9s 10ms/step - loss: 0.0480 - acc: 0.9832 - val_loss: 0.4163 - val_acc: 0.9206\n",
      "Epoch 19/30\n",
      "859/859 [==============================] - 9s 10ms/step - loss: 0.0472 - acc: 0.9834 - val_loss: 0.4188 - val_acc: 0.9256\n",
      "Epoch 20/30\n",
      "859/859 [==============================] - 7s 8ms/step - loss: 0.0444 - acc: 0.9859 - val_loss: 0.4142 - val_acc: 0.9274\n",
      "Epoch 21/30\n",
      "859/859 [==============================] - 7s 8ms/step - loss: 0.0387 - acc: 0.9866 - val_loss: 0.4039 - val_acc: 0.9240\n",
      "Epoch 22/30\n",
      "859/859 [==============================] - 7s 8ms/step - loss: 0.0425 - acc: 0.9854 - val_loss: 0.4749 - val_acc: 0.9248\n",
      "Epoch 23/30\n",
      "859/859 [==============================] - 7s 8ms/step - loss: 0.0435 - acc: 0.9852 - val_loss: 0.4665 - val_acc: 0.9176\n",
      "Epoch 24/30\n",
      "859/859 [==============================] - 8s 9ms/step - loss: 0.0434 - acc: 0.9857 - val_loss: 0.5047 - val_acc: 0.9210\n",
      "Epoch 25/30\n",
      "859/859 [==============================] - 7s 8ms/step - loss: 0.0354 - acc: 0.9882 - val_loss: 0.4220 - val_acc: 0.9240\n",
      "Epoch 26/30\n",
      "859/859 [==============================] - 7s 8ms/step - loss: 0.0376 - acc: 0.9878 - val_loss: 0.5233 - val_acc: 0.9242\n",
      "Epoch 27/30\n",
      "859/859 [==============================] - 7s 8ms/step - loss: 0.0415 - acc: 0.9862 - val_loss: 0.4467 - val_acc: 0.9262\n",
      "Epoch 28/30\n",
      "859/859 [==============================] - 7s 8ms/step - loss: 0.0435 - acc: 0.9864 - val_loss: 0.4963 - val_acc: 0.9190\n",
      "Epoch 29/30\n",
      "859/859 [==============================] - 7s 8ms/step - loss: 0.0349 - acc: 0.9884 - val_loss: 0.5013 - val_acc: 0.9232\n",
      "Epoch 30/30\n",
      "859/859 [==============================] - 7s 9ms/step - loss: 0.0345 - acc: 0.9891 - val_loss: 0.5153 - val_acc: 0.9230\n"
     ]
    }
   ],
   "source": [
    "history = model.fit(train_dataset,\n",
    "                   steps_per_epoch=x_train_scaled.shape[0] // batch_size,\n",
    "                   epochs=30,\n",
    "                   validation_data=eval_dataset)"
   ]
  },
  {
   "cell_type": "code",
   "execution_count": 34,
   "id": "e1703652",
   "metadata": {
    "ExecuteTime": {
     "end_time": "2022-10-21T13:54:05.147794Z",
     "start_time": "2022-10-21T13:54:05.074987Z"
    }
   },
   "outputs": [],
   "source": [
    "test_dataset = make_dataset(x_test_scaled, y_test, 1, 32)"
   ]
  },
  {
   "cell_type": "code",
   "execution_count": 35,
   "id": "91f77735",
   "metadata": {
    "ExecuteTime": {
     "end_time": "2022-10-21T13:54:06.467264Z",
     "start_time": "2022-10-21T13:54:05.149787Z"
    }
   },
   "outputs": [
    {
     "name": "stdout",
     "output_type": "stream",
     "text": [
      "313/313 [==============================] - 1s 4ms/step - loss: 0.5964 - acc: 0.9152\n"
     ]
    },
    {
     "data": {
      "text/plain": [
       "[0.5964409112930298, 0.9151999950408936]"
      ]
     },
     "execution_count": 35,
     "metadata": {},
     "output_type": "execute_result"
    }
   ],
   "source": [
    "model.evaluate(test_dataset)"
   ]
  }
 ],
 "metadata": {
  "kernelspec": {
   "display_name": "Python 3 (ipykernel)",
   "language": "python",
   "name": "python3"
  },
  "language_info": {
   "codemirror_mode": {
    "name": "ipython",
    "version": 3
   },
   "file_extension": ".py",
   "mimetype": "text/x-python",
   "name": "python",
   "nbconvert_exporter": "python",
   "pygments_lexer": "ipython3",
   "version": "3.7.8"
  },
  "toc": {
   "base_numbering": 1,
   "nav_menu": {},
   "number_sections": true,
   "sideBar": true,
   "skip_h1_title": false,
   "title_cell": "Table of Contents",
   "title_sidebar": "Contents",
   "toc_cell": false,
   "toc_position": {},
   "toc_section_display": true,
   "toc_window_display": false
  }
 },
 "nbformat": 4,
 "nbformat_minor": 5
}
