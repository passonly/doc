{
 "cells": [
  {
   "cell_type": "code",
   "execution_count": null,
   "id": "d7eadf1b",
   "metadata": {},
   "outputs": [],
   "source": [
    "# 研究加了padding之后, 图片长宽的变化. \n",
    "# padding只有2种情况, 一种是same, 一种是valid\n",
    "# 因为stride不一定是1了. "
   ]
  },
  {
   "cell_type": "code",
   "execution_count": 2,
   "id": "5e7e11e5",
   "metadata": {
    "ExecuteTime": {
     "end_time": "2022-11-07T12:49:54.551425Z",
     "start_time": "2022-11-07T12:49:43.682483Z"
    }
   },
   "outputs": [],
   "source": [
    "from tensorflow import keras"
   ]
  },
  {
   "cell_type": "markdown",
   "id": "d215c0b1",
   "metadata": {},
   "source": [
    "### padding = valid"
   ]
  },
  {
   "cell_type": "markdown",
   "id": "4fa981a6",
   "metadata": {},
   "source": [
    "$$N = \\frac{W - F + 1}{S} (向上取整)$$\n",
    "W 是图片尺寸\n",
    "F是卷积核尺寸\n",
    "S是步长"
   ]
  },
  {
   "cell_type": "code",
   "execution_count": 5,
   "id": "21be4f18",
   "metadata": {
    "ExecuteTime": {
     "end_time": "2022-11-07T12:53:33.737810Z",
     "start_time": "2022-11-07T12:53:33.715870Z"
    }
   },
   "outputs": [],
   "source": [
    "model = keras.Sequential([\n",
    "    keras.layers.Input(shape=(9, 9, 3), dtype='float32'),\n",
    "    keras.layers.MaxPool2D(pool_size=3, strides=2, padding='valid')\n",
    "])"
   ]
  },
  {
   "cell_type": "code",
   "execution_count": 6,
   "id": "212bb2e6",
   "metadata": {
    "ExecuteTime": {
     "end_time": "2022-11-07T12:53:40.320213Z",
     "start_time": "2022-11-07T12:53:40.307246Z"
    },
    "scrolled": false
   },
   "outputs": [
    {
     "name": "stdout",
     "output_type": "stream",
     "text": [
      "Model: \"sequential_1\"\n",
      "_________________________________________________________________\n",
      " Layer (type)                Output Shape              Param #   \n",
      "=================================================================\n",
      " max_pooling2d_1 (MaxPooling  (None, 4, 4, 3)          0         \n",
      " 2D)                                                             \n",
      "                                                                 \n",
      "=================================================================\n",
      "Total params: 0\n",
      "Trainable params: 0\n",
      "Non-trainable params: 0\n",
      "_________________________________________________________________\n"
     ]
    }
   ],
   "source": [
    "model.summary()"
   ]
  },
  {
   "cell_type": "code",
   "execution_count": 10,
   "id": "90b67c80",
   "metadata": {
    "ExecuteTime": {
     "end_time": "2022-11-07T12:57:23.702202Z",
     "start_time": "2022-11-07T12:57:23.683251Z"
    }
   },
   "outputs": [],
   "source": [
    "model = keras.Sequential([\n",
    "    keras.layers.Input(shape=(8, 8, 3), dtype='float32'),\n",
    "    keras.layers.Conv2D(64, 3, 2, padding='valid')\n",
    "])"
   ]
  },
  {
   "cell_type": "code",
   "execution_count": 11,
   "id": "85c1542d",
   "metadata": {
    "ExecuteTime": {
     "end_time": "2022-11-07T12:57:23.931587Z",
     "start_time": "2022-11-07T12:57:23.923608Z"
    }
   },
   "outputs": [
    {
     "name": "stdout",
     "output_type": "stream",
     "text": [
      "Model: \"sequential_4\"\n",
      "_________________________________________________________________\n",
      " Layer (type)                Output Shape              Param #   \n",
      "=================================================================\n",
      " conv2d_2 (Conv2D)           (None, 3, 3, 64)          1792      \n",
      "                                                                 \n",
      "=================================================================\n",
      "Total params: 1,792\n",
      "Trainable params: 1,792\n",
      "Non-trainable params: 0\n",
      "_________________________________________________________________\n"
     ]
    }
   ],
   "source": [
    "model.summary()"
   ]
  },
  {
   "cell_type": "markdown",
   "id": "989744ed",
   "metadata": {},
   "source": [
    "### padding=same"
   ]
  },
  {
   "cell_type": "markdown",
   "id": "292cd3ce",
   "metadata": {},
   "source": [
    "$$N = \\frac{W}{S}(向上取整)$$"
   ]
  },
  {
   "cell_type": "code",
   "execution_count": 13,
   "id": "c7889b6c",
   "metadata": {
    "ExecuteTime": {
     "end_time": "2022-11-07T12:59:53.242152Z",
     "start_time": "2022-11-07T12:59:53.226194Z"
    },
    "scrolled": true
   },
   "outputs": [
    {
     "name": "stdout",
     "output_type": "stream",
     "text": [
      "Model: \"sequential_6\"\n",
      "_________________________________________________________________\n",
      " Layer (type)                Output Shape              Param #   \n",
      "=================================================================\n",
      " max_pooling2d_3 (MaxPooling  (None, 5, 5, 3)          0         \n",
      " 2D)                                                             \n",
      "                                                                 \n",
      "=================================================================\n",
      "Total params: 0\n",
      "Trainable params: 0\n",
      "Non-trainable params: 0\n",
      "_________________________________________________________________\n"
     ]
    }
   ],
   "source": [
    "model = keras.Sequential([\n",
    "    keras.layers.Input(shape=(9, 9, 3), dtype='float32'),\n",
    "    keras.layers.MaxPool2D(pool_size=3, strides=2, padding='same')\n",
    "])\n",
    "model.summary()"
   ]
  },
  {
   "cell_type": "code",
   "execution_count": 14,
   "id": "2c6a6951",
   "metadata": {
    "ExecuteTime": {
     "end_time": "2022-11-07T13:00:20.539728Z",
     "start_time": "2022-11-07T13:00:20.517787Z"
    },
    "collapsed": true
   },
   "outputs": [
    {
     "name": "stdout",
     "output_type": "stream",
     "text": [
      "Model: \"sequential_7\"\n",
      "_________________________________________________________________\n",
      " Layer (type)                Output Shape              Param #   \n",
      "=================================================================\n",
      " max_pooling2d_4 (MaxPooling  (None, 4, 4, 3)          0         \n",
      " 2D)                                                             \n",
      "                                                                 \n",
      "=================================================================\n",
      "Total params: 0\n",
      "Trainable params: 0\n",
      "Non-trainable params: 0\n",
      "_________________________________________________________________\n"
     ]
    }
   ],
   "source": [
    "model = keras.Sequential([\n",
    "    keras.layers.Input(shape=(8, 8, 3), dtype='float32'),\n",
    "    keras.layers.MaxPool2D(pool_size=3, strides=2, padding='same')\n",
    "])\n",
    "model.summary()"
   ]
  },
  {
   "cell_type": "code",
   "execution_count": 17,
   "id": "2bdd27c2",
   "metadata": {
    "ExecuteTime": {
     "end_time": "2022-11-07T13:01:07.361575Z",
     "start_time": "2022-11-07T13:01:07.340630Z"
    },
    "scrolled": true
   },
   "outputs": [
    {
     "name": "stdout",
     "output_type": "stream",
     "text": [
      "Model: \"sequential_10\"\n",
      "_________________________________________________________________\n",
      " Layer (type)                Output Shape              Param #   \n",
      "=================================================================\n",
      " conv2d_5 (Conv2D)           (None, 5, 5, 64)          1792      \n",
      "                                                                 \n",
      "=================================================================\n",
      "Total params: 1,792\n",
      "Trainable params: 1,792\n",
      "Non-trainable params: 0\n",
      "_________________________________________________________________\n"
     ]
    }
   ],
   "source": [
    "model = keras.Sequential([\n",
    "    keras.layers.Input(shape=(9, 9, 3), dtype='float32'),\n",
    "    keras.layers.Conv2D(64, 3, 2, padding='same')\n",
    "])\n",
    "model.summary()"
   ]
  },
  {
   "cell_type": "code",
   "execution_count": null,
   "id": "e48e81f8",
   "metadata": {},
   "outputs": [],
   "source": [
    "keras.layers.BatchNormalization()"
   ]
  }
 ],
 "metadata": {
  "kernelspec": {
   "display_name": "Python 3 (ipykernel)",
   "language": "python",
   "name": "python3"
  },
  "language_info": {
   "codemirror_mode": {
    "name": "ipython",
    "version": 3
   },
   "file_extension": ".py",
   "mimetype": "text/x-python",
   "name": "python",
   "nbconvert_exporter": "python",
   "pygments_lexer": "ipython3",
   "version": "3.7.8"
  },
  "toc": {
   "base_numbering": 1,
   "nav_menu": {},
   "number_sections": true,
   "sideBar": true,
   "skip_h1_title": false,
   "title_cell": "Table of Contents",
   "title_sidebar": "Contents",
   "toc_cell": false,
   "toc_position": {},
   "toc_section_display": true,
   "toc_window_display": false
  }
 },
 "nbformat": 4,
 "nbformat_minor": 5
}
