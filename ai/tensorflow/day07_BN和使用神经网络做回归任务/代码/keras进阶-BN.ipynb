{
 "cells": [
  {
   "cell_type": "code",
   "execution_count": 11,
   "id": "5464de11",
   "metadata": {
    "ExecuteTime": {
     "end_time": "2022-10-10T12:45:39.876764Z",
     "start_time": "2022-10-10T12:45:39.860807Z"
    }
   },
   "outputs": [],
   "source": [
    "import tensorflow as tf\n",
    "import numpy as np\n",
    "import matplotlib.pyplot as plt"
   ]
  },
  {
   "cell_type": "code",
   "execution_count": 46,
   "id": "6079a3e4",
   "metadata": {
    "ExecuteTime": {
     "end_time": "2022-10-10T13:15:24.429608Z",
     "start_time": "2022-10-10T13:15:24.078547Z"
    }
   },
   "outputs": [],
   "source": [
    "from tensorflow.keras.datasets import mnist\n",
    "\n",
    "(x_train, y_train), (x_test, y_test)  = mnist.load_data()"
   ]
  },
  {
   "cell_type": "code",
   "execution_count": 28,
   "id": "29189d1a",
   "metadata": {
    "ExecuteTime": {
     "end_time": "2022-10-10T12:59:07.369931Z",
     "start_time": "2022-10-10T12:59:07.358960Z"
    }
   },
   "outputs": [],
   "source": [
    "from tensorflow.keras.datasets import cifar10"
   ]
  },
  {
   "cell_type": "code",
   "execution_count": 35,
   "id": "1c2d19fe",
   "metadata": {
    "ExecuteTime": {
     "end_time": "2022-10-10T13:01:08.737341Z",
     "start_time": "2022-10-10T13:01:08.125976Z"
    }
   },
   "outputs": [],
   "source": [
    "(x_train, y_train), (x_test, y_test)  = cifar10.load_data()"
   ]
  },
  {
   "cell_type": "code",
   "execution_count": 30,
   "id": "839c72db",
   "metadata": {
    "ExecuteTime": {
     "end_time": "2022-10-10T12:59:25.557752Z",
     "start_time": "2022-10-10T12:59:25.550739Z"
    }
   },
   "outputs": [
    {
     "data": {
      "text/plain": [
       "(50000, 32, 32, 3)"
      ]
     },
     "execution_count": 30,
     "metadata": {},
     "output_type": "execute_result"
    }
   ],
   "source": [
    "x_train.shape"
   ]
  },
  {
   "cell_type": "code",
   "execution_count": 36,
   "id": "662645e5",
   "metadata": {
    "ExecuteTime": {
     "end_time": "2022-10-10T13:01:14.557931Z",
     "start_time": "2022-10-10T13:01:10.454749Z"
    }
   },
   "outputs": [],
   "source": [
    "x_train = x_train.reshape(-1, 32 * 32 * 3) / 255.0\n",
    "x_test = x_test.reshape(-1, 32 * 32 * 3) / 255.0\n",
    "\n",
    "# 标准化\n",
    "scaler = StandardScaler()\n",
    "x_train_scaled = scaler.fit_transform(x_train)\n",
    "x_test_scaled = scaler.transform(x_test)\n",
    "\n",
    "y_train = y_train.astype(np.float32)\n",
    "y_test = y_test.astype(np.float32)\n",
    "\n",
    "# one hot\n",
    "y_train = tf.keras.utils.to_categorical(y_train, 10)\n",
    "y_test = tf.keras.utils.to_categorical(y_test, 10)"
   ]
  },
  {
   "cell_type": "code",
   "execution_count": 37,
   "id": "c0b7b9bc",
   "metadata": {
    "ExecuteTime": {
     "end_time": "2022-10-10T13:01:19.285317Z",
     "start_time": "2022-10-10T13:01:19.270357Z"
    }
   },
   "outputs": [
    {
     "data": {
      "text/plain": [
       "(50000, 3072)"
      ]
     },
     "execution_count": 37,
     "metadata": {},
     "output_type": "execute_result"
    }
   ],
   "source": [
    "x_train.shape"
   ]
  },
  {
   "cell_type": "code",
   "execution_count": 38,
   "id": "bef018e2",
   "metadata": {
    "ExecuteTime": {
     "end_time": "2022-10-10T13:02:01.528407Z",
     "start_time": "2022-10-10T13:02:01.510455Z"
    }
   },
   "outputs": [],
   "source": [
    "x_train = x_train.reshape(-1, 32, 32, 3)\n",
    "x_test = x_test.reshape(-1, 32, 32, 3)"
   ]
  },
  {
   "cell_type": "code",
   "execution_count": 44,
   "id": "f376d614",
   "metadata": {
    "ExecuteTime": {
     "end_time": "2022-10-10T13:08:17.099325Z",
     "start_time": "2022-10-10T13:08:17.014549Z"
    }
   },
   "outputs": [],
   "source": [
    "# 定义网络\n",
    "model = tf.keras.Sequential()\n",
    "model.add(Conv2D(32, 3, padding='same', activation='relu', input_shape=(32, 32, 3))) # 64, 32, 32, 3 -> 64, 32, 32, 32\n",
    "model.add(BatchNormalization()) # 64, 32, 32, 32\n",
    "\n",
    "model.add(Flatten()) # 相当于reshape, 64, 32, 32, 32 -> 64, 32 * 32 * 32\n",
    "# 神经网络要求必须是二维. \n",
    "model.add(Dense(64, activation='relu'))\n",
    "# BN在激活后面写\n",
    "model.add(BatchNormalization())\n",
    "model.add(Dense(64, activation='relu'))\n",
    "model.add(BatchNormalization())\n",
    "model.add(Dense(10, activation='softmax'))"
   ]
  },
  {
   "cell_type": "code",
   "execution_count": 45,
   "id": "1d642aef",
   "metadata": {
    "ExecuteTime": {
     "end_time": "2022-10-10T13:08:25.910347Z",
     "start_time": "2022-10-10T13:08:25.878382Z"
    }
   },
   "outputs": [
    {
     "name": "stdout",
     "output_type": "stream",
     "text": [
      "Model: \"sequential_4\"\n",
      "_________________________________________________________________\n",
      " Layer (type)                Output Shape              Param #   \n",
      "=================================================================\n",
      " conv2d_2 (Conv2D)           (None, 32, 32, 32)        896       \n",
      "                                                                 \n",
      " batch_normalization_3 (Batc  (None, 32, 32, 32)       128       \n",
      " hNormalization)                                                 \n",
      "                                                                 \n",
      " flatten (Flatten)           (None, 32768)             0         \n",
      "                                                                 \n",
      " dense_6 (Dense)             (None, 64)                2097216   \n",
      "                                                                 \n",
      " batch_normalization_4 (Batc  (None, 64)               256       \n",
      " hNormalization)                                                 \n",
      "                                                                 \n",
      " dense_7 (Dense)             (None, 64)                4160      \n",
      "                                                                 \n",
      " batch_normalization_5 (Batc  (None, 64)               256       \n",
      " hNormalization)                                                 \n",
      "                                                                 \n",
      " dense_8 (Dense)             (None, 10)                650       \n",
      "                                                                 \n",
      "=================================================================\n",
      "Total params: 2,103,562\n",
      "Trainable params: 2,103,242\n",
      "Non-trainable params: 320\n",
      "_________________________________________________________________\n"
     ]
    }
   ],
   "source": [
    "model.summary()"
   ]
  },
  {
   "cell_type": "code",
   "execution_count": 13,
   "id": "f3dac021",
   "metadata": {
    "ExecuteTime": {
     "end_time": "2022-10-10T12:45:40.158012Z",
     "start_time": "2022-10-10T12:45:40.143052Z"
    }
   },
   "outputs": [
    {
     "data": {
      "text/plain": [
       "dtype('uint8')"
      ]
     },
     "execution_count": 13,
     "metadata": {},
     "output_type": "execute_result"
    }
   ],
   "source": [
    "x_train.dtype"
   ]
  },
  {
   "cell_type": "code",
   "execution_count": 47,
   "id": "0e9a2c7c",
   "metadata": {
    "ExecuteTime": {
     "end_time": "2022-10-10T13:15:43.331710Z",
     "start_time": "2022-10-10T13:15:43.325606Z"
    }
   },
   "outputs": [],
   "source": [
    "from sklearn.preprocessing import StandardScaler"
   ]
  },
  {
   "cell_type": "code",
   "execution_count": 48,
   "id": "2803b430",
   "metadata": {
    "ExecuteTime": {
     "end_time": "2022-10-10T13:15:44.676992Z",
     "start_time": "2022-10-10T13:15:43.519089Z"
    }
   },
   "outputs": [],
   "source": [
    "x_train = x_train.reshape(-1, 784) / 255.0\n",
    "x_test = x_test.reshape(-1, 784) / 255.0\n",
    "\n",
    "# 标准化\n",
    "scaler = StandardScaler()\n",
    "x_train_scaled = scaler.fit_transform(x_train)\n",
    "x_test_scaled = scaler.transform(x_test)\n",
    "\n",
    "y_train = y_train.astype(np.float32)\n",
    "y_test = y_test.astype(np.float32)\n",
    "\n",
    "# one hot\n",
    "y_train = tf.keras.utils.to_categorical(y_train, 10)\n",
    "y_test = tf.keras.utils.to_categorical(y_test, 10)"
   ]
  },
  {
   "cell_type": "code",
   "execution_count": 49,
   "id": "7340332a",
   "metadata": {
    "ExecuteTime": {
     "end_time": "2022-10-10T13:15:44.753845Z",
     "start_time": "2022-10-10T13:15:44.677990Z"
    }
   },
   "outputs": [
    {
     "data": {
      "text/plain": [
       "5.1098400794094047e-14"
      ]
     },
     "execution_count": 49,
     "metadata": {},
     "output_type": "execute_result"
    }
   ],
   "source": [
    "x_train_scaled.mean()"
   ]
  },
  {
   "cell_type": "code",
   "execution_count": 17,
   "id": "803ed316",
   "metadata": {
    "ExecuteTime": {
     "end_time": "2022-10-10T12:45:41.688919Z",
     "start_time": "2022-10-10T12:45:41.405676Z"
    }
   },
   "outputs": [
    {
     "data": {
      "text/plain": [
       "0.956316274213992"
      ]
     },
     "execution_count": 17,
     "metadata": {},
     "output_type": "execute_result"
    }
   ],
   "source": [
    "x_train_scaled.std()"
   ]
  },
  {
   "cell_type": "code",
   "execution_count": 18,
   "id": "6306beae",
   "metadata": {
    "ExecuteTime": {
     "end_time": "2022-10-10T12:45:41.750753Z",
     "start_time": "2022-10-10T12:45:41.690913Z"
    }
   },
   "outputs": [
    {
     "data": {
      "text/plain": [
       "0.9570683370942685"
      ]
     },
     "execution_count": 18,
     "metadata": {},
     "output_type": "execute_result"
    }
   ],
   "source": [
    "x_test_scaled.std()"
   ]
  },
  {
   "cell_type": "code",
   "execution_count": 19,
   "id": "216f7092",
   "metadata": {
    "ExecuteTime": {
     "end_time": "2022-10-10T12:45:41.766839Z",
     "start_time": "2022-10-10T12:45:41.752748Z"
    }
   },
   "outputs": [
    {
     "data": {
      "text/plain": [
       "(60000, 784)"
      ]
     },
     "execution_count": 19,
     "metadata": {},
     "output_type": "execute_result"
    }
   ],
   "source": [
    "x_train_scaled.shape"
   ]
  },
  {
   "cell_type": "code",
   "execution_count": 43,
   "id": "05839333",
   "metadata": {
    "ExecuteTime": {
     "end_time": "2022-10-10T13:08:08.628435Z",
     "start_time": "2022-10-10T13:08:08.614473Z"
    }
   },
   "outputs": [],
   "source": [
    "from tensorflow.keras.layers import Dense, BatchNormalization, Activation, Conv2D, Flatten"
   ]
  },
  {
   "cell_type": "code",
   "execution_count": 50,
   "id": "aee0462f",
   "metadata": {
    "ExecuteTime": {
     "end_time": "2022-10-10T13:15:50.300119Z",
     "start_time": "2022-10-10T13:15:50.238149Z"
    }
   },
   "outputs": [],
   "source": [
    "# 定义网络\n",
    "model = tf.keras.Sequential()\n",
    "model.add(Dense(64, activation='relu', input_shape=(784,)))\n",
    "# BN在激活后面写\n",
    "model.add(BatchNormalization())\n",
    "model.add(Dense(64, activation='relu'))\n",
    "model.add(BatchNormalization())\n",
    "model.add(Dense(10, activation='softmax'))"
   ]
  },
  {
   "cell_type": "code",
   "execution_count": 54,
   "id": "64e9f5ed",
   "metadata": {
    "ExecuteTime": {
     "end_time": "2022-10-10T13:17:57.377347Z",
     "start_time": "2022-10-10T13:17:57.310526Z"
    }
   },
   "outputs": [],
   "source": [
    "# 定义网络\n",
    "model = tf.keras.Sequential()\n",
    "model.add(Dense(64, input_shape=(784,)))\n",
    "# BN在激活前面\n",
    "model.add(BatchNormalization())\n",
    "model.add(Activation('relu'))\n",
    "model.add(Dense(64))\n",
    "model.add(BatchNormalization())\n",
    "model.add(Activation('relu'))\n",
    "model.add(Dense(10, activation='softmax'))"
   ]
  },
  {
   "cell_type": "code",
   "execution_count": 51,
   "id": "15a4ab76",
   "metadata": {
    "ExecuteTime": {
     "end_time": "2022-10-10T13:15:54.915165Z",
     "start_time": "2022-10-10T13:15:54.895210Z"
    },
    "scrolled": false
   },
   "outputs": [
    {
     "name": "stdout",
     "output_type": "stream",
     "text": [
      "Model: \"sequential_5\"\n",
      "_________________________________________________________________\n",
      " Layer (type)                Output Shape              Param #   \n",
      "=================================================================\n",
      " dense_9 (Dense)             (None, 64)                50240     \n",
      "                                                                 \n",
      " batch_normalization_6 (Batc  (None, 64)               256       \n",
      " hNormalization)                                                 \n",
      "                                                                 \n",
      " dense_10 (Dense)            (None, 64)                4160      \n",
      "                                                                 \n",
      " batch_normalization_7 (Batc  (None, 64)               256       \n",
      " hNormalization)                                                 \n",
      "                                                                 \n",
      " dense_11 (Dense)            (None, 10)                650       \n",
      "                                                                 \n",
      "=================================================================\n",
      "Total params: 55,562\n",
      "Trainable params: 55,306\n",
      "Non-trainable params: 256\n",
      "_________________________________________________________________\n"
     ]
    }
   ],
   "source": [
    "model.summary()"
   ]
  },
  {
   "cell_type": "code",
   "execution_count": 55,
   "id": "2cf400e0",
   "metadata": {
    "ExecuteTime": {
     "end_time": "2022-10-10T13:18:01.061561Z",
     "start_time": "2022-10-10T13:18:01.054537Z"
    }
   },
   "outputs": [],
   "source": [
    "# 配置\n",
    "model.compile(optimizer='adam', loss='categorical_crossentropy', metrics=['acc'])"
   ]
  },
  {
   "cell_type": "code",
   "execution_count": 56,
   "id": "25d6d5ad",
   "metadata": {
    "ExecuteTime": {
     "end_time": "2022-10-10T13:20:01.536870Z",
     "start_time": "2022-10-10T13:18:05.518107Z"
    },
    "scrolled": false
   },
   "outputs": [
    {
     "name": "stdout",
     "output_type": "stream",
     "text": [
      "Epoch 1/20\n",
      "938/938 [==============================] - 7s 7ms/step - loss: 0.2954 - acc: 0.9177 - val_loss: 0.1507 - val_acc: 0.9547\n",
      "Epoch 2/20\n",
      "938/938 [==============================] - 6s 6ms/step - loss: 0.1229 - acc: 0.9633 - val_loss: 0.1089 - val_acc: 0.9665\n",
      "Epoch 3/20\n",
      "938/938 [==============================] - 6s 6ms/step - loss: 0.0915 - acc: 0.9712 - val_loss: 0.0906 - val_acc: 0.9711\n",
      "Epoch 4/20\n",
      "938/938 [==============================] - 6s 6ms/step - loss: 0.0739 - acc: 0.9757 - val_loss: 0.0849 - val_acc: 0.9734\n",
      "Epoch 5/20\n",
      "938/938 [==============================] - 6s 6ms/step - loss: 0.0602 - acc: 0.9812 - val_loss: 0.0876 - val_acc: 0.9736\n",
      "Epoch 6/20\n",
      "938/938 [==============================] - 6s 6ms/step - loss: 0.0542 - acc: 0.9829 - val_loss: 0.0827 - val_acc: 0.9737\n",
      "Epoch 7/20\n",
      "938/938 [==============================] - 6s 6ms/step - loss: 0.0476 - acc: 0.9843 - val_loss: 0.0796 - val_acc: 0.9762\n",
      "Epoch 8/20\n",
      "938/938 [==============================] - 6s 6ms/step - loss: 0.0408 - acc: 0.9870 - val_loss: 0.0783 - val_acc: 0.9760\n",
      "Epoch 9/20\n",
      "938/938 [==============================] - 6s 6ms/step - loss: 0.0365 - acc: 0.9876 - val_loss: 0.0853 - val_acc: 0.9752\n",
      "Epoch 10/20\n",
      "938/938 [==============================] - 6s 6ms/step - loss: 0.0321 - acc: 0.9894 - val_loss: 0.0875 - val_acc: 0.9748\n",
      "Epoch 11/20\n",
      "938/938 [==============================] - 6s 7ms/step - loss: 0.0305 - acc: 0.9900 - val_loss: 0.0852 - val_acc: 0.9756\n",
      "Epoch 12/20\n",
      "938/938 [==============================] - 6s 6ms/step - loss: 0.0295 - acc: 0.9897 - val_loss: 0.0823 - val_acc: 0.9759\n",
      "Epoch 13/20\n",
      "938/938 [==============================] - 6s 6ms/step - loss: 0.0260 - acc: 0.9913 - val_loss: 0.0908 - val_acc: 0.9759\n",
      "Epoch 14/20\n",
      "938/938 [==============================] - 6s 6ms/step - loss: 0.0253 - acc: 0.9918 - val_loss: 0.0869 - val_acc: 0.9766\n",
      "Epoch 15/20\n",
      "938/938 [==============================] - 6s 6ms/step - loss: 0.0225 - acc: 0.9924 - val_loss: 0.0902 - val_acc: 0.9762\n",
      "Epoch 16/20\n",
      "938/938 [==============================] - 5s 6ms/step - loss: 0.0242 - acc: 0.9919 - val_loss: 0.0874 - val_acc: 0.9764\n",
      "Epoch 17/20\n",
      "938/938 [==============================] - 5s 6ms/step - loss: 0.0212 - acc: 0.9928 - val_loss: 0.0818 - val_acc: 0.9787\n",
      "Epoch 18/20\n",
      "938/938 [==============================] - 6s 6ms/step - loss: 0.0196 - acc: 0.9930 - val_loss: 0.0872 - val_acc: 0.9775\n",
      "Epoch 19/20\n",
      "938/938 [==============================] - 6s 6ms/step - loss: 0.0186 - acc: 0.9936 - val_loss: 0.0912 - val_acc: 0.9774\n",
      "Epoch 20/20\n",
      "938/938 [==============================] - 5s 6ms/step - loss: 0.0190 - acc: 0.9936 - val_loss: 0.0910 - val_acc: 0.9772\n"
     ]
    },
    {
     "data": {
      "text/plain": [
       "<keras.callbacks.History at 0x14d1f9a6dc8>"
      ]
     },
     "execution_count": 56,
     "metadata": {},
     "output_type": "execute_result"
    }
   ],
   "source": [
    "model.fit(x_train, y_train, batch_size=64, epochs=20, validation_data=(x_test, y_test))"
   ]
  },
  {
   "cell_type": "code",
   "execution_count": null,
   "id": "e731c85d",
   "metadata": {
    "ExecuteTime": {
     "end_time": "2022-10-10T12:46:21.750738Z",
     "start_time": "2022-10-10T12:46:21.750738Z"
    }
   },
   "outputs": [],
   "source": [
    "# 从训练过程可以观察, 使用了标准化处理的数据, 更快收敛. \n",
    "history = model.fit(x_train_scaled, y_train, batch_size=64, epochs=20, validation_data=(x_test_scaled, y_test))"
   ]
  },
  {
   "cell_type": "code",
   "execution_count": null,
   "id": "69f72e10",
   "metadata": {
    "ExecuteTime": {
     "end_time": "2022-10-10T12:46:21.752735Z",
     "start_time": "2022-10-10T12:46:21.752735Z"
    }
   },
   "outputs": [],
   "source": [
    "history.history"
   ]
  },
  {
   "cell_type": "code",
   "execution_count": null,
   "id": "d33fa53b",
   "metadata": {
    "ExecuteTime": {
     "end_time": "2022-10-10T12:46:21.755728Z",
     "start_time": "2022-10-10T12:46:21.755728Z"
    }
   },
   "outputs": [],
   "source": [
    "import pandas as pd"
   ]
  },
  {
   "cell_type": "code",
   "execution_count": null,
   "id": "05714a35",
   "metadata": {
    "ExecuteTime": {
     "end_time": "2022-10-10T12:46:21.757720Z",
     "start_time": "2022-10-10T12:46:21.757720Z"
    }
   },
   "outputs": [],
   "source": [
    "pd.DataFrame(history.history).plot()"
   ]
  }
 ],
 "metadata": {
  "kernelspec": {
   "display_name": "Python 3 (ipykernel)",
   "language": "python",
   "name": "python3"
  },
  "language_info": {
   "codemirror_mode": {
    "name": "ipython",
    "version": 3
   },
   "file_extension": ".py",
   "mimetype": "text/x-python",
   "name": "python",
   "nbconvert_exporter": "python",
   "pygments_lexer": "ipython3",
   "version": "3.7.8"
  },
  "toc": {
   "base_numbering": 1,
   "nav_menu": {},
   "number_sections": true,
   "sideBar": true,
   "skip_h1_title": false,
   "title_cell": "Table of Contents",
   "title_sidebar": "Contents",
   "toc_cell": false,
   "toc_position": {},
   "toc_section_display": true,
   "toc_window_display": false
  }
 },
 "nbformat": 4,
 "nbformat_minor": 5
}
