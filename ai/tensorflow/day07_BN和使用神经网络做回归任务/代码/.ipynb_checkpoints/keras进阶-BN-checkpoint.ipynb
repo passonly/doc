{
 "cells": [
  {
   "cell_type": "code",
   "execution_count": null,
   "id": "5464de11",
   "metadata": {
    "ExecuteTime": {
     "start_time": "2022-10-10T12:43:46.987Z"
    }
   },
   "outputs": [],
   "source": [
    "import tensorflow as tf\n",
    "import numpy as np\n",
    "import matplotlib.pyplot as plt"
   ]
  },
  {
   "cell_type": "code",
   "execution_count": null,
   "id": "6079a3e4",
   "metadata": {
    "ExecuteTime": {
     "start_time": "2022-10-10T12:43:46.988Z"
    }
   },
   "outputs": [],
   "source": [
    "from tensorflow.keras.datasets import mnist\n",
    "\n",
    "(x_train, y_train), (x_test, y_test)  = mnist.load_data()"
   ]
  },
  {
   "cell_type": "code",
   "execution_count": null,
   "id": "f3dac021",
   "metadata": {
    "ExecuteTime": {
     "start_time": "2022-10-10T12:43:46.989Z"
    }
   },
   "outputs": [],
   "source": [
    "x_train.dtype"
   ]
  },
  {
   "cell_type": "code",
   "execution_count": null,
   "id": "0e9a2c7c",
   "metadata": {
    "ExecuteTime": {
     "start_time": "2022-10-10T12:43:46.990Z"
    }
   },
   "outputs": [],
   "source": [
    "from sklearn.preprocessing import StandardScaler"
   ]
  },
  {
   "cell_type": "code",
   "execution_count": null,
   "id": "2803b430",
   "metadata": {
    "ExecuteTime": {
     "start_time": "2022-10-10T12:43:46.992Z"
    }
   },
   "outputs": [],
   "source": [
    "x_train = x_train.reshape(-1, 784) / 255.0\n",
    "x_test = x_test.reshape(-1, 784) / 255.0\n",
    "\n",
    "# 标准化\n",
    "scaler = StandardScaler()\n",
    "x_train_scaled = scaler.fit_transform(x_train)\n",
    "x_test_scaled = scaler.transform(x_test)\n",
    "\n",
    "y_train = y_train.astype(np.float32)\n",
    "y_test = y_test.astype(np.float32)\n",
    "\n",
    "# one hot\n",
    "y_train = tf.keras.utils.to_categorical(y_train, 10)\n",
    "y_test = tf.keras.utils.to_categorical(y_test, 10)"
   ]
  },
  {
   "cell_type": "code",
   "execution_count": null,
   "id": "7340332a",
   "metadata": {
    "ExecuteTime": {
     "start_time": "2022-10-10T12:43:46.993Z"
    }
   },
   "outputs": [],
   "source": [
    "x_train_scaled.mean()"
   ]
  },
  {
   "cell_type": "code",
   "execution_count": null,
   "id": "803ed316",
   "metadata": {
    "ExecuteTime": {
     "start_time": "2022-10-10T12:43:46.994Z"
    }
   },
   "outputs": [],
   "source": [
    "x_train_scaled.std()"
   ]
  },
  {
   "cell_type": "code",
   "execution_count": null,
   "id": "6306beae",
   "metadata": {
    "ExecuteTime": {
     "start_time": "2022-10-10T12:43:46.995Z"
    }
   },
   "outputs": [],
   "source": [
    "x_test_scaled.std()"
   ]
  },
  {
   "cell_type": "code",
   "execution_count": null,
   "id": "216f7092",
   "metadata": {
    "ExecuteTime": {
     "start_time": "2022-10-10T12:43:46.996Z"
    }
   },
   "outputs": [],
   "source": [
    "x_train_scaled.shape"
   ]
  },
  {
   "cell_type": "code",
   "execution_count": null,
   "id": "a33d3c9a",
   "metadata": {
    "ExecuteTime": {
     "start_time": "2022-10-10T12:43:47.000Z"
    }
   },
   "outputs": [],
   "source": [
    "plt.hist(x_test_scaled, bins=100, range=[-10, 10])"
   ]
  },
  {
   "cell_type": "code",
   "execution_count": null,
   "id": "05839333",
   "metadata": {
    "ExecuteTime": {
     "start_time": "2022-10-10T12:43:47.001Z"
    }
   },
   "outputs": [],
   "source": [
    "from tensorflow.keras.layers import Dense"
   ]
  },
  {
   "cell_type": "code",
   "execution_count": null,
   "id": "aee0462f",
   "metadata": {
    "ExecuteTime": {
     "start_time": "2022-10-10T12:43:47.002Z"
    }
   },
   "outputs": [],
   "source": [
    "# 定义网络\n",
    "model = tf.keras.Sequential()\n",
    "model.add(Dense(64, activation='relu', input_shape=(784,)))\n",
    "\n",
    "model.add(Dense(64, activation='relu'))\n",
    "model.add(Dense(10, activation='softmax'))"
   ]
  },
  {
   "cell_type": "code",
   "execution_count": null,
   "id": "15a4ab76",
   "metadata": {
    "ExecuteTime": {
     "start_time": "2022-10-10T12:43:47.003Z"
    },
    "scrolled": true
   },
   "outputs": [],
   "source": [
    "model.summary()"
   ]
  },
  {
   "cell_type": "code",
   "execution_count": null,
   "id": "2cf400e0",
   "metadata": {
    "ExecuteTime": {
     "start_time": "2022-10-10T12:43:47.004Z"
    }
   },
   "outputs": [],
   "source": [
    "# 配置\n",
    "model.compile(optimizer='adam', loss='categorical_crossentropy', metrics=['acc'])"
   ]
  },
  {
   "cell_type": "code",
   "execution_count": null,
   "id": "25d6d5ad",
   "metadata": {
    "ExecuteTime": {
     "start_time": "2022-10-10T12:43:47.005Z"
    },
    "scrolled": false
   },
   "outputs": [],
   "source": [
    "model.fit(x_train, y_train, batch_size=64, epochs=20, validation_data=(x_test, y_test))"
   ]
  },
  {
   "cell_type": "code",
   "execution_count": null,
   "id": "e731c85d",
   "metadata": {
    "ExecuteTime": {
     "start_time": "2022-10-10T12:43:47.008Z"
    }
   },
   "outputs": [],
   "source": [
    "# 从训练过程可以观察, 使用了标准化处理的数据, 更快收敛. \n",
    "history = model.fit(x_train_scaled, y_train, batch_size=64, epochs=20, validation_data=(x_test_scaled, y_test))"
   ]
  },
  {
   "cell_type": "code",
   "execution_count": null,
   "id": "69f72e10",
   "metadata": {
    "ExecuteTime": {
     "start_time": "2022-10-10T12:43:47.009Z"
    }
   },
   "outputs": [],
   "source": [
    "history.history"
   ]
  },
  {
   "cell_type": "code",
   "execution_count": null,
   "id": "d33fa53b",
   "metadata": {
    "ExecuteTime": {
     "start_time": "2022-10-10T12:43:47.010Z"
    }
   },
   "outputs": [],
   "source": [
    "import pandas as pd"
   ]
  },
  {
   "cell_type": "code",
   "execution_count": null,
   "id": "05714a35",
   "metadata": {
    "ExecuteTime": {
     "start_time": "2022-10-10T12:43:47.011Z"
    }
   },
   "outputs": [],
   "source": [
    "pd.DataFrame(history.history).plot()"
   ]
  }
 ],
 "metadata": {
  "kernelspec": {
   "display_name": "Python 3 (ipykernel)",
   "language": "python",
   "name": "python3"
  },
  "language_info": {
   "codemirror_mode": {
    "name": "ipython",
    "version": 3
   },
   "file_extension": ".py",
   "mimetype": "text/x-python",
   "name": "python",
   "nbconvert_exporter": "python",
   "pygments_lexer": "ipython3",
   "version": "3.7.8"
  },
  "toc": {
   "base_numbering": 1,
   "nav_menu": {},
   "number_sections": true,
   "sideBar": true,
   "skip_h1_title": false,
   "title_cell": "Table of Contents",
   "title_sidebar": "Contents",
   "toc_cell": false,
   "toc_position": {},
   "toc_section_display": true,
   "toc_window_display": false
  }
 },
 "nbformat": 4,
 "nbformat_minor": 5
}
