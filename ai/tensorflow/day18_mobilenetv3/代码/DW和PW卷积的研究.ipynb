{
 "cells": [
  {
   "cell_type": "code",
   "execution_count": 1,
   "id": "72aa3504",
   "metadata": {
    "ExecuteTime": {
     "end_time": "2022-11-14T12:22:11.946212Z",
     "start_time": "2022-11-14T12:22:00.672353Z"
    }
   },
   "outputs": [],
   "source": [
    "from tensorflow import keras"
   ]
  },
  {
   "cell_type": "markdown",
   "id": "dfc723b8",
   "metadata": {},
   "source": [
    "### 普通卷积"
   ]
  },
  {
   "cell_type": "code",
   "execution_count": 4,
   "id": "788c9eaf",
   "metadata": {
    "ExecuteTime": {
     "end_time": "2022-11-14T12:25:40.308690Z",
     "start_time": "2022-11-14T12:25:40.278770Z"
    },
    "scrolled": true
   },
   "outputs": [
    {
     "name": "stdout",
     "output_type": "stream",
     "text": [
      "Model: \"sequential_1\"\n",
      "_________________________________________________________________\n",
      " Layer (type)                Output Shape              Param #   \n",
      "=================================================================\n",
      " conv2d_1 (Conv2D)           (None, 32, 32, 32)        896       \n",
      "                                                                 \n",
      "=================================================================\n",
      "Total params: 896\n",
      "Trainable params: 896\n",
      "Non-trainable params: 0\n",
      "_________________________________________________________________\n"
     ]
    }
   ],
   "source": [
    "model = keras.Sequential([\n",
    "    keras.layers.Input(shape=(32, 32, 3), dtype='float32'),\n",
    "    keras.layers.Conv2D(32, 3, activation='relu', padding='same')\n",
    "])\n",
    "model.summary()"
   ]
  },
  {
   "cell_type": "code",
   "execution_count": 5,
   "id": "5bd5be6f",
   "metadata": {
    "ExecuteTime": {
     "end_time": "2022-11-14T12:25:44.852541Z",
     "start_time": "2022-11-14T12:25:44.846557Z"
    }
   },
   "outputs": [
    {
     "data": {
      "text/plain": [
       "896"
      ]
     },
     "execution_count": 5,
     "metadata": {},
     "output_type": "execute_result"
    }
   ],
   "source": [
    "32 * 3 * 3 * 3 + 32"
   ]
  },
  {
   "cell_type": "markdown",
   "id": "82b6a602",
   "metadata": {},
   "source": [
    "### DW卷积"
   ]
  },
  {
   "cell_type": "code",
   "execution_count": 7,
   "id": "8ac250c3",
   "metadata": {
    "ExecuteTime": {
     "end_time": "2022-11-14T12:29:59.096974Z",
     "start_time": "2022-11-14T12:29:59.070046Z"
    },
    "scrolled": true
   },
   "outputs": [
    {
     "name": "stdout",
     "output_type": "stream",
     "text": [
      "Model: \"sequential_3\"\n",
      "_________________________________________________________________\n",
      " Layer (type)                Output Shape              Param #   \n",
      "=================================================================\n",
      " depthwise_conv2d_1 (Depthwi  (None, 32, 32, 3)        27        \n",
      " seConv2D)                                                       \n",
      "                                                                 \n",
      "=================================================================\n",
      "Total params: 27\n",
      "Trainable params: 27\n",
      "Non-trainable params: 0\n",
      "_________________________________________________________________\n"
     ]
    }
   ],
   "source": [
    "model = keras.Sequential([\n",
    "    keras.layers.Input(shape=(32, 32, 3), dtype='float32'),\n",
    "    # DW 卷积不需要指定卷积核的个数， 因为输入是多少个通道, 那么卷积核就有多少个. \n",
    "    keras.layers.DepthwiseConv2D(3, activation='relu', padding='same', use_bias=False)\n",
    "])\n",
    "model.summary()"
   ]
  },
  {
   "cell_type": "markdown",
   "id": "17dc37d4",
   "metadata": {},
   "source": [
    "### PW卷积"
   ]
  },
  {
   "cell_type": "code",
   "execution_count": 8,
   "id": "70a8bf5f",
   "metadata": {
    "ExecuteTime": {
     "end_time": "2022-11-14T12:30:51.252526Z",
     "start_time": "2022-11-14T12:30:51.230584Z"
    },
    "scrolled": true
   },
   "outputs": [
    {
     "name": "stdout",
     "output_type": "stream",
     "text": [
      "Model: \"sequential_4\"\n",
      "_________________________________________________________________\n",
      " Layer (type)                Output Shape              Param #   \n",
      "=================================================================\n",
      " conv2d_2 (Conv2D)           (None, 32, 32, 32)        128       \n",
      "                                                                 \n",
      "=================================================================\n",
      "Total params: 128\n",
      "Trainable params: 128\n",
      "Non-trainable params: 0\n",
      "_________________________________________________________________\n"
     ]
    }
   ],
   "source": [
    "# PW卷积就是普通卷积, 只不过卷积核的大小是1*1的.\n",
    "model = keras.Sequential([\n",
    "    keras.layers.Input(shape=(32, 32, 3), dtype='float32'),\n",
    "    keras.layers.Conv2D(32, 1, activation='relu', padding='same')\n",
    "])\n",
    "model.summary()"
   ]
  },
  {
   "cell_type": "code",
   "execution_count": 9,
   "id": "9674f5f8",
   "metadata": {
    "ExecuteTime": {
     "end_time": "2022-11-14T12:31:03.472360Z",
     "start_time": "2022-11-14T12:31:03.462388Z"
    }
   },
   "outputs": [
    {
     "data": {
      "text/plain": [
       "128"
      ]
     },
     "execution_count": 9,
     "metadata": {},
     "output_type": "execute_result"
    }
   ],
   "source": [
    "1 * 1 * 3 * 32 + 32"
   ]
  },
  {
   "cell_type": "markdown",
   "id": "eb84636d",
   "metadata": {},
   "source": [
    "### 深度可分离卷积(DW + PW)"
   ]
  },
  {
   "cell_type": "code",
   "execution_count": 14,
   "id": "53ae7bdd",
   "metadata": {
    "ExecuteTime": {
     "end_time": "2022-11-14T12:34:20.079692Z",
     "start_time": "2022-11-14T12:34:20.046780Z"
    },
    "scrolled": true
   },
   "outputs": [
    {
     "name": "stdout",
     "output_type": "stream",
     "text": [
      "Model: \"sequential_7\"\n",
      "_________________________________________________________________\n",
      " Layer (type)                Output Shape              Param #   \n",
      "=================================================================\n",
      " separable_conv2d_2 (Separab  (None, 32, 32, 32)       155       \n",
      " leConv2D)                                                       \n",
      "                                                                 \n",
      "=================================================================\n",
      "Total params: 155\n",
      "Trainable params: 155\n",
      "Non-trainable params: 0\n",
      "_________________________________________________________________\n"
     ]
    }
   ],
   "source": [
    "model = keras.Sequential([\n",
    "    keras.layers.Input(shape=(32, 32, 3), dtype='float32'),\n",
    "    keras.layers.SeparableConv2D(32, 3, activation='relu', padding='same', use_bias=True)\n",
    "])\n",
    "model.summary()"
   ]
  },
  {
   "cell_type": "code",
   "execution_count": 16,
   "id": "6d9cfdb4",
   "metadata": {
    "ExecuteTime": {
     "end_time": "2022-11-14T12:35:13.396140Z",
     "start_time": "2022-11-14T12:35:13.390156Z"
    }
   },
   "outputs": [
    {
     "data": {
      "text/plain": [
       "155"
      ]
     },
     "execution_count": 16,
     "metadata": {},
     "output_type": "execute_result"
    }
   ],
   "source": [
    "# use_bias=True 给PW用的, DW就是没有bias的\n",
    "3 * 3 * 3  + 1 * 1  * 3 * 32 + 32"
   ]
  },
  {
   "cell_type": "code",
   "execution_count": 13,
   "id": "5a808b59",
   "metadata": {
    "ExecuteTime": {
     "end_time": "2022-11-14T12:34:09.869990Z",
     "start_time": "2022-11-14T12:34:09.863008Z"
    }
   },
   "outputs": [
    {
     "data": {
      "text/plain": [
       "123"
      ]
     },
     "execution_count": 13,
     "metadata": {},
     "output_type": "execute_result"
    }
   ],
   "source": [
    "# use_bias=False\n",
    "# DW + PW\n",
    "3 * 3 * 3 + 1 * 1 * 3 * 32 "
   ]
  }
 ],
 "metadata": {
  "kernelspec": {
   "display_name": "Python 3 (ipykernel)",
   "language": "python",
   "name": "python3"
  },
  "language_info": {
   "codemirror_mode": {
    "name": "ipython",
    "version": 3
   },
   "file_extension": ".py",
   "mimetype": "text/x-python",
   "name": "python",
   "nbconvert_exporter": "python",
   "pygments_lexer": "ipython3",
   "version": "3.7.8"
  },
  "toc": {
   "base_numbering": 1,
   "nav_menu": {},
   "number_sections": true,
   "sideBar": true,
   "skip_h1_title": false,
   "title_cell": "Table of Contents",
   "title_sidebar": "Contents",
   "toc_cell": false,
   "toc_position": {},
   "toc_section_display": true,
   "toc_window_display": false
  }
 },
 "nbformat": 4,
 "nbformat_minor": 5
}
