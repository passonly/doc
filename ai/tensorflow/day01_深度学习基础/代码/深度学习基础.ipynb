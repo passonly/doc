{
 "cells": [
  {
   "cell_type": "code",
   "execution_count": null,
   "id": "108bb6bc",
   "metadata": {},
   "outputs": [],
   "source": [
    "numpy pandas matplotlib -> 机器学习(数据分析数据挖掘) -> 深度学习(算法工程师)"
   ]
  },
  {
   "cell_type": "code",
   "execution_count": null,
   "id": "495678d1",
   "metadata": {},
   "outputs": [],
   "source": [
    "线性回归 / 逻辑斯蒂回归"
   ]
  },
  {
   "cell_type": "code",
   "execution_count": null,
   "id": "c8211684",
   "metadata": {},
   "outputs": [],
   "source": [
    "都是创建一个模型, 训练, 预测. "
   ]
  },
  {
   "cell_type": "code",
   "execution_count": null,
   "id": "bec148db",
   "metadata": {},
   "outputs": [],
   "source": [
    "从数据到模型, 到训练, 到预测, 整个流程, 要非常清晰. "
   ]
  },
  {
   "cell_type": "code",
   "execution_count": 1,
   "id": "8d37ba59",
   "metadata": {
    "ExecuteTime": {
     "end_time": "2022-09-16T12:08:46.258124Z",
     "start_time": "2022-09-16T12:08:46.243164Z"
    }
   },
   "outputs": [],
   "source": [
    "from sklearn.datasets import load_iris"
   ]
  },
  {
   "cell_type": "code",
   "execution_count": 2,
   "id": "505a69da",
   "metadata": {
    "ExecuteTime": {
     "end_time": "2022-09-16T12:11:15.392891Z",
     "start_time": "2022-09-16T12:11:15.300138Z"
    }
   },
   "outputs": [],
   "source": [
    "iris = load_iris()\n",
    "data = iris.data\n",
    "target = iris.target"
   ]
  },
  {
   "cell_type": "code",
   "execution_count": 14,
   "id": "6fac8345",
   "metadata": {
    "ExecuteTime": {
     "end_time": "2022-09-16T12:24:15.648179Z",
     "start_time": "2022-09-16T12:24:15.640201Z"
    },
    "collapsed": true
   },
   "outputs": [
    {
     "name": "stdout",
     "output_type": "stream",
     "text": [
      ".. _iris_dataset:\n",
      "\n",
      "Iris plants dataset\n",
      "--------------------\n",
      "\n",
      "**Data Set Characteristics:**\n",
      "\n",
      "    :Number of Instances: 150 (50 in each of three classes)\n",
      "    :Number of Attributes: 4 numeric, predictive attributes and the class\n",
      "    :Attribute Information:\n",
      "        - sepal length in cm\n",
      "        - sepal width in cm\n",
      "        - petal length in cm\n",
      "        - petal width in cm\n",
      "        - class:\n",
      "                - Iris-Setosa\n",
      "                - Iris-Versicolour\n",
      "                - Iris-Virginica\n",
      "                \n",
      "    :Summary Statistics:\n",
      "\n",
      "    ============== ==== ==== ======= ===== ====================\n",
      "                    Min  Max   Mean    SD   Class Correlation\n",
      "    ============== ==== ==== ======= ===== ====================\n",
      "    sepal length:   4.3  7.9   5.84   0.83    0.7826\n",
      "    sepal width:    2.0  4.4   3.05   0.43   -0.4194\n",
      "    petal length:   1.0  6.9   3.76   1.76    0.9490  (high!)\n",
      "    petal width:    0.1  2.5   1.20   0.76    0.9565  (high!)\n",
      "    ============== ==== ==== ======= ===== ====================\n",
      "\n",
      "    :Missing Attribute Values: None\n",
      "    :Class Distribution: 33.3% for each of 3 classes.\n",
      "    :Creator: R.A. Fisher\n",
      "    :Donor: Michael Marshall (MARSHALL%PLU@io.arc.nasa.gov)\n",
      "    :Date: July, 1988\n",
      "\n",
      "The famous Iris database, first used by Sir R.A. Fisher. The dataset is taken\n",
      "from Fisher's paper. Note that it's the same as in R, but not as in the UCI\n",
      "Machine Learning Repository, which has two wrong data points.\n",
      "\n",
      "This is perhaps the best known database to be found in the\n",
      "pattern recognition literature.  Fisher's paper is a classic in the field and\n",
      "is referenced frequently to this day.  (See Duda & Hart, for example.)  The\n",
      "data set contains 3 classes of 50 instances each, where each class refers to a\n",
      "type of iris plant.  One class is linearly separable from the other 2; the\n",
      "latter are NOT linearly separable from each other.\n",
      "\n",
      ".. topic:: References\n",
      "\n",
      "   - Fisher, R.A. \"The use of multiple measurements in taxonomic problems\"\n",
      "     Annual Eugenics, 7, Part II, 179-188 (1936); also in \"Contributions to\n",
      "     Mathematical Statistics\" (John Wiley, NY, 1950).\n",
      "   - Duda, R.O., & Hart, P.E. (1973) Pattern Classification and Scene Analysis.\n",
      "     (Q327.D83) John Wiley & Sons.  ISBN 0-471-22361-1.  See page 218.\n",
      "   - Dasarathy, B.V. (1980) \"Nosing Around the Neighborhood: A New System\n",
      "     Structure and Classification Rule for Recognition in Partially Exposed\n",
      "     Environments\".  IEEE Transactions on Pattern Analysis and Machine\n",
      "     Intelligence, Vol. PAMI-2, No. 1, 67-71.\n",
      "   - Gates, G.W. (1972) \"The Reduced Nearest Neighbor Rule\".  IEEE Transactions\n",
      "     on Information Theory, May 1972, 431-433.\n",
      "   - See also: 1988 MLC Proceedings, 54-64.  Cheeseman et al\"s AUTOCLASS II\n",
      "     conceptual clustering system finds 3 classes in the data.\n",
      "   - Many, many more ...\n"
     ]
    }
   ],
   "source": [
    "print(iris.DESCR)"
   ]
  },
  {
   "cell_type": "code",
   "execution_count": 3,
   "id": "373a1ce3",
   "metadata": {
    "ExecuteTime": {
     "end_time": "2022-09-16T12:11:30.064659Z",
     "start_time": "2022-09-16T12:11:30.043715Z"
    },
    "scrolled": true
   },
   "outputs": [
    {
     "data": {
      "text/plain": [
       "(150, 4)"
      ]
     },
     "execution_count": 3,
     "metadata": {},
     "output_type": "execute_result"
    }
   ],
   "source": [
    "# 机器学习中训练数据, 都是二维的, 第一个维度, 一定是样本个数, 第二个维度, 一定是特征数\n",
    "data.shape"
   ]
  },
  {
   "cell_type": "code",
   "execution_count": null,
   "id": "599723c9",
   "metadata": {},
   "outputs": [],
   "source": [
    "# 一般训练, 会把数据拆分成训练数据和测试(校验/验证validation)\n",
    "# 其实真正拆分, 会把数据拆分成三块: 训练数据, 校验数据, 测试数据. "
   ]
  },
  {
   "cell_type": "code",
   "execution_count": 5,
   "id": "20562323",
   "metadata": {
    "ExecuteTime": {
     "end_time": "2022-09-16T12:15:55.883934Z",
     "start_time": "2022-09-16T12:15:55.877952Z"
    }
   },
   "outputs": [],
   "source": [
    "from sklearn.model_selection import train_test_split"
   ]
  },
  {
   "cell_type": "code",
   "execution_count": 6,
   "id": "68b2f6b1",
   "metadata": {
    "ExecuteTime": {
     "end_time": "2022-09-16T12:15:58.531853Z",
     "start_time": "2022-09-16T12:15:58.507918Z"
    }
   },
   "outputs": [],
   "source": [
    "X_train, X_test, y_train, y_test = train_test_split(data, target)"
   ]
  },
  {
   "cell_type": "code",
   "execution_count": 7,
   "id": "8139054b",
   "metadata": {
    "ExecuteTime": {
     "end_time": "2022-09-16T12:17:12.103136Z",
     "start_time": "2022-09-16T12:17:12.092164Z"
    }
   },
   "outputs": [],
   "source": [
    "from sklearn.linear_model import LogisticRegression"
   ]
  },
  {
   "cell_type": "code",
   "execution_count": 8,
   "id": "bfc74ee4",
   "metadata": {
    "ExecuteTime": {
     "end_time": "2022-09-16T12:17:41.539427Z",
     "start_time": "2022-09-16T12:17:41.468616Z"
    },
    "scrolled": true
   },
   "outputs": [
    {
     "data": {
      "text/plain": [
       "LogisticRegression(C=1.0, class_weight=None, dual=False, fit_intercept=True,\n",
       "                   intercept_scaling=1, l1_ratio=None, max_iter=100,\n",
       "                   multi_class='auto', n_jobs=None, penalty='l2',\n",
       "                   random_state=None, solver='lbfgs', tol=0.0001, verbose=0,\n",
       "                   warm_start=False)"
      ]
     },
     "execution_count": 8,
     "metadata": {},
     "output_type": "execute_result"
    }
   ],
   "source": [
    "logistic = LogisticRegression()\n",
    "\n",
    "logistic.fit(X_train, y_train)"
   ]
  },
  {
   "cell_type": "code",
   "execution_count": 9,
   "id": "a44693d4",
   "metadata": {
    "ExecuteTime": {
     "end_time": "2022-09-16T12:18:03.158620Z",
     "start_time": "2022-09-16T12:18:03.140668Z"
    }
   },
   "outputs": [
    {
     "data": {
      "text/plain": [
       "0.9210526315789473"
      ]
     },
     "execution_count": 9,
     "metadata": {},
     "output_type": "execute_result"
    }
   ],
   "source": [
    "logistic.score(X_test, y_test)"
   ]
  },
  {
   "cell_type": "code",
   "execution_count": 10,
   "id": "357ee649",
   "metadata": {
    "ExecuteTime": {
     "end_time": "2022-09-16T12:18:19.295473Z",
     "start_time": "2022-09-16T12:18:19.276523Z"
    }
   },
   "outputs": [
    {
     "data": {
      "text/plain": [
       "array([2, 1, 1, 1, 1, 2, 2, 2, 0, 0, 2, 0, 1, 0, 1, 0, 1, 0, 1, 0, 2, 0,\n",
       "       0, 1, 1, 1, 2, 2, 0, 2, 2, 1, 2, 2, 0, 2, 2, 1])"
      ]
     },
     "execution_count": 10,
     "metadata": {},
     "output_type": "execute_result"
    }
   ],
   "source": [
    "logistic.predict(X_test)"
   ]
  },
  {
   "cell_type": "code",
   "execution_count": 11,
   "id": "2366edbe",
   "metadata": {
    "ExecuteTime": {
     "end_time": "2022-09-16T12:18:33.888455Z",
     "start_time": "2022-09-16T12:18:33.877483Z"
    }
   },
   "outputs": [
    {
     "data": {
      "text/plain": [
       "array(['setosa', 'versicolor', 'virginica'], dtype='<U10')"
      ]
     },
     "execution_count": 11,
     "metadata": {},
     "output_type": "execute_result"
    }
   ],
   "source": [
    "iris.target_names"
   ]
  },
  {
   "cell_type": "code",
   "execution_count": null,
   "id": "9778ab07",
   "metadata": {},
   "outputs": [],
   "source": [
    "深度学习 -> 神经网络 -> 卷积神经网络 -> 目标检测/ 语义分割/ 实例分割...-> CV\n",
    "        -> 循环神经网络 -> NLP"
   ]
  },
  {
   "cell_type": "code",
   "execution_count": null,
   "id": "8035bc50",
   "metadata": {},
   "outputs": [],
   "source": [
    "神经网络本质上就是线性回归"
   ]
  },
  {
   "cell_type": "code",
   "execution_count": 15,
   "id": "653dadb5",
   "metadata": {
    "ExecuteTime": {
     "end_time": "2022-09-16T12:36:35.587692Z",
     "start_time": "2022-09-16T12:36:35.574726Z"
    }
   },
   "outputs": [],
   "source": [
    "w1 = -0.91\n",
    "w2 = -0.97\n",
    "b = 0.061"
   ]
  },
  {
   "cell_type": "code",
   "execution_count": null,
   "id": "15016f3d",
   "metadata": {},
   "outputs": [],
   "source": [
    "x1 * w1 + x2 * w2 + b = y\n",
    "x1 * w1 + x2 * w2 + b = z\n",
    "x1 * w1 + x2 * w2 + b = 0\n",
    "x * w1 + y * w2 + b = 0\n",
    "y = -w1 / w2 * x - b / w2"
   ]
  },
  {
   "cell_type": "code",
   "execution_count": 17,
   "id": "0f928dbe",
   "metadata": {
    "ExecuteTime": {
     "end_time": "2022-09-16T12:41:14.278020Z",
     "start_time": "2022-09-16T12:41:14.268047Z"
    }
   },
   "outputs": [],
   "source": [
    "import numpy as np"
   ]
  },
  {
   "cell_type": "code",
   "execution_count": 18,
   "id": "f1981f27",
   "metadata": {
    "ExecuteTime": {
     "end_time": "2022-09-16T12:41:28.051193Z",
     "start_time": "2022-09-16T12:41:26.699806Z"
    }
   },
   "outputs": [],
   "source": [
    "import matplotlib.pyplot as plt"
   ]
  },
  {
   "cell_type": "code",
   "execution_count": 19,
   "id": "4ed7b5fc",
   "metadata": {
    "ExecuteTime": {
     "end_time": "2022-09-16T12:41:46.177725Z",
     "start_time": "2022-09-16T12:41:45.959309Z"
    },
    "collapsed": true
   },
   "outputs": [
    {
     "data": {
      "image/png": "[encoded data removed]",
      "text/plain": [
       "<Figure size 432x432 with 1 Axes>"
      ]
     },
     "metadata": {
      "needs_background": "light"
     },
     "output_type": "display_data"
    }
   ],
   "source": [
    "x = np.linspace(-6, 7, 20)\n",
    "y = -w1 / w2 * x - b/ w2\n",
    "plt.figure(figsize=(6, 6))\n",
    "plt.plot(x, y)\n",
    "plt.axis((-6, 6, -6, 6))\n",
    "_ = plt.xticks(np.arange(-6, 7))\n",
    "_ = plt.yticks(np.arange(-6, 7))"
   ]
  },
  {
   "cell_type": "code",
   "execution_count": null,
   "id": "fa4b05ed",
   "metadata": {},
   "outputs": [],
   "source": [
    "# 线性回归的结果 使用sigmoid变成改成概率, 就可以用于分类问题. "
   ]
  },
  {
   "cell_type": "code",
   "execution_count": 20,
   "id": "0607e929",
   "metadata": {
    "ExecuteTime": {
     "end_time": "2022-09-16T13:52:17.954723Z",
     "start_time": "2022-09-16T13:52:17.923804Z"
    }
   },
   "outputs": [],
   "source": [
    "import numpy as np\n",
    "import time\n",
    "a = np.random.rand(100000)\n",
    "b = np.random.rand(100000)"
   ]
  },
  {
   "cell_type": "code",
   "execution_count": 21,
   "id": "bd7dd923",
   "metadata": {
    "ExecuteTime": {
     "end_time": "2022-09-16T13:52:34.506464Z",
     "start_time": "2022-09-16T13:52:34.453606Z"
    }
   },
   "outputs": [
    {
     "name": "stdout",
     "output_type": "stream",
     "text": [
      "计算所用时间33.90908241271973 ms\n"
     ]
    }
   ],
   "source": [
    "# 第一种for 循环\n",
    "c = 0\n",
    "start = time.time()\n",
    "for i in range(100000):\n",
    "    c += a[i]*b[i]\n",
    "end = time.time()\n",
    "\n",
    "print(\"计算所用时间%s \" % str(1000*(end-start)) + \"ms\")"
   ]
  },
  {
   "cell_type": "code",
   "execution_count": 34,
   "id": "904a8e39",
   "metadata": {
    "ExecuteTime": {
     "end_time": "2022-09-16T13:53:01.520234Z",
     "start_time": "2022-09-16T13:53:01.515247Z"
    }
   },
   "outputs": [
    {
     "name": "stdout",
     "output_type": "stream",
     "text": [
      "计算所用时间0.0 ms\n"
     ]
    }
   ],
   "source": [
    "# 向量化运算\n",
    "start = time.time()\n",
    "c = np.dot(a, b)\n",
    "end = time.time()\n",
    "print(\"计算所用时间%s \" % str(1000*(end-start)) + \"ms\")"
   ]
  }
 ],
 "metadata": {
  "kernelspec": {
   "display_name": "Python 3 (ipykernel)",
   "language": "python",
   "name": "python3"
  },
  "language_info": {
   "codemirror_mode": {
    "name": "ipython",
    "version": 3
   },
   "file_extension": ".py",
   "mimetype": "text/x-python",
   "name": "python",
   "nbconvert_exporter": "python",
   "pygments_lexer": "ipython3",
   "version": "3.7.8"
  },
  "toc": {
   "base_numbering": 1,
   "nav_menu": {},
   "number_sections": true,
   "sideBar": true,
   "skip_h1_title": false,
   "title_cell": "Table of Contents",
   "title_sidebar": "Contents",
   "toc_cell": false,
   "toc_position": {},
   "toc_section_display": true,
   "toc_window_display": false
  }
 },
 "nbformat": 4,
 "nbformat_minor": 5
}
