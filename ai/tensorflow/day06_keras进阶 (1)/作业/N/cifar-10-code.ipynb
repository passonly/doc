{
 "cells": [
  {
   "cell_type": "markdown",
   "id": "cf0095da",
   "metadata": {},
   "source": [
    "### 导包"
   ]
  },
  {
   "cell_type": "code",
   "execution_count": 1,
   "id": "e9821c58",
   "metadata": {
    "ExecuteTime": {
     "end_time": "2022-09-27T07:56:53.757017Z",
     "start_time": "2022-09-27T07:56:38.596213Z"
    }
   },
   "outputs": [],
   "source": [
    "import numpy as np\n",
    "import pandas as pd\n",
    "import matplotlib.pyplot as plt\n",
    "import tensorflow as tf\n",
    "from tensorflow import keras"
   ]
  },
  {
   "cell_type": "markdown",
   "id": "f14f060e",
   "metadata": {},
   "source": [
    "### 加载数据"
   ]
  },
  {
   "cell_type": "code",
   "execution_count": 2,
   "id": "257dc6a2",
   "metadata": {
    "ExecuteTime": {
     "end_time": "2022-09-27T07:56:54.952151Z",
     "start_time": "2022-09-27T07:56:53.766926Z"
    }
   },
   "outputs": [],
   "source": [
    "(X_train, y_train),(X_test, y_test) = keras.datasets.cifar10.load_data()"
   ]
  },
  {
   "cell_type": "code",
   "execution_count": 3,
   "id": "1b8e563e",
   "metadata": {
    "ExecuteTime": {
     "end_time": "2022-09-27T07:56:54.967771Z",
     "start_time": "2022-09-27T07:56:54.953809Z"
    }
   },
   "outputs": [
    {
     "data": {
      "text/plain": [
       "(50000, 32, 32, 3)"
      ]
     },
     "execution_count": 3,
     "metadata": {},
     "output_type": "execute_result"
    }
   ],
   "source": [
    "X_train.shape"
   ]
  },
  {
   "cell_type": "code",
   "execution_count": 4,
   "id": "3274e2f3",
   "metadata": {
    "ExecuteTime": {
     "end_time": "2022-09-27T07:56:54.983729Z",
     "start_time": "2022-09-27T07:56:54.974839Z"
    }
   },
   "outputs": [
    {
     "data": {
      "text/plain": [
       "(10000, 32, 32, 3)"
      ]
     },
     "execution_count": 4,
     "metadata": {},
     "output_type": "execute_result"
    }
   ],
   "source": [
    "X_test.shape"
   ]
  },
  {
   "cell_type": "code",
   "execution_count": 5,
   "id": "8b1daed8",
   "metadata": {
    "ExecuteTime": {
     "end_time": "2022-09-27T07:56:54.998690Z",
     "start_time": "2022-09-27T07:56:54.988724Z"
    }
   },
   "outputs": [
    {
     "data": {
      "text/plain": [
       "(50000, 1)"
      ]
     },
     "execution_count": 5,
     "metadata": {},
     "output_type": "execute_result"
    }
   ],
   "source": [
    "y_train.shape"
   ]
  },
  {
   "cell_type": "code",
   "execution_count": 6,
   "id": "3060b3f8",
   "metadata": {
    "ExecuteTime": {
     "end_time": "2022-09-27T07:56:55.141346Z",
     "start_time": "2022-09-27T07:56:55.001684Z"
    }
   },
   "outputs": [
    {
     "name": "stdout",
     "output_type": "stream",
     "text": [
      "[1]\n"
     ]
    },
    {
     "data": {
      "image/png": "[encoded data removed]",
      "text/plain": [
       "<Figure size 432x288 with 1 Axes>"
      ]
     },
     "metadata": {
      "needs_background": "light"
     },
     "output_type": "display_data"
    }
   ],
   "source": [
    "plt.imshow(X_train[5])\n",
    "print(y_train[5, :])"
   ]
  },
  {
   "cell_type": "code",
   "execution_count": 7,
   "id": "ae68155e",
   "metadata": {
    "ExecuteTime": {
     "end_time": "2022-09-27T07:56:55.156299Z",
     "start_time": "2022-09-27T07:56:55.143341Z"
    }
   },
   "outputs": [],
   "source": [
    "# |   0   | airplane    |\n",
    "# |   1   | automobile  |\n",
    "# |   2   | bird        |\n",
    "# |   3   | cat         |\n",
    "# |   4   | deer        |\n",
    "# |   5   | dog         |\n",
    "# |   6   | frog        |\n",
    "# |   7   | horse       |\n",
    "# |   8   | ship        |\n",
    "# |   9   | truck       |"
   ]
  },
  {
   "cell_type": "markdown",
   "id": "749de8b9",
   "metadata": {},
   "source": [
    "### 数据处理"
   ]
  },
  {
   "cell_type": "code",
   "execution_count": 8,
   "id": "2e326da2",
   "metadata": {
    "ExecuteTime": {
     "end_time": "2022-09-27T07:56:55.440877Z",
     "start_time": "2022-09-27T07:56:55.159292Z"
    }
   },
   "outputs": [],
   "source": [
    "from sklearn.preprocessing import StandardScaler"
   ]
  },
  {
   "cell_type": "code",
   "execution_count": 9,
   "id": "93a49ab7",
   "metadata": {
    "ExecuteTime": {
     "end_time": "2022-09-27T07:56:55.869155Z",
     "start_time": "2022-09-27T07:56:55.445858Z"
    }
   },
   "outputs": [
    {
     "data": {
      "text/plain": [
       "(153600000,)"
      ]
     },
     "execution_count": 9,
     "metadata": {},
     "output_type": "execute_result"
    }
   ],
   "source": [
    "X_train.flatten().shape"
   ]
  },
  {
   "cell_type": "code",
   "execution_count": 10,
   "id": "7bf5a984",
   "metadata": {
    "ExecuteTime": {
     "end_time": "2022-09-27T07:56:59.221179Z",
     "start_time": "2022-09-27T07:56:55.874718Z"
    }
   },
   "outputs": [],
   "source": [
    "s = StandardScaler()\n",
    "X_train_scaled = s.fit_transform(X_train.reshape(-1, 1).astype('f4')).reshape(-1, 32, 32, 3)\n",
    "X_test_scaled = s.transform(X_test.reshape(-1, 1).astype('f4')).reshape(-1, 32, 32, 3)"
   ]
  },
  {
   "cell_type": "code",
   "execution_count": 11,
   "id": "d52d0a92",
   "metadata": {
    "ExecuteTime": {
     "end_time": "2022-09-27T07:56:59.236761Z",
     "start_time": "2022-09-27T07:56:59.223749Z"
    }
   },
   "outputs": [
    {
     "data": {
      "text/plain": [
       "(50000, 32, 32, 3)"
      ]
     },
     "execution_count": 11,
     "metadata": {},
     "output_type": "execute_result"
    }
   ],
   "source": [
    "X_train_scaled.shape"
   ]
  },
  {
   "cell_type": "markdown",
   "id": "2aa55fcd",
   "metadata": {},
   "source": [
    "### model"
   ]
  },
  {
   "cell_type": "code",
   "execution_count": 12,
   "id": "eaaa199a",
   "metadata": {
    "ExecuteTime": {
     "end_time": "2022-09-27T07:56:59.252681Z",
     "start_time": "2022-09-27T07:56:59.240710Z"
    }
   },
   "outputs": [],
   "source": [
    "from keras.layers import Flatten, Dense, AlphaDropout"
   ]
  },
  {
   "cell_type": "code",
   "execution_count": 13,
   "id": "8d99d704",
   "metadata": {
    "ExecuteTime": {
     "end_time": "2022-09-27T07:57:00.122593Z",
     "start_time": "2022-09-27T07:56:59.254667Z"
    }
   },
   "outputs": [
    {
     "name": "stdout",
     "output_type": "stream",
     "text": [
      "Model: \"sequential\"\n",
      "_________________________________________________________________\n",
      " Layer (type)                Output Shape              Param #   \n",
      "=================================================================\n",
      " flatten (Flatten)           (None, 3072)              0         \n",
      "                                                                 \n",
      " dense (Dense)               (None, 256)               786688    \n",
      "                                                                 \n",
      " dense_1 (Dense)             (None, 128)               32896     \n",
      "                                                                 \n",
      " dense_2 (Dense)             (None, 64)                8256      \n",
      "                                                                 \n",
      " dense_3 (Dense)             (None, 32)                2080      \n",
      "                                                                 \n",
      " dense_4 (Dense)             (None, 10)                330       \n",
      "                                                                 \n",
      "=================================================================\n",
      "Total params: 830,250\n",
      "Trainable params: 830,250\n",
      "Non-trainable params: 0\n",
      "_________________________________________________________________\n"
     ]
    }
   ],
   "source": [
    "model = keras.models.Sequential()\n",
    "model.add(Flatten(input_shape = X_train_scaled.shape[1:]))\n",
    "model.add(Dense(256, activation = 'relu'))\n",
    "model.add(Dense(128, activation = 'relu'))\n",
    "model.add(Dense(64, activation = 'relu'))\n",
    "model.add(Dense(32, activation = 'relu'))\n",
    "model.add(Dense(10, activation = 'softmax'))\n",
    "model.summary()"
   ]
  },
  {
   "cell_type": "code",
   "execution_count": 14,
   "id": "2b844eb2",
   "metadata": {
    "ExecuteTime": {
     "end_time": "2022-09-27T08:00:40.214786Z",
     "start_time": "2022-09-27T08:00:39.826336Z"
    }
   },
   "outputs": [],
   "source": [
    "model.compile(optimizer='adam', loss='sparse_categorical_crossentropy', metrics='acc')"
   ]
  },
  {
   "cell_type": "code",
   "execution_count": 15,
   "id": "8494b9c6",
   "metadata": {
    "ExecuteTime": {
     "end_time": "2022-09-27T08:07:07.111279Z",
     "start_time": "2022-09-27T08:03:51.914763Z"
    },
    "scrolled": true
   },
   "outputs": [
    {
     "name": "stdout",
     "output_type": "stream",
     "text": [
      "Epoch 1/20\n",
      "1563/1563 [==============================] - 11s 6ms/step - loss: 1.7596 - acc: 0.3781 - val_loss: 1.5752 - val_acc: 0.4432\n",
      "Epoch 2/20\n",
      "1563/1563 [==============================] - 9s 6ms/step - loss: 1.5383 - acc: 0.4549 - val_loss: 1.4860 - val_acc: 0.4768\n",
      "Epoch 3/20\n",
      "1563/1563 [==============================] - 9s 6ms/step - loss: 1.4376 - acc: 0.4942 - val_loss: 1.4540 - val_acc: 0.4910\n",
      "Epoch 4/20\n",
      "1563/1563 [==============================] - 10s 6ms/step - loss: 1.3555 - acc: 0.5210 - val_loss: 1.4470 - val_acc: 0.4882\n",
      "Epoch 5/20\n",
      "1563/1563 [==============================] - 9s 6ms/step - loss: 1.2899 - acc: 0.5440 - val_loss: 1.4257 - val_acc: 0.5030\n",
      "Epoch 6/20\n",
      "1563/1563 [==============================] - 10s 6ms/step - loss: 1.2320 - acc: 0.5636 - val_loss: 1.4010 - val_acc: 0.5170\n",
      "Epoch 7/20\n",
      "1563/1563 [==============================] - 9s 6ms/step - loss: 1.1761 - acc: 0.5846 - val_loss: 1.3983 - val_acc: 0.5185\n",
      "Epoch 8/20\n",
      "1563/1563 [==============================] - 9s 6ms/step - loss: 1.1254 - acc: 0.6032 - val_loss: 1.3977 - val_acc: 0.5204\n",
      "Epoch 9/20\n",
      "1563/1563 [==============================] - 10s 6ms/step - loss: 1.0751 - acc: 0.6182 - val_loss: 1.4196 - val_acc: 0.5286\n",
      "Epoch 10/20\n",
      "1563/1563 [==============================] - 10s 6ms/step - loss: 1.0276 - acc: 0.6371 - val_loss: 1.4202 - val_acc: 0.5189\n",
      "Epoch 11/20\n",
      "1563/1563 [==============================] - 10s 6ms/step - loss: 0.9854 - acc: 0.6523 - val_loss: 1.4255 - val_acc: 0.5347\n",
      "Epoch 12/20\n",
      "1563/1563 [==============================] - 9s 6ms/step - loss: 0.9504 - acc: 0.6659 - val_loss: 1.4571 - val_acc: 0.5190\n",
      "Epoch 13/20\n",
      "1563/1563 [==============================] - 9s 6ms/step - loss: 0.9122 - acc: 0.6772 - val_loss: 1.5233 - val_acc: 0.5241\n",
      "Epoch 14/20\n",
      "1563/1563 [==============================] - 11s 7ms/step - loss: 0.8790 - acc: 0.6913 - val_loss: 1.5733 - val_acc: 0.5155\n",
      "Epoch 15/20\n",
      "1563/1563 [==============================] - 10s 6ms/step - loss: 0.8420 - acc: 0.7026 - val_loss: 1.5741 - val_acc: 0.5301\n",
      "Epoch 16/20\n",
      "1563/1563 [==============================] - 9s 6ms/step - loss: 0.8154 - acc: 0.7113 - val_loss: 1.5909 - val_acc: 0.5184\n",
      "Epoch 17/20\n",
      "1563/1563 [==============================] - 10s 6ms/step - loss: 0.7766 - acc: 0.7249 - val_loss: 1.6377 - val_acc: 0.5252\n",
      "Epoch 18/20\n",
      "1563/1563 [==============================] - 10s 6ms/step - loss: 0.7498 - acc: 0.7349 - val_loss: 1.6526 - val_acc: 0.5237\n",
      "Epoch 19/20\n",
      "1563/1563 [==============================] - 10s 6ms/step - loss: 0.7229 - acc: 0.7435 - val_loss: 1.6374 - val_acc: 0.5295\n",
      "Epoch 20/20\n",
      "1563/1563 [==============================] - 10s 7ms/step - loss: 0.6995 - acc: 0.7565 - val_loss: 1.7173 - val_acc: 0.5201\n"
     ]
    }
   ],
   "source": [
    "history = model.fit(X_train_scaled, y_train, \n",
    "                    batch_size= 32,\n",
    "                    epochs= 20,\n",
    "                    validation_data=(X_test_scaled, y_test) )"
   ]
  },
  {
   "cell_type": "code",
   "execution_count": 16,
   "id": "95d797d0",
   "metadata": {
    "ExecuteTime": {
     "end_time": "2022-09-27T08:12:17.730274Z",
     "start_time": "2022-09-27T08:12:17.278332Z"
    }
   },
   "outputs": [
    {
     "data": {
      "text/plain": [
       "<AxesSubplot:>"
      ]
     },
     "execution_count": 16,
     "metadata": {},
     "output_type": "execute_result"
    },
    {
     "data": {
      "image/png": "[encoded data removed]",
      "text/plain": [
       "<Figure size 432x288 with 1 Axes>"
      ]
     },
     "metadata": {
      "needs_background": "light"
     },
     "output_type": "display_data"
    }
   ],
   "source": [
    "pd.DataFrame(history.history).plot()"
   ]
  },
  {
   "cell_type": "markdown",
   "id": "6b8a0161",
   "metadata": {},
   "source": [
    "#### 解决过拟合"
   ]
  },
  {
   "cell_type": "code",
   "execution_count": 17,
   "id": "995d653c",
   "metadata": {
    "ExecuteTime": {
     "end_time": "2022-09-27T08:13:10.683495Z",
     "start_time": "2022-09-27T08:13:10.592738Z"
    }
   },
   "outputs": [
    {
     "name": "stdout",
     "output_type": "stream",
     "text": [
      "Model: \"sequential_1\"\n",
      "_________________________________________________________________\n",
      " Layer (type)                Output Shape              Param #   \n",
      "=================================================================\n",
      " flatten_1 (Flatten)         (None, 3072)              0         \n",
      "                                                                 \n",
      " dense_5 (Dense)             (None, 256)               786688    \n",
      "                                                                 \n",
      " alpha_dropout (AlphaDropout  (None, 256)              0         \n",
      " )                                                               \n",
      "                                                                 \n",
      " dense_6 (Dense)             (None, 128)               32896     \n",
      "                                                                 \n",
      " alpha_dropout_1 (AlphaDropo  (None, 128)              0         \n",
      " ut)                                                             \n",
      "                                                                 \n",
      " dense_7 (Dense)             (None, 64)                8256      \n",
      "                                                                 \n",
      " dense_8 (Dense)             (None, 32)                2080      \n",
      "                                                                 \n",
      " dense_9 (Dense)             (None, 10)                330       \n",
      "                                                                 \n",
      "=================================================================\n",
      "Total params: 830,250\n",
      "Trainable params: 830,250\n",
      "Non-trainable params: 0\n",
      "_________________________________________________________________\n"
     ]
    }
   ],
   "source": [
    "model = keras.models.Sequential()\n",
    "model.add(Flatten(input_shape = X_train_scaled.shape[1:]))\n",
    "model.add(Dense(256, activation = 'relu'))\n",
    "model.add(AlphaDropout(0.4))\n",
    "model.add(Dense(128, activation = 'relu'))\n",
    "model.add(AlphaDropout(0.3))\n",
    "model.add(Dense(64, activation = 'relu'))\n",
    "model.add(Dense(32, activation = 'relu'))\n",
    "model.add(Dense(10, activation = 'softmax'))\n",
    "model.summary()"
   ]
  },
  {
   "cell_type": "code",
   "execution_count": 18,
   "id": "f01392db",
   "metadata": {
    "ExecuteTime": {
     "end_time": "2022-09-27T08:13:37.230902Z",
     "start_time": "2022-09-27T08:13:37.217895Z"
    }
   },
   "outputs": [],
   "source": [
    "model.compile(optimizer='adam', loss='sparse_categorical_crossentropy', metrics='acc')"
   ]
  },
  {
   "cell_type": "code",
   "execution_count": 19,
   "id": "5810616e",
   "metadata": {
    "ExecuteTime": {
     "end_time": "2022-09-27T08:17:24.579360Z",
     "start_time": "2022-09-27T08:13:58.230954Z"
    },
    "scrolled": false
   },
   "outputs": [
    {
     "name": "stdout",
     "output_type": "stream",
     "text": [
      "Epoch 1/20\n",
      "1563/1563 [==============================] - 11s 7ms/step - loss: 1.9629 - acc: 0.2829 - val_loss: 2.1271 - val_acc: 0.3882\n",
      "Epoch 2/20\n",
      "1563/1563 [==============================] - 9s 6ms/step - loss: 1.7639 - acc: 0.3684 - val_loss: 2.1321 - val_acc: 0.4202\n",
      "Epoch 3/20\n",
      "1563/1563 [==============================] - 10s 6ms/step - loss: 1.6881 - acc: 0.3980 - val_loss: 1.9666 - val_acc: 0.4483\n",
      "Epoch 4/20\n",
      "1563/1563 [==============================] - 10s 6ms/step - loss: 1.6354 - acc: 0.4160 - val_loss: 1.9148 - val_acc: 0.4553\n",
      "Epoch 5/20\n",
      "1563/1563 [==============================] - 10s 6ms/step - loss: 1.5959 - acc: 0.4332 - val_loss: 1.9061 - val_acc: 0.4687\n",
      "Epoch 6/20\n",
      "1563/1563 [==============================] - 10s 6ms/step - loss: 1.5651 - acc: 0.4448 - val_loss: 1.9512 - val_acc: 0.4721\n",
      "Epoch 7/20\n",
      "1563/1563 [==============================] - 10s 6ms/step - loss: 1.5342 - acc: 0.4561 - val_loss: 1.9429 - val_acc: 0.4774\n",
      "Epoch 8/20\n",
      "1563/1563 [==============================] - 10s 6ms/step - loss: 1.5080 - acc: 0.4630 - val_loss: 1.9523 - val_acc: 0.4824\n",
      "Epoch 9/20\n",
      "1563/1563 [==============================] - 10s 6ms/step - loss: 1.4850 - acc: 0.4717 - val_loss: 1.9178 - val_acc: 0.4838\n",
      "Epoch 10/20\n",
      "1563/1563 [==============================] - 10s 7ms/step - loss: 1.4684 - acc: 0.4785 - val_loss: 1.8554 - val_acc: 0.4943\n",
      "Epoch 11/20\n",
      "1563/1563 [==============================] - 10s 7ms/step - loss: 1.4527 - acc: 0.4835 - val_loss: 1.8643 - val_acc: 0.4945\n",
      "Epoch 12/20\n",
      "1563/1563 [==============================] - 10s 7ms/step - loss: 1.4322 - acc: 0.4923 - val_loss: 1.8786 - val_acc: 0.5027\n",
      "Epoch 13/20\n",
      "1563/1563 [==============================] - 10s 6ms/step - loss: 1.4188 - acc: 0.4980 - val_loss: 1.8271 - val_acc: 0.5031\n",
      "Epoch 14/20\n",
      "1563/1563 [==============================] - 10s 7ms/step - loss: 1.4024 - acc: 0.5026 - val_loss: 1.8033 - val_acc: 0.5035\n",
      "Epoch 15/20\n",
      "1563/1563 [==============================] - 11s 7ms/step - loss: 1.3921 - acc: 0.5068 - val_loss: 1.7951 - val_acc: 0.5123\n",
      "Epoch 16/20\n",
      "1563/1563 [==============================] - 12s 8ms/step - loss: 1.3832 - acc: 0.5077 - val_loss: 1.9406 - val_acc: 0.5060\n",
      "Epoch 17/20\n",
      "1563/1563 [==============================] - 11s 7ms/step - loss: 1.3703 - acc: 0.5133 - val_loss: 1.7687 - val_acc: 0.5162\n",
      "Epoch 18/20\n",
      "1563/1563 [==============================] - 10s 6ms/step - loss: 1.3622 - acc: 0.5178 - val_loss: 1.8299 - val_acc: 0.5021\n",
      "Epoch 19/20\n",
      "1563/1563 [==============================] - 10s 6ms/step - loss: 1.3469 - acc: 0.5209 - val_loss: 1.8053 - val_acc: 0.5091\n",
      "Epoch 20/20\n",
      "1563/1563 [==============================] - 11s 7ms/step - loss: 1.3425 - acc: 0.5237 - val_loss: 1.8284 - val_acc: 0.5133\n"
     ]
    }
   ],
   "source": [
    "history = model.fit(X_train_scaled, y_train, \n",
    "                    batch_size= 32,\n",
    "                    epochs= 20,\n",
    "                    validation_data=(X_test_scaled, y_test) )"
   ]
  },
  {
   "cell_type": "code",
   "execution_count": 20,
   "id": "ff5aec4f",
   "metadata": {
    "ExecuteTime": {
     "end_time": "2022-09-27T08:17:24.896616Z",
     "start_time": "2022-09-27T08:17:24.708010Z"
    }
   },
   "outputs": [
    {
     "data": {
      "text/plain": [
       "<AxesSubplot:>"
      ]
     },
     "execution_count": 20,
     "metadata": {},
     "output_type": "execute_result"
    },
    {
     "data": {
      "image/png": "[encoded data removed]",
      "text/plain": [
       "<Figure size 432x288 with 1 Axes>"
      ]
     },
     "metadata": {
      "needs_background": "light"
     },
     "output_type": "display_data"
    }
   ],
   "source": [
    "pd.DataFrame(history.history).plot()"
   ]
  },
  {
   "cell_type": "code",
   "execution_count": null,
   "id": "28138ecd",
   "metadata": {},
   "outputs": [],
   "source": []
  }
 ],
 "metadata": {
  "kernelspec": {
   "display_name": "Python 3 (ipykernel)",
   "language": "python",
   "name": "python3"
  },
  "language_info": {
   "codemirror_mode": {
    "name": "ipython",
    "version": 3
   },
   "file_extension": ".py",
   "mimetype": "text/x-python",
   "name": "python",
   "nbconvert_exporter": "python",
   "pygments_lexer": "ipython3",
   "version": "3.7.8"
  },
  "toc": {
   "base_numbering": 1,
   "nav_menu": {},
   "number_sections": true,
   "sideBar": true,
   "skip_h1_title": false,
   "title_cell": "Table of Contents",
   "title_sidebar": "Contents",
   "toc_cell": false,
   "toc_position": {},
   "toc_section_display": true,
   "toc_window_display": false
  },
  "varInspector": {
   "cols": {
    "lenName": 16,
    "lenType": 16,
    "lenVar": 40
   },
   "kernels_config": {
    "python": {
     "delete_cmd_postfix": "",
     "delete_cmd_prefix": "del ",
     "library": "var_list.py",
     "varRefreshCmd": "print(var_dic_list())"
    },
    "r": {
     "delete_cmd_postfix": ") ",
     "delete_cmd_prefix": "rm(",
     "library": "var_list.r",
     "varRefreshCmd": "cat(var_dic_list()) "
    }
   },
   "types_to_exclude": [
    "module",
    "function",
    "builtin_function_or_method",
    "instance",
    "_Feature"
   ],
   "window_display": false
  }
 },
 "nbformat": 4,
 "nbformat_minor": 5
}
