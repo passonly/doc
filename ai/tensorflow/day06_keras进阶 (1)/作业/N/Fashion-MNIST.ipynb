{
 "cells": [
  {
   "cell_type": "code",
   "execution_count": 1,
   "id": "256d107c",
   "metadata": {
    "ExecuteTime": {
     "end_time": "2022-09-27T01:20:51.937552Z",
     "start_time": "2022-09-27T01:20:51.109350Z"
    }
   },
   "outputs": [],
   "source": [
    "import tensorflow as tf\n",
    "import numpy as np\n",
    "import pandas as pd\n",
    "import matplotlib.pyplot as plt\n",
    "import tensorflow.keras as keras"
   ]
  },
  {
   "cell_type": "markdown",
   "id": "9aba73a2",
   "metadata": {},
   "source": [
    "### 加载数据"
   ]
  },
  {
   "cell_type": "code",
   "execution_count": 2,
   "id": "0cce34c3",
   "metadata": {
    "ExecuteTime": {
     "end_time": "2022-09-27T01:22:06.000008Z",
     "start_time": "2022-09-27T01:22:00.199832Z"
    }
   },
   "outputs": [
    {
     "name": "stdout",
     "output_type": "stream",
     "text": [
      "Downloading data from https://storage.googleapis.com/tensorflow/tf-keras-datasets/train-labels-idx1-ubyte.gz\n",
      "29515/29515 [==============================] - 0s 4us/step\n",
      "Downloading data from https://storage.googleapis.com/tensorflow/tf-keras-datasets/train-images-idx3-ubyte.gz\n",
      "26421880/26421880 [==============================] - 3s 0us/step\n",
      "Downloading data from https://storage.googleapis.com/tensorflow/tf-keras-datasets/t10k-labels-idx1-ubyte.gz\n",
      "5148/5148 [==============================] - 0s 0s/step\n",
      "Downloading data from https://storage.googleapis.com/tensorflow/tf-keras-datasets/t10k-images-idx3-ubyte.gz\n",
      "4422102/4422102 [==============================] - 1s 0us/step\n"
     ]
    }
   ],
   "source": [
    "(X_train,y_train),(X_test,y_test) = keras.datasets.fashion_mnist.load_data()"
   ]
  },
  {
   "cell_type": "code",
   "execution_count": 7,
   "id": "5130df59",
   "metadata": {
    "ExecuteTime": {
     "end_time": "2022-09-27T01:23:55.461517Z",
     "start_time": "2022-09-27T01:23:55.398305Z"
    }
   },
   "outputs": [
    {
     "data": {
      "image/png": "[encoded data removed]",
      "text/plain": [
       "<Figure size 432x288 with 1 Axes>"
      ]
     },
     "metadata": {
      "needs_background": "light"
     },
     "output_type": "display_data"
    }
   ],
   "source": [
    "_ = plt.imshow(X_train[0],cmap='gray')\n",
    "_ = plt.axis('off')"
   ]
  },
  {
   "cell_type": "code",
   "execution_count": 8,
   "id": "5a4168ad",
   "metadata": {
    "ExecuteTime": {
     "end_time": "2022-09-27T01:24:20.241965Z",
     "start_time": "2022-09-27T01:24:20.232945Z"
    }
   },
   "outputs": [
    {
     "data": {
      "text/plain": [
       "9"
      ]
     },
     "execution_count": 8,
     "metadata": {},
     "output_type": "execute_result"
    }
   ],
   "source": [
    "y_train[0]"
   ]
  },
  {
   "cell_type": "code",
   "execution_count": 9,
   "id": "49053820",
   "metadata": {
    "ExecuteTime": {
     "end_time": "2022-09-27T01:25:43.319104Z",
     "start_time": "2022-09-27T01:25:43.313077Z"
    }
   },
   "outputs": [],
   "source": [
    "# |   0   | T-shirt/top |\n",
    "# |   1   | Trouser     |\n",
    "# |   2   | Pullover    |\n",
    "# |   3   | Dress       |\n",
    "# |   4   | Coat        |\n",
    "# |   5   | Sandal      |\n",
    "# |   6   | Shirt       |\n",
    "# |   7   | Sneaker     |\n",
    "# |   8   | Bag         |\n",
    "# |   9   | Ankle boot  |"
   ]
  },
  {
   "cell_type": "code",
   "execution_count": 10,
   "id": "cfd06267",
   "metadata": {
    "ExecuteTime": {
     "end_time": "2022-09-27T01:26:06.126014Z",
     "start_time": "2022-09-27T01:26:06.105069Z"
    },
    "collapsed": true
   },
   "outputs": [
    {
     "data": {
      "text/plain": [
       "array([[  0,   0,   0,   0,   0,   0,   0,   0,   0,   0,   0,   0,   0,\n",
       "          0,   0,   0,   0,   0,   0,   0,   0,   0,   0,   0,   0,   0,\n",
       "          0,   0],\n",
       "       [  0,   0,   0,   0,   0,   0,   0,   0,   0,   0,   0,   0,   0,\n",
       "          0,   0,   0,   0,   0,   0,   0,   0,   0,   0,   0,   0,   0,\n",
       "          0,   0],\n",
       "       [  0,   0,   0,   0,   0,   0,   0,   0,   0,   0,   0,   0,   0,\n",
       "          0,   0,   0,   0,   0,   0,   0,   0,   0,   0,   0,   0,   0,\n",
       "          0,   0],\n",
       "       [  0,   0,   0,   0,   0,   0,   0,   0,   0,   0,   0,   0,   1,\n",
       "          0,   0,  13,  73,   0,   0,   1,   4,   0,   0,   0,   0,   1,\n",
       "          1,   0],\n",
       "       [  0,   0,   0,   0,   0,   0,   0,   0,   0,   0,   0,   0,   3,\n",
       "          0,  36, 136, 127,  62,  54,   0,   0,   0,   1,   3,   4,   0,\n",
       "          0,   3],\n",
       "       [  0,   0,   0,   0,   0,   0,   0,   0,   0,   0,   0,   0,   6,\n",
       "          0, 102, 204, 176, 134, 144, 123,  23,   0,   0,   0,   0,  12,\n",
       "         10,   0],\n",
       "       [  0,   0,   0,   0,   0,   0,   0,   0,   0,   0,   0,   0,   0,\n",
       "          0, 155, 236, 207, 178, 107, 156, 161, 109,  64,  23,  77, 130,\n",
       "         72,  15],\n",
       "       [  0,   0,   0,   0,   0,   0,   0,   0,   0,   0,   0,   1,   0,\n",
       "         69, 207, 223, 218, 216, 216, 163, 127, 121, 122, 146, 141,  88,\n",
       "        172,  66],\n",
       "       [  0,   0,   0,   0,   0,   0,   0,   0,   0,   1,   1,   1,   0,\n",
       "        200, 232, 232, 233, 229, 223, 223, 215, 213, 164, 127, 123, 196,\n",
       "        229,   0],\n",
       "       [  0,   0,   0,   0,   0,   0,   0,   0,   0,   0,   0,   0,   0,\n",
       "        183, 225, 216, 223, 228, 235, 227, 224, 222, 224, 221, 223, 245,\n",
       "        173,   0],\n",
       "       [  0,   0,   0,   0,   0,   0,   0,   0,   0,   0,   0,   0,   0,\n",
       "        193, 228, 218, 213, 198, 180, 212, 210, 211, 213, 223, 220, 243,\n",
       "        202,   0],\n",
       "       [  0,   0,   0,   0,   0,   0,   0,   0,   0,   1,   3,   0,  12,\n",
       "        219, 220, 212, 218, 192, 169, 227, 208, 218, 224, 212, 226, 197,\n",
       "        209,  52],\n",
       "       [  0,   0,   0,   0,   0,   0,   0,   0,   0,   0,   6,   0,  99,\n",
       "        244, 222, 220, 218, 203, 198, 221, 215, 213, 222, 220, 245, 119,\n",
       "        167,  56],\n",
       "       [  0,   0,   0,   0,   0,   0,   0,   0,   0,   4,   0,   0,  55,\n",
       "        236, 228, 230, 228, 240, 232, 213, 218, 223, 234, 217, 217, 209,\n",
       "         92,   0],\n",
       "       [  0,   0,   1,   4,   6,   7,   2,   0,   0,   0,   0,   0, 237,\n",
       "        226, 217, 223, 222, 219, 222, 221, 216, 223, 229, 215, 218, 255,\n",
       "         77,   0],\n",
       "       [  0,   3,   0,   0,   0,   0,   0,   0,   0,  62, 145, 204, 228,\n",
       "        207, 213, 221, 218, 208, 211, 218, 224, 223, 219, 215, 224, 244,\n",
       "        159,   0],\n",
       "       [  0,   0,   0,   0,  18,  44,  82, 107, 189, 228, 220, 222, 217,\n",
       "        226, 200, 205, 211, 230, 224, 234, 176, 188, 250, 248, 233, 238,\n",
       "        215,   0],\n",
       "       [  0,  57, 187, 208, 224, 221, 224, 208, 204, 214, 208, 209, 200,\n",
       "        159, 245, 193, 206, 223, 255, 255, 221, 234, 221, 211, 220, 232,\n",
       "        246,   0],\n",
       "       [  3, 202, 228, 224, 221, 211, 211, 214, 205, 205, 205, 220, 240,\n",
       "         80, 150, 255, 229, 221, 188, 154, 191, 210, 204, 209, 222, 228,\n",
       "        225,   0],\n",
       "       [ 98, 233, 198, 210, 222, 229, 229, 234, 249, 220, 194, 215, 217,\n",
       "        241,  65,  73, 106, 117, 168, 219, 221, 215, 217, 223, 223, 224,\n",
       "        229,  29],\n",
       "       [ 75, 204, 212, 204, 193, 205, 211, 225, 216, 185, 197, 206, 198,\n",
       "        213, 240, 195, 227, 245, 239, 223, 218, 212, 209, 222, 220, 221,\n",
       "        230,  67],\n",
       "       [ 48, 203, 183, 194, 213, 197, 185, 190, 194, 192, 202, 214, 219,\n",
       "        221, 220, 236, 225, 216, 199, 206, 186, 181, 177, 172, 181, 205,\n",
       "        206, 115],\n",
       "       [  0, 122, 219, 193, 179, 171, 183, 196, 204, 210, 213, 207, 211,\n",
       "        210, 200, 196, 194, 191, 195, 191, 198, 192, 176, 156, 167, 177,\n",
       "        210,  92],\n",
       "       [  0,   0,  74, 189, 212, 191, 175, 172, 175, 181, 185, 188, 189,\n",
       "        188, 193, 198, 204, 209, 210, 210, 211, 188, 188, 194, 192, 216,\n",
       "        170,   0],\n",
       "       [  2,   0,   0,   0,  66, 200, 222, 237, 239, 242, 246, 243, 244,\n",
       "        221, 220, 193, 191, 179, 182, 182, 181, 176, 166, 168,  99,  58,\n",
       "          0,   0],\n",
       "       [  0,   0,   0,   0,   0,   0,   0,  40,  61,  44,  72,  41,  35,\n",
       "          0,   0,   0,   0,   0,   0,   0,   0,   0,   0,   0,   0,   0,\n",
       "          0,   0],\n",
       "       [  0,   0,   0,   0,   0,   0,   0,   0,   0,   0,   0,   0,   0,\n",
       "          0,   0,   0,   0,   0,   0,   0,   0,   0,   0,   0,   0,   0,\n",
       "          0,   0],\n",
       "       [  0,   0,   0,   0,   0,   0,   0,   0,   0,   0,   0,   0,   0,\n",
       "          0,   0,   0,   0,   0,   0,   0,   0,   0,   0,   0,   0,   0,\n",
       "          0,   0]], dtype=uint8)"
      ]
     },
     "execution_count": 10,
     "metadata": {},
     "output_type": "execute_result"
    }
   ],
   "source": [
    "X_train[0]"
   ]
  },
  {
   "cell_type": "code",
   "execution_count": 11,
   "id": "3b56c1a6",
   "metadata": {
    "ExecuteTime": {
     "end_time": "2022-09-27T01:27:18.805381Z",
     "start_time": "2022-09-27T01:27:18.796386Z"
    }
   },
   "outputs": [
    {
     "data": {
      "text/plain": [
       "array([0, 1, 2, 3, 4, 5, 6, 7, 8, 9], dtype=uint8)"
      ]
     },
     "execution_count": 11,
     "metadata": {},
     "output_type": "execute_result"
    }
   ],
   "source": [
    "np.unique(y_test)"
   ]
  },
  {
   "cell_type": "markdown",
   "id": "9c6dd0a3",
   "metadata": {},
   "source": [
    "### 数据处理"
   ]
  },
  {
   "cell_type": "code",
   "execution_count": 12,
   "id": "5e6d54e6",
   "metadata": {
    "ExecuteTime": {
     "end_time": "2022-09-27T01:28:30.577430Z",
     "start_time": "2022-09-27T01:28:30.261545Z"
    }
   },
   "outputs": [],
   "source": [
    "X_train = X_train.astype('f4')/255.0\n",
    "X_test = X_test.astype('f4')/255.0\n",
    "y_train = keras.utils.to_categorical(y_train,10)\n",
    "y_test = keras.utils.to_categorical(y_test,10)"
   ]
  },
  {
   "cell_type": "code",
   "execution_count": 25,
   "id": "ec8ee65f",
   "metadata": {
    "ExecuteTime": {
     "end_time": "2022-09-27T01:37:38.882885Z",
     "start_time": "2022-09-27T01:37:38.872911Z"
    }
   },
   "outputs": [],
   "source": [
    "X_train = X_train.reshape(-1,28*28)\n",
    "X_test = X_test.reshape(-1,28*28)"
   ]
  },
  {
   "cell_type": "code",
   "execution_count": 27,
   "id": "2fc24e02",
   "metadata": {
    "ExecuteTime": {
     "end_time": "2022-09-27T01:37:54.919921Z",
     "start_time": "2022-09-27T01:37:54.900963Z"
    }
   },
   "outputs": [
    {
     "data": {
      "text/plain": [
       "(784,)"
      ]
     },
     "execution_count": 27,
     "metadata": {},
     "output_type": "execute_result"
    }
   ],
   "source": [
    "X_train.shape[1:]"
   ]
  },
  {
   "cell_type": "markdown",
   "id": "669dc0d6",
   "metadata": {},
   "source": [
    "### model"
   ]
  },
  {
   "cell_type": "code",
   "execution_count": 13,
   "id": "affd876c",
   "metadata": {
    "ExecuteTime": {
     "end_time": "2022-09-27T01:29:46.765822Z",
     "start_time": "2022-09-27T01:29:46.762788Z"
    }
   },
   "outputs": [],
   "source": [
    "from keras.layers import Dense"
   ]
  },
  {
   "cell_type": "code",
   "execution_count": 30,
   "id": "388dc7ad",
   "metadata": {
    "ExecuteTime": {
     "end_time": "2022-09-27T01:38:39.145556Z",
     "start_time": "2022-09-27T01:38:38.712801Z"
    }
   },
   "outputs": [],
   "source": [
    "model = keras.models.Sequential()\n",
    "model.add(Dense(256,activation='relu',input_shape=(X_train.shape[1:])))\n",
    "model.add(Dense(128,activation='relu'))\n",
    "model.add(Dense(64,activation='relu'))\n",
    "model.add(Dense(32,activation='relu'))\n",
    "model.add(Dense(10,activation='softmax'))"
   ]
  },
  {
   "cell_type": "code",
   "execution_count": 31,
   "id": "a085d178",
   "metadata": {
    "ExecuteTime": {
     "end_time": "2022-09-27T01:38:42.069427Z",
     "start_time": "2022-09-27T01:38:42.048522Z"
    }
   },
   "outputs": [
    {
     "name": "stdout",
     "output_type": "stream",
     "text": [
      "Model: \"sequential_1\"\n",
      "_________________________________________________________________\n",
      " Layer (type)                Output Shape              Param #   \n",
      "=================================================================\n",
      " dense_5 (Dense)             (None, 256)               200960    \n",
      "                                                                 \n",
      " dense_6 (Dense)             (None, 128)               32896     \n",
      "                                                                 \n",
      " dense_7 (Dense)             (None, 64)                8256      \n",
      "                                                                 \n",
      " dense_8 (Dense)             (None, 32)                2080      \n",
      "                                                                 \n",
      " dense_9 (Dense)             (None, 10)                330       \n",
      "                                                                 \n",
      "=================================================================\n",
      "Total params: 244,522\n",
      "Trainable params: 244,522\n",
      "Non-trainable params: 0\n",
      "_________________________________________________________________\n"
     ]
    }
   ],
   "source": [
    "model.summary()"
   ]
  },
  {
   "cell_type": "code",
   "execution_count": 33,
   "id": "74fd3561",
   "metadata": {
    "ExecuteTime": {
     "end_time": "2022-09-27T01:38:57.917848Z",
     "start_time": "2022-09-27T01:38:57.900851Z"
    }
   },
   "outputs": [],
   "source": [
    "model.compile(optimizer='adam',loss='categorical_crossentropy',metrics='acc')"
   ]
  },
  {
   "cell_type": "code",
   "execution_count": 34,
   "id": "1cc0be3d",
   "metadata": {
    "ExecuteTime": {
     "end_time": "2022-09-27T01:39:56.000693Z",
     "start_time": "2022-09-27T01:38:58.800263Z"
    }
   },
   "outputs": [
    {
     "name": "stdout",
     "output_type": "stream",
     "text": [
      "Epoch 1/20\n",
      "938/938 [==============================] - 6s 3ms/step - loss: 0.5298 - acc: 0.8113 - val_loss: 0.4312 - val_acc: 0.8460\n",
      "Epoch 2/20\n",
      "938/938 [==============================] - 3s 3ms/step - loss: 0.3739 - acc: 0.8632 - val_loss: 0.3662 - val_acc: 0.8652\n",
      "Epoch 3/20\n",
      "938/938 [==============================] - 3s 3ms/step - loss: 0.3358 - acc: 0.8762 - val_loss: 0.3822 - val_acc: 0.8621\n",
      "Epoch 4/20\n",
      "938/938 [==============================] - 3s 3ms/step - loss: 0.3109 - acc: 0.8850 - val_loss: 0.3684 - val_acc: 0.8740\n",
      "Epoch 5/20\n",
      "938/938 [==============================] - 3s 3ms/step - loss: 0.2896 - acc: 0.8924 - val_loss: 0.3486 - val_acc: 0.8706\n",
      "Epoch 6/20\n",
      "938/938 [==============================] - 3s 3ms/step - loss: 0.2777 - acc: 0.8964 - val_loss: 0.3543 - val_acc: 0.8751\n",
      "Epoch 7/20\n",
      "938/938 [==============================] - 3s 3ms/step - loss: 0.2634 - acc: 0.9011 - val_loss: 0.3390 - val_acc: 0.8739\n",
      "Epoch 8/20\n",
      "938/938 [==============================] - 3s 3ms/step - loss: 0.2543 - acc: 0.9050 - val_loss: 0.3411 - val_acc: 0.8787\n",
      "Epoch 9/20\n",
      "938/938 [==============================] - 3s 3ms/step - loss: 0.2431 - acc: 0.9089 - val_loss: 0.3381 - val_acc: 0.8811\n",
      "Epoch 10/20\n",
      "938/938 [==============================] - 3s 3ms/step - loss: 0.2372 - acc: 0.9108 - val_loss: 0.3282 - val_acc: 0.8844\n",
      "Epoch 11/20\n",
      "938/938 [==============================] - 3s 3ms/step - loss: 0.2272 - acc: 0.9147 - val_loss: 0.3267 - val_acc: 0.8843\n",
      "Epoch 12/20\n",
      "938/938 [==============================] - 3s 3ms/step - loss: 0.2212 - acc: 0.9157 - val_loss: 0.3147 - val_acc: 0.8922\n",
      "Epoch 13/20\n",
      "938/938 [==============================] - 3s 3ms/step - loss: 0.2120 - acc: 0.9200 - val_loss: 0.3612 - val_acc: 0.8742\n",
      "Epoch 14/20\n",
      "938/938 [==============================] - 3s 3ms/step - loss: 0.2084 - acc: 0.9215 - val_loss: 0.3348 - val_acc: 0.8845\n",
      "Epoch 15/20\n",
      "938/938 [==============================] - 3s 3ms/step - loss: 0.1975 - acc: 0.9246 - val_loss: 0.3406 - val_acc: 0.8885\n",
      "Epoch 16/20\n",
      "938/938 [==============================] - 3s 3ms/step - loss: 0.1944 - acc: 0.9250 - val_loss: 0.3294 - val_acc: 0.8882\n",
      "Epoch 17/20\n",
      "938/938 [==============================] - 3s 3ms/step - loss: 0.1860 - acc: 0.9292 - val_loss: 0.3658 - val_acc: 0.8848\n",
      "Epoch 18/20\n",
      "938/938 [==============================] - 3s 3ms/step - loss: 0.1809 - acc: 0.9312 - val_loss: 0.3279 - val_acc: 0.8906\n",
      "Epoch 19/20\n",
      "938/938 [==============================] - 3s 3ms/step - loss: 0.1745 - acc: 0.9340 - val_loss: 0.3554 - val_acc: 0.8894\n",
      "Epoch 20/20\n",
      "938/938 [==============================] - 3s 3ms/step - loss: 0.1716 - acc: 0.9356 - val_loss: 0.3501 - val_acc: 0.8894\n"
     ]
    }
   ],
   "source": [
    "history = model.fit(X_train,y_train,batch_size=64,epochs=20,validation_data=(X_test,y_test))"
   ]
  },
  {
   "cell_type": "code",
   "execution_count": 36,
   "id": "5afedf00",
   "metadata": {
    "ExecuteTime": {
     "end_time": "2022-09-27T02:17:21.263580Z",
     "start_time": "2022-09-27T02:17:20.929478Z"
    }
   },
   "outputs": [
    {
     "data": {
      "text/plain": [
       "<AxesSubplot:>"
      ]
     },
     "execution_count": 36,
     "metadata": {},
     "output_type": "execute_result"
    },
    {
     "data": {
      "image/png": "[encoded data removed]",
      "text/plain": [
       "<Figure size 432x288 with 1 Axes>"
      ]
     },
     "metadata": {
      "needs_background": "light"
     },
     "output_type": "display_data"
    }
   ],
   "source": [
    "df = pd.DataFrame(history.history)\n",
    "df.plot()"
   ]
  },
  {
   "cell_type": "code",
   "execution_count": 37,
   "id": "888852fc",
   "metadata": {
    "ExecuteTime": {
     "end_time": "2022-09-27T02:17:56.440287Z",
     "start_time": "2022-09-27T02:17:55.888727Z"
    }
   },
   "outputs": [
    {
     "name": "stdout",
     "output_type": "stream",
     "text": [
      "313/313 [==============================] - 1s 2ms/step - loss: 0.3501 - acc: 0.8894\n"
     ]
    },
    {
     "data": {
      "text/plain": [
       "[0.3501146137714386, 0.8894000053405762]"
      ]
     },
     "execution_count": 37,
     "metadata": {},
     "output_type": "execute_result"
    }
   ],
   "source": [
    "model.evaluate(X_test,y_test)"
   ]
  },
  {
   "cell_type": "code",
   "execution_count": 81,
   "id": "634794bd",
   "metadata": {
    "ExecuteTime": {
     "end_time": "2022-09-27T02:56:03.180098Z",
     "start_time": "2022-09-27T02:56:02.319500Z"
    }
   },
   "outputs": [],
   "source": [
    "model.save('./fashion-mnist.h5')"
   ]
  },
  {
   "cell_type": "code",
   "execution_count": 40,
   "id": "abf90f9d",
   "metadata": {
    "ExecuteTime": {
     "end_time": "2022-09-27T02:20:24.692392Z",
     "start_time": "2022-09-27T02:20:24.110385Z"
    }
   },
   "outputs": [
    {
     "name": "stdout",
     "output_type": "stream",
     "text": [
      "313/313 [==============================] - 0s 1ms/step\n"
     ]
    },
    {
     "data": {
      "text/plain": [
       "array([9, 2, 1, 1, 6, 1, 4, 6, 5, 7, 4, 5, 7, 3, 4, 1, 2, 4, 8, 0, 2, 7,\n",
       "       7, 5, 1, 4, 6, 0, 9, 3, 8, 8], dtype=int64)"
      ]
     },
     "execution_count": 40,
     "metadata": {},
     "output_type": "execute_result"
    }
   ],
   "source": [
    "y_pred = model.predict(X_test).argmax(axis=1)\n",
    "y_pred[:32]"
   ]
  },
  {
   "cell_type": "markdown",
   "id": "575d2417",
   "metadata": {},
   "source": [
    "### 数据分析"
   ]
  },
  {
   "cell_type": "code",
   "execution_count": 54,
   "id": "d6ef84fa",
   "metadata": {
    "ExecuteTime": {
     "end_time": "2022-09-27T02:31:17.827624Z",
     "start_time": "2022-09-27T02:31:17.585106Z"
    }
   },
   "outputs": [],
   "source": [
    "from sklearn.metrics import recall_score,confusion_matrix,plot_confusion_matrix\n",
    "import seaborn as sns"
   ]
  },
  {
   "cell_type": "code",
   "execution_count": 47,
   "id": "c2cd44b2",
   "metadata": {
    "ExecuteTime": {
     "end_time": "2022-09-27T02:27:34.290696Z",
     "start_time": "2022-09-27T02:27:34.279725Z"
    }
   },
   "outputs": [
    {
     "data": {
      "text/plain": [
       "array([9, 2, 1, ..., 8, 1, 5], dtype=int64)"
      ]
     },
     "execution_count": 47,
     "metadata": {},
     "output_type": "execute_result"
    }
   ],
   "source": [
    "y_test.argmax(axis=1)"
   ]
  },
  {
   "cell_type": "code",
   "execution_count": null,
   "id": "d4566cf4",
   "metadata": {},
   "outputs": [],
   "source": [
    "# |   0   | T-shirt/top |\n",
    "# |   1   | Trouser     |\n",
    "# |   2   | Pullover    |\n",
    "# |   3   | Dress       |\n",
    "# |   4   | Coat        |\n",
    "# |   5   | Sandal      |\n",
    "# |   6   | Shirt       |\n",
    "# |   7   | Sneaker     |\n",
    "# |   8   | Bag         |\n",
    "# |   9   | Ankle boot  |"
   ]
  },
  {
   "cell_type": "code",
   "execution_count": 86,
   "id": "43fdef22",
   "metadata": {
    "ExecuteTime": {
     "end_time": "2022-09-27T03:05:05.832534Z",
     "start_time": "2022-09-27T03:05:05.825554Z"
    }
   },
   "outputs": [
    {
     "data": {
      "text/plain": [
       "['T-shirt/top',\n",
       " 'Trouser    ',\n",
       " 'Pullover   ',\n",
       " 'Dress      ',\n",
       " 'Coat       ',\n",
       " 'Sandal     ',\n",
       " 'Shirt      ',\n",
       " 'Sneaker    ',\n",
       " 'Bag        ',\n",
       " 'Ankle boot']"
      ]
     },
     "execution_count": 86,
     "metadata": {},
     "output_type": "execute_result"
    }
   ],
   "source": [
    "s = '''T-shirt/top\n",
    "Trouser    \n",
    "Pullover   \n",
    "Dress      \n",
    "Coat       \n",
    "Sandal     \n",
    "Shirt      \n",
    "Sneaker    \n",
    "Bag        \n",
    "Ankle boot'''\n",
    "s = s.split('\\n')\n",
    "s"
   ]
  },
  {
   "cell_type": "code",
   "execution_count": 91,
   "id": "5dae946f",
   "metadata": {
    "ExecuteTime": {
     "end_time": "2022-09-27T03:06:38.888332Z",
     "start_time": "2022-09-27T03:06:38.465108Z"
    }
   },
   "outputs": [
    {
     "data": {
      "text/plain": [
       "<AxesSubplot:>"
      ]
     },
     "execution_count": 91,
     "metadata": {},
     "output_type": "execute_result"
    },
    {
     "data": {
      "image/png": "[encoded data removed]",
      "text/plain": [
       "<Figure size 576x432 with 2 Axes>"
      ]
     },
     "metadata": {
      "needs_background": "light"
     },
     "output_type": "display_data"
    }
   ],
   "source": [
    "plt.figure(figsize=(8,6))\n",
    "sns.heatmap(confusion_matrix(y_test.argmax(axis=1),y_pred),xticklabels=s,yticklabels=s,cmap='coolwarm',annot=True,fmt='.0f')"
   ]
  },
  {
   "cell_type": "markdown",
   "id": "84e4b087",
   "metadata": {},
   "source": [
    "可以发现网络对   \n",
    "T-shirt与Shirt的分辨能力差  \n",
    "Pullover与Shirt容易混淆"
   ]
  },
  {
   "cell_type": "markdown",
   "id": "bf5f9d96",
   "metadata": {},
   "source": [
    "#### 每个类别的召回率"
   ]
  },
  {
   "cell_type": "code",
   "execution_count": 61,
   "id": "0fcffe98",
   "metadata": {
    "ExecuteTime": {
     "end_time": "2022-09-27T02:35:26.228044Z",
     "start_time": "2022-09-27T02:35:26.213085Z"
    }
   },
   "outputs": [
    {
     "data": {
      "text/plain": [
       "array([0.865, 0.986, 0.82 , 0.911, 0.851, 0.95 , 0.63 , 0.985, 0.974,\n",
       "       0.922])"
      ]
     },
     "execution_count": 61,
     "metadata": {},
     "output_type": "execute_result"
    }
   ],
   "source": [
    "recall_score(y_test.argmax(axis=1),y_pred,average=None)"
   ]
  },
  {
   "cell_type": "code",
   "execution_count": 78,
   "id": "1eda7820",
   "metadata": {
    "ExecuteTime": {
     "end_time": "2022-09-27T02:54:03.004109Z",
     "start_time": "2022-09-27T02:54:02.981169Z"
    }
   },
   "outputs": [
    {
     "data": {
      "text/plain": [
       "0.8894"
      ]
     },
     "execution_count": 78,
     "metadata": {},
     "output_type": "execute_result"
    }
   ],
   "source": [
    "recall_score(y_test.argmax(axis=1),y_pred,average='micro')"
   ]
  },
  {
   "cell_type": "code",
   "execution_count": null,
   "id": "d82a0e90",
   "metadata": {},
   "outputs": [],
   "source": []
  }
 ],
 "metadata": {
  "kernelspec": {
   "display_name": "Python 3 (ipykernel)",
   "language": "python",
   "name": "python3"
  },
  "language_info": {
   "codemirror_mode": {
    "name": "ipython",
    "version": 3
   },
   "file_extension": ".py",
   "mimetype": "text/x-python",
   "name": "python",
   "nbconvert_exporter": "python",
   "pygments_lexer": "ipython3",
   "version": "3.7.8"
  },
  "toc": {
   "base_numbering": 1,
   "nav_menu": {},
   "number_sections": true,
   "sideBar": true,
   "skip_h1_title": false,
   "title_cell": "Table of Contents",
   "title_sidebar": "Contents",
   "toc_cell": false,
   "toc_position": {},
   "toc_section_display": true,
   "toc_window_display": false
  },
  "varInspector": {
   "cols": {
    "lenName": 16,
    "lenType": 16,
    "lenVar": 40
   },
   "kernels_config": {
    "python": {
     "delete_cmd_postfix": "",
     "delete_cmd_prefix": "del ",
     "library": "var_list.py",
     "varRefreshCmd": "print(var_dic_list())"
    },
    "r": {
     "delete_cmd_postfix": ") ",
     "delete_cmd_prefix": "rm(",
     "library": "var_list.r",
     "varRefreshCmd": "cat(var_dic_list()) "
    }
   },
   "types_to_exclude": [
    "module",
    "function",
    "builtin_function_or_method",
    "instance",
    "_Feature"
   ],
   "window_display": false
  }
 },
 "nbformat": 4,
 "nbformat_minor": 5
}
