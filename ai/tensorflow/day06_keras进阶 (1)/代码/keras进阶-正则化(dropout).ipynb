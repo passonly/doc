{
 "cells": [
  {
   "cell_type": "code",
   "execution_count": 20,
   "id": "5464de11",
   "metadata": {
    "ExecuteTime": {
     "end_time": "2022-09-28T13:45:14.740105Z",
     "start_time": "2022-09-28T13:45:14.727139Z"
    }
   },
   "outputs": [],
   "source": [
    "import tensorflow as tf\n",
    "import numpy as np\n",
    "import matplotlib.pyplot as plt"
   ]
  },
  {
   "cell_type": "code",
   "execution_count": 21,
   "id": "6079a3e4",
   "metadata": {
    "ExecuteTime": {
     "end_time": "2022-09-28T13:45:15.003401Z",
     "start_time": "2022-09-28T13:45:14.742099Z"
    }
   },
   "outputs": [],
   "source": [
    "from tensorflow.keras.datasets import mnist\n",
    "\n",
    "(x_train, y_train), (x_test, y_test)  = mnist.load_data()"
   ]
  },
  {
   "cell_type": "code",
   "execution_count": 22,
   "id": "f3dac021",
   "metadata": {
    "ExecuteTime": {
     "end_time": "2022-09-28T13:45:15.018360Z",
     "start_time": "2022-09-28T13:45:15.004397Z"
    }
   },
   "outputs": [
    {
     "data": {
      "text/plain": [
       "dtype('uint8')"
      ]
     },
     "execution_count": 22,
     "metadata": {},
     "output_type": "execute_result"
    }
   ],
   "source": [
    "x_train.dtype"
   ]
  },
  {
   "cell_type": "code",
   "execution_count": 23,
   "id": "0e9a2c7c",
   "metadata": {
    "ExecuteTime": {
     "end_time": "2022-09-28T13:45:15.034317Z",
     "start_time": "2022-09-28T13:45:15.020355Z"
    }
   },
   "outputs": [],
   "source": [
    "from sklearn.preprocessing import StandardScaler"
   ]
  },
  {
   "cell_type": "code",
   "execution_count": 24,
   "id": "2803b430",
   "metadata": {
    "ExecuteTime": {
     "end_time": "2022-09-28T13:45:16.327857Z",
     "start_time": "2022-09-28T13:45:15.035314Z"
    }
   },
   "outputs": [],
   "source": [
    "x_train = x_train.reshape(-1, 784) / 255.0\n",
    "x_test = x_test.reshape(-1, 784) / 255.0\n",
    "\n",
    "# 标准化\n",
    "scaler = StandardScaler()\n",
    "x_train_scaled = scaler.fit_transform(x_train)\n",
    "x_test_scaled = scaler.transform(x_test)\n",
    "\n",
    "y_train = y_train.astype(np.float32)\n",
    "y_test = y_test.astype(np.float32)\n",
    "\n",
    "# one hot\n",
    "y_train = tf.keras.utils.to_categorical(y_train, 10)\n",
    "y_test = tf.keras.utils.to_categorical(y_test, 10)"
   ]
  },
  {
   "cell_type": "code",
   "execution_count": 25,
   "id": "7340332a",
   "metadata": {
    "ExecuteTime": {
     "end_time": "2022-09-28T13:45:16.404651Z",
     "start_time": "2022-09-28T13:45:16.329853Z"
    }
   },
   "outputs": [
    {
     "data": {
      "text/plain": [
       "5.1098400794094047e-14"
      ]
     },
     "execution_count": 25,
     "metadata": {},
     "output_type": "execute_result"
    }
   ],
   "source": [
    "x_train_scaled.mean()"
   ]
  },
  {
   "cell_type": "code",
   "execution_count": 26,
   "id": "803ed316",
   "metadata": {
    "ExecuteTime": {
     "end_time": "2022-09-28T13:45:16.716816Z",
     "start_time": "2022-09-28T13:45:16.406646Z"
    }
   },
   "outputs": [
    {
     "data": {
      "text/plain": [
       "0.956316274213992"
      ]
     },
     "execution_count": 26,
     "metadata": {},
     "output_type": "execute_result"
    }
   ],
   "source": [
    "x_train_scaled.std()"
   ]
  },
  {
   "cell_type": "code",
   "execution_count": 27,
   "id": "6306beae",
   "metadata": {
    "ExecuteTime": {
     "end_time": "2022-09-28T13:45:16.795607Z",
     "start_time": "2022-09-28T13:45:16.718812Z"
    }
   },
   "outputs": [
    {
     "data": {
      "text/plain": [
       "0.9570683370942685"
      ]
     },
     "execution_count": 27,
     "metadata": {},
     "output_type": "execute_result"
    }
   ],
   "source": [
    "x_test_scaled.std()"
   ]
  },
  {
   "cell_type": "code",
   "execution_count": 28,
   "id": "216f7092",
   "metadata": {
    "ExecuteTime": {
     "end_time": "2022-09-28T13:45:16.811563Z",
     "start_time": "2022-09-28T13:45:16.797601Z"
    }
   },
   "outputs": [
    {
     "data": {
      "text/plain": [
       "(60000, 784)"
      ]
     },
     "execution_count": 28,
     "metadata": {},
     "output_type": "execute_result"
    }
   ],
   "source": [
    "x_train_scaled.shape"
   ]
  },
  {
   "cell_type": "code",
   "execution_count": 29,
   "id": "05839333",
   "metadata": {
    "ExecuteTime": {
     "end_time": "2022-09-28T13:45:16.826528Z",
     "start_time": "2022-09-28T13:45:16.814555Z"
    }
   },
   "outputs": [],
   "source": [
    "from tensorflow.keras.layers import Dense, Dropout,AlphaDropout"
   ]
  },
  {
   "cell_type": "code",
   "execution_count": 30,
   "id": "aee0462f",
   "metadata": {
    "ExecuteTime": {
     "end_time": "2022-09-28T13:45:16.872400Z",
     "start_time": "2022-09-28T13:45:16.827520Z"
    }
   },
   "outputs": [],
   "source": [
    "# 定义网络\n",
    "model = tf.keras.Sequential()\n",
    "model.add(Dense(64, activation='relu', input_shape=(784,)))\n",
    "# dropout单独作为一层\n",
    "# model.add(Dropout(0.2))\n",
    "# AlphaDropout: 1. 保持数据的方差和均值不变,即保持数据的分布, 2. 归一化性质不变. \n",
    "model.add(AlphaDropout(0.2))\n",
    "model.add(Dense(64, activation='relu'))\n",
    "model.add(AlphaDropout(0.2))\n",
    "# 一般不会在输出层加正则\n",
    "model.add(Dense(10, activation='softmax'))"
   ]
  },
  {
   "cell_type": "code",
   "execution_count": 31,
   "id": "15a4ab76",
   "metadata": {
    "ExecuteTime": {
     "end_time": "2022-09-28T13:45:16.888361Z",
     "start_time": "2022-09-28T13:45:16.874395Z"
    },
    "collapsed": true
   },
   "outputs": [
    {
     "name": "stdout",
     "output_type": "stream",
     "text": [
      "Model: \"sequential_1\"\n",
      "_________________________________________________________________\n",
      " Layer (type)                Output Shape              Param #   \n",
      "=================================================================\n",
      " dense_3 (Dense)             (None, 64)                50240     \n",
      "                                                                 \n",
      " alpha_dropout (AlphaDropout  (None, 64)               0         \n",
      " )                                                               \n",
      "                                                                 \n",
      " dense_4 (Dense)             (None, 64)                4160      \n",
      "                                                                 \n",
      " alpha_dropout_1 (AlphaDropo  (None, 64)               0         \n",
      " ut)                                                             \n",
      "                                                                 \n",
      " dense_5 (Dense)             (None, 10)                650       \n",
      "                                                                 \n",
      "=================================================================\n",
      "Total params: 55,050\n",
      "Trainable params: 55,050\n",
      "Non-trainable params: 0\n",
      "_________________________________________________________________\n"
     ]
    }
   ],
   "source": [
    "model.summary()"
   ]
  },
  {
   "cell_type": "code",
   "execution_count": 32,
   "id": "2cf400e0",
   "metadata": {
    "ExecuteTime": {
     "end_time": "2022-09-28T13:45:16.904315Z",
     "start_time": "2022-09-28T13:45:16.890353Z"
    }
   },
   "outputs": [],
   "source": [
    "# 配置\n",
    "model.compile(optimizer='adam', loss='categorical_crossentropy', metrics=['acc'])"
   ]
  },
  {
   "cell_type": "code",
   "execution_count": 33,
   "id": "e731c85d",
   "metadata": {
    "ExecuteTime": {
     "end_time": "2022-09-28T13:46:38.348462Z",
     "start_time": "2022-09-28T13:45:16.906310Z"
    }
   },
   "outputs": [
    {
     "name": "stdout",
     "output_type": "stream",
     "text": [
      "Epoch 1/20\n",
      "938/938 [==============================] - 5s 5ms/step - loss: 0.6902 - acc: 0.7816 - val_loss: 0.3112 - val_acc: 0.9315\n",
      "Epoch 2/20\n",
      "938/938 [==============================] - 4s 4ms/step - loss: 0.3521 - acc: 0.8924 - val_loss: 0.2725 - val_acc: 0.9420\n",
      "Epoch 3/20\n",
      "938/938 [==============================] - 4s 4ms/step - loss: 0.2891 - acc: 0.9110 - val_loss: 0.2351 - val_acc: 0.9482\n",
      "Epoch 4/20\n",
      "938/938 [==============================] - 4s 4ms/step - loss: 0.2589 - acc: 0.9215 - val_loss: 0.2157 - val_acc: 0.9542\n",
      "Epoch 5/20\n",
      "938/938 [==============================] - 4s 4ms/step - loss: 0.2317 - acc: 0.9283 - val_loss: 0.2106 - val_acc: 0.9569\n",
      "Epoch 6/20\n",
      "938/938 [==============================] - 4s 4ms/step - loss: 0.2124 - acc: 0.9350 - val_loss: 0.2033 - val_acc: 0.9612\n",
      "Epoch 7/20\n",
      "938/938 [==============================] - 4s 4ms/step - loss: 0.2011 - acc: 0.9380 - val_loss: 0.1833 - val_acc: 0.9647\n",
      "Epoch 8/20\n",
      "938/938 [==============================] - 4s 4ms/step - loss: 0.1925 - acc: 0.9394 - val_loss: 0.1843 - val_acc: 0.9638\n",
      "Epoch 9/20\n",
      "938/938 [==============================] - 4s 4ms/step - loss: 0.1816 - acc: 0.9437 - val_loss: 0.1903 - val_acc: 0.9649\n",
      "Epoch 10/20\n",
      "938/938 [==============================] - 4s 4ms/step - loss: 0.1744 - acc: 0.9463 - val_loss: 0.1790 - val_acc: 0.9664\n",
      "Epoch 11/20\n",
      "938/938 [==============================] - 4s 5ms/step - loss: 0.1701 - acc: 0.9471 - val_loss: 0.1783 - val_acc: 0.9669\n",
      "Epoch 12/20\n",
      "938/938 [==============================] - 4s 4ms/step - loss: 0.1639 - acc: 0.9487 - val_loss: 0.1827 - val_acc: 0.9685\n",
      "Epoch 13/20\n",
      "938/938 [==============================] - 4s 4ms/step - loss: 0.1550 - acc: 0.9525 - val_loss: 0.1723 - val_acc: 0.9682\n",
      "Epoch 14/20\n",
      "938/938 [==============================] - 4s 4ms/step - loss: 0.1554 - acc: 0.9517 - val_loss: 0.1710 - val_acc: 0.9703\n",
      "Epoch 15/20\n",
      "938/938 [==============================] - 4s 4ms/step - loss: 0.1484 - acc: 0.9539 - val_loss: 0.1855 - val_acc: 0.9685\n",
      "Epoch 16/20\n",
      "938/938 [==============================] - 4s 4ms/step - loss: 0.1463 - acc: 0.9550 - val_loss: 0.1620 - val_acc: 0.9711\n",
      "Epoch 17/20\n",
      "938/938 [==============================] - 4s 4ms/step - loss: 0.1416 - acc: 0.9566 - val_loss: 0.1794 - val_acc: 0.9713\n",
      "Epoch 18/20\n",
      "938/938 [==============================] - 4s 4ms/step - loss: 0.1374 - acc: 0.9574 - val_loss: 0.1832 - val_acc: 0.9686\n",
      "Epoch 19/20\n",
      "938/938 [==============================] - 4s 5ms/step - loss: 0.1355 - acc: 0.9579 - val_loss: 0.1859 - val_acc: 0.9689\n",
      "Epoch 20/20\n",
      "938/938 [==============================] - 4s 4ms/step - loss: 0.1343 - acc: 0.9581 - val_loss: 0.1644 - val_acc: 0.9707\n"
     ]
    }
   ],
   "source": [
    "# 从训练过程可以观察, 使用了标准化处理的数据, 更快收敛. \n",
    "history = model.fit(x_train_scaled, y_train, batch_size=64, epochs=20, validation_data=(x_test_scaled, y_test))"
   ]
  },
  {
   "cell_type": "code",
   "execution_count": 34,
   "id": "69f72e10",
   "metadata": {
    "ExecuteTime": {
     "end_time": "2022-09-28T13:46:38.364418Z",
     "start_time": "2022-09-28T13:46:38.350456Z"
    }
   },
   "outputs": [
    {
     "data": {
      "text/plain": [
       "{'loss': [0.6901848912239075,\n",
       "  0.35208335518836975,\n",
       "  0.28910568356513977,\n",
       "  0.25890642404556274,\n",
       "  0.23165155947208405,\n",
       "  0.21238963305950165,\n",
       "  0.20113904774188995,\n",
       "  0.19248338043689728,\n",
       "  0.1815764456987381,\n",
       "  0.1743607521057129,\n",
       "  0.17012085020542145,\n",
       "  0.16390973329544067,\n",
       "  0.1550132930278778,\n",
       "  0.1554148942232132,\n",
       "  0.14841778576374054,\n",
       "  0.14630192518234253,\n",
       "  0.1415981501340866,\n",
       "  0.13741067051887512,\n",
       "  0.1354503631591797,\n",
       "  0.1343022584915161],\n",
       " 'acc': [0.7816333174705505,\n",
       "  0.8924000263214111,\n",
       "  0.9110166430473328,\n",
       "  0.9214500188827515,\n",
       "  0.9283333420753479,\n",
       "  0.9349833130836487,\n",
       "  0.9380000233650208,\n",
       "  0.9394333362579346,\n",
       "  0.9436666369438171,\n",
       "  0.946316659450531,\n",
       "  0.9470833539962769,\n",
       "  0.9486666917800903,\n",
       "  0.9525166749954224,\n",
       "  0.9516666531562805,\n",
       "  0.9538666605949402,\n",
       "  0.95496666431427,\n",
       "  0.95660001039505,\n",
       "  0.9574499726295471,\n",
       "  0.9579166769981384,\n",
       "  0.9581166505813599],\n",
       " 'val_loss': [0.3112489879131317,\n",
       "  0.27251723408699036,\n",
       "  0.23511074483394623,\n",
       "  0.21569865942001343,\n",
       "  0.21061162650585175,\n",
       "  0.20326776802539825,\n",
       "  0.1833396852016449,\n",
       "  0.18429791927337646,\n",
       "  0.1902771145105362,\n",
       "  0.17903317511081696,\n",
       "  0.1782783418893814,\n",
       "  0.18272602558135986,\n",
       "  0.1722964197397232,\n",
       "  0.1710120290517807,\n",
       "  0.18547411262989044,\n",
       "  0.1620425134897232,\n",
       "  0.1793997436761856,\n",
       "  0.18322855234146118,\n",
       "  0.18586835265159607,\n",
       "  0.16443224251270294],\n",
       " 'val_acc': [0.9315000176429749,\n",
       "  0.9419999718666077,\n",
       "  0.948199987411499,\n",
       "  0.954200029373169,\n",
       "  0.9569000005722046,\n",
       "  0.9611999988555908,\n",
       "  0.9646999835968018,\n",
       "  0.9638000130653381,\n",
       "  0.964900016784668,\n",
       "  0.9664000272750854,\n",
       "  0.9668999910354614,\n",
       "  0.968500018119812,\n",
       "  0.9682000279426575,\n",
       "  0.970300018787384,\n",
       "  0.968500018119812,\n",
       "  0.9710999727249146,\n",
       "  0.9713000059127808,\n",
       "  0.9685999751091003,\n",
       "  0.9689000248908997,\n",
       "  0.9707000255584717]}"
      ]
     },
     "execution_count": 34,
     "metadata": {},
     "output_type": "execute_result"
    }
   ],
   "source": [
    "history.history"
   ]
  },
  {
   "cell_type": "code",
   "execution_count": 35,
   "id": "d33fa53b",
   "metadata": {
    "ExecuteTime": {
     "end_time": "2022-09-28T13:46:38.380377Z",
     "start_time": "2022-09-28T13:46:38.366413Z"
    }
   },
   "outputs": [],
   "source": [
    "import pandas as pd"
   ]
  },
  {
   "cell_type": "code",
   "execution_count": 36,
   "id": "05714a35",
   "metadata": {
    "ExecuteTime": {
     "end_time": "2022-09-28T13:46:38.518008Z",
     "start_time": "2022-09-28T13:46:38.381373Z"
    }
   },
   "outputs": [
    {
     "data": {
      "text/plain": [
       "<AxesSubplot:>"
      ]
     },
     "execution_count": 36,
     "metadata": {},
     "output_type": "execute_result"
    },
    {
     "data": {
      "image/png": "[encoded data removed]",
      "text/plain": [
       "<Figure size 432x288 with 1 Axes>"
      ]
     },
     "metadata": {
      "needs_background": "light"
     },
     "output_type": "display_data"
    }
   ],
   "source": [
    "pd.DataFrame(history.history).plot()"
   ]
  }
 ],
 "metadata": {
  "kernelspec": {
   "display_name": "Python 3 (ipykernel)",
   "language": "python",
   "name": "python3"
  },
  "language_info": {
   "codemirror_mode": {
    "name": "ipython",
    "version": 3
   },
   "file_extension": ".py",
   "mimetype": "text/x-python",
   "name": "python",
   "nbconvert_exporter": "python",
   "pygments_lexer": "ipython3",
   "version": "3.7.8"
  },
  "toc": {
   "base_numbering": 1,
   "nav_menu": {},
   "number_sections": true,
   "sideBar": true,
   "skip_h1_title": false,
   "title_cell": "Table of Contents",
   "title_sidebar": "Contents",
   "toc_cell": false,
   "toc_position": {},
   "toc_section_display": true,
   "toc_window_display": false
  }
 },
 "nbformat": 4,
 "nbformat_minor": 5
}
