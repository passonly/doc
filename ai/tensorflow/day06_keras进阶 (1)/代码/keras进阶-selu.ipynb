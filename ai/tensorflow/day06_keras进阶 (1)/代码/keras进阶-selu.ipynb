{
 "cells": [
  {
   "cell_type": "code",
   "execution_count": 2,
   "id": "5464de11",
   "metadata": {
    "ExecuteTime": {
     "end_time": "2022-09-28T14:00:30.593339Z",
     "start_time": "2022-09-28T14:00:30.575387Z"
    }
   },
   "outputs": [],
   "source": [
    "import tensorflow as tf\n",
    "import numpy as np\n",
    "import matplotlib.pyplot as plt"
   ]
  },
  {
   "cell_type": "code",
   "execution_count": 3,
   "id": "6079a3e4",
   "metadata": {
    "ExecuteTime": {
     "end_time": "2022-09-28T14:00:30.829709Z",
     "start_time": "2022-09-28T14:00:30.595334Z"
    }
   },
   "outputs": [],
   "source": [
    "from tensorflow.keras.datasets import mnist\n",
    "\n",
    "(x_train, y_train), (x_test, y_test)  = mnist.load_data()"
   ]
  },
  {
   "cell_type": "code",
   "execution_count": 4,
   "id": "f3dac021",
   "metadata": {
    "ExecuteTime": {
     "end_time": "2022-09-28T14:00:30.844669Z",
     "start_time": "2022-09-28T14:00:30.831702Z"
    }
   },
   "outputs": [
    {
     "data": {
      "text/plain": [
       "dtype('uint8')"
      ]
     },
     "execution_count": 4,
     "metadata": {},
     "output_type": "execute_result"
    }
   ],
   "source": [
    "x_train.dtype"
   ]
  },
  {
   "cell_type": "code",
   "execution_count": 5,
   "id": "0e9a2c7c",
   "metadata": {
    "ExecuteTime": {
     "end_time": "2022-09-28T14:00:31.201713Z",
     "start_time": "2022-09-28T14:00:30.846662Z"
    }
   },
   "outputs": [],
   "source": [
    "from sklearn.preprocessing import StandardScaler"
   ]
  },
  {
   "cell_type": "code",
   "execution_count": 6,
   "id": "2803b430",
   "metadata": {
    "ExecuteTime": {
     "end_time": "2022-09-28T14:00:32.332688Z",
     "start_time": "2022-09-28T14:00:31.203706Z"
    }
   },
   "outputs": [],
   "source": [
    "x_train = x_train.reshape(-1, 784) / 255.0\n",
    "x_test = x_test.reshape(-1, 784) / 255.0\n",
    "\n",
    "# 标准化\n",
    "scaler = StandardScaler()\n",
    "x_train_scaled = scaler.fit_transform(x_train)\n",
    "x_test_scaled = scaler.transform(x_test)\n",
    "\n",
    "y_train = y_train.astype(np.float32)\n",
    "y_test = y_test.astype(np.float32)\n",
    "\n",
    "# one hot\n",
    "y_train = tf.keras.utils.to_categorical(y_train, 10)\n",
    "y_test = tf.keras.utils.to_categorical(y_test, 10)"
   ]
  },
  {
   "cell_type": "code",
   "execution_count": 7,
   "id": "7340332a",
   "metadata": {
    "ExecuteTime": {
     "end_time": "2022-09-28T14:00:32.407488Z",
     "start_time": "2022-09-28T14:00:32.334682Z"
    }
   },
   "outputs": [
    {
     "data": {
      "text/plain": [
       "5.1098400794094047e-14"
      ]
     },
     "execution_count": 7,
     "metadata": {},
     "output_type": "execute_result"
    }
   ],
   "source": [
    "x_train_scaled.mean()"
   ]
  },
  {
   "cell_type": "code",
   "execution_count": 8,
   "id": "803ed316",
   "metadata": {
    "ExecuteTime": {
     "end_time": "2022-09-28T14:00:32.688734Z",
     "start_time": "2022-09-28T14:00:32.408483Z"
    }
   },
   "outputs": [
    {
     "data": {
      "text/plain": [
       "0.956316274213992"
      ]
     },
     "execution_count": 8,
     "metadata": {},
     "output_type": "execute_result"
    }
   ],
   "source": [
    "x_train_scaled.std()"
   ]
  },
  {
   "cell_type": "code",
   "execution_count": 9,
   "id": "6306beae",
   "metadata": {
    "ExecuteTime": {
     "end_time": "2022-09-28T14:00:32.750570Z",
     "start_time": "2022-09-28T14:00:32.689731Z"
    }
   },
   "outputs": [
    {
     "data": {
      "text/plain": [
       "0.9570683370942685"
      ]
     },
     "execution_count": 9,
     "metadata": {},
     "output_type": "execute_result"
    }
   ],
   "source": [
    "x_test_scaled.std()"
   ]
  },
  {
   "cell_type": "code",
   "execution_count": 10,
   "id": "216f7092",
   "metadata": {
    "ExecuteTime": {
     "end_time": "2022-09-28T14:00:32.766526Z",
     "start_time": "2022-09-28T14:00:32.751566Z"
    }
   },
   "outputs": [
    {
     "data": {
      "text/plain": [
       "(60000, 784)"
      ]
     },
     "execution_count": 10,
     "metadata": {},
     "output_type": "execute_result"
    }
   ],
   "source": [
    "x_train_scaled.shape"
   ]
  },
  {
   "cell_type": "code",
   "execution_count": 11,
   "id": "05839333",
   "metadata": {
    "ExecuteTime": {
     "end_time": "2022-09-28T14:00:32.781486Z",
     "start_time": "2022-09-28T14:00:32.769518Z"
    }
   },
   "outputs": [],
   "source": [
    "from tensorflow.keras.layers import Dense, Dropout,AlphaDropout"
   ]
  },
  {
   "cell_type": "code",
   "execution_count": 12,
   "id": "aee0462f",
   "metadata": {
    "ExecuteTime": {
     "end_time": "2022-09-28T14:00:33.697039Z",
     "start_time": "2022-09-28T14:00:32.783481Z"
    }
   },
   "outputs": [],
   "source": [
    "# 定义网络\n",
    "model = tf.keras.Sequential()\n",
    "# selu有正则化的效果. 用了selu一般不会再用正则化. \n",
    "\n",
    "model.add(Dense(64, activation='selu', input_shape=(784,)))\n",
    "\n",
    "\n",
    "model.add(Dense(64, activation='selu'))\n",
    "\n",
    "model.add(Dense(10, activation='softmax'))"
   ]
  },
  {
   "cell_type": "code",
   "execution_count": 13,
   "id": "15a4ab76",
   "metadata": {
    "ExecuteTime": {
     "end_time": "2022-09-28T14:00:33.711997Z",
     "start_time": "2022-09-28T14:00:33.698034Z"
    }
   },
   "outputs": [
    {
     "name": "stdout",
     "output_type": "stream",
     "text": [
      "Model: \"sequential\"\n",
      "_________________________________________________________________\n",
      " Layer (type)                Output Shape              Param #   \n",
      "=================================================================\n",
      " dense (Dense)               (None, 64)                50240     \n",
      "                                                                 \n",
      " dense_1 (Dense)             (None, 64)                4160      \n",
      "                                                                 \n",
      " dense_2 (Dense)             (None, 10)                650       \n",
      "                                                                 \n",
      "=================================================================\n",
      "Total params: 55,050\n",
      "Trainable params: 55,050\n",
      "Non-trainable params: 0\n",
      "_________________________________________________________________\n"
     ]
    }
   ],
   "source": [
    "model.summary()"
   ]
  },
  {
   "cell_type": "code",
   "execution_count": 14,
   "id": "2cf400e0",
   "metadata": {
    "ExecuteTime": {
     "end_time": "2022-09-28T14:00:33.726957Z",
     "start_time": "2022-09-28T14:00:33.713992Z"
    }
   },
   "outputs": [],
   "source": [
    "# 配置\n",
    "model.compile(optimizer='adam', loss='categorical_crossentropy', metrics=['acc'])"
   ]
  },
  {
   "cell_type": "code",
   "execution_count": 15,
   "id": "e731c85d",
   "metadata": {
    "ExecuteTime": {
     "end_time": "2022-09-28T14:01:40.855399Z",
     "start_time": "2022-09-28T14:00:33.727954Z"
    }
   },
   "outputs": [
    {
     "name": "stdout",
     "output_type": "stream",
     "text": [
      "Epoch 1/20\n",
      "938/938 [==============================] - 4s 3ms/step - loss: 0.2972 - acc: 0.9157 - val_loss: 0.1718 - val_acc: 0.9522\n",
      "Epoch 2/20\n",
      "938/938 [==============================] - 3s 3ms/step - loss: 0.1317 - acc: 0.9608 - val_loss: 0.1385 - val_acc: 0.9604\n",
      "Epoch 3/20\n",
      "938/938 [==============================] - 3s 3ms/step - loss: 0.0923 - acc: 0.9722 - val_loss: 0.1244 - val_acc: 0.9662\n",
      "Epoch 4/20\n",
      "938/938 [==============================] - 3s 3ms/step - loss: 0.0698 - acc: 0.9783 - val_loss: 0.1206 - val_acc: 0.9695\n",
      "Epoch 5/20\n",
      "938/938 [==============================] - 3s 3ms/step - loss: 0.0549 - acc: 0.9827 - val_loss: 0.1180 - val_acc: 0.9688\n",
      "Epoch 6/20\n",
      "938/938 [==============================] - 3s 4ms/step - loss: 0.0456 - acc: 0.9850 - val_loss: 0.1164 - val_acc: 0.9706\n",
      "Epoch 7/20\n",
      "938/938 [==============================] - 3s 3ms/step - loss: 0.0369 - acc: 0.9879 - val_loss: 0.1163 - val_acc: 0.9709\n",
      "Epoch 8/20\n",
      "938/938 [==============================] - 3s 4ms/step - loss: 0.0320 - acc: 0.9896 - val_loss: 0.1358 - val_acc: 0.9681\n",
      "Epoch 9/20\n",
      "938/938 [==============================] - 3s 3ms/step - loss: 0.0271 - acc: 0.9909 - val_loss: 0.1400 - val_acc: 0.9701\n",
      "Epoch 10/20\n",
      "938/938 [==============================] - 3s 3ms/step - loss: 0.0224 - acc: 0.9920 - val_loss: 0.1519 - val_acc: 0.9721\n",
      "Epoch 11/20\n",
      "938/938 [==============================] - 3s 4ms/step - loss: 0.0218 - acc: 0.9926 - val_loss: 0.1450 - val_acc: 0.9706\n",
      "Epoch 12/20\n",
      "938/938 [==============================] - 3s 4ms/step - loss: 0.0189 - acc: 0.9938 - val_loss: 0.1615 - val_acc: 0.9692\n",
      "Epoch 13/20\n",
      "938/938 [==============================] - 3s 3ms/step - loss: 0.0184 - acc: 0.9946 - val_loss: 0.1569 - val_acc: 0.9714\n",
      "Epoch 14/20\n",
      "938/938 [==============================] - 3s 3ms/step - loss: 0.0165 - acc: 0.9945 - val_loss: 0.1603 - val_acc: 0.9724\n",
      "Epoch 15/20\n",
      "938/938 [==============================] - 3s 3ms/step - loss: 0.0141 - acc: 0.9953 - val_loss: 0.1963 - val_acc: 0.9675\n",
      "Epoch 16/20\n",
      "938/938 [==============================] - 3s 4ms/step - loss: 0.0126 - acc: 0.9958 - val_loss: 0.1703 - val_acc: 0.9724\n",
      "Epoch 17/20\n",
      "938/938 [==============================] - 3s 3ms/step - loss: 0.0136 - acc: 0.9955 - val_loss: 0.2005 - val_acc: 0.9677\n",
      "Epoch 18/20\n",
      "938/938 [==============================] - 4s 4ms/step - loss: 0.0146 - acc: 0.9955 - val_loss: 0.1646 - val_acc: 0.9722\n",
      "Epoch 19/20\n",
      "938/938 [==============================] - 3s 3ms/step - loss: 0.0127 - acc: 0.9959 - val_loss: 0.1853 - val_acc: 0.9725\n",
      "Epoch 20/20\n",
      "938/938 [==============================] - 3s 3ms/step - loss: 0.0120 - acc: 0.9960 - val_loss: 0.2146 - val_acc: 0.9701\n"
     ]
    }
   ],
   "source": [
    "# 从训练过程可以观察, 使用了标准化处理的数据, 更快收敛. \n",
    "history = model.fit(x_train_scaled, y_train, batch_size=64, epochs=20, validation_data=(x_test_scaled, y_test))"
   ]
  },
  {
   "cell_type": "code",
   "execution_count": 16,
   "id": "69f72e10",
   "metadata": {
    "ExecuteTime": {
     "end_time": "2022-09-28T14:01:40.870357Z",
     "start_time": "2022-09-28T14:01:40.856393Z"
    }
   },
   "outputs": [
    {
     "data": {
      "text/plain": [
       "{'loss': [0.29721924662590027,\n",
       "  0.13165435194969177,\n",
       "  0.09232449531555176,\n",
       "  0.06977806985378265,\n",
       "  0.05487952008843422,\n",
       "  0.04555691406130791,\n",
       "  0.0369274765253067,\n",
       "  0.03195803612470627,\n",
       "  0.027126789093017578,\n",
       "  0.02237190119922161,\n",
       "  0.02178332768380642,\n",
       "  0.018883462995290756,\n",
       "  0.018407398834824562,\n",
       "  0.016525622457265854,\n",
       "  0.014136403799057007,\n",
       "  0.012635509483516216,\n",
       "  0.013598555698990822,\n",
       "  0.01460860762745142,\n",
       "  0.012697535566985607,\n",
       "  0.012036532163619995],\n",
       " 'acc': [0.9157166481018066,\n",
       "  0.9607999920845032,\n",
       "  0.9721666574478149,\n",
       "  0.9782666563987732,\n",
       "  0.9826833605766296,\n",
       "  0.9849500060081482,\n",
       "  0.987933337688446,\n",
       "  0.9895833134651184,\n",
       "  0.9909499883651733,\n",
       "  0.9920333623886108,\n",
       "  0.9926000237464905,\n",
       "  0.9937833547592163,\n",
       "  0.9945833086967468,\n",
       "  0.9944833517074585,\n",
       "  0.9952666759490967,\n",
       "  0.9958333373069763,\n",
       "  0.9954833388328552,\n",
       "  0.9954833388328552,\n",
       "  0.9958999752998352,\n",
       "  0.9959999918937683],\n",
       " 'val_loss': [0.17178814113140106,\n",
       "  0.13845904171466827,\n",
       "  0.1244434341788292,\n",
       "  0.1206362396478653,\n",
       "  0.11797856539487839,\n",
       "  0.11644456535577774,\n",
       "  0.11627575755119324,\n",
       "  0.13578133285045624,\n",
       "  0.14000029861927032,\n",
       "  0.15187889337539673,\n",
       "  0.14502495527267456,\n",
       "  0.16147440671920776,\n",
       "  0.15688368678092957,\n",
       "  0.16026847064495087,\n",
       "  0.19629891216754913,\n",
       "  0.17031021416187286,\n",
       "  0.20047834515571594,\n",
       "  0.16461947560310364,\n",
       "  0.1853037178516388,\n",
       "  0.21463173627853394],\n",
       " 'val_acc': [0.9521999955177307,\n",
       "  0.9603999853134155,\n",
       "  0.9661999940872192,\n",
       "  0.9695000052452087,\n",
       "  0.9688000082969666,\n",
       "  0.9706000089645386,\n",
       "  0.9708999991416931,\n",
       "  0.9681000113487244,\n",
       "  0.9700999855995178,\n",
       "  0.972100019454956,\n",
       "  0.9706000089645386,\n",
       "  0.9692000150680542,\n",
       "  0.9714000225067139,\n",
       "  0.9724000096321106,\n",
       "  0.9674999713897705,\n",
       "  0.9724000096321106,\n",
       "  0.9677000045776367,\n",
       "  0.9721999764442444,\n",
       "  0.9725000262260437,\n",
       "  0.9700999855995178]}"
      ]
     },
     "execution_count": 16,
     "metadata": {},
     "output_type": "execute_result"
    }
   ],
   "source": [
    "history.history"
   ]
  },
  {
   "cell_type": "code",
   "execution_count": 17,
   "id": "d33fa53b",
   "metadata": {
    "ExecuteTime": {
     "end_time": "2022-09-28T14:01:40.885316Z",
     "start_time": "2022-09-28T14:01:40.872351Z"
    }
   },
   "outputs": [],
   "source": [
    "import pandas as pd"
   ]
  },
  {
   "cell_type": "code",
   "execution_count": 18,
   "id": "05714a35",
   "metadata": {
    "ExecuteTime": {
     "end_time": "2022-09-28T14:01:41.036910Z",
     "start_time": "2022-09-28T14:01:40.886313Z"
    }
   },
   "outputs": [
    {
     "data": {
      "text/plain": [
       "<AxesSubplot:>"
      ]
     },
     "execution_count": 18,
     "metadata": {},
     "output_type": "execute_result"
    },
    {
     "data": {
      "image/png": "[encoded data removed]",
      "text/plain": [
       "<Figure size 432x288 with 1 Axes>"
      ]
     },
     "metadata": {
      "needs_background": "light"
     },
     "output_type": "display_data"
    }
   ],
   "source": [
    "pd.DataFrame(history.history).plot()"
   ]
  }
 ],
 "metadata": {
  "kernelspec": {
   "display_name": "Python 3 (ipykernel)",
   "language": "python",
   "name": "python3"
  },
  "language_info": {
   "codemirror_mode": {
    "name": "ipython",
    "version": 3
   },
   "file_extension": ".py",
   "mimetype": "text/x-python",
   "name": "python",
   "nbconvert_exporter": "python",
   "pygments_lexer": "ipython3",
   "version": "3.7.8"
  },
  "toc": {
   "base_numbering": 1,
   "nav_menu": {},
   "number_sections": true,
   "sideBar": true,
   "skip_h1_title": false,
   "title_cell": "Table of Contents",
   "title_sidebar": "Contents",
   "toc_cell": false,
   "toc_position": {},
   "toc_section_display": true,
   "toc_window_display": false
  }
 },
 "nbformat": 4,
 "nbformat_minor": 5
}
