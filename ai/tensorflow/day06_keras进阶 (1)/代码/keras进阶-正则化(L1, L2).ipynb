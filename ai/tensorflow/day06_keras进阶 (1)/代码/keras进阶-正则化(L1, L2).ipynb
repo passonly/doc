{
 "cells": [
  {
   "cell_type": "code",
   "execution_count": 1,
   "id": "5464de11",
   "metadata": {
    "ExecuteTime": {
     "end_time": "2022-09-28T13:32:39.312761Z",
     "start_time": "2022-09-28T13:32:30.351729Z"
    }
   },
   "outputs": [],
   "source": [
    "import tensorflow as tf\n",
    "import numpy as np\n",
    "import matplotlib.pyplot as plt"
   ]
  },
  {
   "cell_type": "code",
   "execution_count": 2,
   "id": "6079a3e4",
   "metadata": {
    "ExecuteTime": {
     "end_time": "2022-09-28T13:32:39.581044Z",
     "start_time": "2022-09-28T13:32:39.314754Z"
    }
   },
   "outputs": [],
   "source": [
    "from tensorflow.keras.datasets import mnist\n",
    "\n",
    "(x_train, y_train), (x_test, y_test)  = mnist.load_data()"
   ]
  },
  {
   "cell_type": "code",
   "execution_count": 3,
   "id": "f3dac021",
   "metadata": {
    "ExecuteTime": {
     "end_time": "2022-09-28T13:32:39.596001Z",
     "start_time": "2022-09-28T13:32:39.582039Z"
    }
   },
   "outputs": [
    {
     "data": {
      "text/plain": [
       "dtype('uint8')"
      ]
     },
     "execution_count": 3,
     "metadata": {},
     "output_type": "execute_result"
    }
   ],
   "source": [
    "x_train.dtype"
   ]
  },
  {
   "cell_type": "code",
   "execution_count": 4,
   "id": "0e9a2c7c",
   "metadata": {
    "ExecuteTime": {
     "end_time": "2022-09-28T13:32:40.212355Z",
     "start_time": "2022-09-28T13:32:39.597996Z"
    }
   },
   "outputs": [],
   "source": [
    "from sklearn.preprocessing import StandardScaler"
   ]
  },
  {
   "cell_type": "code",
   "execution_count": 5,
   "id": "2803b430",
   "metadata": {
    "ExecuteTime": {
     "end_time": "2022-09-28T13:32:41.350311Z",
     "start_time": "2022-09-28T13:32:40.214347Z"
    }
   },
   "outputs": [],
   "source": [
    "x_train = x_train.reshape(-1, 784) / 255.0\n",
    "x_test = x_test.reshape(-1, 784) / 255.0\n",
    "\n",
    "# 标准化\n",
    "scaler = StandardScaler()\n",
    "x_train_scaled = scaler.fit_transform(x_train)\n",
    "x_test_scaled = scaler.transform(x_test)\n",
    "\n",
    "y_train = y_train.astype(np.float32)\n",
    "y_test = y_test.astype(np.float32)\n",
    "\n",
    "# one hot\n",
    "y_train = tf.keras.utils.to_categorical(y_train, 10)\n",
    "y_test = tf.keras.utils.to_categorical(y_test, 10)"
   ]
  },
  {
   "cell_type": "code",
   "execution_count": 6,
   "id": "7340332a",
   "metadata": {
    "ExecuteTime": {
     "end_time": "2022-09-28T13:32:41.428101Z",
     "start_time": "2022-09-28T13:32:41.351306Z"
    }
   },
   "outputs": [
    {
     "data": {
      "text/plain": [
       "5.1098400794094047e-14"
      ]
     },
     "execution_count": 6,
     "metadata": {},
     "output_type": "execute_result"
    }
   ],
   "source": [
    "x_train_scaled.mean()"
   ]
  },
  {
   "cell_type": "code",
   "execution_count": 7,
   "id": "803ed316",
   "metadata": {
    "ExecuteTime": {
     "end_time": "2022-09-28T13:32:41.712342Z",
     "start_time": "2022-09-28T13:32:41.430096Z"
    }
   },
   "outputs": [
    {
     "data": {
      "text/plain": [
       "0.956316274213992"
      ]
     },
     "execution_count": 7,
     "metadata": {},
     "output_type": "execute_result"
    }
   ],
   "source": [
    "x_train_scaled.std()"
   ]
  },
  {
   "cell_type": "code",
   "execution_count": 8,
   "id": "6306beae",
   "metadata": {
    "ExecuteTime": {
     "end_time": "2022-09-28T13:32:41.775174Z",
     "start_time": "2022-09-28T13:32:41.714335Z"
    }
   },
   "outputs": [
    {
     "data": {
      "text/plain": [
       "0.9570683370942685"
      ]
     },
     "execution_count": 8,
     "metadata": {},
     "output_type": "execute_result"
    }
   ],
   "source": [
    "x_test_scaled.std()"
   ]
  },
  {
   "cell_type": "code",
   "execution_count": 9,
   "id": "216f7092",
   "metadata": {
    "ExecuteTime": {
     "end_time": "2022-09-28T13:32:41.790132Z",
     "start_time": "2022-09-28T13:32:41.776169Z"
    }
   },
   "outputs": [
    {
     "data": {
      "text/plain": [
       "(60000, 784)"
      ]
     },
     "execution_count": 9,
     "metadata": {},
     "output_type": "execute_result"
    }
   ],
   "source": [
    "x_train_scaled.shape"
   ]
  },
  {
   "cell_type": "code",
   "execution_count": 10,
   "id": "05839333",
   "metadata": {
    "ExecuteTime": {
     "end_time": "2022-09-28T13:32:41.805092Z",
     "start_time": "2022-09-28T13:32:41.793125Z"
    }
   },
   "outputs": [],
   "source": [
    "from tensorflow.keras.layers import Dense"
   ]
  },
  {
   "cell_type": "code",
   "execution_count": 18,
   "id": "aee0462f",
   "metadata": {
    "ExecuteTime": {
     "end_time": "2022-09-28T13:34:21.963181Z",
     "start_time": "2022-09-28T13:34:21.933261Z"
    }
   },
   "outputs": [],
   "source": [
    "# 定义网络\n",
    "model = tf.keras.Sequential()\n",
    "model.add(Dense(64, activation='relu', kernel_regularizer='l2', input_shape=(784,)))\n",
    "model.add(Dense(64, activation='relu', kernel_regularizer='l2'))\n",
    "# 一般不会在输出层加正则\n",
    "model.add(Dense(10, activation='softmax'))"
   ]
  },
  {
   "cell_type": "code",
   "execution_count": 12,
   "id": "15a4ab76",
   "metadata": {
    "ExecuteTime": {
     "end_time": "2022-09-28T13:32:42.736602Z",
     "start_time": "2022-09-28T13:32:42.722638Z"
    },
    "scrolled": true
   },
   "outputs": [
    {
     "name": "stdout",
     "output_type": "stream",
     "text": [
      "Model: \"sequential\"\n",
      "_________________________________________________________________\n",
      " Layer (type)                Output Shape              Param #   \n",
      "=================================================================\n",
      " dense (Dense)               (None, 64)                50240     \n",
      "                                                                 \n",
      " dense_1 (Dense)             (None, 64)                4160      \n",
      "                                                                 \n",
      " dense_2 (Dense)             (None, 10)                650       \n",
      "                                                                 \n",
      "=================================================================\n",
      "Total params: 55,050\n",
      "Trainable params: 55,050\n",
      "Non-trainable params: 0\n",
      "_________________________________________________________________\n"
     ]
    }
   ],
   "source": [
    "model.summary()"
   ]
  },
  {
   "cell_type": "code",
   "execution_count": 13,
   "id": "2cf400e0",
   "metadata": {
    "ExecuteTime": {
     "end_time": "2022-09-28T13:32:42.752558Z",
     "start_time": "2022-09-28T13:32:42.737598Z"
    }
   },
   "outputs": [],
   "source": [
    "# 配置\n",
    "model.compile(optimizer='adam', loss='categorical_crossentropy', metrics=['acc'])"
   ]
  },
  {
   "cell_type": "code",
   "execution_count": 14,
   "id": "e731c85d",
   "metadata": {
    "ExecuteTime": {
     "end_time": "2022-09-28T13:33:56.420505Z",
     "start_time": "2022-09-28T13:32:42.754553Z"
    },
    "collapsed": true
   },
   "outputs": [
    {
     "name": "stdout",
     "output_type": "stream",
     "text": [
      "Epoch 1/20\n",
      "938/938 [==============================] - 4s 4ms/step - loss: 0.7969 - acc: 0.9110 - val_loss: 0.4054 - val_acc: 0.9416\n",
      "Epoch 2/20\n",
      "938/938 [==============================] - 3s 4ms/step - loss: 0.3772 - acc: 0.9444 - val_loss: 0.3536 - val_acc: 0.9490\n",
      "Epoch 3/20\n",
      "938/938 [==============================] - 3s 4ms/step - loss: 0.3419 - acc: 0.9503 - val_loss: 0.3424 - val_acc: 0.9499\n",
      "Epoch 4/20\n",
      "938/938 [==============================] - 3s 4ms/step - loss: 0.3233 - acc: 0.9520 - val_loss: 0.3206 - val_acc: 0.9529\n",
      "Epoch 5/20\n",
      "938/938 [==============================] - 4s 4ms/step - loss: 0.3088 - acc: 0.9531 - val_loss: 0.3109 - val_acc: 0.9559\n",
      "Epoch 6/20\n",
      "938/938 [==============================] - 4s 4ms/step - loss: 0.2945 - acc: 0.9554 - val_loss: 0.2972 - val_acc: 0.9542\n",
      "Epoch 7/20\n",
      "938/938 [==============================] - 4s 4ms/step - loss: 0.2839 - acc: 0.9581 - val_loss: 0.2927 - val_acc: 0.9568\n",
      "Epoch 8/20\n",
      "938/938 [==============================] - 4s 4ms/step - loss: 0.2785 - acc: 0.9575 - val_loss: 0.2805 - val_acc: 0.9572\n",
      "Epoch 9/20\n",
      "938/938 [==============================] - 3s 4ms/step - loss: 0.2711 - acc: 0.9589 - val_loss: 0.2810 - val_acc: 0.9588\n",
      "Epoch 10/20\n",
      "938/938 [==============================] - 4s 4ms/step - loss: 0.2649 - acc: 0.9591 - val_loss: 0.2764 - val_acc: 0.9589\n",
      "Epoch 11/20\n",
      "938/938 [==============================] - 4s 4ms/step - loss: 0.2647 - acc: 0.9584 - val_loss: 0.2689 - val_acc: 0.9596\n",
      "Epoch 12/20\n",
      "938/938 [==============================] - 4s 5ms/step - loss: 0.2563 - acc: 0.9610 - val_loss: 0.2668 - val_acc: 0.9599\n",
      "Epoch 13/20\n",
      "938/938 [==============================] - 4s 4ms/step - loss: 0.2549 - acc: 0.9596 - val_loss: 0.2653 - val_acc: 0.9553\n",
      "Epoch 14/20\n",
      "938/938 [==============================] - 3s 4ms/step - loss: 0.2542 - acc: 0.9607 - val_loss: 0.2602 - val_acc: 0.9612\n",
      "Epoch 15/20\n",
      "938/938 [==============================] - 4s 4ms/step - loss: 0.2483 - acc: 0.9615 - val_loss: 0.2490 - val_acc: 0.9604\n",
      "Epoch 16/20\n",
      "938/938 [==============================] - 4s 4ms/step - loss: 0.2502 - acc: 0.9607 - val_loss: 0.2553 - val_acc: 0.9630\n",
      "Epoch 17/20\n",
      "938/938 [==============================] - 3s 4ms/step - loss: 0.2458 - acc: 0.9611 - val_loss: 0.2588 - val_acc: 0.9605\n",
      "Epoch 18/20\n",
      "938/938 [==============================] - 4s 4ms/step - loss: 0.2446 - acc: 0.9613 - val_loss: 0.2607 - val_acc: 0.9589\n",
      "Epoch 19/20\n",
      "938/938 [==============================] - 4s 4ms/step - loss: 0.2412 - acc: 0.9617 - val_loss: 0.2527 - val_acc: 0.9607\n",
      "Epoch 20/20\n",
      "938/938 [==============================] - 4s 4ms/step - loss: 0.2443 - acc: 0.9616 - val_loss: 0.2624 - val_acc: 0.9596\n"
     ]
    }
   ],
   "source": [
    "# 从训练过程可以观察, 使用了标准化处理的数据, 更快收敛. \n",
    "history = model.fit(x_train_scaled, y_train, batch_size=64, epochs=20, validation_data=(x_test_scaled, y_test))"
   ]
  },
  {
   "cell_type": "code",
   "execution_count": 15,
   "id": "69f72e10",
   "metadata": {
    "ExecuteTime": {
     "end_time": "2022-09-28T13:33:56.436463Z",
     "start_time": "2022-09-28T13:33:56.422500Z"
    }
   },
   "outputs": [
    {
     "data": {
      "text/plain": [
       "{'loss': [0.796917200088501,\n",
       "  0.3771592080593109,\n",
       "  0.34191328287124634,\n",
       "  0.3232516050338745,\n",
       "  0.3087698221206665,\n",
       "  0.2945108115673065,\n",
       "  0.28385284543037415,\n",
       "  0.27853670716285706,\n",
       "  0.27112072706222534,\n",
       "  0.2648954391479492,\n",
       "  0.26466435194015503,\n",
       "  0.2563028931617737,\n",
       "  0.25485557317733765,\n",
       "  0.25415146350860596,\n",
       "  0.24833570420742035,\n",
       "  0.25017744302749634,\n",
       "  0.2458113431930542,\n",
       "  0.2446441352367401,\n",
       "  0.24117164313793182,\n",
       "  0.2443465143442154],\n",
       " 'acc': [0.9110333323478699,\n",
       "  0.9443666934967041,\n",
       "  0.9502666592597961,\n",
       "  0.9519500136375427,\n",
       "  0.953083336353302,\n",
       "  0.9554166793823242,\n",
       "  0.958133339881897,\n",
       "  0.9574666619300842,\n",
       "  0.9588500261306763,\n",
       "  0.9591166377067566,\n",
       "  0.9583666920661926,\n",
       "  0.9609500169754028,\n",
       "  0.9595666527748108,\n",
       "  0.9606833457946777,\n",
       "  0.9615499973297119,\n",
       "  0.9606500267982483,\n",
       "  0.9610666632652283,\n",
       "  0.9612833261489868,\n",
       "  0.9616666436195374,\n",
       "  0.961566686630249],\n",
       " 'val_loss': [0.4053933918476105,\n",
       "  0.3536091446876526,\n",
       "  0.34244808554649353,\n",
       "  0.3205757439136505,\n",
       "  0.3108803331851959,\n",
       "  0.29723647236824036,\n",
       "  0.2927039563655853,\n",
       "  0.2805211544036865,\n",
       "  0.2809545397758484,\n",
       "  0.27641451358795166,\n",
       "  0.2689473032951355,\n",
       "  0.26676106452941895,\n",
       "  0.26529744267463684,\n",
       "  0.2602085769176483,\n",
       "  0.24899747967720032,\n",
       "  0.25528568029403687,\n",
       "  0.2588246166706085,\n",
       "  0.26067742705345154,\n",
       "  0.2527411878108978,\n",
       "  0.262413889169693],\n",
       " 'val_acc': [0.9416000247001648,\n",
       "  0.9490000009536743,\n",
       "  0.9498999714851379,\n",
       "  0.9528999924659729,\n",
       "  0.9559000134468079,\n",
       "  0.954200029373169,\n",
       "  0.9567999839782715,\n",
       "  0.9571999907493591,\n",
       "  0.9588000178337097,\n",
       "  0.958899974822998,\n",
       "  0.9595999717712402,\n",
       "  0.9599000215530396,\n",
       "  0.955299973487854,\n",
       "  0.9611999988555908,\n",
       "  0.9603999853134155,\n",
       "  0.9629999995231628,\n",
       "  0.9605000019073486,\n",
       "  0.958899974822998,\n",
       "  0.9606999754905701,\n",
       "  0.9595999717712402]}"
      ]
     },
     "execution_count": 15,
     "metadata": {},
     "output_type": "execute_result"
    }
   ],
   "source": [
    "history.history"
   ]
  },
  {
   "cell_type": "code",
   "execution_count": 16,
   "id": "d33fa53b",
   "metadata": {
    "ExecuteTime": {
     "end_time": "2022-09-28T13:33:56.452419Z",
     "start_time": "2022-09-28T13:33:56.438457Z"
    }
   },
   "outputs": [],
   "source": [
    "import pandas as pd"
   ]
  },
  {
   "cell_type": "code",
   "execution_count": 17,
   "id": "05714a35",
   "metadata": {
    "ExecuteTime": {
     "end_time": "2022-09-28T13:33:56.637923Z",
     "start_time": "2022-09-28T13:33:56.456410Z"
    }
   },
   "outputs": [
    {
     "data": {
      "text/plain": [
       "<AxesSubplot:>"
      ]
     },
     "execution_count": 17,
     "metadata": {},
     "output_type": "execute_result"
    },
    {
     "data": {
      "image/png": "[encoded data removed]",
      "text/plain": [
       "<Figure size 432x288 with 1 Axes>"
      ]
     },
     "metadata": {
      "needs_background": "light"
     },
     "output_type": "display_data"
    }
   ],
   "source": [
    "pd.DataFrame(history.history).plot()"
   ]
  }
 ],
 "metadata": {
  "kernelspec": {
   "display_name": "Python 3 (ipykernel)",
   "language": "python",
   "name": "python3"
  },
  "language_info": {
   "codemirror_mode": {
    "name": "ipython",
    "version": 3
   },
   "file_extension": ".py",
   "mimetype": "text/x-python",
   "name": "python",
   "nbconvert_exporter": "python",
   "pygments_lexer": "ipython3",
   "version": "3.7.8"
  },
  "toc": {
   "base_numbering": 1,
   "nav_menu": {},
   "number_sections": true,
   "sideBar": true,
   "skip_h1_title": false,
   "title_cell": "Table of Contents",
   "title_sidebar": "Contents",
   "toc_cell": false,
   "toc_position": {},
   "toc_section_display": true,
   "toc_window_display": false
  }
 },
 "nbformat": 4,
 "nbformat_minor": 5
}
