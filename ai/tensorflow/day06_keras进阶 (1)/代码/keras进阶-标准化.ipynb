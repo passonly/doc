{
 "cells": [
  {
   "cell_type": "code",
   "execution_count": 1,
   "id": "5464de11",
   "metadata": {
    "ExecuteTime": {
     "end_time": "2022-09-28T12:35:51.101491Z",
     "start_time": "2022-09-28T12:35:39.803205Z"
    }
   },
   "outputs": [],
   "source": [
    "import tensorflow as tf\n",
    "import numpy as np\n",
    "import matplotlib.pyplot as plt"
   ]
  },
  {
   "cell_type": "code",
   "execution_count": 2,
   "id": "6079a3e4",
   "metadata": {
    "ExecuteTime": {
     "end_time": "2022-09-28T12:37:50.426308Z",
     "start_time": "2022-09-28T12:37:50.098186Z"
    }
   },
   "outputs": [],
   "source": [
    "from tensorflow.keras.datasets import mnist\n",
    "\n",
    "(x_train, y_train), (x_test, y_test)  = mnist.load_data()"
   ]
  },
  {
   "cell_type": "code",
   "execution_count": 3,
   "id": "f3dac021",
   "metadata": {
    "ExecuteTime": {
     "end_time": "2022-09-28T12:37:55.671279Z",
     "start_time": "2022-09-28T12:37:55.658314Z"
    }
   },
   "outputs": [
    {
     "data": {
      "text/plain": [
       "dtype('uint8')"
      ]
     },
     "execution_count": 3,
     "metadata": {},
     "output_type": "execute_result"
    }
   ],
   "source": [
    "x_train.dtype"
   ]
  },
  {
   "cell_type": "code",
   "execution_count": 4,
   "id": "0e9a2c7c",
   "metadata": {
    "ExecuteTime": {
     "end_time": "2022-09-28T12:38:41.751023Z",
     "start_time": "2022-09-28T12:38:40.378694Z"
    }
   },
   "outputs": [],
   "source": [
    "from sklearn.preprocessing import StandardScaler"
   ]
  },
  {
   "cell_type": "code",
   "execution_count": 5,
   "id": "2803b430",
   "metadata": {
    "ExecuteTime": {
     "end_time": "2022-09-28T12:45:26.471442Z",
     "start_time": "2022-09-28T12:45:25.267660Z"
    }
   },
   "outputs": [],
   "source": [
    "x_train = x_train.reshape(-1, 784) / 255.0\n",
    "x_test = x_test.reshape(-1, 784) / 255.0\n",
    "\n",
    "# 标准化\n",
    "scaler = StandardScaler()\n",
    "x_train_scaled = scaler.fit_transform(x_train)\n",
    "x_test_scaled = scaler.transform(x_test)\n",
    "\n",
    "y_train = y_train.astype(np.float32)\n",
    "y_test = y_test.astype(np.float32)\n",
    "\n",
    "# one hot\n",
    "y_train = tf.keras.utils.to_categorical(y_train, 10)\n",
    "y_test = tf.keras.utils.to_categorical(y_test, 10)"
   ]
  },
  {
   "cell_type": "code",
   "execution_count": 8,
   "id": "7340332a",
   "metadata": {
    "ExecuteTime": {
     "end_time": "2022-09-28T12:45:57.475510Z",
     "start_time": "2022-09-28T12:45:57.401705Z"
    }
   },
   "outputs": [
    {
     "data": {
      "text/plain": [
       "5.1098400794094047e-14"
      ]
     },
     "execution_count": 8,
     "metadata": {},
     "output_type": "execute_result"
    }
   ],
   "source": [
    "x_train_scaled.mean()"
   ]
  },
  {
   "cell_type": "code",
   "execution_count": 9,
   "id": "803ed316",
   "metadata": {
    "ExecuteTime": {
     "end_time": "2022-09-28T12:46:06.609078Z",
     "start_time": "2022-09-28T12:46:06.305888Z"
    }
   },
   "outputs": [
    {
     "data": {
      "text/plain": [
       "0.956316274213992"
      ]
     },
     "execution_count": 9,
     "metadata": {},
     "output_type": "execute_result"
    }
   ],
   "source": [
    "x_train_scaled.std()"
   ]
  },
  {
   "cell_type": "code",
   "execution_count": 12,
   "id": "6306beae",
   "metadata": {
    "ExecuteTime": {
     "end_time": "2022-09-28T12:46:41.469829Z",
     "start_time": "2022-09-28T12:46:41.416969Z"
    }
   },
   "outputs": [
    {
     "data": {
      "text/plain": [
       "0.9570683370942685"
      ]
     },
     "execution_count": 12,
     "metadata": {},
     "output_type": "execute_result"
    }
   ],
   "source": [
    "x_test_scaled.std()"
   ]
  },
  {
   "cell_type": "code",
   "execution_count": 14,
   "id": "216f7092",
   "metadata": {
    "ExecuteTime": {
     "end_time": "2022-09-28T12:49:09.999053Z",
     "start_time": "2022-09-28T12:49:09.988083Z"
    }
   },
   "outputs": [
    {
     "data": {
      "text/plain": [
       "(60000, 784)"
      ]
     },
     "execution_count": 14,
     "metadata": {},
     "output_type": "execute_result"
    }
   ],
   "source": [
    "x_train_scaled.shape"
   ]
  },
  {
   "cell_type": "code",
   "execution_count": 15,
   "id": "a33d3c9a",
   "metadata": {
    "ExecuteTime": {
     "end_time": "2022-09-28T12:50:55.876842Z",
     "start_time": "2022-09-28T12:49:18.490340Z"
    },
    "collapsed": true
   },
   "outputs": [
    {
     "data": {
      "text/plain": [
       "(array([[0., 0., 0., ..., 0., 0., 0.],\n",
       "        [0., 0., 0., ..., 0., 0., 0.],\n",
       "        [0., 0., 0., ..., 0., 0., 0.],\n",
       "        ...,\n",
       "        [0., 0., 0., ..., 0., 0., 0.],\n",
       "        [0., 0., 0., ..., 0., 0., 0.],\n",
       "        [0., 0., 0., ..., 0., 0., 0.]]),\n",
       " array([-10. ,  -9.8,  -9.6,  -9.4,  -9.2,  -9. ,  -8.8,  -8.6,  -8.4,\n",
       "         -8.2,  -8. ,  -7.8,  -7.6,  -7.4,  -7.2,  -7. ,  -6.8,  -6.6,\n",
       "         -6.4,  -6.2,  -6. ,  -5.8,  -5.6,  -5.4,  -5.2,  -5. ,  -4.8,\n",
       "         -4.6,  -4.4,  -4.2,  -4. ,  -3.8,  -3.6,  -3.4,  -3.2,  -3. ,\n",
       "         -2.8,  -2.6,  -2.4,  -2.2,  -2. ,  -1.8,  -1.6,  -1.4,  -1.2,\n",
       "         -1. ,  -0.8,  -0.6,  -0.4,  -0.2,   0. ,   0.2,   0.4,   0.6,\n",
       "          0.8,   1. ,   1.2,   1.4,   1.6,   1.8,   2. ,   2.2,   2.4,\n",
       "          2.6,   2.8,   3. ,   3.2,   3.4,   3.6,   3.8,   4. ,   4.2,\n",
       "          4.4,   4.6,   4.8,   5. ,   5.2,   5.4,   5.6,   5.8,   6. ,\n",
       "          6.2,   6.4,   6.6,   6.8,   7. ,   7.2,   7.4,   7.6,   7.8,\n",
       "          8. ,   8.2,   8.4,   8.6,   8.8,   9. ,   9.2,   9.4,   9.6,\n",
       "          9.8,  10. ]),\n",
       " <a list of 784 BarContainer objects>)"
      ]
     },
     "execution_count": 15,
     "metadata": {},
     "output_type": "execute_result"
    },
    {
     "data": {
      "image/png": "[encoded data removed]",
      "text/plain": [
       "<Figure size 432x288 with 1 Axes>"
      ]
     },
     "metadata": {
      "needs_background": "light"
     },
     "output_type": "display_data"
    }
   ],
   "source": [
    "plt.hist(x_test_scaled, bins=100, range=[-10, 10])"
   ]
  },
  {
   "cell_type": "code",
   "execution_count": 17,
   "id": "05839333",
   "metadata": {
    "ExecuteTime": {
     "end_time": "2022-09-28T12:53:50.239977Z",
     "start_time": "2022-09-28T12:53:50.225017Z"
    }
   },
   "outputs": [],
   "source": [
    "from tensorflow.keras.layers import Dense"
   ]
  },
  {
   "cell_type": "code",
   "execution_count": 27,
   "id": "aee0462f",
   "metadata": {
    "ExecuteTime": {
     "end_time": "2022-09-28T13:00:38.106495Z",
     "start_time": "2022-09-28T13:00:38.066602Z"
    }
   },
   "outputs": [],
   "source": [
    "# 定义网络\n",
    "model = tf.keras.Sequential()\n",
    "model.add(Dense(64, activation='relu', input_shape=(784,)))\n",
    "model.add(Dense(64, activation='relu'))\n",
    "model.add(Dense(10, activation='softmax'))"
   ]
  },
  {
   "cell_type": "code",
   "execution_count": 19,
   "id": "15a4ab76",
   "metadata": {
    "ExecuteTime": {
     "end_time": "2022-09-28T12:54:02.060360Z",
     "start_time": "2022-09-28T12:54:02.032433Z"
    },
    "scrolled": true
   },
   "outputs": [
    {
     "name": "stdout",
     "output_type": "stream",
     "text": [
      "Model: \"sequential_1\"\n",
      "_________________________________________________________________\n",
      " Layer (type)                Output Shape              Param #   \n",
      "=================================================================\n",
      " dense (Dense)               (None, 64)                50240     \n",
      "                                                                 \n",
      " dense_1 (Dense)             (None, 64)                4160      \n",
      "                                                                 \n",
      " dense_2 (Dense)             (None, 10)                650       \n",
      "                                                                 \n",
      "=================================================================\n",
      "Total params: 55,050\n",
      "Trainable params: 55,050\n",
      "Non-trainable params: 0\n",
      "_________________________________________________________________\n"
     ]
    }
   ],
   "source": [
    "model.summary()"
   ]
  },
  {
   "cell_type": "code",
   "execution_count": 28,
   "id": "2cf400e0",
   "metadata": {
    "ExecuteTime": {
     "end_time": "2022-09-28T13:00:40.906007Z",
     "start_time": "2022-09-28T13:00:40.897031Z"
    }
   },
   "outputs": [],
   "source": [
    "# 配置\n",
    "model.compile(optimizer='adam', loss='categorical_crossentropy', metrics=['acc'])"
   ]
  },
  {
   "cell_type": "code",
   "execution_count": 22,
   "id": "25d6d5ad",
   "metadata": {
    "ExecuteTime": {
     "end_time": "2022-09-28T12:56:27.524772Z",
     "start_time": "2022-09-28T12:55:17.584855Z"
    },
    "scrolled": false
   },
   "outputs": [
    {
     "name": "stdout",
     "output_type": "stream",
     "text": [
      "Epoch 1/20\n",
      "938/938 [==============================] - 8s 4ms/step - loss: 0.3283 - acc: 0.9047 - val_loss: 0.1948 - val_acc: 0.9397\n",
      "Epoch 2/20\n",
      "938/938 [==============================] - 3s 4ms/step - loss: 0.1460 - acc: 0.9567 - val_loss: 0.1259 - val_acc: 0.9616\n",
      "Epoch 3/20\n",
      "938/938 [==============================] - 3s 3ms/step - loss: 0.1044 - acc: 0.9689 - val_loss: 0.1021 - val_acc: 0.9685\n",
      "Epoch 4/20\n",
      "938/938 [==============================] - 3s 4ms/step - loss: 0.0821 - acc: 0.9746 - val_loss: 0.0976 - val_acc: 0.9703\n",
      "Epoch 5/20\n",
      "938/938 [==============================] - 3s 3ms/step - loss: 0.0657 - acc: 0.9792 - val_loss: 0.0957 - val_acc: 0.9704\n",
      "Epoch 6/20\n",
      "938/938 [==============================] - 3s 3ms/step - loss: 0.0552 - acc: 0.9827 - val_loss: 0.0989 - val_acc: 0.9713\n",
      "Epoch 7/20\n",
      "938/938 [==============================] - 3s 4ms/step - loss: 0.0477 - acc: 0.9850 - val_loss: 0.0960 - val_acc: 0.9721\n",
      "Epoch 8/20\n",
      "938/938 [==============================] - 3s 3ms/step - loss: 0.0388 - acc: 0.9876 - val_loss: 0.0882 - val_acc: 0.9732\n",
      "Epoch 9/20\n",
      "938/938 [==============================] - 3s 3ms/step - loss: 0.0329 - acc: 0.9893 - val_loss: 0.0798 - val_acc: 0.9765\n",
      "Epoch 10/20\n",
      "938/938 [==============================] - 3s 4ms/step - loss: 0.0298 - acc: 0.9897 - val_loss: 0.0940 - val_acc: 0.9759\n",
      "Epoch 11/20\n",
      "938/938 [==============================] - 3s 3ms/step - loss: 0.0259 - acc: 0.9914 - val_loss: 0.0933 - val_acc: 0.9753\n",
      "Epoch 12/20\n",
      "938/938 [==============================] - 3s 3ms/step - loss: 0.0221 - acc: 0.9928 - val_loss: 0.0909 - val_acc: 0.9776\n",
      "Epoch 13/20\n",
      "938/938 [==============================] - 3s 3ms/step - loss: 0.0204 - acc: 0.9934 - val_loss: 0.0992 - val_acc: 0.9766\n",
      "Epoch 14/20\n",
      "938/938 [==============================] - 4s 4ms/step - loss: 0.0190 - acc: 0.9937 - val_loss: 0.0957 - val_acc: 0.9754\n",
      "Epoch 15/20\n",
      "938/938 [==============================] - 3s 3ms/step - loss: 0.0164 - acc: 0.9947 - val_loss: 0.0995 - val_acc: 0.9762\n",
      "Epoch 16/20\n",
      "938/938 [==============================] - 3s 4ms/step - loss: 0.0136 - acc: 0.9957 - val_loss: 0.1043 - val_acc: 0.9775\n",
      "Epoch 17/20\n",
      "938/938 [==============================] - 3s 3ms/step - loss: 0.0141 - acc: 0.9951 - val_loss: 0.1111 - val_acc: 0.9758\n",
      "Epoch 18/20\n",
      "938/938 [==============================] - 3s 3ms/step - loss: 0.0116 - acc: 0.9962 - val_loss: 0.1294 - val_acc: 0.9709\n",
      "Epoch 19/20\n",
      "938/938 [==============================] - 3s 3ms/step - loss: 0.0126 - acc: 0.9956 - val_loss: 0.1131 - val_acc: 0.9762\n",
      "Epoch 20/20\n",
      "938/938 [==============================] - 3s 3ms/step - loss: 0.0107 - acc: 0.9964 - val_loss: 0.1306 - val_acc: 0.9741\n"
     ]
    },
    {
     "data": {
      "text/plain": [
       "<keras.callbacks.History at 0x27c9a1e5648>"
      ]
     },
     "execution_count": 22,
     "metadata": {},
     "output_type": "execute_result"
    }
   ],
   "source": [
    "model.fit(x_train, y_train, batch_size=64, epochs=20, validation_data=(x_test, y_test))"
   ]
  },
  {
   "cell_type": "code",
   "execution_count": 29,
   "id": "e731c85d",
   "metadata": {
    "ExecuteTime": {
     "end_time": "2022-09-28T13:01:51.750013Z",
     "start_time": "2022-09-28T13:00:45.841312Z"
    },
    "collapsed": true
   },
   "outputs": [
    {
     "name": "stdout",
     "output_type": "stream",
     "text": [
      "Epoch 1/20\n",
      "938/938 [==============================] - 4s 4ms/step - loss: 0.2785 - acc: 0.9175 - val_loss: 0.1449 - val_acc: 0.9589\n",
      "Epoch 2/20\n",
      "938/938 [==============================] - 3s 3ms/step - loss: 0.1139 - acc: 0.9650 - val_loss: 0.1307 - val_acc: 0.9631\n",
      "Epoch 3/20\n",
      "938/938 [==============================] - 3s 3ms/step - loss: 0.0787 - acc: 0.9758 - val_loss: 0.1139 - val_acc: 0.9671\n",
      "Epoch 4/20\n",
      "938/938 [==============================] - 3s 4ms/step - loss: 0.0599 - acc: 0.9809 - val_loss: 0.1323 - val_acc: 0.9687\n",
      "Epoch 5/20\n",
      "938/938 [==============================] - 3s 4ms/step - loss: 0.0462 - acc: 0.9852 - val_loss: 0.1230 - val_acc: 0.9708\n",
      "Epoch 6/20\n",
      "938/938 [==============================] - 3s 3ms/step - loss: 0.0361 - acc: 0.9884 - val_loss: 0.1352 - val_acc: 0.9707\n",
      "Epoch 7/20\n",
      "938/938 [==============================] - 3s 3ms/step - loss: 0.0310 - acc: 0.9899 - val_loss: 0.1328 - val_acc: 0.9710\n",
      "Epoch 8/20\n",
      "938/938 [==============================] - 3s 3ms/step - loss: 0.0271 - acc: 0.9909 - val_loss: 0.1418 - val_acc: 0.9714\n",
      "Epoch 9/20\n",
      "938/938 [==============================] - 3s 3ms/step - loss: 0.0239 - acc: 0.9920 - val_loss: 0.1592 - val_acc: 0.9699\n",
      "Epoch 10/20\n",
      "938/938 [==============================] - 3s 3ms/step - loss: 0.0237 - acc: 0.9926 - val_loss: 0.1553 - val_acc: 0.9717\n",
      "Epoch 11/20\n",
      "938/938 [==============================] - 3s 3ms/step - loss: 0.0158 - acc: 0.9951 - val_loss: 0.1694 - val_acc: 0.9734\n",
      "Epoch 12/20\n",
      "938/938 [==============================] - 3s 3ms/step - loss: 0.0138 - acc: 0.9952 - val_loss: 0.1886 - val_acc: 0.9687\n",
      "Epoch 13/20\n",
      "938/938 [==============================] - 3s 3ms/step - loss: 0.0188 - acc: 0.9936 - val_loss: 0.1914 - val_acc: 0.9694\n",
      "Epoch 14/20\n",
      "938/938 [==============================] - 3s 3ms/step - loss: 0.0178 - acc: 0.9944 - val_loss: 0.2064 - val_acc: 0.9691\n",
      "Epoch 15/20\n",
      "938/938 [==============================] - 3s 3ms/step - loss: 0.0150 - acc: 0.9954 - val_loss: 0.1958 - val_acc: 0.9719\n",
      "Epoch 16/20\n",
      "938/938 [==============================] - 3s 3ms/step - loss: 0.0098 - acc: 0.9969 - val_loss: 0.2196 - val_acc: 0.9720\n",
      "Epoch 17/20\n",
      "938/938 [==============================] - 3s 3ms/step - loss: 0.0126 - acc: 0.9960 - val_loss: 0.1912 - val_acc: 0.9735\n",
      "Epoch 18/20\n",
      "938/938 [==============================] - 3s 3ms/step - loss: 0.0101 - acc: 0.9964 - val_loss: 0.2311 - val_acc: 0.9673\n",
      "Epoch 19/20\n",
      "938/938 [==============================] - 3s 3ms/step - loss: 0.0104 - acc: 0.9965 - val_loss: 0.2065 - val_acc: 0.9713\n",
      "Epoch 20/20\n",
      "938/938 [==============================] - 3s 4ms/step - loss: 0.0136 - acc: 0.9960 - val_loss: 0.2461 - val_acc: 0.9697\n"
     ]
    }
   ],
   "source": [
    "# 从训练过程可以观察, 使用了标准化处理的数据, 更快收敛. \n",
    "history = model.fit(x_train_scaled, y_train, batch_size=64, epochs=20, validation_data=(x_test_scaled, y_test))"
   ]
  },
  {
   "cell_type": "code",
   "execution_count": 31,
   "id": "69f72e10",
   "metadata": {
    "ExecuteTime": {
     "end_time": "2022-09-28T13:02:22.687261Z",
     "start_time": "2022-09-28T13:02:22.673297Z"
    },
    "collapsed": true
   },
   "outputs": [
    {
     "data": {
      "text/plain": [
       "{'loss': [0.27851974964141846,\n",
       "  0.11393164843320847,\n",
       "  0.07871301472187042,\n",
       "  0.059866465628147125,\n",
       "  0.04620717465877533,\n",
       "  0.03608178719878197,\n",
       "  0.031042862683534622,\n",
       "  0.027131633833050728,\n",
       "  0.023914018645882607,\n",
       "  0.023681839928030968,\n",
       "  0.01576872356235981,\n",
       "  0.013811157085001469,\n",
       "  0.018834402784705162,\n",
       "  0.017809279263019562,\n",
       "  0.015011442825198174,\n",
       "  0.009812971577048302,\n",
       "  0.012554268352687359,\n",
       "  0.010120362974703312,\n",
       "  0.010437837801873684,\n",
       "  0.013616315089166164],\n",
       " 'acc': [0.9175333380699158,\n",
       "  0.9650499820709229,\n",
       "  0.9757999777793884,\n",
       "  0.98089998960495,\n",
       "  0.9852499961853027,\n",
       "  0.9884333610534668,\n",
       "  0.9899166822433472,\n",
       "  0.990933358669281,\n",
       "  0.9920333623886108,\n",
       "  0.9926166534423828,\n",
       "  0.9951000213623047,\n",
       "  0.9952333569526672,\n",
       "  0.9936166405677795,\n",
       "  0.9944166541099548,\n",
       "  0.9953833222389221,\n",
       "  0.9968833327293396,\n",
       "  0.9960166811943054,\n",
       "  0.9964333176612854,\n",
       "  0.9965000152587891,\n",
       "  0.995983362197876],\n",
       " 'val_loss': [0.14487293362617493,\n",
       "  0.13070951402187347,\n",
       "  0.11392103135585785,\n",
       "  0.1322973072528839,\n",
       "  0.12302811443805695,\n",
       "  0.13515125215053558,\n",
       "  0.13278760015964508,\n",
       "  0.14180804789066315,\n",
       "  0.15918374061584473,\n",
       "  0.15531028807163239,\n",
       "  0.16935651004314423,\n",
       "  0.18862000107765198,\n",
       "  0.19141583144664764,\n",
       "  0.20638327300548553,\n",
       "  0.19582350552082062,\n",
       "  0.21956300735473633,\n",
       "  0.1911846548318863,\n",
       "  0.23109255731105804,\n",
       "  0.20647497475147247,\n",
       "  0.24609282612800598],\n",
       " 'val_acc': [0.958899974822998,\n",
       "  0.963100016117096,\n",
       "  0.9671000242233276,\n",
       "  0.9686999917030334,\n",
       "  0.97079998254776,\n",
       "  0.9707000255584717,\n",
       "  0.9710000157356262,\n",
       "  0.9714000225067139,\n",
       "  0.9699000120162964,\n",
       "  0.9717000126838684,\n",
       "  0.9733999967575073,\n",
       "  0.9686999917030334,\n",
       "  0.9693999886512756,\n",
       "  0.9690999984741211,\n",
       "  0.9718999862670898,\n",
       "  0.972000002861023,\n",
       "  0.9735000133514404,\n",
       "  0.9672999978065491,\n",
       "  0.9713000059127808,\n",
       "  0.9696999788284302]}"
      ]
     },
     "execution_count": 31,
     "metadata": {},
     "output_type": "execute_result"
    }
   ],
   "source": [
    "history.history"
   ]
  },
  {
   "cell_type": "code",
   "execution_count": 32,
   "id": "d33fa53b",
   "metadata": {
    "ExecuteTime": {
     "end_time": "2022-09-28T13:02:44.289476Z",
     "start_time": "2022-09-28T13:02:44.280500Z"
    }
   },
   "outputs": [],
   "source": [
    "import pandas as pd"
   ]
  },
  {
   "cell_type": "code",
   "execution_count": 33,
   "id": "05714a35",
   "metadata": {
    "ExecuteTime": {
     "end_time": "2022-09-28T13:02:56.618497Z",
     "start_time": "2022-09-28T13:02:56.336253Z"
    }
   },
   "outputs": [
    {
     "data": {
      "text/plain": [
       "<AxesSubplot:>"
      ]
     },
     "execution_count": 33,
     "metadata": {},
     "output_type": "execute_result"
    },
    {
     "data": {
      "image/png": "[encoded data removed]",
      "text/plain": [
       "<Figure size 432x288 with 1 Axes>"
      ]
     },
     "metadata": {
      "needs_background": "light"
     },
     "output_type": "display_data"
    }
   ],
   "source": [
    "pd.DataFrame(history.history).plot()"
   ]
  }
 ],
 "metadata": {
  "kernelspec": {
   "display_name": "Python 3 (ipykernel)",
   "language": "python",
   "name": "python3"
  },
  "language_info": {
   "codemirror_mode": {
    "name": "ipython",
    "version": 3
   },
   "file_extension": ".py",
   "mimetype": "text/x-python",
   "name": "python",
   "nbconvert_exporter": "python",
   "pygments_lexer": "ipython3",
   "version": "3.7.8"
  },
  "toc": {
   "base_numbering": 1,
   "nav_menu": {},
   "number_sections": true,
   "sideBar": true,
   "skip_h1_title": false,
   "title_cell": "Table of Contents",
   "title_sidebar": "Contents",
   "toc_cell": false,
   "toc_position": {},
   "toc_section_display": true,
   "toc_window_display": false
  }
 },
 "nbformat": 4,
 "nbformat_minor": 5
}
