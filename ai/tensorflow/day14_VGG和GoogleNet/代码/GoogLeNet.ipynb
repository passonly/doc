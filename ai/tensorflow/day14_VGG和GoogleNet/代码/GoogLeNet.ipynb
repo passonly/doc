{
 "cells": [
  {
   "cell_type": "code",
   "execution_count": 2,
   "id": "2a8d1e60",
   "metadata": {
    "ExecuteTime": {
     "end_time": "2022-10-28T13:33:48.845237Z",
     "start_time": "2022-10-28T13:33:45.588946Z"
    }
   },
   "outputs": [],
   "source": [
    "from tensorflow import keras\n",
    "import tensorflow as tf\n",
    "import numpy as np\n",
    "import pandas as pd\n",
    "import matplotlib.pyplot as plt"
   ]
  },
  {
   "cell_type": "code",
   "execution_count": 3,
   "id": "2d5645b8",
   "metadata": {
    "ExecuteTime": {
     "end_time": "2022-10-28T13:43:51.760378Z",
     "start_time": "2022-10-28T13:43:51.742424Z"
    }
   },
   "outputs": [],
   "source": [
    "# 封装inception结构\n",
    "class Inception(keras.layers.Layer):\n",
    "    def __init__(self, ch1x1, ch3x3red, ch3x3, ch5x5red, ch5x5, pool_proj, **kwargs):\n",
    "        super().__init__(**kwargs)\n",
    "        self.branch1 = keras.layers.Conv2D(ch1x1, kernel_size=1, activation='relu')\n",
    "        \n",
    "        self.branch2 = keras.Sequential([\n",
    "            keras.layers.Conv2D(ch3x3red, kernel_size=1, activation='relu'),\n",
    "            keras.layers.Conv2D(ch3x3, kernel_size=3, padding='SAME', activation='relu')\n",
    "        ])\n",
    "        \n",
    "        self.branch3 = keras.Sequential([\n",
    "            keras.layers.Conv2D(ch5x5red, kernel_size=1, activation='relu'),\n",
    "            keras.layers.Conv2D(ch5x5, kernel_size=5, padding='SAME', activation='relu')\n",
    "        ])\n",
    "        \n",
    "        self.branch4 = keras.Sequential([\n",
    "            keras.layers.MaxPool2D(pool_size=3, strides=1, padding='SAME'),\n",
    "            keras.layers.Conv2D(pool_proj, kernel_size=1, activation='relu')\n",
    "            \n",
    "        ])\n",
    "        \n",
    "    def call(self, inputs):\n",
    "        branch1 = self.branch1(inputs)\n",
    "        branch2 = self.branch2(inputs)\n",
    "        branch3 = self.branch3(inputs)\n",
    "        branch4 = self.branch4(inputs)\n",
    "        outputs = keras.layers.concatenate([branch1, branch2, branch3, branch4])\n",
    "        return outputs"
   ]
  },
  {
   "cell_type": "code",
   "execution_count": 4,
   "id": "96b65b46",
   "metadata": {
    "ExecuteTime": {
     "end_time": "2022-10-28T13:53:18.421012Z",
     "start_time": "2022-10-28T13:53:18.413031Z"
    }
   },
   "outputs": [],
   "source": [
    "# 封装辅助输出结构\n",
    "class InceptionAux(keras.layers.Layer):\n",
    "    def __init__(self, num_classes, **kwargs):\n",
    "        self.average_pool = keras.layers.AvgPool2D(pool_size=5, strides=3)\n",
    "        self.conv = keras.layers.Conv2D(128, kernel_size=1, activation='relu')\n",
    "        self.fc1 = keras.layers.Dense(1024, activation='relu')\n",
    "        self.fc2 = keras.layers.Dense(num_classes)\n",
    "        self.softmax = keras.layers.Softmax()\n",
    "        \n",
    "    def call(self, inputs):\n",
    "        x = self.average_pool(inputs)\n",
    "        x = self.conv(x)\n",
    "        x = keras.layers.Flatten()(x)\n",
    "        x = keras.layers.Dropout(rate=0.5)(x)\n",
    "        x = self.fc1(x)\n",
    "        x = keras.layers.Dropout(rate=0.5)(x)\n",
    "        x = self.fc2(x)\n",
    "        x = self.softmax(x)\n",
    "        return x"
   ]
  },
  {
   "cell_type": "code",
   "execution_count": 5,
   "id": "81c9e0ce",
   "metadata": {
    "ExecuteTime": {
     "end_time": "2022-10-28T14:09:53.995350Z",
     "start_time": "2022-10-28T14:09:53.978395Z"
    }
   },
   "outputs": [],
   "source": [
    "def GoogLeNet(im_height=224, im_width=224, num_classes=1000, aux_logits=False):\n",
    "    input_image = keras.layers.Input(shape=(im_height, im_width, 3), dtype='float32')\n",
    "    x = keras.layers.Conv2D(64, kernel_size=7, strides=2, activation='relu', padding='SAME')(input_image)\n",
    "    x = keras.layers.MaxPool2D(pool_size=3, strides=2, padding='SAME')(x)\n",
    "    x = keras.layers.Conv2D(64, kernel_size=1, strides=1, activation='relu', padding='SAME')(x)\n",
    "    x = keras.layers.Conv2D(192, kernel_size=3, strides=1, activation='relu', padding='SAME')(x)\n",
    "    x = keras.layers.MaxPool2D(pool_size=3, strides=2, padding='SAME')(x)\n",
    "    \n",
    "    x = Inception(64, 96, 128, 16, 32, 32, name='inception_3a')(x)\n",
    "    x = Inception(128, 128, 192, 32, 96, 64, name='inception_3b')(x)\n",
    "    x = keras.layers.MaxPool2D(pool_size=3, strides=2, padding='SAME')(x)\n",
    "    \n",
    "    x = Inception(192, 96, 208, 16, 48, 64, name='inception_4a')(x)\n",
    "    \n",
    "    if aux_logits:\n",
    "        aux1 = InceptionAux(num_classes, name='aux_1')(x)\n",
    "    x = Inception(160, 112, 224, 24, 64, 64, name='inception_4b')(x)  \n",
    "    x = Inception(128, 128, 256, 24, 64, 64, name='inception_4c')(x)\n",
    "    x = Inception(112, 144, 288, 32, 64, 64, name='inception_4d')(x)\n",
    "    \n",
    "    if aux_logits:\n",
    "        aux2 = InceptionAux(num_classes, name='aux_2')(x)\n",
    "        \n",
    "    x = Inception(256, 160, 320, 32, 128, 128, name='inception_4e')(x)\n",
    "    \n",
    "    x = keras.layers.MaxPool2D(pool_size=3, strides=2, padding='SAME')(x)\n",
    "    \n",
    "    x = Inception(256, 160, 320, 32, 128, 128, name='inception_5a')(x)\n",
    "    x = Inception(384, 192, 384, 48, 128, 128, name='inception_5b')(x)\n",
    "    \n",
    "    x = keras.layers.AvgPool2D(pool_size=7, strides=1)(x)\n",
    "    x = keras.layers.Flatten()(x)\n",
    "    \n",
    "    x = keras.layers.Dropout(rate=0.4)(x)\n",
    "    x = keras.layers.Dense(num_classes)(x)\n",
    "    aux3 = keras.layers.Softmax()(x)\n",
    "    \n",
    "    if aux_logits:\n",
    "        model = keras.model.Model(inputs=input_image, outputs=[aux1, aux2, aux3])\n",
    "    else:\n",
    "        model = keras.model.Model(inputs=input_image, outputs=aux3)\n",
    "        \n",
    "    return model"
   ]
  },
  {
   "cell_type": "code",
   "execution_count": null,
   "id": "c5a12d3d",
   "metadata": {},
   "outputs": [],
   "source": []
  }
 ],
 "metadata": {
  "kernelspec": {
   "display_name": "Python 3 (ipykernel)",
   "language": "python",
   "name": "python3"
  },
  "language_info": {
   "codemirror_mode": {
    "name": "ipython",
    "version": 3
   },
   "file_extension": ".py",
   "mimetype": "text/x-python",
   "name": "python",
   "nbconvert_exporter": "python",
   "pygments_lexer": "ipython3",
   "version": "3.7.8"
  },
  "toc": {
   "base_numbering": 1,
   "nav_menu": {},
   "number_sections": true,
   "sideBar": true,
   "skip_h1_title": false,
   "title_cell": "Table of Contents",
   "title_sidebar": "Contents",
   "toc_cell": false,
   "toc_position": {},
   "toc_section_display": true,
   "toc_window_display": false
  }
 },
 "nbformat": 4,
 "nbformat_minor": 5
}
