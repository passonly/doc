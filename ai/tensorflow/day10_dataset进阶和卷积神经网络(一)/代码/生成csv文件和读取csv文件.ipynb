{
 "cells": [
  {
   "cell_type": "code",
   "execution_count": 1,
   "id": "e672bba5",
   "metadata": {
    "ExecuteTime": {
     "end_time": "2022-10-19T12:06:38.390483Z",
     "start_time": "2022-10-19T12:06:27.722018Z"
    }
   },
   "outputs": [],
   "source": [
    "# 先生成大量的文件. \n",
    "import tensorflow as tf\n",
    "import numpy as np\n",
    "import pandas as pd\n",
    "import matplotlib.pyplot as plt"
   ]
  },
  {
   "cell_type": "code",
   "execution_count": 2,
   "id": "0fe3f9c3",
   "metadata": {
    "ExecuteTime": {
     "end_time": "2022-10-19T12:07:50.298662Z",
     "start_time": "2022-10-19T12:07:48.728860Z"
    }
   },
   "outputs": [],
   "source": [
    "from sklearn.datasets import fetch_california_housing\n",
    "\n",
    "housing = fetch_california_housing()\n",
    "\n",
    "data = housing.data\n",
    "target = housing.target\n",
    "\n",
    "from sklearn.model_selection import train_test_split\n",
    "\n",
    "x_train_all, x_test, y_train_all, y_test = train_test_split(data, target, random_state=7)\n",
    "x_train, x_valid, y_train, y_valid = train_test_split(x_train_all, y_train_all, random_state=10)\n",
    "\n",
    "from sklearn.preprocessing import StandardScaler\n",
    "\n",
    "scaler = StandardScaler()\n",
    "x_train_scaled = scaler.fit_transform(x_train)\n",
    "\n",
    "x_valid_scaled = scaler.transform(x_valid)\n",
    "x_test_scaled = scaler.transform(x_test)"
   ]
  },
  {
   "cell_type": "markdown",
   "id": "0b436dae",
   "metadata": {},
   "source": [
    "### 生成大量csv文件"
   ]
  },
  {
   "cell_type": "code",
   "execution_count": 3,
   "id": "62f23f79",
   "metadata": {
    "ExecuteTime": {
     "end_time": "2022-10-19T12:14:54.780297Z",
     "start_time": "2022-10-19T12:14:54.769327Z"
    }
   },
   "outputs": [
    {
     "data": {
      "text/plain": [
       "[array([0, 1, 2]), array([3, 4, 5]), array([6, 7, 8])]"
      ]
     },
     "execution_count": 3,
     "metadata": {},
     "output_type": "execute_result"
    }
   ],
   "source": [
    "x = np.arange(9)\n",
    "np.array_split(x, 3)"
   ]
  },
  {
   "cell_type": "code",
   "execution_count": 4,
   "id": "f547caac",
   "metadata": {
    "ExecuteTime": {
     "end_time": "2022-10-19T12:15:45.230359Z",
     "start_time": "2022-10-19T12:15:45.216395Z"
    }
   },
   "outputs": [
    {
     "data": {
      "text/plain": [
       "11610"
      ]
     },
     "execution_count": 4,
     "metadata": {},
     "output_type": "execute_result"
    }
   ],
   "source": [
    "len(x_train_scaled)"
   ]
  },
  {
   "cell_type": "code",
   "execution_count": 5,
   "id": "ce5564cd",
   "metadata": {
    "ExecuteTime": {
     "end_time": "2022-10-19T12:16:08.420331Z",
     "start_time": "2022-10-19T12:16:08.407366Z"
    }
   },
   "outputs": [
    {
     "data": {
      "text/plain": [
       "(11610, 8)"
      ]
     },
     "execution_count": 5,
     "metadata": {},
     "output_type": "execute_result"
    }
   ],
   "source": [
    "x_train_scaled.shape"
   ]
  },
  {
   "cell_type": "code",
   "execution_count": 6,
   "id": "3f7f51f0",
   "metadata": {
    "ExecuteTime": {
     "end_time": "2022-10-19T12:16:14.251733Z",
     "start_time": "2022-10-19T12:16:14.247744Z"
    },
    "scrolled": true
   },
   "outputs": [
    {
     "data": {
      "text/plain": [
       "array([-0.22763171, -1.80227442, -0.2591649 , -0.08360651, -0.59848384,\n",
       "       -0.12716668,  1.10047447, -0.88169018])"
      ]
     },
     "execution_count": 6,
     "metadata": {},
     "output_type": "execute_result"
    }
   ],
   "source": [
    "x_train_scaled[0]"
   ]
  },
  {
   "cell_type": "code",
   "execution_count": 7,
   "id": "2493972b",
   "metadata": {
    "ExecuteTime": {
     "end_time": "2022-10-19T12:16:42.105235Z",
     "start_time": "2022-10-19T12:16:42.095260Z"
    }
   },
   "outputs": [
    {
     "data": {
      "text/plain": [
       "array([    0,     1,     2, ..., 20637, 20638, 20639])"
      ]
     },
     "execution_count": 7,
     "metadata": {},
     "output_type": "execute_result"
    }
   ],
   "source": [
    "np.arange(len(data))"
   ]
  },
  {
   "cell_type": "code",
   "execution_count": 9,
   "id": "bc35032c",
   "metadata": {
    "ExecuteTime": {
     "end_time": "2022-10-19T12:17:06.861020Z",
     "start_time": "2022-10-19T12:17:06.854037Z"
    },
    "collapsed": true
   },
   "outputs": [
    {
     "data": {
      "text/plain": [
       "array([[-0.22763171, -1.80227442, -0.2591649 , -0.08360651, -0.59848384,\n",
       "        -0.12716668,  1.10047447, -0.88169018],\n",
       "       [-1.37848743, -1.72278134, -0.75635644, -0.08560269, -0.20853523,\n",
       "         0.14983419, -1.45661346,  1.2763948 ],\n",
       "       [-1.31113536,  1.85440709, -0.15558667, -0.26748997, -1.11784397,\n",
       "        -0.01745359,  1.06300798, -1.3874131 ],\n",
       "       [-0.64748804,  0.8209971 , -0.66607127, -0.34479833, -0.95243719,\n",
       "         0.06288352, -0.76816671,  0.70557882]])"
      ]
     },
     "execution_count": 9,
     "metadata": {},
     "output_type": "execute_result"
    }
   ],
   "source": [
    "x_train_scaled[[0, 1, 2, 3]]"
   ]
  },
  {
   "cell_type": "code",
   "execution_count": 12,
   "id": "2fe72cdb",
   "metadata": {
    "ExecuteTime": {
     "end_time": "2022-10-19T12:25:29.077735Z",
     "start_time": "2022-10-19T12:25:29.061778Z"
    }
   },
   "outputs": [
    {
     "data": {
      "text/plain": [
       "'-0.22763170751337458,-1.802274419767064,-0.25916490468728715,-0.08360651274598882,-0.5984838423044915,-0.1271666847035384,1.1004744650918357,-0.881690175316059'"
      ]
     },
     "execution_count": 12,
     "metadata": {},
     "output_type": "execute_result"
    }
   ],
   "source": [
    "','.join([str(col) for col in  x_train_scaled[0]])"
   ]
  },
  {
   "cell_type": "code",
   "execution_count": 10,
   "id": "fb3ae202",
   "metadata": {
    "ExecuteTime": {
     "end_time": "2022-10-19T12:23:23.964380Z",
     "start_time": "2022-10-19T12:23:23.944430Z"
    }
   },
   "outputs": [],
   "source": [
    "import os\n",
    "\n",
    "\n",
    "output_dir = 'generate_csv'\n",
    "if not os.path.exists(output_dir):\n",
    "    os.mkdir(output_dir)\n",
    "    \n",
    "\n",
    "def save_to_csv(output_dir, data, name_prefix, header=None, n_parts=10):\n",
    "    path_format = os.path.join(output_dir, '{}_{:02d}.csv')\n",
    "    filenames = []\n",
    "    \n",
    "    # 对索引进行划分成n_parts份, 然后用索引去data中取数据\n",
    "    for file_idx, row_indices in enumerate(np.array_split(np.arange(len(data)), n_parts)):\n",
    "        part_csv = path_format.format(name_prefix, file_idx)\n",
    "        filenames.append(part_csv)\n",
    "        \n",
    "        # 写数据\n",
    "        with open(part_csv, 'wt', encoding='utf-8') as f:\n",
    "            if header is not None:\n",
    "                f.write(header + '\\n')\n",
    "            for row_index in row_indices:\n",
    "                f.write(','.join([repr(col) for col in  data[row_index]]))\n",
    "                f.write('\\n')\n",
    "                \n",
    "    return filenames"
   ]
  },
  {
   "cell_type": "code",
   "execution_count": 13,
   "id": "b30aaa1a",
   "metadata": {
    "ExecuteTime": {
     "end_time": "2022-10-19T12:26:46.366015Z",
     "start_time": "2022-10-19T12:26:46.351051Z"
    }
   },
   "outputs": [],
   "source": [
    "# 把样本数据和对应的标记合并到一起. \n",
    "train_data = np.c_[x_train_scaled, y_train]\n",
    "valid_data = np.c_[x_valid_scaled, y_valid]\n",
    "test_data = np.c_[x_test_scaled, y_test]"
   ]
  },
  {
   "cell_type": "code",
   "execution_count": 14,
   "id": "28bc96ed",
   "metadata": {
    "ExecuteTime": {
     "end_time": "2022-10-19T12:26:49.158542Z",
     "start_time": "2022-10-19T12:26:49.150563Z"
    },
    "collapsed": true
   },
   "outputs": [
    {
     "data": {
      "text/plain": [
       "array([[-0.22763171, -1.80227442, -0.2591649 , ...,  1.10047447,\n",
       "        -0.88169018,  1.238     ],\n",
       "       [-1.37848743, -1.72278134, -0.75635644, ..., -1.45661346,\n",
       "         1.2763948 ,  0.675     ],\n",
       "       [-1.31113536,  1.85440709, -0.15558667, ...,  1.06300798,\n",
       "        -1.3874131 ,  1.042     ],\n",
       "       ...,\n",
       "       [ 3.873586  ,  0.26454556,  0.92499504, ..., -0.74006684,\n",
       "         0.87081503,  5.00001   ],\n",
       "       [-0.88177929, -0.5303852 , -0.82283667, ..., -0.66981717,\n",
       "         0.55536409,  0.938     ],\n",
       "       [-0.26114763,  0.02606633, -0.30457834, ..., -0.64640062,\n",
       "         0.57539272,  1.424     ]])"
      ]
     },
     "execution_count": 14,
     "metadata": {},
     "output_type": "execute_result"
    }
   ],
   "source": [
    "train_data"
   ]
  },
  {
   "cell_type": "code",
   "execution_count": 16,
   "id": "61189f03",
   "metadata": {
    "ExecuteTime": {
     "end_time": "2022-10-19T12:28:18.450218Z",
     "start_time": "2022-10-19T12:28:18.441242Z"
    },
    "collapsed": true
   },
   "outputs": [
    {
     "name": "stdout",
     "output_type": "stream",
     "text": [
      ".. _california_housing_dataset:\n",
      "\n",
      "California Housing dataset\n",
      "--------------------------\n",
      "\n",
      "**Data Set Characteristics:**\n",
      "\n",
      "    :Number of Instances: 20640\n",
      "\n",
      "    :Number of Attributes: 8 numeric, predictive attributes and the target\n",
      "\n",
      "    :Attribute Information:\n",
      "        - MedInc        median income in block\n",
      "        - HouseAge      median house age in block\n",
      "        - AveRooms      average number of rooms\n",
      "        - AveBedrms     average number of bedrooms\n",
      "        - Population    block population\n",
      "        - AveOccup      average house occupancy\n",
      "        - Latitude      house block latitude\n",
      "        - Longitude     house block longitude\n",
      "\n",
      "    :Missing Attribute Values: None\n",
      "\n",
      "This dataset was obtained from the StatLib repository.\n",
      "http://lib.stat.cmu.edu/datasets/\n",
      "\n",
      "The target variable is the median house value for California districts.\n",
      "\n",
      "This dataset was derived from the 1990 U.S. census, using one row per census\n",
      "block group. A block group is the smallest geographical unit for which the U.S.\n",
      "Census Bureau publishes sample data (a block group typically has a population\n",
      "of 600 to 3,000 people).\n",
      "\n",
      "It can be downloaded/loaded using the\n",
      ":func:`sklearn.datasets.fetch_california_housing` function.\n",
      "\n",
      ".. topic:: References\n",
      "\n",
      "    - Pace, R. Kelley and Ronald Barry, Sparse Spatial Autoregressions,\n",
      "      Statistics and Probability Letters, 33 (1997) 291-297\n",
      "\n"
     ]
    }
   ],
   "source": [
    "print(housing.DESCR)"
   ]
  },
  {
   "cell_type": "code",
   "execution_count": 17,
   "id": "2c3201dd",
   "metadata": {
    "ExecuteTime": {
     "end_time": "2022-10-19T12:29:53.430175Z",
     "start_time": "2022-10-19T12:29:53.423193Z"
    }
   },
   "outputs": [],
   "source": [
    "header_cols = housing.feature_names + ['MedianHouseValue']\n",
    "header_str = ','.join(header_cols)"
   ]
  },
  {
   "cell_type": "code",
   "execution_count": 18,
   "id": "e2d6c299",
   "metadata": {
    "ExecuteTime": {
     "end_time": "2022-10-19T12:29:56.527890Z",
     "start_time": "2022-10-19T12:29:56.509936Z"
    }
   },
   "outputs": [
    {
     "data": {
      "text/plain": [
       "'MedInc,HouseAge,AveRooms,AveBedrms,Population,AveOccup,Latitude,Longitude,MedianHouseValue'"
      ]
     },
     "execution_count": 18,
     "metadata": {},
     "output_type": "execute_result"
    }
   ],
   "source": [
    "header_str"
   ]
  },
  {
   "cell_type": "code",
   "execution_count": null,
   "id": "697edd65",
   "metadata": {},
   "outputs": [],
   "source": [
    "# 1. filenames -> dataset\n",
    "# 2. interleave -> read file -> dataset\n",
    "# 3. parse csv"
   ]
  },
  {
   "cell_type": "code",
   "execution_count": 19,
   "id": "bfd309e8",
   "metadata": {
    "ExecuteTime": {
     "end_time": "2022-10-19T12:33:51.852464Z",
     "start_time": "2022-10-19T12:33:51.622080Z"
    }
   },
   "outputs": [],
   "source": [
    "train_filenames = save_to_csv(output_dir, train_data, 'train', header_str, n_parts=20)\n",
    "valid_filenames = save_to_csv(output_dir, valid_data, 'valid', header_str, n_parts=20)\n",
    "test_filenames = save_to_csv(output_dir, test_data, 'test', header_str, n_parts=20)"
   ]
  },
  {
   "cell_type": "code",
   "execution_count": 20,
   "id": "7ce9b43f",
   "metadata": {
    "ExecuteTime": {
     "end_time": "2022-10-19T12:34:02.912880Z",
     "start_time": "2022-10-19T12:33:59.952797Z"
    }
   },
   "outputs": [],
   "source": [
    "# 对于文件名做dataset专门有一个api, 叫做list_files\n",
    "filename_dataset = tf.data.Dataset.list_files(train_filenames)"
   ]
  },
  {
   "cell_type": "code",
   "execution_count": 21,
   "id": "ba37b872",
   "metadata": {
    "ExecuteTime": {
     "end_time": "2022-10-19T12:34:18.010499Z",
     "start_time": "2022-10-19T12:34:17.990552Z"
    },
    "collapsed": true
   },
   "outputs": [
    {
     "name": "stdout",
     "output_type": "stream",
     "text": [
      "tf.Tensor(b'generate_csv\\\\train_16.csv', shape=(), dtype=string)\n",
      "tf.Tensor(b'generate_csv\\\\train_08.csv', shape=(), dtype=string)\n",
      "tf.Tensor(b'generate_csv\\\\train_10.csv', shape=(), dtype=string)\n",
      "tf.Tensor(b'generate_csv\\\\train_13.csv', shape=(), dtype=string)\n",
      "tf.Tensor(b'generate_csv\\\\train_15.csv', shape=(), dtype=string)\n",
      "tf.Tensor(b'generate_csv\\\\train_03.csv', shape=(), dtype=string)\n",
      "tf.Tensor(b'generate_csv\\\\train_01.csv', shape=(), dtype=string)\n",
      "tf.Tensor(b'generate_csv\\\\train_04.csv', shape=(), dtype=string)\n",
      "tf.Tensor(b'generate_csv\\\\train_17.csv', shape=(), dtype=string)\n",
      "tf.Tensor(b'generate_csv\\\\train_18.csv', shape=(), dtype=string)\n",
      "tf.Tensor(b'generate_csv\\\\train_19.csv', shape=(), dtype=string)\n",
      "tf.Tensor(b'generate_csv\\\\train_00.csv', shape=(), dtype=string)\n",
      "tf.Tensor(b'generate_csv\\\\train_06.csv', shape=(), dtype=string)\n",
      "tf.Tensor(b'generate_csv\\\\train_09.csv', shape=(), dtype=string)\n",
      "tf.Tensor(b'generate_csv\\\\train_05.csv', shape=(), dtype=string)\n",
      "tf.Tensor(b'generate_csv\\\\train_11.csv', shape=(), dtype=string)\n",
      "tf.Tensor(b'generate_csv\\\\train_14.csv', shape=(), dtype=string)\n",
      "tf.Tensor(b'generate_csv\\\\train_02.csv', shape=(), dtype=string)\n",
      "tf.Tensor(b'generate_csv\\\\train_12.csv', shape=(), dtype=string)\n",
      "tf.Tensor(b'generate_csv\\\\train_07.csv', shape=(), dtype=string)\n"
     ]
    }
   ],
   "source": [
    "for filename in filename_dataset:\n",
    "    print(filename)"
   ]
  },
  {
   "cell_type": "code",
   "execution_count": 22,
   "id": "10fb9a6d",
   "metadata": {
    "ExecuteTime": {
     "end_time": "2022-10-19T12:44:40.868560Z",
     "start_time": "2022-10-19T12:44:40.797750Z"
    }
   },
   "outputs": [],
   "source": [
    "# 对filename_dataset中的每一个文件进行读取. \n",
    "n_readers = 5\n",
    "\n",
    "dataset = filename_dataset.interleave(\n",
    "    # map_fn\n",
    "    # skip(1)跳过表头\n",
    "    lambda filename: tf.data.TextLineDataset(filename).skip(1),\n",
    "    cycle_length = n_readers\n",
    ")"
   ]
  },
  {
   "cell_type": "code",
   "execution_count": 24,
   "id": "38b71a8b",
   "metadata": {
    "ExecuteTime": {
     "end_time": "2022-10-19T12:46:06.986244Z",
     "start_time": "2022-10-19T12:46:06.976271Z"
    }
   },
   "outputs": [
    {
     "data": {
      "text/plain": [
       "array([-0.22763171, -1.80227442, -0.2591649 , -0.08360651, -0.59848384,\n",
       "       -0.12716668,  1.10047447, -0.88169018])"
      ]
     },
     "execution_count": 24,
     "metadata": {},
     "output_type": "execute_result"
    }
   ],
   "source": [
    "x_train_scaled[0]"
   ]
  },
  {
   "cell_type": "code",
   "execution_count": 23,
   "id": "7228b5f7",
   "metadata": {
    "ExecuteTime": {
     "end_time": "2022-10-19T12:45:15.055123Z",
     "start_time": "2022-10-19T12:45:14.582386Z"
    }
   },
   "outputs": [
    {
     "name": "stdout",
     "output_type": "stream",
     "text": [
      "b'-0.8581366919491114,-0.8483575045964773,-0.10169260162102436,-0.1607259534248392,-0.22653286196012368,0.0572667062111848,-1.348897299826622,2.0374827735260688,0.792'\n",
      "b'-0.22763170751337458,-1.802274419767064,-0.25916490468728715,-0.08360651274598882,-0.5984838423044915,-0.1271666847035384,1.1004744650918357,-0.881690175316059,1.238'\n",
      "b'-0.24615085679382154,-0.9278505808606928,-0.40923962585466006,0.016045584313930498,1.1412868722094869,0.0463863961225972,0.8335257258942214,-1.1470695343017077,2.458'\n",
      "b'-1.1497999507895804,0.8209970969520494,-0.48712584019556754,-0.13433261994390244,0.5327956370839083,0.017342235846994018,0.9318752613880796,-0.6964253397977812,0.65'\n",
      "b'4.423823550949558,-0.4508921232753995,1.0152171796735139,-0.16929413259492634,2.0651651137100138,-0.03330117175555653,0.8007425473962686,-1.277255634936179,5.00001'\n",
      "b'1.1684026062558825,-1.8817674960312796,1.190417643333094,0.2851270212887215,-0.7193250594209796,0.09480023482861354,0.95997512867204,-0.9267545947664537,2.151'\n",
      "b'-1.3784874282152728,-1.7227813435028485,-0.7563564412138674,-0.08560269499589732,-0.20853523387894457,0.14983418520224584,-1.4566134577484682,1.2763948005860917,0.675'\n",
      "b'0.004578144127042924,-1.086836733389124,-0.2294678340280789,0.033200345039505134,-0.07055341858990491,-0.11495855549577462,-0.4871680364518695,-0.3058670378943741,2.152'\n",
      "b'-1.117351412569085,0.34403863936675605,-0.044560323809988506,-0.16717925775109757,-0.5804862142233124,0.01661190220262629,1.1707241333017333,-1.3223200543865739,0.864'\n",
      "b'-1.0216068770961115,0.5030247918951872,-0.9758601996786479,-0.05614476896235422,3.8297896955741915,-0.12207300202738029,-0.7260169083655234,0.6454929282805935,3.4'\n",
      "b'0.20567369020405812,-1.0073436571249084,-0.11413226306079166,-0.1312509158515872,-0.05426985032598098,0.10294139516014215,0.9084587053181148,-1.2472126886359158,1.563'\n",
      "b'-1.3111353636852323,1.8544070883868518,-0.15558666814674357,-0.2674899729994979,-1.1178439669328022,-0.017453590946118355,1.0630079753798907,-1.3874131047038059,1.042'\n",
      "b'1.4805596787092958,-0.9278505808606928,0.28913089891661586,-0.27442744678011816,-0.9550082842935629,-0.14077051888317915,1.3861564491454224,-0.8616615444492216,3.267'\n",
      "b'0.65077370461019,0.34403863936675605,0.27864875541691503,-0.16988206795968522,-0.19996493479266883,-0.03576815705385324,-0.9227159793532398,0.8307577637988712,2.642'\n",
      "b'-0.8314520388072567,0.02606633430989383,0.654579736477311,0.2604022283215518,-0.813598349370013,0.048661931927738836,0.1872287783631545,0.15979862975969097,1.125'\n"
     ]
    }
   ],
   "source": [
    "for line in dataset.take(15):\n",
    "    print(line.numpy())"
   ]
  },
  {
   "cell_type": "code",
   "execution_count": 27,
   "id": "8382364b",
   "metadata": {
    "ExecuteTime": {
     "end_time": "2022-10-19T12:50:14.427921Z",
     "start_time": "2022-10-19T12:50:14.421938Z"
    },
    "scrolled": true
   },
   "outputs": [
    {
     "data": {
      "text/plain": [
       "[<tf.Tensor: shape=(), dtype=int32, numpy=1>,\n",
       " <tf.Tensor: shape=(), dtype=int32, numpy=2>,\n",
       " <tf.Tensor: shape=(), dtype=int32, numpy=3>,\n",
       " <tf.Tensor: shape=(), dtype=int32, numpy=4>,\n",
       " <tf.Tensor: shape=(), dtype=int32, numpy=5>]"
      ]
     },
     "execution_count": 27,
     "metadata": {},
     "output_type": "execute_result"
    }
   ],
   "source": [
    "# 解析csv\n",
    "# 即把b'-0.8581366919491114,-0.8483575045964773,-0.10169260162102436,-0.1607259534248392,-0.22653286196012368,0.0572667062111848,-1.348897299826622,2.0374827735260688,0.792'\n",
    "# 变成可以训练的数据.\n",
    "sample_str = '1,2,3,4,5'\n",
    "record_defaults = [tf.constant(1, dtype=tf.int32)] * 5\n",
    "tf.io.decode_csv(sample_str, record_defaults)"
   ]
  },
  {
   "cell_type": "code",
   "execution_count": null,
   "id": "6e69cb93",
   "metadata": {},
   "outputs": [],
   "source": [
    "None 和np.nan的区别"
   ]
  },
  {
   "cell_type": "code",
   "execution_count": 28,
   "id": "5ccbdf33",
   "metadata": {
    "ExecuteTime": {
     "end_time": "2022-10-19T12:53:39.688923Z",
     "start_time": "2022-10-19T12:53:39.670973Z"
    }
   },
   "outputs": [],
   "source": [
    "# 封装解析csv的函数\n",
    "def parse_csv_line(line, n_fields=9):\n",
    "    record_defaults = [tf.constant(np.nan)] * n_fields\n",
    "    parsed_fields = tf.io.decode_csv(line, record_defaults)\n",
    "    x = tf.stack(parsed_fields[0:-1])\n",
    "    y = tf.stack(parsed_fields[-1:])\n",
    "    return x, y"
   ]
  },
  {
   "cell_type": "code",
   "execution_count": 30,
   "id": "764917df",
   "metadata": {
    "ExecuteTime": {
     "end_time": "2022-10-19T12:57:47.157034Z",
     "start_time": "2022-10-19T12:57:47.140077Z"
    }
   },
   "outputs": [],
   "source": [
    "def parse_csv_line_origin(line):\n",
    "    line = line.decode()\n",
    "    data = [np.array(float(x)) for x in line.split(',')]\n",
    "    x = np.stack(data[0:-1])\n",
    "    y = np.stack(data[-1:])\n",
    "    return x, y"
   ]
  },
  {
   "cell_type": "code",
   "execution_count": 31,
   "id": "34814e21",
   "metadata": {
    "ExecuteTime": {
     "end_time": "2022-10-19T12:57:53.698536Z",
     "start_time": "2022-10-19T12:57:53.677592Z"
    },
    "scrolled": true
   },
   "outputs": [
    {
     "data": {
      "text/plain": [
       "(<tf.Tensor: shape=(8,), dtype=float32, numpy=\n",
       " array([-0.8581367 , -0.8483575 , -0.1016926 , -0.16072595, -0.22653286,\n",
       "         0.0572667 , -1.3488973 ,  2.0374827 ], dtype=float32)>,\n",
       " <tf.Tensor: shape=(1,), dtype=float32, numpy=array([0.792], dtype=float32)>)"
      ]
     },
     "execution_count": 31,
     "metadata": {},
     "output_type": "execute_result"
    }
   ],
   "source": [
    "line = b'-0.8581366919491114,-0.8483575045964773,-0.10169260162102436,-0.1607259534248392,-0.22653286196012368,0.0572667062111848,-1.348897299826622,2.0374827735260688,0.792'\n",
    "parse_csv_line(line)"
   ]
  },
  {
   "cell_type": "code",
   "execution_count": 32,
   "id": "384f92cd",
   "metadata": {
    "ExecuteTime": {
     "end_time": "2022-10-19T12:58:10.180962Z",
     "start_time": "2022-10-19T12:58:10.171990Z"
    },
    "scrolled": true
   },
   "outputs": [
    {
     "data": {
      "text/plain": [
       "(array([-0.85813669, -0.8483575 , -0.1016926 , -0.16072595, -0.22653286,\n",
       "         0.05726671, -1.3488973 ,  2.03748277]),\n",
       " array([0.792]))"
      ]
     },
     "execution_count": 32,
     "metadata": {},
     "output_type": "execute_result"
    }
   ],
   "source": [
    "parse_csv_line_origin(line)"
   ]
  },
  {
   "cell_type": "code",
   "execution_count": 40,
   "id": "f344a304",
   "metadata": {
    "ExecuteTime": {
     "end_time": "2022-10-19T13:18:15.302388Z",
     "start_time": "2022-10-19T13:18:15.294901Z"
    }
   },
   "outputs": [],
   "source": [
    "# 封装所有的功能\n",
    "def csv_reader_dataset(filenames, n_readers=5, batch_size=32, n_parse_threads=5, shuffle_buffer_size=10000):\n",
    "    dataset = tf.data.Dataset.list_files(filenames)\n",
    "    dataset = dataset.repeat()\n",
    "    dataset = dataset.interleave(\n",
    "        lambda filename: tf.data.TextLineDataset(filename).skip(1),\n",
    "        cycle_length=n_readers\n",
    "    )\n",
    "    # 打乱数据\n",
    "    dataset.shuffle(shuffle_buffer_size)\n",
    "    dataset = dataset.map(parse_csv_line, num_parallel_calls=n_parse_threads)\n",
    "    dataset = dataset.batch(batch_size)\n",
    "    return dataset"
   ]
  },
  {
   "cell_type": "code",
   "execution_count": 41,
   "id": "26b734c6",
   "metadata": {
    "ExecuteTime": {
     "end_time": "2022-10-19T13:18:23.966235Z",
     "start_time": "2022-10-19T13:18:23.932324Z"
    }
   },
   "outputs": [],
   "source": [
    "train_set = csv_reader_dataset(train_filenames, batch_size=32)"
   ]
  },
  {
   "cell_type": "code",
   "execution_count": 42,
   "id": "62a69b08",
   "metadata": {
    "ExecuteTime": {
     "end_time": "2022-10-19T13:18:26.035698Z",
     "start_time": "2022-10-19T13:18:25.974861Z"
    },
    "collapsed": true
   },
   "outputs": [
    {
     "name": "stdout",
     "output_type": "stream",
     "text": [
      "(<tf.Tensor: shape=(32, 8), dtype=float32, numpy=\n",
      "array([[-9.68557775e-01, -9.27850604e-01, -9.93346393e-01,\n",
      "        -7.95192048e-02,  2.15943837e+00,  1.30265579e-01,\n",
      "        -6.79183781e-01,  6.00428522e-01],\n",
      "       [ 2.32438183e+00, -5.34267426e-02,  5.54725766e-01,\n",
      "        -2.40248457e-01, -8.29024911e-01, -8.19876119e-02,\n",
      "         1.02085817e+00, -1.30229139e+00],\n",
      "       [-7.30690777e-01, -1.40480900e+00,  4.16910082e-01,\n",
      "         3.39130104e-01, -7.48385713e-02, -3.39961126e-02,\n",
      "         2.85671616e+00, -2.32375169e+00],\n",
      "       [-6.09115481e-01, -1.00734365e+00, -1.12950802e-01,\n",
      "        -4.15341221e-02, -3.57658446e-01, -3.47044170e-02,\n",
      "         1.00212491e+00, -8.41632903e-01],\n",
      "       [-4.60108399e-01, -1.24582291e+00, -1.53106987e-01,\n",
      "         6.31197765e-02,  4.41950470e-01,  3.88852321e-02,\n",
      "        -1.13346493e+00,  1.18125880e+00],\n",
      "       [-7.27435231e-01, -2.12412894e-01, -2.73457110e-01,\n",
      "        -1.59449220e-01,  2.56832004e-01,  7.86850825e-02,\n",
      "         1.08174121e+00, -8.31618607e-01],\n",
      "       [-1.27249599e+00,  7.41504014e-01, -7.35805988e-01,\n",
      "        -1.64927796e-01, -5.83914340e-01,  7.48485550e-02,\n",
      "        -7.68166721e-01,  6.65521562e-01],\n",
      "       [ 2.35934094e-01,  1.21846247e+00, -1.66020811e-01,\n",
      "        -2.40974143e-01, -5.52204251e-01, -1.01863317e-01,\n",
      "        -8.52466285e-01,  7.30614603e-01],\n",
      "       [ 1.02510825e-01,  1.21846247e+00, -3.98694783e-01,\n",
      "         8.90632495e-02, -3.37946743e-01,  7.97974616e-02,\n",
      "        -7.16650307e-01,  7.00571656e-01],\n",
      "       [-1.70900136e-01, -1.32531595e+00,  3.11567807e+00,\n",
      "         3.21380067e+00, -9.43009853e-01, -4.98004518e-02,\n",
      "         1.00680828e+00,  2.59941787e-01],\n",
      "       [-7.38802910e-01,  4.23531711e-01,  1.19160907e-02,\n",
      "        -1.76847935e-01, -4.51074690e-01, -2.53525935e-02,\n",
      "         7.96059251e-01, -5.06153345e-01],\n",
      "       [-7.00537145e-01, -3.71399045e-01, -2.85770148e-01,\n",
      "         1.38737962e-01, -2.51386732e-01, -1.54441167e-02,\n",
      "         9.83391702e-01, -1.28726995e+00],\n",
      "       [-2.10873738e-01,  5.82517862e-01, -1.94426596e-01,\n",
      "        -2.43902758e-01, -6.70474350e-01, -8.44638124e-02,\n",
      "         1.30654013e+00, -1.54764211e+00],\n",
      "       [ 3.91558975e-01, -1.32919818e-01,  1.37755722e-01,\n",
      "        -2.56722122e-01, -7.15896964e-01, -5.67243714e-03,\n",
      "        -6.46400630e-01,  4.00142193e-01],\n",
      "       [ 1.67247787e-01,  1.61592782e+00, -2.56694973e-01,\n",
      "        -2.01909989e-01, -6.60189986e-01, -9.67543945e-02,\n",
      "         8.85042131e-01, -1.36237729e+00],\n",
      "       [ 1.19439352e+00,  9.00490165e-01,  2.53887009e-02,\n",
      "        -1.97969496e-01, -6.55047834e-01, -1.56711429e-01,\n",
      "        -7.07283676e-01,  6.05435669e-01],\n",
      "       [-4.46018904e-01,  8.20997119e-01, -9.25103128e-02,\n",
      "        -5.28782047e-02, -6.79044664e-01, -5.15623875e-02,\n",
      "         4.58860815e-01, -4.54948358e-02],\n",
      "       [ 1.41683674e+00,  3.44038635e-01,  4.78737205e-01,\n",
      "        -1.74776018e-01, -1.85395420e-01, -5.85046709e-02,\n",
      "        -7.68166721e-01,  6.15449965e-01],\n",
      "       [-6.67554915e-01, -5.34267426e-02, -1.17953103e-04,\n",
      "         1.51460066e-01, -3.05379599e-01,  7.64119346e-03,\n",
      "        -1.43788016e+00,  1.24134469e+00],\n",
      "       [ 2.44473174e-01, -4.50892121e-01, -7.05338120e-01,\n",
      "        -1.75428703e-01, -4.82706428e-02, -4.55510914e-02,\n",
      "         8.19475770e-01, -1.25722706e+00],\n",
      "       [ 5.79525709e-01,  4.23531711e-01,  4.05248463e-01,\n",
      "        -3.82164717e-02, -3.28441039e-02, -2.14079209e-02,\n",
      "        -6.55767262e-01,  6.70528710e-01],\n",
      "       [-4.45591956e-01,  1.05559409e-01, -3.76075000e-01,\n",
      "         6.05991706e-02,  5.20018600e-02,  6.36101663e-02,\n",
      "        -8.14999819e-01,  6.45492911e-01],\n",
      "       [-3.24016660e-01,  1.29795551e+00, -2.70993382e-01,\n",
      "        -7.32814223e-02, -4.40790325e-01, -7.42613375e-02,\n",
      "         1.47982264e+00, -1.71788549e+00],\n",
      "       [ 2.85514176e-01,  1.37744868e+00, -1.05854779e-01,\n",
      "        -1.53333485e-01,  1.12850979e-01,  9.53162462e-03,\n",
      "         9.64658439e-01, -1.43247747e+00],\n",
      "       [ 3.77095908e-01, -9.27850604e-01,  2.88493842e-01,\n",
      "        -2.12484553e-01,  5.11448272e-02, -2.17620586e-03,\n",
      "         1.42362297e+00, -8.31618607e-01],\n",
      "       [ 1.44832686e-01, -1.00734365e+00, -4.48456407e-02,\n",
      "        -3.27365324e-02,  4.36808288e-01, -7.31428433e-03,\n",
      "        -1.25991440e+00,  1.28140199e+00],\n",
      "       [ 4.60138530e-01, -3.71399045e-01, -7.92018473e-02,\n",
      "        -1.20447673e-01,  8.73036504e-01, -6.98082373e-02,\n",
      "         7.44542837e-01, -1.16209102e+00],\n",
      "       [ 4.00471658e-01,  4.23531711e-01, -3.63277905e-02,\n",
      "        -2.88565785e-01, -3.66228729e-01,  2.24723835e-02,\n",
      "        -8.24366450e-01,  7.90700495e-01],\n",
      "       [-6.34199083e-01, -2.12412894e-01, -8.73891190e-02,\n",
      "        -1.76558375e-01, -3.80798250e-01,  2.91669425e-02,\n",
      "         1.32995677e+00, -9.51790392e-01],\n",
      "       [-4.04497594e-01,  2.64545560e-01, -2.28802159e-01,\n",
      "        -2.09867522e-01, -6.91900074e-01,  4.68641799e-03,\n",
      "         9.88075018e-01, -6.36339426e-01],\n",
      "       [ 2.51784772e-01,  6.62010968e-01, -1.01245992e-01,\n",
      "        -2.08077624e-01, -1.90537602e-01, -8.59726816e-02,\n",
      "         8.47575665e-01, -1.31731296e+00],\n",
      "       [-8.46553370e-02,  1.05559409e-01, -1.64341167e-01,\n",
      "        -1.82639331e-01, -3.78227144e-01,  5.00063598e-02,\n",
      "         1.03490806e+00, -1.01187623e+00]], dtype=float32)>, <tf.Tensor: shape=(32, 1), dtype=float32, numpy=\n",
      "array([[1.772],\n",
      "       [3.352],\n",
      "       [0.732],\n",
      "       [1.739],\n",
      "       [1.72 ],\n",
      "       [0.683],\n",
      "       [1.188],\n",
      "       [3.147],\n",
      "       [1.706],\n",
      "       [1.607],\n",
      "       [0.661],\n",
      "       [1.079],\n",
      "       [1.612],\n",
      "       [1.985],\n",
      "       [3.938],\n",
      "       [4.838],\n",
      "       [0.653],\n",
      "       [3.504],\n",
      "       [1.356],\n",
      "       [2.935],\n",
      "       [3.369],\n",
      "       [1.551],\n",
      "       [1.388],\n",
      "       [2.706],\n",
      "       [1.345],\n",
      "       [1.821],\n",
      "       [2.746],\n",
      "       [2.034],\n",
      "       [0.777],\n",
      "       [0.889],\n",
      "       [3.427],\n",
      "       [1.544]], dtype=float32)>)\n"
     ]
    }
   ],
   "source": [
    "for item in train_set.take(1):\n",
    "    print(item)"
   ]
  },
  {
   "cell_type": "code",
   "execution_count": 43,
   "id": "f35de388",
   "metadata": {
    "ExecuteTime": {
     "end_time": "2022-10-19T13:18:29.989124Z",
     "start_time": "2022-10-19T13:18:29.932276Z"
    },
    "collapsed": true
   },
   "outputs": [
    {
     "name": "stdout",
     "output_type": "stream",
     "text": [
      "tf.Tensor(\n",
      "[[-6.90877259e-01  5.03024817e-01 -5.07885396e-01 -1.51979014e-01\n",
      "   3.90528679e-01  1.38743110e-02  7.96059251e-01 -1.13705528e+00]\n",
      " [ 9.36673105e-01  4.23531711e-01 -2.29369681e-02 -2.91700065e-01\n",
      "  -5.75344026e-01  1.38818473e-01 -8.61832917e-01  8.35764945e-01]\n",
      " [-2.46150851e-01 -9.27850604e-01 -4.09239620e-01  1.60455834e-02\n",
      "   1.14128685e+00  4.63863946e-02  8.33525717e-01 -1.14706957e+00]\n",
      " [-4.33050156e-01 -4.50892121e-01 -5.07441580e-01 -6.03004396e-02\n",
      "   2.27770853e+00 -4.91754226e-02 -8.94616127e-01  8.80829334e-01]\n",
      " [-4.60108399e-01 -1.24582291e+00 -1.53106987e-01  6.31197765e-02\n",
      "   4.41950470e-01  3.88852321e-02 -1.13346493e+00  1.18125880e+00]\n",
      " [-1.13117409e+00 -1.88176751e+00 -8.14262927e-01 -3.32823545e-02\n",
      "   1.47210038e+00  8.08585510e-02 -1.44724679e+00  1.26638043e+00]\n",
      " [ 1.81123808e-01 -2.04075360e+00  7.37920225e-01  1.76768914e-01\n",
      "   7.02136898e+00  4.68837731e-02 -8.19683135e-01  1.20128739e+00]\n",
      " [ 4.57814429e-03 -1.08683670e+00 -2.29467839e-01  3.32003459e-02\n",
      "  -7.05534220e-02 -1.14958555e-01 -4.87168044e-01 -3.05867046e-01]\n",
      " [ 2.35661674e+00 -1.96126056e+00  6.45291328e-01 -1.42948925e-01\n",
      "   1.99146056e+00 -5.06092329e-03 -8.71199548e-01  9.15879428e-01]\n",
      " [-1.70900136e-01 -1.32531595e+00  3.11567807e+00  3.21380067e+00\n",
      "  -9.43009853e-01 -4.98004518e-02  1.00680828e+00  2.59941787e-01]\n",
      " [-1.27399027e+00  1.13896942e+00 -1.03900105e-01  1.09246872e-01\n",
      "   8.31042051e-01  1.01541311e-01  1.34868991e+00 -9.41776097e-01]\n",
      " [-1.46473217e+00  2.64545560e-01 -5.50009012e-01 -7.44188130e-02\n",
      "  -1.39115810e-01  6.77853301e-02 -8.00949872e-01  6.55507267e-01]\n",
      " [ 1.48055971e+00 -9.27850604e-01  2.89130896e-01 -2.74427444e-01\n",
      "  -9.55008268e-01 -1.40770525e-01  1.38615644e+00 -8.61661553e-01]\n",
      " [-3.08913171e-01  9.00490165e-01  5.11005938e-01 -1.82639331e-01\n",
      "  -1.18640637e+00  2.90423725e-02 -7.26016879e-01  1.23633754e+00]\n",
      " [ 1.67247787e-01  1.61592782e+00 -2.56694973e-01 -2.01909989e-01\n",
      "  -6.60189986e-01 -9.67543945e-02  8.85042131e-01 -1.36237729e+00]\n",
      " [-3.40561152e-01  6.62010968e-01 -4.65519845e-01 -1.14150673e-01\n",
      "  -3.03665549e-01  7.96138346e-02 -8.75882864e-01  6.55507267e-01]\n",
      " [ 6.96671307e-01  1.85052484e-01 -1.44551471e-01 -1.73783556e-01\n",
      "   3.57182883e-02 -8.91768783e-02  9.27191973e-01 -1.45250618e+00]\n",
      " [-1.46190152e-01  5.03024817e-01 -3.21023911e-01 -1.08360477e-01\n",
      "   4.22238767e-01  8.92677158e-03 -7.77533352e-01  7.50643253e-01]\n",
      " [-1.49819481e+00  2.64545560e-01 -5.35429955e-01 -2.00350881e-01\n",
      "   6.74283952e-02 -8.13459903e-02  1.38615644e+00 -9.31761742e-01]\n",
      " [ 2.44473174e-01 -4.50892121e-01 -7.05338120e-01 -1.75428703e-01\n",
      "  -4.82706428e-02 -4.55510914e-02  8.19475770e-01 -1.25722706e+00]\n",
      " [-3.86725605e-01  7.41504014e-01 -1.91480115e-01 -1.64396450e-01\n",
      "  -8.81303728e-01  1.25084788e-01 -6.60450578e-01  5.90414166e-01]\n",
      " [-9.02860165e-01 -1.32919818e-01 -1.33898780e-01  8.64535511e-01\n",
      "  -5.88199496e-01 -1.06722377e-01 -1.07726526e+00  6.35478616e-01]\n",
      " [ 9.31549609e-01  1.05559409e-01  1.74836710e-01 -9.46594477e-02\n",
      "   3.32250625e-01 -6.34299517e-02  1.05832469e+00 -1.46752763e+00]\n",
      " [-4.70833443e-02  6.62010968e-01 -5.35634935e-01 -8.60593393e-02\n",
      "  -3.61943573e-01 -1.29445819e-02 -7.72850037e-01  5.80399871e-01]\n",
      " [ 3.77095908e-01 -9.27850604e-01  2.88493842e-01 -2.12484553e-01\n",
      "   5.11448272e-02 -2.17620586e-03  1.42362297e+00 -8.31618607e-01]\n",
      " [-8.65501642e-01  6.62010968e-01  2.68608630e-01 -3.48483771e-01\n",
      "  -1.16412354e+00  2.73437109e-02  9.36558545e-01 -6.81403875e-01]\n",
      " [ 4.39959383e+00 -1.48430216e+00  9.85470474e-01  1.21408798e-01\n",
      "  -8.59877944e-01 -5.59641793e-02  1.09110785e+00 -1.43748474e+00]\n",
      " [-2.38465682e-01 -9.27850604e-01  1.81346580e-01 -1.65044516e-02\n",
      "   8.45689923e-02 -5.04764803e-02  2.17295265e+00 -4.76110399e-01]\n",
      " [-8.98855254e-02  1.85440707e+00 -2.10031793e-01 -3.91559452e-02\n",
      "  -6.99613392e-01 -1.75131202e-01  1.00212491e+00 -1.42747033e+00]\n",
      " [-4.04497594e-01  2.64545560e-01 -2.28802159e-01 -2.09867522e-01\n",
      "  -6.91900074e-01  4.68641799e-03  9.88075018e-01 -6.36339426e-01]\n",
      " [ 3.52246928e+00 -1.40480900e+00  8.73609424e-01 -3.93705815e-02\n",
      "   4.82230872e-01  5.42169735e-02 -9.03982759e-01  9.15879428e-01]\n",
      " [-4.17839915e-01 -7.68864453e-01 -2.72690691e-02 -1.61601409e-01\n",
      "   4.63376224e-01  2.39939578e-02  3.13678175e-01 -1.00573570e-01]], shape=(32, 8), dtype=float32)\n",
      "------------------\n",
      "tf.Tensor(\n",
      "[[1.821  ]\n",
      " [2.051  ]\n",
      " [2.458  ]\n",
      " [1.836  ]\n",
      " [1.72   ]\n",
      " [1.25   ]\n",
      " [1.43   ]\n",
      " [2.152  ]\n",
      " [3.74   ]\n",
      " [1.607  ]\n",
      " [0.544  ]\n",
      " [0.942  ]\n",
      " [3.267  ]\n",
      " [1.625  ]\n",
      " [3.938  ]\n",
      " [1.601  ]\n",
      " [2.639  ]\n",
      " [1.779  ]\n",
      " [0.814  ]\n",
      " [2.935  ]\n",
      " [1.759  ]\n",
      " [4.5    ]\n",
      " [4.029  ]\n",
      " [3.143  ]\n",
      " [1.345  ]\n",
      " [2.25   ]\n",
      " [5.00001]\n",
      " [0.91   ]\n",
      " [5.     ]\n",
      " [0.889  ]\n",
      " [3.861  ]\n",
      " [0.758  ]], shape=(32, 1), dtype=float32)\n",
      "tf.Tensor(\n",
      "[[-8.98163676e-01  9.00490165e-01 -5.07684290e-01  8.47663544e-03\n",
      "  -3.41374874e-01  2.77966876e-02 -7.21333623e-01  7.00571656e-01]\n",
      " [-1.01119983e+00 -3.71399045e-01 -6.03506088e-01 -3.26084308e-02\n",
      "   1.21670556e+00  4.35852781e-02 -6.79183781e-01  5.85407019e-01]\n",
      " [ 7.66798556e-01 -1.08683670e+00 -2.65861720e-01 -2.81546563e-01\n",
      "  -4.12508339e-01 -2.68446654e-02 -1.27864766e+00  1.22632325e+00]\n",
      " [-7.61218011e-01 -1.88176751e+00 -3.84905934e-01 -3.85338098e-01\n",
      "  -4.71643418e-01 -1.06171158e-03 -9.18032646e-01  8.90843630e-01]\n",
      " [-7.23966241e-01  2.64545560e-01 -4.00967330e-01 -3.52734304e-03\n",
      "  -3.66228729e-01  7.63331503e-02 -8.57149601e-01  8.45779240e-01]\n",
      " [ 1.82564780e-01 -2.12412894e-01  5.68333780e-04 -2.46583477e-01\n",
      "  -1.22753847e-02 -1.88459158e-02  5.60960658e-02  1.79827258e-01]\n",
      " [-3.26898605e-01 -6.09878302e-01  2.01940224e-01 -7.53282309e-02\n",
      "   6.87918067e-01 -1.89287607e-02 -8.99299443e-01  1.32145917e+00]\n",
      " [-1.19511044e+00  1.21846247e+00 -2.19177425e-01  5.79656847e-02\n",
      "  -8.59799534e-02 -5.82782738e-02  1.96595401e-01  2.89984733e-01]\n",
      " [-1.02048612e+00 -5.30385196e-01 -1.61143944e-01  4.33199331e-02\n",
      "   9.86164451e-01 -9.32629183e-02 -7.40066826e-01  1.56180274e+00]\n",
      " [ 1.64515066e+00  1.85440707e+00  3.65147293e-01 -3.62232536e-01\n",
      "  -8.24739754e-01 -8.35534632e-02 -1.36294723e+00  1.19127309e+00]\n",
      " [-1.38873434e+00  1.85440707e+00 -4.87601072e-01  7.27610961e-02\n",
      "  -2.29960978e-01 -2.07539350e-02  1.01617491e+00 -1.34234869e+00]\n",
      " [-9.69144821e-01 -1.40480900e+00 -4.39044267e-01 -1.31491050e-01\n",
      "  -6.85900867e-01 -2.08191007e-01 -1.33484733e+00  1.27639484e+00]\n",
      " [-3.09073269e-01  1.85440707e+00 -2.37251595e-01 -1.37902007e-01\n",
      "   6.31432459e-02 -1.32710159e-01  1.03022480e+00 -1.33734155e+00]\n",
      " [-1.18726516e+00 -1.96126056e+00 -8.73455644e-01 -1.09478366e+00\n",
      "  -1.21897352e+00 -2.26323307e-01 -2.01486051e-01  9.15879428e-01]\n",
      " [-2.53620371e-02  1.29795551e+00 -1.99930549e-01 -8.90860632e-02\n",
      "  -2.05964148e-01 -3.79023738e-02 -7.77533352e-01  5.80399871e-01]\n",
      " [-5.31249702e-01  1.21846247e+00 -5.89504614e-02 -6.73683360e-02\n",
      "  -3.33661586e-01 -2.66541764e-02 -7.77533352e-01  6.30471468e-01]\n",
      " [ 2.80390710e-01  3.44038635e-01  2.30778474e-03 -7.53282309e-02\n",
      "  -3.20806146e-01 -4.74669747e-02 -6.88550413e-01  5.75392723e-01]\n",
      " [-5.25859416e-01  1.05947638e+00 -2.17539743e-01 -1.77036338e-02\n",
      "   8.19979087e-02  1.46119818e-01 -7.11966991e-01  8.35764945e-01]\n",
      " [-4.20081437e-01  1.05947638e+00 -2.17801973e-01 -1.94801256e-01\n",
      "  -8.65877151e-01 -3.44876274e-02 -6.83867097e-01  6.40485764e-01]\n",
      " [-1.48704064e+00 -8.48357499e-01 -8.47413063e-01 -1.82639331e-01\n",
      "  -7.79317141e-01 -1.85750097e-01  1.35337329e+00 -1.07196212e+00]\n",
      " [ 1.49048850e-01 -1.24582291e+00 -3.09196830e-01  2.17900407e-02\n",
      "   6.13356471e-01 -1.01156436e-01  1.11452436e+00 -1.42747033e+00]\n",
      " [-2.48285636e-01 -1.80227447e+00 -4.54436243e-03 -1.45813629e-01\n",
      "   5.52507341e-01  2.07152311e-02  9.45925176e-01 -6.71389580e-01]\n",
      " [ 1.37766361e+00  1.05559409e-01  5.85221708e-01 -4.56968486e-01\n",
      "  -5.91627598e-01 -3.68478745e-02 -7.72850037e-01  6.20457113e-01]\n",
      " [-1.03414869e+00  1.13896942e+00 -7.61802375e-01 -1.44343197e-01\n",
      "   7.35054672e-01  1.70394480e-01 -7.86899984e-01  6.70528710e-01]\n",
      " [-4.31182235e-01  1.85440707e+00 -2.85479456e-01 -1.20136932e-01\n",
      "  -1.04834616e-01 -3.43755931e-02 -6.93233728e-01  7.35621750e-01]\n",
      " [-2.57625252e-01  2.60663349e-02 -3.02793652e-01 -4.25543301e-02\n",
      "  -3.07950705e-01 -1.56245306e-01 -7.02600360e-01  6.10442817e-01]\n",
      " [-7.00321496e-02  1.05947638e+00 -2.34078035e-01 -2.05726754e-02\n",
      "   4.32523131e-01 -1.12459362e-01 -7.26016879e-01  6.70528710e-01]\n",
      " [-9.97857511e-01 -5.34267426e-02 -4.21114236e-01  1.10740446e-01\n",
      "  -6.49905622e-01 -1.43714637e-01 -1.35358059e+00  1.24134469e+00]\n",
      " [ 5.95093298e+00  1.85440707e+00  1.78960669e+00  6.58301041e-02\n",
      "  -4.06509131e-01  4.74597774e-02 -7.16650307e-01  7.35621750e-01]\n",
      " [-1.32623887e+00  1.21846247e+00 -3.91047686e-01  1.23841181e-01\n",
      "  -7.92172611e-01  1.28747106e-01  1.34868991e+00 -9.41776097e-01]\n",
      " [-9.88197684e-01 -1.32919818e-01  5.87654209e+00  6.46989059e+00\n",
      "  -1.11690857e-01 -1.00302115e-01 -6.60450578e-01  1.32646632e+00]\n",
      " [ 1.16802907e+00 -2.12412894e-01 -3.61642279e-02 -8.43040645e-02\n",
      "  -2.34246135e-01 -1.19432777e-01 -8.47783029e-01  6.05435669e-01]], shape=(32, 8), dtype=float32)\n",
      "------------------\n",
      "tf.Tensor(\n",
      "[[1.5    ]\n",
      " [2.215  ]\n",
      " [1.744  ]\n",
      " [4.5    ]\n",
      " [1.669  ]\n",
      " [0.84   ]\n",
      " [0.945  ]\n",
      " [0.509  ]\n",
      " [0.653  ]\n",
      " [3.345  ]\n",
      " [1.042  ]\n",
      " [1.467  ]\n",
      " [2.418  ]\n",
      " [2.75   ]\n",
      " [3.23   ]\n",
      " [1.265  ]\n",
      " [2.861  ]\n",
      " [1.326  ]\n",
      " [3.617  ]\n",
      " [1.375  ]\n",
      " [1.792  ]\n",
      " [1.385  ]\n",
      " [4.925  ]\n",
      " [0.988  ]\n",
      " [2.226  ]\n",
      " [3.761  ]\n",
      " [2.773  ]\n",
      " [1.227  ]\n",
      " [5.00001]\n",
      " [0.654  ]\n",
      " [1.535  ]\n",
      " [3.553  ]], shape=(32, 1), dtype=float32)\n"
     ]
    }
   ],
   "source": [
    "for x_batch, y_batch in train_set.take(2):\n",
    "    print(x_batch)\n",
    "    print('------------------')\n",
    "    print(y_batch)"
   ]
  },
  {
   "cell_type": "code",
   "execution_count": 44,
   "id": "e4acfee8",
   "metadata": {
    "ExecuteTime": {
     "end_time": "2022-10-19T13:20:00.241727Z",
     "start_time": "2022-10-19T13:20:00.156951Z"
    }
   },
   "outputs": [],
   "source": [
    "batch_size = 64\n",
    "train_set = csv_reader_dataset(train_filenames, batch_size=batch_size)\n",
    "valid_set = csv_reader_dataset(valid_filenames, batch_size=batch_size)\n",
    "test_set = csv_reader_dataset(test_filenames, batch_size=batch_size)"
   ]
  },
  {
   "cell_type": "code",
   "execution_count": 45,
   "id": "0d970212",
   "metadata": {
    "ExecuteTime": {
     "end_time": "2022-10-19T13:20:35.126418Z",
     "start_time": "2022-10-19T13:20:35.108466Z"
    }
   },
   "outputs": [],
   "source": [
    "from tensorflow import keras"
   ]
  },
  {
   "cell_type": "code",
   "execution_count": 46,
   "id": "e18352eb",
   "metadata": {
    "ExecuteTime": {
     "end_time": "2022-10-19T13:21:17.952872Z",
     "start_time": "2022-10-19T13:21:17.900011Z"
    }
   },
   "outputs": [],
   "source": [
    "# 模型\n",
    "model = keras.models.Sequential([\n",
    "    keras.layers.Dense(32, activation='relu', input_shape=[8]),\n",
    "    keras.layers.Dense(1)\n",
    "])"
   ]
  },
  {
   "cell_type": "code",
   "execution_count": 47,
   "id": "a1bacebd",
   "metadata": {
    "ExecuteTime": {
     "end_time": "2022-10-19T13:21:40.233277Z",
     "start_time": "2022-10-19T13:21:40.211335Z"
    }
   },
   "outputs": [],
   "source": [
    "model.compile(loss='mse', optimizer='adam', metrics=['mse'])"
   ]
  },
  {
   "cell_type": "code",
   "execution_count": 51,
   "id": "3d822bcb",
   "metadata": {
    "ExecuteTime": {
     "end_time": "2022-10-19T13:24:57.868659Z",
     "start_time": "2022-10-19T13:24:55.100064Z"
    },
    "collapsed": true
   },
   "outputs": [
    {
     "name": "stdout",
     "output_type": "stream",
     "text": [
      "Epoch 1/100\n",
      "181/181 [==============================] - 1s 5ms/step - loss: 0.3249 - mse: 0.3249 - val_loss: 0.3117 - val_mse: 0.3117\n",
      "Epoch 2/100\n",
      "181/181 [==============================] - 1s 4ms/step - loss: 0.3191 - mse: 0.3191 - val_loss: 0.3115 - val_mse: 0.3115\n",
      "Epoch 3/100\n",
      "181/181 [==============================] - 1s 4ms/step - loss: 0.3172 - mse: 0.3172 - val_loss: 0.3121 - val_mse: 0.3121\n",
      "Epoch 4/100\n",
      " 74/181 [===========>..................] - ETA: 0s - loss: 0.3328 - mse: 0.3328"
     ]
    },
    {
     "ename": "KeyboardInterrupt",
     "evalue": "",
     "output_type": "error",
     "traceback": [
      "\u001b[1;31m---------------------------------------------------------------------------\u001b[0m",
      "\u001b[1;31mKeyboardInterrupt\u001b[0m                         Traceback (most recent call last)",
      "\u001b[1;32m~\\AppData\\Local\\Temp\\ipykernel_139768\\3997588755.py\u001b[0m in \u001b[0;36m<module>\u001b[1;34m\u001b[0m\n\u001b[0;32m      3\u001b[0m                    \u001b[0msteps_per_epoch\u001b[0m\u001b[1;33m=\u001b[0m \u001b[0mlen\u001b[0m\u001b[1;33m(\u001b[0m\u001b[0mx_train_scaled\u001b[0m\u001b[1;33m)\u001b[0m\u001b[1;33m//\u001b[0m\u001b[0mbatch_size\u001b[0m\u001b[1;33m,\u001b[0m\u001b[1;33m\u001b[0m\u001b[1;33m\u001b[0m\u001b[0m\n\u001b[0;32m      4\u001b[0m                    \u001b[0mvalidation_steps\u001b[0m \u001b[1;33m=\u001b[0m \u001b[0mlen\u001b[0m\u001b[1;33m(\u001b[0m\u001b[0mx_valid_scaled\u001b[0m\u001b[1;33m)\u001b[0m\u001b[1;33m//\u001b[0m\u001b[0mbatch_size\u001b[0m\u001b[1;33m,\u001b[0m\u001b[1;33m\u001b[0m\u001b[1;33m\u001b[0m\u001b[0m\n\u001b[1;32m----> 5\u001b[1;33m                    epochs=100)\n\u001b[0m",
      "\u001b[1;32mD:\\.venv\\lib\\site-packages\\keras\\utils\\traceback_utils.py\u001b[0m in \u001b[0;36merror_handler\u001b[1;34m(*args, **kwargs)\u001b[0m\n\u001b[0;32m     62\u001b[0m     \u001b[0mfiltered_tb\u001b[0m \u001b[1;33m=\u001b[0m \u001b[1;32mNone\u001b[0m\u001b[1;33m\u001b[0m\u001b[1;33m\u001b[0m\u001b[0m\n\u001b[0;32m     63\u001b[0m     \u001b[1;32mtry\u001b[0m\u001b[1;33m:\u001b[0m\u001b[1;33m\u001b[0m\u001b[1;33m\u001b[0m\u001b[0m\n\u001b[1;32m---> 64\u001b[1;33m       \u001b[1;32mreturn\u001b[0m \u001b[0mfn\u001b[0m\u001b[1;33m(\u001b[0m\u001b[1;33m*\u001b[0m\u001b[0margs\u001b[0m\u001b[1;33m,\u001b[0m \u001b[1;33m**\u001b[0m\u001b[0mkwargs\u001b[0m\u001b[1;33m)\u001b[0m\u001b[1;33m\u001b[0m\u001b[1;33m\u001b[0m\u001b[0m\n\u001b[0m\u001b[0;32m     65\u001b[0m     \u001b[1;32mexcept\u001b[0m \u001b[0mException\u001b[0m \u001b[1;32mas\u001b[0m \u001b[0me\u001b[0m\u001b[1;33m:\u001b[0m  \u001b[1;31m# pylint: disable=broad-except\u001b[0m\u001b[1;33m\u001b[0m\u001b[1;33m\u001b[0m\u001b[0m\n\u001b[0;32m     66\u001b[0m       \u001b[0mfiltered_tb\u001b[0m \u001b[1;33m=\u001b[0m \u001b[0m_process_traceback_frames\u001b[0m\u001b[1;33m(\u001b[0m\u001b[0me\u001b[0m\u001b[1;33m.\u001b[0m\u001b[0m__traceback__\u001b[0m\u001b[1;33m)\u001b[0m\u001b[1;33m\u001b[0m\u001b[1;33m\u001b[0m\u001b[0m\n",
      "\u001b[1;32mD:\\.venv\\lib\\site-packages\\keras\\engine\\training.py\u001b[0m in \u001b[0;36mfit\u001b[1;34m(self, x, y, batch_size, epochs, verbose, callbacks, validation_split, validation_data, shuffle, class_weight, sample_weight, initial_epoch, steps_per_epoch, validation_steps, validation_batch_size, validation_freq, max_queue_size, workers, use_multiprocessing)\u001b[0m\n\u001b[0;32m   1407\u001b[0m                 _r=1):\n\u001b[0;32m   1408\u001b[0m               \u001b[0mcallbacks\u001b[0m\u001b[1;33m.\u001b[0m\u001b[0mon_train_batch_begin\u001b[0m\u001b[1;33m(\u001b[0m\u001b[0mstep\u001b[0m\u001b[1;33m)\u001b[0m\u001b[1;33m\u001b[0m\u001b[1;33m\u001b[0m\u001b[0m\n\u001b[1;32m-> 1409\u001b[1;33m               \u001b[0mtmp_logs\u001b[0m \u001b[1;33m=\u001b[0m \u001b[0mself\u001b[0m\u001b[1;33m.\u001b[0m\u001b[0mtrain_function\u001b[0m\u001b[1;33m(\u001b[0m\u001b[0miterator\u001b[0m\u001b[1;33m)\u001b[0m\u001b[1;33m\u001b[0m\u001b[1;33m\u001b[0m\u001b[0m\n\u001b[0m\u001b[0;32m   1410\u001b[0m               \u001b[1;32mif\u001b[0m \u001b[0mdata_handler\u001b[0m\u001b[1;33m.\u001b[0m\u001b[0mshould_sync\u001b[0m\u001b[1;33m:\u001b[0m\u001b[1;33m\u001b[0m\u001b[1;33m\u001b[0m\u001b[0m\n\u001b[0;32m   1411\u001b[0m                 \u001b[0mcontext\u001b[0m\u001b[1;33m.\u001b[0m\u001b[0masync_wait\u001b[0m\u001b[1;33m(\u001b[0m\u001b[1;33m)\u001b[0m\u001b[1;33m\u001b[0m\u001b[1;33m\u001b[0m\u001b[0m\n",
      "\u001b[1;32mD:\\.venv\\lib\\site-packages\\tensorflow\\python\\util\\traceback_utils.py\u001b[0m in \u001b[0;36merror_handler\u001b[1;34m(*args, **kwargs)\u001b[0m\n\u001b[0;32m    148\u001b[0m     \u001b[0mfiltered_tb\u001b[0m \u001b[1;33m=\u001b[0m \u001b[1;32mNone\u001b[0m\u001b[1;33m\u001b[0m\u001b[1;33m\u001b[0m\u001b[0m\n\u001b[0;32m    149\u001b[0m     \u001b[1;32mtry\u001b[0m\u001b[1;33m:\u001b[0m\u001b[1;33m\u001b[0m\u001b[1;33m\u001b[0m\u001b[0m\n\u001b[1;32m--> 150\u001b[1;33m       \u001b[1;32mreturn\u001b[0m \u001b[0mfn\u001b[0m\u001b[1;33m(\u001b[0m\u001b[1;33m*\u001b[0m\u001b[0margs\u001b[0m\u001b[1;33m,\u001b[0m \u001b[1;33m**\u001b[0m\u001b[0mkwargs\u001b[0m\u001b[1;33m)\u001b[0m\u001b[1;33m\u001b[0m\u001b[1;33m\u001b[0m\u001b[0m\n\u001b[0m\u001b[0;32m    151\u001b[0m     \u001b[1;32mexcept\u001b[0m \u001b[0mException\u001b[0m \u001b[1;32mas\u001b[0m \u001b[0me\u001b[0m\u001b[1;33m:\u001b[0m\u001b[1;33m\u001b[0m\u001b[1;33m\u001b[0m\u001b[0m\n\u001b[0;32m    152\u001b[0m       \u001b[0mfiltered_tb\u001b[0m \u001b[1;33m=\u001b[0m \u001b[0m_process_traceback_frames\u001b[0m\u001b[1;33m(\u001b[0m\u001b[0me\u001b[0m\u001b[1;33m.\u001b[0m\u001b[0m__traceback__\u001b[0m\u001b[1;33m)\u001b[0m\u001b[1;33m\u001b[0m\u001b[1;33m\u001b[0m\u001b[0m\n",
      "\u001b[1;32mD:\\.venv\\lib\\site-packages\\tensorflow\\python\\eager\\def_function.py\u001b[0m in \u001b[0;36m__call__\u001b[1;34m(self, *args, **kwds)\u001b[0m\n\u001b[0;32m    913\u001b[0m \u001b[1;33m\u001b[0m\u001b[0m\n\u001b[0;32m    914\u001b[0m       \u001b[1;32mwith\u001b[0m \u001b[0mOptionalXlaContext\u001b[0m\u001b[1;33m(\u001b[0m\u001b[0mself\u001b[0m\u001b[1;33m.\u001b[0m\u001b[0m_jit_compile\u001b[0m\u001b[1;33m)\u001b[0m\u001b[1;33m:\u001b[0m\u001b[1;33m\u001b[0m\u001b[1;33m\u001b[0m\u001b[0m\n\u001b[1;32m--> 915\u001b[1;33m         \u001b[0mresult\u001b[0m \u001b[1;33m=\u001b[0m \u001b[0mself\u001b[0m\u001b[1;33m.\u001b[0m\u001b[0m_call\u001b[0m\u001b[1;33m(\u001b[0m\u001b[1;33m*\u001b[0m\u001b[0margs\u001b[0m\u001b[1;33m,\u001b[0m \u001b[1;33m**\u001b[0m\u001b[0mkwds\u001b[0m\u001b[1;33m)\u001b[0m\u001b[1;33m\u001b[0m\u001b[1;33m\u001b[0m\u001b[0m\n\u001b[0m\u001b[0;32m    916\u001b[0m \u001b[1;33m\u001b[0m\u001b[0m\n\u001b[0;32m    917\u001b[0m       \u001b[0mnew_tracing_count\u001b[0m \u001b[1;33m=\u001b[0m \u001b[0mself\u001b[0m\u001b[1;33m.\u001b[0m\u001b[0mexperimental_get_tracing_count\u001b[0m\u001b[1;33m(\u001b[0m\u001b[1;33m)\u001b[0m\u001b[1;33m\u001b[0m\u001b[1;33m\u001b[0m\u001b[0m\n",
      "\u001b[1;32mD:\\.venv\\lib\\site-packages\\tensorflow\\python\\eager\\def_function.py\u001b[0m in \u001b[0;36m_call\u001b[1;34m(self, *args, **kwds)\u001b[0m\n\u001b[0;32m    945\u001b[0m       \u001b[1;31m# In this case we have created variables on the first call, so we run the\u001b[0m\u001b[1;33m\u001b[0m\u001b[1;33m\u001b[0m\u001b[1;33m\u001b[0m\u001b[0m\n\u001b[0;32m    946\u001b[0m       \u001b[1;31m# defunned version which is guaranteed to never create variables.\u001b[0m\u001b[1;33m\u001b[0m\u001b[1;33m\u001b[0m\u001b[1;33m\u001b[0m\u001b[0m\n\u001b[1;32m--> 947\u001b[1;33m       \u001b[1;32mreturn\u001b[0m \u001b[0mself\u001b[0m\u001b[1;33m.\u001b[0m\u001b[0m_stateless_fn\u001b[0m\u001b[1;33m(\u001b[0m\u001b[1;33m*\u001b[0m\u001b[0margs\u001b[0m\u001b[1;33m,\u001b[0m \u001b[1;33m**\u001b[0m\u001b[0mkwds\u001b[0m\u001b[1;33m)\u001b[0m  \u001b[1;31m# pylint: disable=not-callable\u001b[0m\u001b[1;33m\u001b[0m\u001b[1;33m\u001b[0m\u001b[0m\n\u001b[0m\u001b[0;32m    948\u001b[0m     \u001b[1;32melif\u001b[0m \u001b[0mself\u001b[0m\u001b[1;33m.\u001b[0m\u001b[0m_stateful_fn\u001b[0m \u001b[1;32mis\u001b[0m \u001b[1;32mnot\u001b[0m \u001b[1;32mNone\u001b[0m\u001b[1;33m:\u001b[0m\u001b[1;33m\u001b[0m\u001b[1;33m\u001b[0m\u001b[0m\n\u001b[0;32m    949\u001b[0m       \u001b[1;31m# Release the lock early so that multiple threads can perform the call\u001b[0m\u001b[1;33m\u001b[0m\u001b[1;33m\u001b[0m\u001b[1;33m\u001b[0m\u001b[0m\n",
      "\u001b[1;32mD:\\.venv\\lib\\site-packages\\tensorflow\\python\\eager\\function.py\u001b[0m in \u001b[0;36m__call__\u001b[1;34m(self, *args, **kwargs)\u001b[0m\n\u001b[0;32m   2452\u001b[0m        filtered_flat_args) = self._maybe_define_function(args, kwargs)\n\u001b[0;32m   2453\u001b[0m     return graph_function._call_flat(\n\u001b[1;32m-> 2454\u001b[1;33m         filtered_flat_args, captured_inputs=graph_function.captured_inputs)  # pylint: disable=protected-access\n\u001b[0m\u001b[0;32m   2455\u001b[0m \u001b[1;33m\u001b[0m\u001b[0m\n\u001b[0;32m   2456\u001b[0m   \u001b[1;33m@\u001b[0m\u001b[0mproperty\u001b[0m\u001b[1;33m\u001b[0m\u001b[1;33m\u001b[0m\u001b[0m\n",
      "\u001b[1;32mD:\\.venv\\lib\\site-packages\\tensorflow\\python\\eager\\function.py\u001b[0m in \u001b[0;36m_call_flat\u001b[1;34m(self, args, captured_inputs, cancellation_manager)\u001b[0m\n\u001b[0;32m   1859\u001b[0m       \u001b[1;31m# No tape is watching; skip to running the function.\u001b[0m\u001b[1;33m\u001b[0m\u001b[1;33m\u001b[0m\u001b[1;33m\u001b[0m\u001b[0m\n\u001b[0;32m   1860\u001b[0m       return self._build_call_outputs(self._inference_function.call(\n\u001b[1;32m-> 1861\u001b[1;33m           ctx, args, cancellation_manager=cancellation_manager))\n\u001b[0m\u001b[0;32m   1862\u001b[0m     forward_backward = self._select_forward_and_backward_functions(\n\u001b[0;32m   1863\u001b[0m         \u001b[0margs\u001b[0m\u001b[1;33m,\u001b[0m\u001b[1;33m\u001b[0m\u001b[1;33m\u001b[0m\u001b[0m\n",
      "\u001b[1;32mD:\\.venv\\lib\\site-packages\\tensorflow\\python\\eager\\function.py\u001b[0m in \u001b[0;36mcall\u001b[1;34m(self, ctx, args, cancellation_manager)\u001b[0m\n\u001b[0;32m    500\u001b[0m               \u001b[0minputs\u001b[0m\u001b[1;33m=\u001b[0m\u001b[0margs\u001b[0m\u001b[1;33m,\u001b[0m\u001b[1;33m\u001b[0m\u001b[1;33m\u001b[0m\u001b[0m\n\u001b[0;32m    501\u001b[0m               \u001b[0mattrs\u001b[0m\u001b[1;33m=\u001b[0m\u001b[0mattrs\u001b[0m\u001b[1;33m,\u001b[0m\u001b[1;33m\u001b[0m\u001b[1;33m\u001b[0m\u001b[0m\n\u001b[1;32m--> 502\u001b[1;33m               ctx=ctx)\n\u001b[0m\u001b[0;32m    503\u001b[0m         \u001b[1;32melse\u001b[0m\u001b[1;33m:\u001b[0m\u001b[1;33m\u001b[0m\u001b[1;33m\u001b[0m\u001b[0m\n\u001b[0;32m    504\u001b[0m           outputs = execute.execute_with_cancellation(\n",
      "\u001b[1;32mD:\\.venv\\lib\\site-packages\\tensorflow\\python\\eager\\execute.py\u001b[0m in \u001b[0;36mquick_execute\u001b[1;34m(op_name, num_outputs, inputs, attrs, ctx, name)\u001b[0m\n\u001b[0;32m     53\u001b[0m     \u001b[0mctx\u001b[0m\u001b[1;33m.\u001b[0m\u001b[0mensure_initialized\u001b[0m\u001b[1;33m(\u001b[0m\u001b[1;33m)\u001b[0m\u001b[1;33m\u001b[0m\u001b[1;33m\u001b[0m\u001b[0m\n\u001b[0;32m     54\u001b[0m     tensors = pywrap_tfe.TFE_Py_Execute(ctx._handle, device_name, op_name,\n\u001b[1;32m---> 55\u001b[1;33m                                         inputs, attrs, num_outputs)\n\u001b[0m\u001b[0;32m     56\u001b[0m   \u001b[1;32mexcept\u001b[0m \u001b[0mcore\u001b[0m\u001b[1;33m.\u001b[0m\u001b[0m_NotOkStatusException\u001b[0m \u001b[1;32mas\u001b[0m \u001b[0me\u001b[0m\u001b[1;33m:\u001b[0m\u001b[1;33m\u001b[0m\u001b[1;33m\u001b[0m\u001b[0m\n\u001b[0;32m     57\u001b[0m     \u001b[1;32mif\u001b[0m \u001b[0mname\u001b[0m \u001b[1;32mis\u001b[0m \u001b[1;32mnot\u001b[0m \u001b[1;32mNone\u001b[0m\u001b[1;33m:\u001b[0m\u001b[1;33m\u001b[0m\u001b[1;33m\u001b[0m\u001b[0m\n",
      "\u001b[1;31mKeyboardInterrupt\u001b[0m: "
     ]
    }
   ],
   "source": [
    "history = model.fit(train_set, \n",
    "                   validation_data=valid_set,\n",
    "                   steps_per_epoch= len(x_train_scaled)//batch_size,\n",
    "                   validation_steps = len(x_valid_scaled)//batch_size,\n",
    "                   epochs=100)"
   ]
  }
 ],
 "metadata": {
  "kernelspec": {
   "display_name": "Python 3 (ipykernel)",
   "language": "python",
   "name": "python3"
  },
  "language_info": {
   "codemirror_mode": {
    "name": "ipython",
    "version": 3
   },
   "file_extension": ".py",
   "mimetype": "text/x-python",
   "name": "python",
   "nbconvert_exporter": "python",
   "pygments_lexer": "ipython3",
   "version": "3.7.8"
  },
  "toc": {
   "base_numbering": 1,
   "nav_menu": {},
   "number_sections": true,
   "sideBar": true,
   "skip_h1_title": false,
   "title_cell": "Table of Contents",
   "title_sidebar": "Contents",
   "toc_cell": false,
   "toc_position": {},
   "toc_section_display": true,
   "toc_window_display": false
  }
 },
 "nbformat": 4,
 "nbformat_minor": 5
}
