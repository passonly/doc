{
 "cells": [
  {
   "cell_type": "code",
   "execution_count": 1,
   "id": "af484cf2",
   "metadata": {
    "ExecuteTime": {
     "end_time": "2022-10-12T13:13:13.067415Z",
     "start_time": "2022-10-12T13:13:10.331737Z"
    }
   },
   "outputs": [],
   "source": [
    "import numpy as np\n",
    "from tensorflow import keras\n"
   ]
  },
  {
   "cell_type": "code",
   "execution_count": 2,
   "id": "0e83d04e",
   "metadata": {
    "ExecuteTime": {
     "end_time": "2022-10-12T13:13:13.357639Z",
     "start_time": "2022-10-12T13:13:13.069410Z"
    }
   },
   "outputs": [],
   "source": [
    "# 回归任务的目标值是一个连续区间任意数值.比如预测股票价格, 预测房价, 预测温度值..\n",
    "from sklearn.datasets import fetch_california_housing"
   ]
  },
  {
   "cell_type": "code",
   "execution_count": 3,
   "id": "af4ed07c",
   "metadata": {
    "ExecuteTime": {
     "end_time": "2022-10-12T13:13:13.373597Z",
     "start_time": "2022-10-12T13:13:13.358637Z"
    }
   },
   "outputs": [],
   "source": [
    "housing = fetch_california_housing()"
   ]
  },
  {
   "cell_type": "code",
   "execution_count": 4,
   "id": "3da2cd76",
   "metadata": {
    "ExecuteTime": {
     "end_time": "2022-10-12T13:13:13.389554Z",
     "start_time": "2022-10-12T13:13:13.375591Z"
    }
   },
   "outputs": [
    {
     "data": {
      "text/plain": [
       "sklearn.utils.Bunch"
      ]
     },
     "execution_count": 4,
     "metadata": {},
     "output_type": "execute_result"
    }
   ],
   "source": [
    "type(housing)"
   ]
  },
  {
   "cell_type": "code",
   "execution_count": 5,
   "id": "ed203606",
   "metadata": {
    "ExecuteTime": {
     "end_time": "2022-10-12T13:13:13.405511Z",
     "start_time": "2022-10-12T13:13:13.390551Z"
    }
   },
   "outputs": [
    {
     "data": {
      "text/plain": [
       "{'data': array([[   8.3252    ,   41.        ,    6.98412698, ...,    2.55555556,\n",
       "           37.88      , -122.23      ],\n",
       "        [   8.3014    ,   21.        ,    6.23813708, ...,    2.10984183,\n",
       "           37.86      , -122.22      ],\n",
       "        [   7.2574    ,   52.        ,    8.28813559, ...,    2.80225989,\n",
       "           37.85      , -122.24      ],\n",
       "        ...,\n",
       "        [   1.7       ,   17.        ,    5.20554273, ...,    2.3256351 ,\n",
       "           39.43      , -121.22      ],\n",
       "        [   1.8672    ,   18.        ,    5.32951289, ...,    2.12320917,\n",
       "           39.43      , -121.32      ],\n",
       "        [   2.3886    ,   16.        ,    5.25471698, ...,    2.61698113,\n",
       "           39.37      , -121.24      ]]),\n",
       " 'target': array([4.526, 3.585, 3.521, ..., 0.923, 0.847, 0.894]),\n",
       " 'feature_names': ['MedInc',\n",
       "  'HouseAge',\n",
       "  'AveRooms',\n",
       "  'AveBedrms',\n",
       "  'Population',\n",
       "  'AveOccup',\n",
       "  'Latitude',\n",
       "  'Longitude'],\n",
       " 'DESCR': '.. _california_housing_dataset:\\n\\nCalifornia Housing dataset\\n--------------------------\\n\\n**Data Set Characteristics:**\\n\\n    :Number of Instances: 20640\\n\\n    :Number of Attributes: 8 numeric, predictive attributes and the target\\n\\n    :Attribute Information:\\n        - MedInc        median income in block\\n        - HouseAge      median house age in block\\n        - AveRooms      average number of rooms\\n        - AveBedrms     average number of bedrooms\\n        - Population    block population\\n        - AveOccup      average house occupancy\\n        - Latitude      house block latitude\\n        - Longitude     house block longitude\\n\\n    :Missing Attribute Values: None\\n\\nThis dataset was obtained from the StatLib repository.\\nhttp://lib.stat.cmu.edu/datasets/\\n\\nThe target variable is the median house value for California districts.\\n\\nThis dataset was derived from the 1990 U.S. census, using one row per census\\nblock group. A block group is the smallest geographical unit for which the U.S.\\nCensus Bureau publishes sample data (a block group typically has a population\\nof 600 to 3,000 people).\\n\\nIt can be downloaded/loaded using the\\n:func:`sklearn.datasets.fetch_california_housing` function.\\n\\n.. topic:: References\\n\\n    - Pace, R. Kelley and Ronald Barry, Sparse Spatial Autoregressions,\\n      Statistics and Probability Letters, 33 (1997) 291-297\\n'}"
      ]
     },
     "execution_count": 5,
     "metadata": {},
     "output_type": "execute_result"
    }
   ],
   "source": [
    "housing"
   ]
  },
  {
   "cell_type": "code",
   "execution_count": 6,
   "id": "a36f8d67",
   "metadata": {
    "ExecuteTime": {
     "end_time": "2022-10-12T13:13:13.420471Z",
     "start_time": "2022-10-12T13:13:13.406509Z"
    }
   },
   "outputs": [],
   "source": [
    "data = housing.data\n",
    "target = housing.target"
   ]
  },
  {
   "cell_type": "code",
   "execution_count": 7,
   "id": "c716762f",
   "metadata": {
    "ExecuteTime": {
     "end_time": "2022-10-12T13:13:13.435433Z",
     "start_time": "2022-10-12T13:13:13.421468Z"
    }
   },
   "outputs": [
    {
     "name": "stdout",
     "output_type": "stream",
     "text": [
      ".. _california_housing_dataset:\n",
      "\n",
      "California Housing dataset\n",
      "--------------------------\n",
      "\n",
      "**Data Set Characteristics:**\n",
      "\n",
      "    :Number of Instances: 20640\n",
      "\n",
      "    :Number of Attributes: 8 numeric, predictive attributes and the target\n",
      "\n",
      "    :Attribute Information:\n",
      "        - MedInc        median income in block\n",
      "        - HouseAge      median house age in block\n",
      "        - AveRooms      average number of rooms\n",
      "        - AveBedrms     average number of bedrooms\n",
      "        - Population    block population\n",
      "        - AveOccup      average house occupancy\n",
      "        - Latitude      house block latitude\n",
      "        - Longitude     house block longitude\n",
      "\n",
      "    :Missing Attribute Values: None\n",
      "\n",
      "This dataset was obtained from the StatLib repository.\n",
      "http://lib.stat.cmu.edu/datasets/\n",
      "\n",
      "The target variable is the median house value for California districts.\n",
      "\n",
      "This dataset was derived from the 1990 U.S. census, using one row per census\n",
      "block group. A block group is the smallest geographical unit for which the U.S.\n",
      "Census Bureau publishes sample data (a block group typically has a population\n",
      "of 600 to 3,000 people).\n",
      "\n",
      "It can be downloaded/loaded using the\n",
      ":func:`sklearn.datasets.fetch_california_housing` function.\n",
      "\n",
      ".. topic:: References\n",
      "\n",
      "    - Pace, R. Kelley and Ronald Barry, Sparse Spatial Autoregressions,\n",
      "      Statistics and Probability Letters, 33 (1997) 291-297\n",
      "\n"
     ]
    }
   ],
   "source": [
    "print(housing.DESCR)"
   ]
  },
  {
   "cell_type": "code",
   "execution_count": 8,
   "id": "315d57ca",
   "metadata": {
    "ExecuteTime": {
     "end_time": "2022-10-12T13:13:13.451390Z",
     "start_time": "2022-10-12T13:13:13.437426Z"
    }
   },
   "outputs": [],
   "source": [
    "from sklearn.datasets import load_boston"
   ]
  },
  {
   "cell_type": "code",
   "execution_count": 9,
   "id": "ad041221",
   "metadata": {
    "ExecuteTime": {
     "end_time": "2022-10-12T13:13:13.466349Z",
     "start_time": "2022-10-12T13:13:13.452386Z"
    }
   },
   "outputs": [
    {
     "data": {
      "text/plain": [
       "{'data': array([[6.3200e-03, 1.8000e+01, 2.3100e+00, ..., 1.5300e+01, 3.9690e+02,\n",
       "         4.9800e+00],\n",
       "        [2.7310e-02, 0.0000e+00, 7.0700e+00, ..., 1.7800e+01, 3.9690e+02,\n",
       "         9.1400e+00],\n",
       "        [2.7290e-02, 0.0000e+00, 7.0700e+00, ..., 1.7800e+01, 3.9283e+02,\n",
       "         4.0300e+00],\n",
       "        ...,\n",
       "        [6.0760e-02, 0.0000e+00, 1.1930e+01, ..., 2.1000e+01, 3.9690e+02,\n",
       "         5.6400e+00],\n",
       "        [1.0959e-01, 0.0000e+00, 1.1930e+01, ..., 2.1000e+01, 3.9345e+02,\n",
       "         6.4800e+00],\n",
       "        [4.7410e-02, 0.0000e+00, 1.1930e+01, ..., 2.1000e+01, 3.9690e+02,\n",
       "         7.8800e+00]]),\n",
       " 'target': array([24. , 21.6, 34.7, 33.4, 36.2, 28.7, 22.9, 27.1, 16.5, 18.9, 15. ,\n",
       "        18.9, 21.7, 20.4, 18.2, 19.9, 23.1, 17.5, 20.2, 18.2, 13.6, 19.6,\n",
       "        15.2, 14.5, 15.6, 13.9, 16.6, 14.8, 18.4, 21. , 12.7, 14.5, 13.2,\n",
       "        13.1, 13.5, 18.9, 20. , 21. , 24.7, 30.8, 34.9, 26.6, 25.3, 24.7,\n",
       "        21.2, 19.3, 20. , 16.6, 14.4, 19.4, 19.7, 20.5, 25. , 23.4, 18.9,\n",
       "        35.4, 24.7, 31.6, 23.3, 19.6, 18.7, 16. , 22.2, 25. , 33. , 23.5,\n",
       "        19.4, 22. , 17.4, 20.9, 24.2, 21.7, 22.8, 23.4, 24.1, 21.4, 20. ,\n",
       "        20.8, 21.2, 20.3, 28. , 23.9, 24.8, 22.9, 23.9, 26.6, 22.5, 22.2,\n",
       "        23.6, 28.7, 22.6, 22. , 22.9, 25. , 20.6, 28.4, 21.4, 38.7, 43.8,\n",
       "        33.2, 27.5, 26.5, 18.6, 19.3, 20.1, 19.5, 19.5, 20.4, 19.8, 19.4,\n",
       "        21.7, 22.8, 18.8, 18.7, 18.5, 18.3, 21.2, 19.2, 20.4, 19.3, 22. ,\n",
       "        20.3, 20.5, 17.3, 18.8, 21.4, 15.7, 16.2, 18. , 14.3, 19.2, 19.6,\n",
       "        23. , 18.4, 15.6, 18.1, 17.4, 17.1, 13.3, 17.8, 14. , 14.4, 13.4,\n",
       "        15.6, 11.8, 13.8, 15.6, 14.6, 17.8, 15.4, 21.5, 19.6, 15.3, 19.4,\n",
       "        17. , 15.6, 13.1, 41.3, 24.3, 23.3, 27. , 50. , 50. , 50. , 22.7,\n",
       "        25. , 50. , 23.8, 23.8, 22.3, 17.4, 19.1, 23.1, 23.6, 22.6, 29.4,\n",
       "        23.2, 24.6, 29.9, 37.2, 39.8, 36.2, 37.9, 32.5, 26.4, 29.6, 50. ,\n",
       "        32. , 29.8, 34.9, 37. , 30.5, 36.4, 31.1, 29.1, 50. , 33.3, 30.3,\n",
       "        34.6, 34.9, 32.9, 24.1, 42.3, 48.5, 50. , 22.6, 24.4, 22.5, 24.4,\n",
       "        20. , 21.7, 19.3, 22.4, 28.1, 23.7, 25. , 23.3, 28.7, 21.5, 23. ,\n",
       "        26.7, 21.7, 27.5, 30.1, 44.8, 50. , 37.6, 31.6, 46.7, 31.5, 24.3,\n",
       "        31.7, 41.7, 48.3, 29. , 24. , 25.1, 31.5, 23.7, 23.3, 22. , 20.1,\n",
       "        22.2, 23.7, 17.6, 18.5, 24.3, 20.5, 24.5, 26.2, 24.4, 24.8, 29.6,\n",
       "        42.8, 21.9, 20.9, 44. , 50. , 36. , 30.1, 33.8, 43.1, 48.8, 31. ,\n",
       "        36.5, 22.8, 30.7, 50. , 43.5, 20.7, 21.1, 25.2, 24.4, 35.2, 32.4,\n",
       "        32. , 33.2, 33.1, 29.1, 35.1, 45.4, 35.4, 46. , 50. , 32.2, 22. ,\n",
       "        20.1, 23.2, 22.3, 24.8, 28.5, 37.3, 27.9, 23.9, 21.7, 28.6, 27.1,\n",
       "        20.3, 22.5, 29. , 24.8, 22. , 26.4, 33.1, 36.1, 28.4, 33.4, 28.2,\n",
       "        22.8, 20.3, 16.1, 22.1, 19.4, 21.6, 23.8, 16.2, 17.8, 19.8, 23.1,\n",
       "        21. , 23.8, 23.1, 20.4, 18.5, 25. , 24.6, 23. , 22.2, 19.3, 22.6,\n",
       "        19.8, 17.1, 19.4, 22.2, 20.7, 21.1, 19.5, 18.5, 20.6, 19. , 18.7,\n",
       "        32.7, 16.5, 23.9, 31.2, 17.5, 17.2, 23.1, 24.5, 26.6, 22.9, 24.1,\n",
       "        18.6, 30.1, 18.2, 20.6, 17.8, 21.7, 22.7, 22.6, 25. , 19.9, 20.8,\n",
       "        16.8, 21.9, 27.5, 21.9, 23.1, 50. , 50. , 50. , 50. , 50. , 13.8,\n",
       "        13.8, 15. , 13.9, 13.3, 13.1, 10.2, 10.4, 10.9, 11.3, 12.3,  8.8,\n",
       "         7.2, 10.5,  7.4, 10.2, 11.5, 15.1, 23.2,  9.7, 13.8, 12.7, 13.1,\n",
       "        12.5,  8.5,  5. ,  6.3,  5.6,  7.2, 12.1,  8.3,  8.5,  5. , 11.9,\n",
       "        27.9, 17.2, 27.5, 15. , 17.2, 17.9, 16.3,  7. ,  7.2,  7.5, 10.4,\n",
       "         8.8,  8.4, 16.7, 14.2, 20.8, 13.4, 11.7,  8.3, 10.2, 10.9, 11. ,\n",
       "         9.5, 14.5, 14.1, 16.1, 14.3, 11.7, 13.4,  9.6,  8.7,  8.4, 12.8,\n",
       "        10.5, 17.1, 18.4, 15.4, 10.8, 11.8, 14.9, 12.6, 14.1, 13. , 13.4,\n",
       "        15.2, 16.1, 17.8, 14.9, 14.1, 12.7, 13.5, 14.9, 20. , 16.4, 17.7,\n",
       "        19.5, 20.2, 21.4, 19.9, 19. , 19.1, 19.1, 20.1, 19.9, 19.6, 23.2,\n",
       "        29.8, 13.8, 13.3, 16.7, 12. , 14.6, 21.4, 23. , 23.7, 25. , 21.8,\n",
       "        20.6, 21.2, 19.1, 20.6, 15.2,  7. ,  8.1, 13.6, 20.1, 21.8, 24.5,\n",
       "        23.1, 19.7, 18.3, 21.2, 17.5, 16.8, 22.4, 20.6, 23.9, 22. , 11.9]),\n",
       " 'feature_names': array(['CRIM', 'ZN', 'INDUS', 'CHAS', 'NOX', 'RM', 'AGE', 'DIS', 'RAD',\n",
       "        'TAX', 'PTRATIO', 'B', 'LSTAT'], dtype='<U7'),\n",
       " 'DESCR': \".. _boston_dataset:\\n\\nBoston house prices dataset\\n---------------------------\\n\\n**Data Set Characteristics:**  \\n\\n    :Number of Instances: 506 \\n\\n    :Number of Attributes: 13 numeric/categorical predictive. Median Value (attribute 14) is usually the target.\\n\\n    :Attribute Information (in order):\\n        - CRIM     per capita crime rate by town\\n        - ZN       proportion of residential land zoned for lots over 25,000 sq.ft.\\n        - INDUS    proportion of non-retail business acres per town\\n        - CHAS     Charles River dummy variable (= 1 if tract bounds river; 0 otherwise)\\n        - NOX      nitric oxides concentration (parts per 10 million)\\n        - RM       average number of rooms per dwelling\\n        - AGE      proportion of owner-occupied units built prior to 1940\\n        - DIS      weighted distances to five Boston employment centres\\n        - RAD      index of accessibility to radial highways\\n        - TAX      full-value property-tax rate per $10,000\\n        - PTRATIO  pupil-teacher ratio by town\\n        - B        1000(Bk - 0.63)^2 where Bk is the proportion of blacks by town\\n        - LSTAT    % lower status of the population\\n        - MEDV     Median value of owner-occupied homes in $1000's\\n\\n    :Missing Attribute Values: None\\n\\n    :Creator: Harrison, D. and Rubinfeld, D.L.\\n\\nThis is a copy of UCI ML housing dataset.\\nhttps://archive.ics.uci.edu/ml/machine-learning-databases/housing/\\n\\n\\nThis dataset was taken from the StatLib library which is maintained at Carnegie Mellon University.\\n\\nThe Boston house-price data of Harrison, D. and Rubinfeld, D.L. 'Hedonic\\nprices and the demand for clean air', J. Environ. Economics & Management,\\nvol.5, 81-102, 1978.   Used in Belsley, Kuh & Welsch, 'Regression diagnostics\\n...', Wiley, 1980.   N.B. Various transformations are used in the table on\\npages 244-261 of the latter.\\n\\nThe Boston house-price data has been used in many machine learning papers that address regression\\nproblems.   \\n     \\n.. topic:: References\\n\\n   - Belsley, Kuh & Welsch, 'Regression diagnostics: Identifying Influential Data and Sources of Collinearity', Wiley, 1980. 244-261.\\n   - Quinlan,R. (1993). Combining Instance-Based and Model-Based Learning. In Proceedings on the Tenth International Conference of Machine Learning, 236-243, University of Massachusetts, Amherst. Morgan Kaufmann.\\n\",\n",
       " 'filename': 'D:\\\\.venv\\\\lib\\\\site-packages\\\\sklearn\\\\datasets\\\\data\\\\boston_house_prices.csv'}"
      ]
     },
     "execution_count": 9,
     "metadata": {},
     "output_type": "execute_result"
    }
   ],
   "source": [
    "load_boston()"
   ]
  },
  {
   "cell_type": "code",
   "execution_count": 10,
   "id": "8707ce42",
   "metadata": {
    "ExecuteTime": {
     "end_time": "2022-10-12T13:13:13.496270Z",
     "start_time": "2022-10-12T13:13:13.469341Z"
    },
    "scrolled": true
   },
   "outputs": [
    {
     "name": "stdout",
     "output_type": "stream",
     "text": [
      "(11610, 8) (11610,)\n",
      "(3870, 8) (3870,)\n",
      "(5160, 8) (5160,)\n"
     ]
    }
   ],
   "source": [
    "from sklearn.model_selection import train_test_split\n",
    "\n",
    "x_train_all, x_test, y_train_all, y_test = train_test_split(data, target, random_state=7)\n",
    "x_train, x_valid, y_train, y_valid = train_test_split(x_train_all, y_train_all, random_state=10)\n",
    "print(x_train.shape, y_train.shape)\n",
    "print(x_valid.shape, y_valid.shape)\n",
    "print(x_test.shape, y_test.shape)"
   ]
  },
  {
   "cell_type": "code",
   "execution_count": 11,
   "id": "09c84d7e",
   "metadata": {
    "ExecuteTime": {
     "end_time": "2022-10-12T13:13:13.512228Z",
     "start_time": "2022-10-12T13:13:13.497266Z"
    }
   },
   "outputs": [
    {
     "data": {
      "text/plain": [
       "array([[ 3.42310000e+00,  6.00000000e+00,  4.71142857e+00,\n",
       "         1.05428571e+00,  7.32000000e+02,  2.09142857e+00,\n",
       "         3.80000000e+01, -1.21350000e+02],\n",
       "       [ 1.26670000e+00,  7.00000000e+00,  3.32624113e+00,\n",
       "         1.05319149e+00,  1.18700000e+03,  4.20921986e+00,\n",
       "         3.25400000e+01, -1.17040000e+02],\n",
       "       [ 1.39290000e+00,  5.20000000e+01,  5.00000000e+00,\n",
       "         9.53488372e-01,  1.26000000e+02,  2.93023256e+00,\n",
       "         3.79200000e+01, -1.22360000e+02],\n",
       "       [ 2.63640000e+00,  3.90000000e+01,  3.57777778e+00,\n",
       "         9.11111111e-01,  3.19000000e+02,  3.54444444e+00,\n",
       "         3.40100000e+01, -1.18180000e+02],\n",
       "       [ 2.56820000e+00,  5.20000000e+01,  4.50000000e+00,\n",
       "         1.12264151e+00,  2.18000000e+02,  2.05660377e+00,\n",
       "         3.78500000e+01, -1.22290000e+02],\n",
       "       [ 8.73640000e+00,  2.30000000e+01,  7.28311258e+00,\n",
       "         1.21274834e+00,  2.75000000e+03,  2.27649007e+00,\n",
       "         3.40200000e+01, -1.18660000e+02],\n",
       "       [ 4.52210000e+00,  1.60000000e+01,  6.38494624e+00,\n",
       "         1.10537634e+00,  1.59400000e+03,  3.42795699e+00,\n",
       "         3.29200000e+01, -1.17150000e+02],\n",
       "       [ 2.31550000e+00,  1.40000000e+01,  4.29014599e+00,\n",
       "         1.13138686e+00,  1.21500000e+03,  2.21715328e+00,\n",
       "         3.97600000e+01, -1.21840000e+02],\n",
       "       [ 3.45190000e+00,  1.50000000e+01,  6.15730337e+00,\n",
       "         1.13033708e+00,  1.18800000e+03,  2.66966292e+00,\n",
       "         4.12800000e+01, -1.22450000e+02],\n",
       "       [ 6.67830000e+00,  1.60000000e+01,  6.45687646e+00,\n",
       "         9.46386946e-01,  1.26900000e+03,  2.95804196e+00,\n",
       "         3.27700000e+01, -1.16920000e+02]])"
      ]
     },
     "execution_count": 11,
     "metadata": {},
     "output_type": "execute_result"
    }
   ],
   "source": [
    "x_train[:10]"
   ]
  },
  {
   "cell_type": "code",
   "execution_count": 12,
   "id": "315670f4",
   "metadata": {
    "ExecuteTime": {
     "end_time": "2022-10-12T13:13:13.528183Z",
     "start_time": "2022-10-12T13:13:13.514221Z"
    }
   },
   "outputs": [
    {
     "data": {
      "text/plain": [
       "array([1.238  , 0.675  , 1.042  , 1.488  , 1.2    , 5.00001, 1.683  ,\n",
       "       1.023  , 1.288  , 2.75   ])"
      ]
     },
     "execution_count": 12,
     "metadata": {},
     "output_type": "execute_result"
    }
   ],
   "source": [
    "y_train[:10]"
   ]
  },
  {
   "cell_type": "code",
   "execution_count": 13,
   "id": "a1c111c0",
   "metadata": {
    "ExecuteTime": {
     "end_time": "2022-10-12T13:13:13.543143Z",
     "start_time": "2022-10-12T13:13:13.532173Z"
    }
   },
   "outputs": [],
   "source": [
    "import pandas as pd"
   ]
  },
  {
   "cell_type": "code",
   "execution_count": 14,
   "id": "8ca856a5",
   "metadata": {
    "ExecuteTime": {
     "end_time": "2022-10-12T13:13:13.559100Z",
     "start_time": "2022-10-12T13:13:13.545138Z"
    },
    "scrolled": true
   },
   "outputs": [],
   "source": [
    "df = pd.DataFrame(x_train, columns=housing.feature_names)"
   ]
  },
  {
   "cell_type": "code",
   "execution_count": 15,
   "id": "c80b74c2",
   "metadata": {
    "ExecuteTime": {
     "end_time": "2022-10-12T13:13:13.575057Z",
     "start_time": "2022-10-12T13:13:13.560098Z"
    },
    "scrolled": true
   },
   "outputs": [
    {
     "name": "stdout",
     "output_type": "stream",
     "text": [
      "<class 'pandas.core.frame.DataFrame'>\n",
      "RangeIndex: 11610 entries, 0 to 11609\n",
      "Data columns (total 8 columns):\n",
      " #   Column      Non-Null Count  Dtype  \n",
      "---  ------      --------------  -----  \n",
      " 0   MedInc      11610 non-null  float64\n",
      " 1   HouseAge    11610 non-null  float64\n",
      " 2   AveRooms    11610 non-null  float64\n",
      " 3   AveBedrms   11610 non-null  float64\n",
      " 4   Population  11610 non-null  float64\n",
      " 5   AveOccup    11610 non-null  float64\n",
      " 6   Latitude    11610 non-null  float64\n",
      " 7   Longitude   11610 non-null  float64\n",
      "dtypes: float64(8)\n",
      "memory usage: 725.8 KB\n"
     ]
    }
   ],
   "source": [
    "df.info()"
   ]
  },
  {
   "cell_type": "code",
   "execution_count": 16,
   "id": "fffa6b10",
   "metadata": {
    "ExecuteTime": {
     "end_time": "2022-10-12T13:13:13.621932Z",
     "start_time": "2022-10-12T13:13:13.576055Z"
    },
    "scrolled": true
   },
   "outputs": [
    {
     "data": {
      "text/html": [
       "<div>\n",
       "<style scoped>\n",
       "    .dataframe tbody tr th:only-of-type {\n",
       "        vertical-align: middle;\n",
       "    }\n",
       "\n",
       "    .dataframe tbody tr th {\n",
       "        vertical-align: top;\n",
       "    }\n",
       "\n",
       "    .dataframe thead th {\n",
       "        text-align: right;\n",
       "    }\n",
       "</style>\n",
       "<table border=\"1\" class=\"dataframe\">\n",
       "  <thead>\n",
       "    <tr style=\"text-align: right;\">\n",
       "      <th></th>\n",
       "      <th>MedInc</th>\n",
       "      <th>HouseAge</th>\n",
       "      <th>AveRooms</th>\n",
       "      <th>AveBedrms</th>\n",
       "      <th>Population</th>\n",
       "      <th>AveOccup</th>\n",
       "      <th>Latitude</th>\n",
       "      <th>Longitude</th>\n",
       "    </tr>\n",
       "  </thead>\n",
       "  <tbody>\n",
       "    <tr>\n",
       "      <th>count</th>\n",
       "      <td>11610.000000</td>\n",
       "      <td>11610.000000</td>\n",
       "      <td>11610.000000</td>\n",
       "      <td>11610.000000</td>\n",
       "      <td>11610.000000</td>\n",
       "      <td>11610.000000</td>\n",
       "      <td>11610.000000</td>\n",
       "      <td>11610.000000</td>\n",
       "    </tr>\n",
       "    <tr>\n",
       "      <th>mean</th>\n",
       "      <td>3.849622</td>\n",
       "      <td>28.672093</td>\n",
       "      <td>5.433468</td>\n",
       "      <td>1.100115</td>\n",
       "      <td>1430.323170</td>\n",
       "      <td>3.063673</td>\n",
       "      <td>35.650221</td>\n",
       "      <td>-119.589140</td>\n",
       "    </tr>\n",
       "    <tr>\n",
       "      <th>std</th>\n",
       "      <td>1.873817</td>\n",
       "      <td>12.580254</td>\n",
       "      <td>2.786144</td>\n",
       "      <td>0.548182</td>\n",
       "      <td>1166.870676</td>\n",
       "      <td>7.645761</td>\n",
       "      <td>2.135333</td>\n",
       "      <td>1.997227</td>\n",
       "    </tr>\n",
       "    <tr>\n",
       "      <th>min</th>\n",
       "      <td>0.499900</td>\n",
       "      <td>1.000000</td>\n",
       "      <td>0.846154</td>\n",
       "      <td>0.333333</td>\n",
       "      <td>5.000000</td>\n",
       "      <td>1.066176</td>\n",
       "      <td>32.540000</td>\n",
       "      <td>-124.350000</td>\n",
       "    </tr>\n",
       "    <tr>\n",
       "      <th>25%</th>\n",
       "      <td>2.562500</td>\n",
       "      <td>18.000000</td>\n",
       "      <td>4.426587</td>\n",
       "      <td>1.006428</td>\n",
       "      <td>790.000000</td>\n",
       "      <td>2.431696</td>\n",
       "      <td>33.940000</td>\n",
       "      <td>-121.810000</td>\n",
       "    </tr>\n",
       "    <tr>\n",
       "      <th>50%</th>\n",
       "      <td>3.525000</td>\n",
       "      <td>29.000000</td>\n",
       "      <td>5.223940</td>\n",
       "      <td>1.049261</td>\n",
       "      <td>1167.000000</td>\n",
       "      <td>2.813165</td>\n",
       "      <td>34.260000</td>\n",
       "      <td>-118.520000</td>\n",
       "    </tr>\n",
       "    <tr>\n",
       "      <th>75%</th>\n",
       "      <td>4.719300</td>\n",
       "      <td>37.000000</td>\n",
       "      <td>6.029486</td>\n",
       "      <td>1.099153</td>\n",
       "      <td>1733.750000</td>\n",
       "      <td>3.282670</td>\n",
       "      <td>37.720000</td>\n",
       "      <td>-118.020000</td>\n",
       "    </tr>\n",
       "    <tr>\n",
       "      <th>max</th>\n",
       "      <td>15.000100</td>\n",
       "      <td>52.000000</td>\n",
       "      <td>141.909091</td>\n",
       "      <td>34.066667</td>\n",
       "      <td>35682.000000</td>\n",
       "      <td>599.714286</td>\n",
       "      <td>41.950000</td>\n",
       "      <td>-114.310000</td>\n",
       "    </tr>\n",
       "  </tbody>\n",
       "</table>\n",
       "</div>"
      ],
      "text/plain": [
       "             MedInc      HouseAge      AveRooms     AveBedrms    Population  \\\n",
       "count  11610.000000  11610.000000  11610.000000  11610.000000  11610.000000   \n",
       "mean       3.849622     28.672093      5.433468      1.100115   1430.323170   \n",
       "std        1.873817     12.580254      2.786144      0.548182   1166.870676   \n",
       "min        0.499900      1.000000      0.846154      0.333333      5.000000   \n",
       "25%        2.562500     18.000000      4.426587      1.006428    790.000000   \n",
       "50%        3.525000     29.000000      5.223940      1.049261   1167.000000   \n",
       "75%        4.719300     37.000000      6.029486      1.099153   1733.750000   \n",
       "max       15.000100     52.000000    141.909091     34.066667  35682.000000   \n",
       "\n",
       "           AveOccup      Latitude     Longitude  \n",
       "count  11610.000000  11610.000000  11610.000000  \n",
       "mean       3.063673     35.650221   -119.589140  \n",
       "std        7.645761      2.135333      1.997227  \n",
       "min        1.066176     32.540000   -124.350000  \n",
       "25%        2.431696     33.940000   -121.810000  \n",
       "50%        2.813165     34.260000   -118.520000  \n",
       "75%        3.282670     37.720000   -118.020000  \n",
       "max      599.714286     41.950000   -114.310000  "
      ]
     },
     "execution_count": 16,
     "metadata": {},
     "output_type": "execute_result"
    }
   ],
   "source": [
    "df.describe()"
   ]
  },
  {
   "cell_type": "code",
   "execution_count": 17,
   "id": "5e071458",
   "metadata": {
    "ExecuteTime": {
     "end_time": "2022-10-12T13:13:13.637890Z",
     "start_time": "2022-10-12T13:13:13.623927Z"
    }
   },
   "outputs": [],
   "source": [
    "# 标准化处理\n",
    "from sklearn.preprocessing import StandardScaler\n",
    "\n",
    "scaler = StandardScaler()\n",
    "x_train_scaled = scaler.fit_transform(x_train)\n",
    "\n",
    "x_valid_scaled = scaler.transform(x_valid)\n",
    "x_test_scaled = scaler.transform(x_test)"
   ]
  },
  {
   "cell_type": "code",
   "execution_count": 18,
   "id": "bbac46bc",
   "metadata": {
    "ExecuteTime": {
     "end_time": "2022-10-12T13:13:13.653847Z",
     "start_time": "2022-10-12T13:13:13.638888Z"
    },
    "scrolled": true
   },
   "outputs": [
    {
     "data": {
      "text/plain": [
       "8"
      ]
     },
     "execution_count": 18,
     "metadata": {},
     "output_type": "execute_result"
    }
   ],
   "source": [
    "x_train.shape[-1]"
   ]
  },
  {
   "cell_type": "code",
   "execution_count": 19,
   "id": "a05a68f0",
   "metadata": {
    "ExecuteTime": {
     "end_time": "2022-10-12T13:13:13.669804Z",
     "start_time": "2022-10-12T13:13:13.654845Z"
    }
   },
   "outputs": [
    {
     "data": {
      "text/plain": [
       "(8,)"
      ]
     },
     "execution_count": 19,
     "metadata": {},
     "output_type": "execute_result"
    }
   ],
   "source": [
    "x_train.shape[1:]"
   ]
  },
  {
   "cell_type": "code",
   "execution_count": 34,
   "id": "70deffb3",
   "metadata": {
    "ExecuteTime": {
     "end_time": "2022-10-12T13:23:07.233213Z",
     "start_time": "2022-10-12T13:23:07.181348Z"
    }
   },
   "outputs": [],
   "source": [
    "# 定义网络\n",
    "# wide&deep模型就不能用sequential来写了. \n",
    "# 函数式API写法: 即每一层都当成一个函数来用. \n",
    "input_layer = keras.layers.Input(shape=x_train.shape[1:])\n",
    "hidden1 = keras.layers.Dense(32, activation='relu')(input_layer)\n",
    "hidden2 = keras.layers.Dense(32, activation='relu')(hidden1)\n",
    "\n",
    "# deep和wide模型都用了相同的输入数据. \n",
    "concat = keras.layers.concatenate([input_layer, hidden2])\n",
    "output = keras.layers.Dense(1)(concat)\n",
    "\n",
    "# 包装成一个model\n",
    "model = keras.models.Model(inputs=[input_layer], outputs=output)"
   ]
  },
  {
   "cell_type": "code",
   "execution_count": 35,
   "id": "f2c2257a",
   "metadata": {
    "ExecuteTime": {
     "end_time": "2022-10-12T13:23:13.107497Z",
     "start_time": "2022-10-12T13:23:13.093535Z"
    },
    "scrolled": false
   },
   "outputs": [
    {
     "name": "stdout",
     "output_type": "stream",
     "text": [
      "Model: \"model_1\"\n",
      "__________________________________________________________________________________________________\n",
      " Layer (type)                   Output Shape         Param #     Connected to                     \n",
      "==================================================================================================\n",
      " input_2 (InputLayer)           [(None, 8)]          0           []                               \n",
      "                                                                                                  \n",
      " dense_5 (Dense)                (None, 32)           288         ['input_2[0][0]']                \n",
      "                                                                                                  \n",
      " dense_6 (Dense)                (None, 32)           1056        ['dense_5[0][0]']                \n",
      "                                                                                                  \n",
      " concatenate_1 (Concatenate)    (None, 40)           0           ['input_2[0][0]',                \n",
      "                                                                  'dense_6[0][0]']                \n",
      "                                                                                                  \n",
      " dense_7 (Dense)                (None, 1)            41          ['concatenate_1[0][0]']          \n",
      "                                                                                                  \n",
      "==================================================================================================\n",
      "Total params: 1,385\n",
      "Trainable params: 1,385\n",
      "Non-trainable params: 0\n",
      "__________________________________________________________________________________________________\n"
     ]
    }
   ],
   "source": [
    "model.summary()"
   ]
  },
  {
   "cell_type": "code",
   "execution_count": 36,
   "id": "4365376a",
   "metadata": {
    "ExecuteTime": {
     "end_time": "2022-10-12T13:23:36.599660Z",
     "start_time": "2022-10-12T13:23:36.580710Z"
    }
   },
   "outputs": [],
   "source": [
    "model.compile(loss='mean_squared_error', optimizer='sgd', metrics=['mse'])"
   ]
  },
  {
   "cell_type": "code",
   "execution_count": 23,
   "id": "7e0919f3",
   "metadata": {
    "ExecuteTime": {
     "end_time": "2022-10-12T13:13:15.777169Z",
     "start_time": "2022-10-12T13:13:15.762207Z"
    }
   },
   "outputs": [],
   "source": [
    "# 常用的回调函数: \n",
    "# 1. tensorboard 可视化工具\n",
    "# 2. modelcheckpoint\n",
    "# 3. 早停止法earlystopping\n"
   ]
  },
  {
   "cell_type": "code",
   "execution_count": 24,
   "id": "88b08a50",
   "metadata": {
    "ExecuteTime": {
     "end_time": "2022-10-12T13:13:15.793125Z",
     "start_time": "2022-10-12T13:13:15.779162Z"
    }
   },
   "outputs": [],
   "source": [
    "import os"
   ]
  },
  {
   "cell_type": "code",
   "execution_count": 37,
   "id": "bc2ed535",
   "metadata": {
    "ExecuteTime": {
     "end_time": "2022-10-12T13:24:33.086111Z",
     "start_time": "2022-10-12T13:23:42.037656Z"
    },
    "scrolled": false
   },
   "outputs": [
    {
     "name": "stdout",
     "output_type": "stream",
     "text": [
      "Epoch 1/100\n",
      "182/182 [==============================] - 1s 6ms/step - loss: 1.4241 - mse: 1.4241 - val_loss: 0.6563 - val_mse: 0.6563\n",
      "Epoch 2/100\n",
      "182/182 [==============================] - 1s 4ms/step - loss: 0.6991 - mse: 0.6991 - val_loss: 0.5648 - val_mse: 0.5648\n",
      "Epoch 3/100\n",
      "182/182 [==============================] - 1s 4ms/step - loss: 0.5435 - mse: 0.5435 - val_loss: 0.4958 - val_mse: 0.4958\n",
      "Epoch 4/100\n",
      "182/182 [==============================] - 1s 4ms/step - loss: 0.5040 - mse: 0.5040 - val_loss: 0.4673 - val_mse: 0.4673\n",
      "Epoch 5/100\n",
      "182/182 [==============================] - 1s 4ms/step - loss: 0.4828 - mse: 0.4828 - val_loss: 0.4466 - val_mse: 0.4466\n",
      "Epoch 6/100\n",
      "182/182 [==============================] - 1s 4ms/step - loss: 0.4598 - mse: 0.4598 - val_loss: 0.4395 - val_mse: 0.4395\n",
      "Epoch 7/100\n",
      "182/182 [==============================] - 1s 4ms/step - loss: 0.5147 - mse: 0.5147 - val_loss: 0.4211 - val_mse: 0.4211\n",
      "Epoch 8/100\n",
      "182/182 [==============================] - 1s 4ms/step - loss: 0.4293 - mse: 0.4293 - val_loss: 0.4045 - val_mse: 0.4045\n",
      "Epoch 9/100\n",
      "182/182 [==============================] - 1s 4ms/step - loss: 0.4172 - mse: 0.4172 - val_loss: 0.3962 - val_mse: 0.3962\n",
      "Epoch 10/100\n",
      "182/182 [==============================] - 1s 4ms/step - loss: 0.4094 - mse: 0.4094 - val_loss: 0.3878 - val_mse: 0.3878\n",
      "Epoch 11/100\n",
      "182/182 [==============================] - 1s 4ms/step - loss: 0.4050 - mse: 0.4050 - val_loss: 0.3836 - val_mse: 0.3836\n",
      "Epoch 12/100\n",
      "182/182 [==============================] - 1s 4ms/step - loss: 0.3947 - mse: 0.3947 - val_loss: 0.3756 - val_mse: 0.3756\n",
      "Epoch 13/100\n",
      "182/182 [==============================] - 1s 4ms/step - loss: 0.3888 - mse: 0.3888 - val_loss: 0.3731 - val_mse: 0.3731\n",
      "Epoch 14/100\n",
      "182/182 [==============================] - 1s 4ms/step - loss: 0.3862 - mse: 0.3862 - val_loss: 0.3676 - val_mse: 0.3676\n",
      "Epoch 15/100\n",
      "182/182 [==============================] - 1s 4ms/step - loss: 0.3827 - mse: 0.3827 - val_loss: 0.3640 - val_mse: 0.3640\n",
      "Epoch 16/100\n",
      "182/182 [==============================] - 1s 4ms/step - loss: 0.3798 - mse: 0.3798 - val_loss: 0.3668 - val_mse: 0.3668\n",
      "Epoch 17/100\n",
      "182/182 [==============================] - 1s 4ms/step - loss: 0.3751 - mse: 0.3751 - val_loss: 0.3606 - val_mse: 0.3606\n",
      "Epoch 18/100\n",
      "182/182 [==============================] - 1s 4ms/step - loss: 0.3704 - mse: 0.3704 - val_loss: 0.3569 - val_mse: 0.3569\n",
      "Epoch 19/100\n",
      "182/182 [==============================] - 1s 4ms/step - loss: 0.3697 - mse: 0.3697 - val_loss: 0.3567 - val_mse: 0.3567\n",
      "Epoch 20/100\n",
      "182/182 [==============================] - 1s 4ms/step - loss: 0.3677 - mse: 0.3677 - val_loss: 0.3507 - val_mse: 0.3507\n",
      "Epoch 21/100\n",
      "182/182 [==============================] - 1s 4ms/step - loss: 0.3613 - mse: 0.3613 - val_loss: 0.3568 - val_mse: 0.3568\n",
      "Epoch 22/100\n",
      "182/182 [==============================] - 1s 4ms/step - loss: 0.3576 - mse: 0.3576 - val_loss: 0.3433 - val_mse: 0.3433\n",
      "Epoch 23/100\n",
      "182/182 [==============================] - 1s 3ms/step - loss: 0.3571 - mse: 0.3571 - val_loss: 0.3536 - val_mse: 0.3536\n",
      "Epoch 24/100\n",
      "182/182 [==============================] - 1s 4ms/step - loss: 0.3733 - mse: 0.3733 - val_loss: 0.3454 - val_mse: 0.3454\n",
      "Epoch 25/100\n",
      "182/182 [==============================] - 1s 4ms/step - loss: 0.3549 - mse: 0.3549 - val_loss: 0.3435 - val_mse: 0.3435\n",
      "Epoch 26/100\n",
      "182/182 [==============================] - 1s 4ms/step - loss: 0.3479 - mse: 0.3479 - val_loss: 0.3411 - val_mse: 0.3411\n",
      "Epoch 27/100\n",
      "182/182 [==============================] - 1s 4ms/step - loss: 0.3458 - mse: 0.3458 - val_loss: 0.3400 - val_mse: 0.3400\n",
      "Epoch 28/100\n",
      "182/182 [==============================] - 1s 4ms/step - loss: 0.3437 - mse: 0.3437 - val_loss: 0.3390 - val_mse: 0.3390\n",
      "Epoch 29/100\n",
      "182/182 [==============================] - 1s 4ms/step - loss: 0.3464 - mse: 0.3464 - val_loss: 0.3318 - val_mse: 0.3318\n",
      "Epoch 30/100\n",
      "182/182 [==============================] - 1s 4ms/step - loss: 0.3408 - mse: 0.3408 - val_loss: 0.3425 - val_mse: 0.3425\n",
      "Epoch 31/100\n",
      "182/182 [==============================] - 1s 4ms/step - loss: 0.3415 - mse: 0.3415 - val_loss: 0.3306 - val_mse: 0.3306\n",
      "Epoch 32/100\n",
      "182/182 [==============================] - 1s 4ms/step - loss: 0.3364 - mse: 0.3364 - val_loss: 0.3336 - val_mse: 0.3336\n",
      "Epoch 33/100\n",
      "182/182 [==============================] - 1s 4ms/step - loss: 0.3379 - mse: 0.3379 - val_loss: 0.3281 - val_mse: 0.3281\n",
      "Epoch 34/100\n",
      "182/182 [==============================] - 1s 4ms/step - loss: 0.3356 - mse: 0.3356 - val_loss: 0.3417 - val_mse: 0.3417\n",
      "Epoch 35/100\n",
      "182/182 [==============================] - 1s 4ms/step - loss: 0.3336 - mse: 0.3336 - val_loss: 0.3246 - val_mse: 0.3246\n",
      "Epoch 36/100\n",
      "182/182 [==============================] - 1s 4ms/step - loss: 0.3298 - mse: 0.3298 - val_loss: 0.3302 - val_mse: 0.3302\n",
      "Epoch 37/100\n",
      "182/182 [==============================] - 1s 4ms/step - loss: 0.3273 - mse: 0.3273 - val_loss: 0.3393 - val_mse: 0.3393\n",
      "Epoch 38/100\n",
      "182/182 [==============================] - 1s 4ms/step - loss: 0.3261 - mse: 0.3261 - val_loss: 0.3251 - val_mse: 0.3251\n",
      "Epoch 39/100\n",
      "182/182 [==============================] - 1s 4ms/step - loss: 0.3256 - mse: 0.3256 - val_loss: 0.3221 - val_mse: 0.3221\n",
      "Epoch 40/100\n",
      "182/182 [==============================] - 1s 4ms/step - loss: 0.3244 - mse: 0.3244 - val_loss: 0.3264 - val_mse: 0.3264\n",
      "Epoch 41/100\n",
      "182/182 [==============================] - 1s 4ms/step - loss: 0.3247 - mse: 0.3247 - val_loss: 0.3218 - val_mse: 0.3218\n",
      "Epoch 42/100\n",
      "182/182 [==============================] - 1s 4ms/step - loss: 0.3230 - mse: 0.3230 - val_loss: 0.3171 - val_mse: 0.3171\n",
      "Epoch 43/100\n",
      "182/182 [==============================] - 1s 4ms/step - loss: 0.3250 - mse: 0.3250 - val_loss: 0.3198 - val_mse: 0.3198\n",
      "Epoch 44/100\n",
      "182/182 [==============================] - 1s 4ms/step - loss: 0.3195 - mse: 0.3195 - val_loss: 0.3183 - val_mse: 0.3183\n",
      "Epoch 45/100\n",
      "182/182 [==============================] - 1s 4ms/step - loss: 0.3174 - mse: 0.3174 - val_loss: 0.3155 - val_mse: 0.3155\n",
      "Epoch 46/100\n",
      "182/182 [==============================] - 1s 4ms/step - loss: 0.3212 - mse: 0.3212 - val_loss: 0.3193 - val_mse: 0.3193\n",
      "Epoch 47/100\n",
      "182/182 [==============================] - 1s 4ms/step - loss: 0.3201 - mse: 0.3201 - val_loss: 0.3229 - val_mse: 0.3229\n",
      "Epoch 48/100\n",
      "182/182 [==============================] - 1s 4ms/step - loss: 0.3204 - mse: 0.3204 - val_loss: 0.3247 - val_mse: 0.3247\n",
      "Epoch 49/100\n",
      "182/182 [==============================] - 1s 4ms/step - loss: 0.3151 - mse: 0.3151 - val_loss: 0.3123 - val_mse: 0.3123\n",
      "Epoch 50/100\n",
      "182/182 [==============================] - 1s 4ms/step - loss: 0.3112 - mse: 0.3112 - val_loss: 0.3100 - val_mse: 0.3100\n",
      "Epoch 51/100\n",
      "182/182 [==============================] - 1s 4ms/step - loss: 0.3208 - mse: 0.3208 - val_loss: 0.3096 - val_mse: 0.3096\n",
      "Epoch 52/100\n",
      "182/182 [==============================] - 1s 4ms/step - loss: 0.3239 - mse: 0.3239 - val_loss: 0.3121 - val_mse: 0.3121\n",
      "Epoch 53/100\n",
      "182/182 [==============================] - 1s 4ms/step - loss: 0.3149 - mse: 0.3149 - val_loss: 0.3099 - val_mse: 0.3099\n",
      "Epoch 54/100\n",
      "182/182 [==============================] - 1s 4ms/step - loss: 0.3159 - mse: 0.3159 - val_loss: 0.3070 - val_mse: 0.3070\n",
      "Epoch 55/100\n",
      "182/182 [==============================] - 1s 4ms/step - loss: 0.3123 - mse: 0.3123 - val_loss: 0.3129 - val_mse: 0.3129\n",
      "Epoch 56/100\n",
      "182/182 [==============================] - 1s 4ms/step - loss: 0.3133 - mse: 0.3133 - val_loss: 0.3090 - val_mse: 0.3090\n",
      "Epoch 57/100\n",
      "182/182 [==============================] - 1s 4ms/step - loss: 0.3139 - mse: 0.3139 - val_loss: 0.3050 - val_mse: 0.3050\n",
      "Epoch 58/100\n",
      "182/182 [==============================] - 1s 4ms/step - loss: 0.3054 - mse: 0.3054 - val_loss: 0.3034 - val_mse: 0.3034\n",
      "Epoch 59/100\n",
      "182/182 [==============================] - 1s 4ms/step - loss: 0.3046 - mse: 0.3046 - val_loss: 0.3099 - val_mse: 0.3099\n",
      "Epoch 60/100\n",
      "182/182 [==============================] - 1s 4ms/step - loss: 0.3065 - mse: 0.3065 - val_loss: 0.3053 - val_mse: 0.3053\n",
      "Epoch 61/100\n",
      "182/182 [==============================] - 1s 4ms/step - loss: 0.3068 - mse: 0.3068 - val_loss: 0.3110 - val_mse: 0.3110\n",
      "Epoch 62/100\n"
     ]
    },
    {
     "name": "stdout",
     "output_type": "stream",
     "text": [
      "182/182 [==============================] - 1s 4ms/step - loss: 0.3073 - mse: 0.3073 - val_loss: 0.3019 - val_mse: 0.3019\n",
      "Epoch 63/100\n",
      "182/182 [==============================] - 1s 4ms/step - loss: 0.3048 - mse: 0.3048 - val_loss: 0.3025 - val_mse: 0.3025\n",
      "Epoch 64/100\n",
      "182/182 [==============================] - 1s 4ms/step - loss: 0.3032 - mse: 0.3032 - val_loss: 0.3163 - val_mse: 0.3163\n",
      "Epoch 65/100\n",
      "182/182 [==============================] - 1s 3ms/step - loss: 0.3025 - mse: 0.3025 - val_loss: 0.3070 - val_mse: 0.3070\n",
      "Epoch 66/100\n",
      "182/182 [==============================] - 1s 4ms/step - loss: 0.3075 - mse: 0.3075 - val_loss: 0.3007 - val_mse: 0.3007\n",
      "Epoch 67/100\n",
      "182/182 [==============================] - 1s 4ms/step - loss: 0.3114 - mse: 0.3114 - val_loss: 0.2993 - val_mse: 0.2993\n",
      "Epoch 68/100\n",
      "182/182 [==============================] - 1s 4ms/step - loss: 0.3197 - mse: 0.3197 - val_loss: 0.3032 - val_mse: 0.3032\n",
      "Epoch 69/100\n",
      "182/182 [==============================] - 1s 4ms/step - loss: 0.3071 - mse: 0.3071 - val_loss: 0.3092 - val_mse: 0.3092\n",
      "Epoch 70/100\n",
      "182/182 [==============================] - 1s 4ms/step - loss: 0.2994 - mse: 0.2994 - val_loss: 0.3039 - val_mse: 0.3039\n",
      "Epoch 71/100\n",
      "182/182 [==============================] - 1s 4ms/step - loss: 0.3001 - mse: 0.3001 - val_loss: 0.3131 - val_mse: 0.3131\n",
      "Epoch 72/100\n",
      "182/182 [==============================] - 1s 3ms/step - loss: 0.2974 - mse: 0.2974 - val_loss: 0.2997 - val_mse: 0.2997\n"
     ]
    }
   ],
   "source": [
    "# tensorboard的日志目录不要有中文. \n",
    "log_dir = r'D:\\callbacks'\n",
    "if not os.path.exists(log_dir):\n",
    "    os.mkdir(log_dir)\n",
    "    \n",
    "output_model_file = os.path.join(log_dir, 'model.h5')\n",
    "\n",
    "callbacks = [\n",
    "    keras.callbacks.TensorBoard(log_dir),\n",
    "    keras.callbacks.ModelCheckpoint(output_model_file, save_best_only=True),\n",
    "    keras.callbacks.EarlyStopping(patience=5, min_delta=1e-3)\n",
    "]\n",
    "history = model.fit(x_train_scaled, y_train, batch_size=64, epochs=100, validation_data=(x_valid_scaled, y_valid), callbacks=callbacks)"
   ]
  },
  {
   "cell_type": "code",
   "execution_count": 38,
   "id": "a5acaf46",
   "metadata": {
    "ExecuteTime": {
     "end_time": "2022-10-12T13:25:06.987446Z",
     "start_time": "2022-10-12T13:25:06.916634Z"
    }
   },
   "outputs": [],
   "source": [
    "model2 = keras.models.load_model(r'D:\\callbacks\\model.h5')"
   ]
  },
  {
   "cell_type": "code",
   "execution_count": 39,
   "id": "a40169ed",
   "metadata": {
    "ExecuteTime": {
     "end_time": "2022-10-12T13:25:09.757036Z",
     "start_time": "2022-10-12T13:25:09.164621Z"
    }
   },
   "outputs": [
    {
     "name": "stdout",
     "output_type": "stream",
     "text": [
      "121/121 [==============================] - 1s 4ms/step - loss: 0.2993 - mse: 0.2993\n"
     ]
    },
    {
     "data": {
      "text/plain": [
       "[0.29925039410591125, 0.29925039410591125]"
      ]
     },
     "execution_count": 39,
     "metadata": {},
     "output_type": "execute_result"
    }
   ],
   "source": [
    "model2.evaluate(x_valid_scaled, y_valid)"
   ]
  },
  {
   "cell_type": "code",
   "execution_count": 40,
   "id": "b216c132",
   "metadata": {
    "ExecuteTime": {
     "end_time": "2022-10-12T13:25:17.164223Z",
     "start_time": "2022-10-12T13:25:16.524933Z"
    }
   },
   "outputs": [
    {
     "name": "stdout",
     "output_type": "stream",
     "text": [
      "162/162 [==============================] - 1s 4ms/step - loss: 0.3730 - mse: 0.3730\n"
     ]
    },
    {
     "data": {
      "text/plain": [
       "[0.37303680181503296, 0.37303680181503296]"
      ]
     },
     "execution_count": 40,
     "metadata": {},
     "output_type": "execute_result"
    }
   ],
   "source": [
    "model2.evaluate(x_test_scaled, y_test)"
   ]
  },
  {
   "cell_type": "code",
   "execution_count": 29,
   "id": "c2be6617",
   "metadata": {
    "ExecuteTime": {
     "end_time": "2022-10-12T13:13:54.453743Z",
     "start_time": "2022-10-12T13:13:54.133599Z"
    }
   },
   "outputs": [
    {
     "name": "stdout",
     "output_type": "stream",
     "text": [
      "121/121 [==============================] - 0s 2ms/step - loss: 0.3363 - mse: 0.3363\n"
     ]
    },
    {
     "data": {
      "text/plain": [
       "[0.33631631731987, 0.33631631731987]"
      ]
     },
     "execution_count": 29,
     "metadata": {},
     "output_type": "execute_result"
    }
   ],
   "source": [
    "model.evaluate(x_valid_scaled, y_valid)"
   ]
  },
  {
   "cell_type": "code",
   "execution_count": 41,
   "id": "c8db2b06",
   "metadata": {
    "ExecuteTime": {
     "end_time": "2022-10-12T13:29:47.625300Z",
     "start_time": "2022-10-12T13:29:47.493652Z"
    }
   },
   "outputs": [
    {
     "data": {
      "text/plain": [
       "<AxesSubplot:>"
      ]
     },
     "execution_count": 41,
     "metadata": {},
     "output_type": "execute_result"
    },
    {
     "data": {
      "image/png": "[encoded data removed]",
      "text/plain": [
       "<Figure size 576x360 with 1 Axes>"
      ]
     },
     "metadata": {
      "needs_background": "light"
     },
     "output_type": "display_data"
    }
   ],
   "source": [
    "pd.DataFrame(history.history).plot(figsize=(8, 5))"
   ]
  },
  {
   "cell_type": "code",
   "execution_count": 31,
   "id": "213bfc65",
   "metadata": {
    "ExecuteTime": {
     "end_time": "2022-10-12T13:13:55.833055Z",
     "start_time": "2022-10-12T13:13:55.380266Z"
    }
   },
   "outputs": [
    {
     "name": "stdout",
     "output_type": "stream",
     "text": [
      "162/162 [==============================] - 0s 2ms/step - loss: 33568.8633 - mse: 33568.8633\n"
     ]
    },
    {
     "data": {
      "text/plain": [
       "[33568.86328125, 33568.86328125]"
      ]
     },
     "execution_count": 31,
     "metadata": {},
     "output_type": "execute_result"
    }
   ],
   "source": [
    "# 数据分布不一样, 差距特别大. \n",
    "model.evaluate(x_test, y_test)"
   ]
  },
  {
   "cell_type": "code",
   "execution_count": 32,
   "id": "558560da",
   "metadata": {
    "ExecuteTime": {
     "end_time": "2022-10-12T13:13:56.248941Z",
     "start_time": "2022-10-12T13:13:55.835048Z"
    }
   },
   "outputs": [
    {
     "name": "stdout",
     "output_type": "stream",
     "text": [
      "162/162 [==============================] - 0s 2ms/step - loss: 0.3602 - mse: 0.3602\n"
     ]
    },
    {
     "data": {
      "text/plain": [
       "[0.36022016406059265, 0.36022016406059265]"
      ]
     },
     "execution_count": 32,
     "metadata": {},
     "output_type": "execute_result"
    }
   ],
   "source": [
    "model.evaluate(x_test_scaled, y_test)"
   ]
  }
 ],
 "metadata": {
  "kernelspec": {
   "display_name": "Python 3 (ipykernel)",
   "language": "python",
   "name": "python3"
  },
  "language_info": {
   "codemirror_mode": {
    "name": "ipython",
    "version": 3
   },
   "file_extension": ".py",
   "mimetype": "text/x-python",
   "name": "python",
   "nbconvert_exporter": "python",
   "pygments_lexer": "ipython3",
   "version": "3.7.8"
  },
  "toc": {
   "base_numbering": 1,
   "nav_menu": {},
   "number_sections": true,
   "sideBar": true,
   "skip_h1_title": false,
   "title_cell": "Table of Contents",
   "title_sidebar": "Contents",
   "toc_cell": false,
   "toc_position": {},
   "toc_section_display": true,
   "toc_window_display": false
  }
 },
 "nbformat": 4,
 "nbformat_minor": 5
}
