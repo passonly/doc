{
 "cells": [
  {
   "cell_type": "code",
   "execution_count": null,
   "id": "80c8f413",
   "metadata": {},
   "outputs": [],
   "source": [
    "# 自己实现算法要分三步:\n",
    "1. 找到算法的预测函数: y = wx + b -> 1 / (1 + e^-y)\n",
    "2. 找到算法的损失函数: -(y_true * log(y_pred) + (1 - y_true) * log(1 - y_pred)). \n",
    "3. 使用梯度下降求损失最小的时候的参数(w, b)"
   ]
  },
  {
   "cell_type": "code",
   "execution_count": 1,
   "id": "5286e148",
   "metadata": {
    "ExecuteTime": {
     "end_time": "2022-09-26T12:14:09.418478Z",
     "start_time": "2022-09-26T12:13:55.540598Z"
    }
   },
   "outputs": [],
   "source": [
    "import tensorflow as tf\n",
    "from sklearn.datasets import make_blobs\n",
    "import numpy as np\n",
    "import matplotlib.pyplot as plt"
   ]
  },
  {
   "cell_type": "code",
   "execution_count": 4,
   "id": "fe518dc5",
   "metadata": {
    "ExecuteTime": {
     "end_time": "2022-09-26T12:15:11.349817Z",
     "start_time": "2022-09-26T12:15:11.171295Z"
    },
    "scrolled": true
   },
   "outputs": [
    {
     "data": {
      "text/plain": [
       "<matplotlib.collections.PathCollection at 0x1f4e62c65c8>"
      ]
     },
     "execution_count": 4,
     "metadata": {},
     "output_type": "execute_result"
    },
    {
     "data": {
      "image/png": "[encoded data removed]",
      "text/plain": [
       "<Figure size 432x288 with 1 Axes>"
      ]
     },
     "metadata": {
      "needs_background": "light"
     },
     "output_type": "display_data"
    }
   ],
   "source": [
    "data, target = make_blobs(centers=2)\n",
    "plt.scatter(data[:, 0], data[:, 1], c=target)"
   ]
  },
  {
   "cell_type": "code",
   "execution_count": 5,
   "id": "95c94b06",
   "metadata": {
    "ExecuteTime": {
     "end_time": "2022-09-26T12:16:31.511394Z",
     "start_time": "2022-09-26T12:16:26.339229Z"
    }
   },
   "outputs": [],
   "source": [
    "x = tf.constant(data, dtype=tf.float32)\n",
    "y = tf.constant(target, dtype=tf.float32)"
   ]
  },
  {
   "cell_type": "code",
   "execution_count": 6,
   "id": "89516b3b",
   "metadata": {
    "ExecuteTime": {
     "end_time": "2022-09-26T12:17:04.300689Z",
     "start_time": "2022-09-26T12:17:04.290713Z"
    }
   },
   "outputs": [
    {
     "data": {
      "text/plain": [
       "(100, 2)"
      ]
     },
     "execution_count": 6,
     "metadata": {},
     "output_type": "execute_result"
    }
   ],
   "source": [
    "data.shape"
   ]
  },
  {
   "cell_type": "code",
   "execution_count": 7,
   "id": "d5864499",
   "metadata": {
    "ExecuteTime": {
     "end_time": "2022-09-26T12:18:33.946913Z",
     "start_time": "2022-09-26T12:18:33.890065Z"
    }
   },
   "outputs": [],
   "source": [
    "# 参数初始化\n",
    "W = tf.Variable(np.random.randn(2, 1) * 0.01, dtype=tf.float32)\n",
    "B = tf.Variable(0., dtype=tf.float32)"
   ]
  },
  {
   "cell_type": "code",
   "execution_count": 14,
   "id": "80dbb692",
   "metadata": {
    "ExecuteTime": {
     "end_time": "2022-09-26T12:32:58.091461Z",
     "start_time": "2022-09-26T12:32:58.081481Z"
    }
   },
   "outputs": [],
   "source": [
    "# 预测函数\n",
    "def sigmoid(x):\n",
    "    linear = tf.matmul(x, W) + B\n",
    "#     return 1 / (1 + tf.exp(-linear))\n",
    "    return tf.nn.sigmoid(linear)"
   ]
  },
  {
   "cell_type": "code",
   "execution_count": 9,
   "id": "00f19c04",
   "metadata": {
    "ExecuteTime": {
     "end_time": "2022-09-26T12:24:41.694747Z",
     "start_time": "2022-09-26T12:24:41.681783Z"
    }
   },
   "outputs": [],
   "source": [
    "# 损失函数\n",
    "def cross_entropy_loss(y_true, y_pred):\n",
    "    y_pred = tf.reshape(y_pred, shape=[100])\n",
    "    # -(y_true * log(y_pred) + (1 - y_true) * log(1 - y_pred))\n",
    "    return tf.reduce_mean(-(tf.multiply(y_true, tf.math.log(y_pred)) + tf.multiply((1 - y_true), tf.math.log(1 - y_pred))))"
   ]
  },
  {
   "cell_type": "code",
   "execution_count": 10,
   "id": "286affde",
   "metadata": {
    "ExecuteTime": {
     "end_time": "2022-09-26T12:25:18.720707Z",
     "start_time": "2022-09-26T12:25:18.706745Z"
    }
   },
   "outputs": [],
   "source": [
    "# 定义优化器\n",
    "optimizer = tf.optimizers.Adam()"
   ]
  },
  {
   "cell_type": "code",
   "execution_count": 16,
   "id": "10914512",
   "metadata": {
    "ExecuteTime": {
     "end_time": "2022-09-26T12:33:29.338379Z",
     "start_time": "2022-09-26T12:33:29.329403Z"
    }
   },
   "outputs": [],
   "source": [
    "# 优化过程\n",
    "def run_optimization():\n",
    "    with tf.GradientTape() as g:\n",
    "        pred = sigmoid(x)\n",
    "        loss = cross_entropy_loss(y, pred)\n",
    "    # 计算梯度\n",
    "    gradients = g.gradient(loss, [W, B])\n",
    "    # 更新\n",
    "    optimizer.apply_gradients(zip(gradients, [W, B]))"
   ]
  },
  {
   "cell_type": "code",
   "execution_count": 12,
   "id": "2d3f88fc",
   "metadata": {
    "ExecuteTime": {
     "end_time": "2022-09-26T12:31:33.220473Z",
     "start_time": "2022-09-26T12:31:33.201524Z"
    }
   },
   "outputs": [],
   "source": [
    "# 计算准确率\n",
    "def accuracy(y_true, y_pred):\n",
    "    y_pred = tf.reshape(y_pred, shape=[100])\n",
    "    y_ = y_pred.numpy() > 0.5\n",
    "    y_true = y_true.numpy()\n",
    "    return (y_ == y_true).mean()"
   ]
  },
  {
   "cell_type": "code",
   "execution_count": 19,
   "id": "17322c50",
   "metadata": {
    "ExecuteTime": {
     "end_time": "2022-09-26T12:35:01.229095Z",
     "start_time": "2022-09-26T12:34:36.769522Z"
    }
   },
   "outputs": [
    {
     "name": "stdout",
     "output_type": "stream",
     "text": [
      "训练次数: 0, 准确率: 0.970, 损失:0.0861\n",
      "训练次数: 100, 准确率: 0.970, 损失:0.0852\n",
      "训练次数: 200, 准确率: 0.970, 损失:0.0843\n",
      "训练次数: 300, 准确率: 0.970, 损失:0.0835\n",
      "训练次数: 400, 准确率: 0.970, 损失:0.0827\n",
      "训练次数: 500, 准确率: 0.970, 损失:0.0819\n",
      "训练次数: 600, 准确率: 0.970, 损失:0.0812\n",
      "训练次数: 700, 准确率: 0.970, 损失:0.0804\n",
      "训练次数: 800, 准确率: 0.970, 损失:0.0797\n",
      "训练次数: 900, 准确率: 0.970, 损失:0.0791\n",
      "训练次数: 1000, 准确率: 0.970, 损失:0.0784\n",
      "训练次数: 1100, 准确率: 0.970, 损失:0.0778\n",
      "训练次数: 1200, 准确率: 0.970, 损失:0.0772\n",
      "训练次数: 1300, 准确率: 0.970, 损失:0.0766\n",
      "训练次数: 1400, 准确率: 0.970, 损失:0.0761\n",
      "训练次数: 1500, 准确率: 0.970, 损失:0.0755\n",
      "训练次数: 1600, 准确率: 0.970, 损失:0.0750\n",
      "训练次数: 1700, 准确率: 0.970, 损失:0.0745\n",
      "训练次数: 1800, 准确率: 0.970, 损失:0.0740\n",
      "训练次数: 1900, 准确率: 0.970, 损失:0.0735\n",
      "训练次数: 2000, 准确率: 0.970, 损失:0.0730\n",
      "训练次数: 2100, 准确率: 0.970, 损失:0.0725\n",
      "训练次数: 2200, 准确率: 0.970, 损失:0.0721\n",
      "训练次数: 2300, 准确率: 0.970, 损失:0.0717\n",
      "训练次数: 2400, 准确率: 0.970, 损失:0.0712\n",
      "训练次数: 2500, 准确率: 0.970, 损失:0.0708\n",
      "训练次数: 2600, 准确率: 0.970, 损失:0.0704\n",
      "训练次数: 2700, 准确率: 0.970, 损失:0.0700\n",
      "训练次数: 2800, 准确率: 0.970, 损失:0.0696\n",
      "训练次数: 2900, 准确率: 0.970, 损失:0.0692\n",
      "训练次数: 3000, 准确率: 0.970, 损失:0.0689\n",
      "训练次数: 3100, 准确率: 0.970, 损失:0.0685\n",
      "训练次数: 3200, 准确率: 0.970, 损失:0.0681\n",
      "训练次数: 3300, 准确率: 0.970, 损失:0.0678\n",
      "训练次数: 3400, 准确率: 0.970, 损失:0.0674\n",
      "训练次数: 3500, 准确率: 0.970, 损失:0.0671\n",
      "训练次数: 3600, 准确率: 0.970, 损失:0.0667\n",
      "训练次数: 3700, 准确率: 0.970, 损失:0.0664\n",
      "训练次数: 3800, 准确率: 0.970, 损失:0.0661\n",
      "训练次数: 3900, 准确率: 0.970, 损失:0.0658\n",
      "训练次数: 4000, 准确率: 0.970, 损失:0.0654\n",
      "训练次数: 4100, 准确率: 0.970, 损失:0.0651\n",
      "训练次数: 4200, 准确率: 0.970, 损失:0.0648\n",
      "训练次数: 4300, 准确率: 0.970, 损失:0.0645\n",
      "训练次数: 4400, 准确率: 0.970, 损失:0.0642\n",
      "训练次数: 4500, 准确率: 0.970, 损失:0.0639\n",
      "训练次数: 4600, 准确率: 0.970, 损失:0.0636\n",
      "训练次数: 4700, 准确率: 0.970, 损失:0.0633\n",
      "训练次数: 4800, 准确率: 0.970, 损失:0.0630\n",
      "训练次数: 4900, 准确率: 0.970, 损失:0.0627\n"
     ]
    }
   ],
   "source": [
    "for i in range(5000):\n",
    "    run_optimization()\n",
    "    \n",
    "    if i % 100 == 0:\n",
    "        pred = sigmoid(x)\n",
    "        acc = accuracy(y, pred)\n",
    "        loss = cross_entropy_loss(y, pred)\n",
    "        print(f'训练次数: {i}, 准确率: {acc:.3f}, 损失:{loss:.4f}')"
   ]
  }
 ],
 "metadata": {
  "kernelspec": {
   "display_name": "Python 3 (ipykernel)",
   "language": "python",
   "name": "python3"
  },
  "language_info": {
   "codemirror_mode": {
    "name": "ipython",
    "version": 3
   },
   "file_extension": ".py",
   "mimetype": "text/x-python",
   "name": "python",
   "nbconvert_exporter": "python",
   "pygments_lexer": "ipython3",
   "version": "3.7.8"
  },
  "toc": {
   "base_numbering": 1,
   "nav_menu": {},
   "number_sections": true,
   "sideBar": true,
   "skip_h1_title": false,
   "title_cell": "Table of Contents",
   "title_sidebar": "Contents",
   "toc_cell": false,
   "toc_position": {},
   "toc_section_display": true,
   "toc_window_display": false
  }
 },
 "nbformat": 4,
 "nbformat_minor": 5
}
