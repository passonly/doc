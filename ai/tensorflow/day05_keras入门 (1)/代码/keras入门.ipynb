{
 "cells": [
  {
   "cell_type": "code",
   "execution_count": 1,
   "id": "cd344a0e",
   "metadata": {
    "ExecuteTime": {
     "end_time": "2022-09-26T12:46:01.212825Z",
     "start_time": "2022-09-26T12:45:58.083197Z"
    }
   },
   "outputs": [],
   "source": [
    "# 手写数字\n",
    "import tensorflow as tf\n",
    "import numpy as np\n",
    "import matplotlib.pyplot as plt"
   ]
  },
  {
   "cell_type": "code",
   "execution_count": 38,
   "id": "f3de66df",
   "metadata": {
    "ExecuteTime": {
     "end_time": "2022-09-26T14:05:09.469252Z",
     "start_time": "2022-09-26T14:05:09.202962Z"
    }
   },
   "outputs": [],
   "source": [
    "from tensorflow.keras.datasets import mnist\n",
    "\n",
    "(x_train, y_train), (x_test, y_test) = mnist.load_data()"
   ]
  },
  {
   "cell_type": "code",
   "execution_count": 3,
   "id": "7185e1ed",
   "metadata": {
    "ExecuteTime": {
     "end_time": "2022-09-26T12:48:15.640004Z",
     "start_time": "2022-09-26T12:48:15.624047Z"
    }
   },
   "outputs": [
    {
     "data": {
      "text/plain": [
       "(60000, 28, 28)"
      ]
     },
     "execution_count": 3,
     "metadata": {},
     "output_type": "execute_result"
    }
   ],
   "source": [
    "x_train.shape"
   ]
  },
  {
   "cell_type": "code",
   "execution_count": 4,
   "id": "c8d0627f",
   "metadata": {
    "ExecuteTime": {
     "end_time": "2022-09-26T12:48:26.203894Z",
     "start_time": "2022-09-26T12:48:26.191929Z"
    }
   },
   "outputs": [
    {
     "data": {
      "text/plain": [
       "(60000,)"
      ]
     },
     "execution_count": 4,
     "metadata": {},
     "output_type": "execute_result"
    }
   ],
   "source": [
    "y_train.shape"
   ]
  },
  {
   "cell_type": "code",
   "execution_count": 9,
   "id": "a0b74323",
   "metadata": {
    "ExecuteTime": {
     "end_time": "2022-09-26T12:49:27.578356Z",
     "start_time": "2022-09-26T12:49:27.488597Z"
    },
    "scrolled": true
   },
   "outputs": [
    {
     "data": {
      "text/plain": [
       "<matplotlib.image.AxesImage at 0x1a9593dc348>"
      ]
     },
     "execution_count": 9,
     "metadata": {},
     "output_type": "execute_result"
    },
    {
     "data": {
      "image/png": "[encoded data removed]",
      "text/plain": [
       "<Figure size 432x288 with 1 Axes>"
      ]
     },
     "metadata": {
      "needs_background": "light"
     },
     "output_type": "display_data"
    }
   ],
   "source": [
    "plt.imshow(x_train[0], cmap='gray')"
   ]
  },
  {
   "cell_type": "code",
   "execution_count": 8,
   "id": "699a91ba",
   "metadata": {
    "ExecuteTime": {
     "end_time": "2022-09-26T12:49:24.076723Z",
     "start_time": "2022-09-26T12:49:24.063757Z"
    }
   },
   "outputs": [
    {
     "data": {
      "text/plain": [
       "5"
      ]
     },
     "execution_count": 8,
     "metadata": {},
     "output_type": "execute_result"
    }
   ],
   "source": [
    "y_train[0]"
   ]
  },
  {
   "cell_type": "code",
   "execution_count": 10,
   "id": "dd478c98",
   "metadata": {
    "ExecuteTime": {
     "end_time": "2022-09-26T12:55:51.904090Z",
     "start_time": "2022-09-26T12:55:51.889132Z"
    },
    "collapsed": true
   },
   "outputs": [
    {
     "data": {
      "text/plain": [
       "array([[[0, 0, 0, ..., 0, 0, 0],\n",
       "        [0, 0, 0, ..., 0, 0, 0],\n",
       "        [0, 0, 0, ..., 0, 0, 0],\n",
       "        ...,\n",
       "        [0, 0, 0, ..., 0, 0, 0],\n",
       "        [0, 0, 0, ..., 0, 0, 0],\n",
       "        [0, 0, 0, ..., 0, 0, 0]],\n",
       "\n",
       "       [[0, 0, 0, ..., 0, 0, 0],\n",
       "        [0, 0, 0, ..., 0, 0, 0],\n",
       "        [0, 0, 0, ..., 0, 0, 0],\n",
       "        ...,\n",
       "        [0, 0, 0, ..., 0, 0, 0],\n",
       "        [0, 0, 0, ..., 0, 0, 0],\n",
       "        [0, 0, 0, ..., 0, 0, 0]],\n",
       "\n",
       "       [[0, 0, 0, ..., 0, 0, 0],\n",
       "        [0, 0, 0, ..., 0, 0, 0],\n",
       "        [0, 0, 0, ..., 0, 0, 0],\n",
       "        ...,\n",
       "        [0, 0, 0, ..., 0, 0, 0],\n",
       "        [0, 0, 0, ..., 0, 0, 0],\n",
       "        [0, 0, 0, ..., 0, 0, 0]],\n",
       "\n",
       "       ...,\n",
       "\n",
       "       [[0, 0, 0, ..., 0, 0, 0],\n",
       "        [0, 0, 0, ..., 0, 0, 0],\n",
       "        [0, 0, 0, ..., 0, 0, 0],\n",
       "        ...,\n",
       "        [0, 0, 0, ..., 0, 0, 0],\n",
       "        [0, 0, 0, ..., 0, 0, 0],\n",
       "        [0, 0, 0, ..., 0, 0, 0]],\n",
       "\n",
       "       [[0, 0, 0, ..., 0, 0, 0],\n",
       "        [0, 0, 0, ..., 0, 0, 0],\n",
       "        [0, 0, 0, ..., 0, 0, 0],\n",
       "        ...,\n",
       "        [0, 0, 0, ..., 0, 0, 0],\n",
       "        [0, 0, 0, ..., 0, 0, 0],\n",
       "        [0, 0, 0, ..., 0, 0, 0]],\n",
       "\n",
       "       [[0, 0, 0, ..., 0, 0, 0],\n",
       "        [0, 0, 0, ..., 0, 0, 0],\n",
       "        [0, 0, 0, ..., 0, 0, 0],\n",
       "        ...,\n",
       "        [0, 0, 0, ..., 0, 0, 0],\n",
       "        [0, 0, 0, ..., 0, 0, 0],\n",
       "        [0, 0, 0, ..., 0, 0, 0]]], dtype=uint8)"
      ]
     },
     "execution_count": 10,
     "metadata": {},
     "output_type": "execute_result"
    }
   ],
   "source": [
    "x_train"
   ]
  },
  {
   "cell_type": "code",
   "execution_count": 39,
   "id": "56e81c26",
   "metadata": {
    "ExecuteTime": {
     "end_time": "2022-09-26T14:05:16.649781Z",
     "start_time": "2022-09-26T14:05:16.491204Z"
    }
   },
   "outputs": [],
   "source": [
    "# 神经网络训练数据是二维的, (batch_size, 特征数)\n",
    "# 对数据进行预处理\n",
    "x_train = x_train.reshape(-1, 784) / 255.0\n",
    "x_test = x_test.reshape(-1, 784) / 255.0\n",
    "\n",
    "y_train = y_train.astype(np.float32)\n",
    "y_test = y_test.astype(np.float32)\n",
    "\n",
    "# 独热编码\n",
    "# y_train = tf.keras.utils.to_categorical(y_train, 10)\n",
    "# y_test = tf.keras.utils.to_categorical(y_test, 10)"
   ]
  },
  {
   "cell_type": "code",
   "execution_count": 12,
   "id": "87cc4496",
   "metadata": {
    "ExecuteTime": {
     "end_time": "2022-09-26T13:03:11.289604Z",
     "start_time": "2022-09-26T13:03:11.279630Z"
    }
   },
   "outputs": [
    {
     "data": {
      "text/plain": [
       "(60000, 10)"
      ]
     },
     "execution_count": 12,
     "metadata": {},
     "output_type": "execute_result"
    }
   ],
   "source": [
    "y_train.shape"
   ]
  },
  {
   "cell_type": "code",
   "execution_count": 13,
   "id": "bb548404",
   "metadata": {
    "ExecuteTime": {
     "end_time": "2022-09-26T13:03:23.205680Z",
     "start_time": "2022-09-26T13:03:23.186731Z"
    }
   },
   "outputs": [
    {
     "data": {
      "text/plain": [
       "array([0., 0., 0., 0., 0., 1., 0., 0., 0., 0.], dtype=float32)"
      ]
     },
     "execution_count": 13,
     "metadata": {},
     "output_type": "execute_result"
    }
   ],
   "source": [
    "y_train[0]"
   ]
  },
  {
   "cell_type": "code",
   "execution_count": 15,
   "id": "9415c6ff",
   "metadata": {
    "ExecuteTime": {
     "end_time": "2022-09-26T13:05:44.892405Z",
     "start_time": "2022-09-26T13:05:44.880437Z"
    }
   },
   "outputs": [],
   "source": [
    "from tensorflow.keras.layers import Dense"
   ]
  },
  {
   "cell_type": "code",
   "execution_count": 40,
   "id": "571a3de9",
   "metadata": {
    "ExecuteTime": {
     "end_time": "2022-09-26T14:05:30.117851Z",
     "start_time": "2022-09-26T14:05:30.075963Z"
    }
   },
   "outputs": [],
   "source": [
    "# 定义神经网络\n",
    "model = tf.keras.Sequential()\n",
    "# 神经元的个数一般给2的幂次方\n",
    "# 神经网络的第一层网络, 要接受输入, 需要指定一下输入数据的维度. input_shape, 必须是个元组. \n",
    "model.add(Dense(64, activation='relu', input_shape=(784, )))\n",
    "# 另一种写法\n",
    "# model.add(Dense(64, activation='relu', input_dim=784))\n",
    "\n",
    "model.add(Dense(64, activation='relu'))\n",
    "# 输出层多分类激活函数一般使用softmax\n",
    "model.add(Dense(10, activation='softmax'))\n"
   ]
  },
  {
   "cell_type": "code",
   "execution_count": 18,
   "id": "56218402",
   "metadata": {
    "ExecuteTime": {
     "end_time": "2022-09-26T13:34:02.922103Z",
     "start_time": "2022-09-26T13:34:02.894175Z"
    }
   },
   "outputs": [],
   "source": [
    "model.compile(optimizer='sgd', loss='categorical_crossentropy', metrics=['accuracy'])"
   ]
  },
  {
   "cell_type": "code",
   "execution_count": 41,
   "id": "aee73fbc",
   "metadata": {
    "ExecuteTime": {
     "end_time": "2022-09-26T14:05:34.954253Z",
     "start_time": "2022-09-26T14:05:34.939294Z"
    }
   },
   "outputs": [],
   "source": [
    "# 不用独热编码\n",
    "model.compile(optimizer='sgd', loss='sparse_categorical_crossentropy', metrics=['accuracy'])"
   ]
  },
  {
   "cell_type": "code",
   "execution_count": 20,
   "id": "e4cad18b",
   "metadata": {
    "ExecuteTime": {
     "end_time": "2022-09-26T13:38:42.467328Z",
     "start_time": "2022-09-26T13:38:42.461344Z"
    }
   },
   "outputs": [
    {
     "data": {
      "text/plain": [
       "60032"
      ]
     },
     "execution_count": 20,
     "metadata": {},
     "output_type": "execute_result"
    }
   ],
   "source": [
    "938 * 64"
   ]
  },
  {
   "cell_type": "code",
   "execution_count": 42,
   "id": "2d655fd4",
   "metadata": {
    "ExecuteTime": {
     "end_time": "2022-09-26T14:06:38.551343Z",
     "start_time": "2022-09-26T14:05:37.604606Z"
    }
   },
   "outputs": [
    {
     "name": "stdout",
     "output_type": "stream",
     "text": [
      "Epoch 1/20\n",
      "938/938 [==============================] - 4s 4ms/step - loss: 0.9661 - accuracy: 0.7433 - val_loss: 0.4232 - val_accuracy: 0.8820\n",
      "Epoch 2/20\n",
      "938/938 [==============================] - 3s 3ms/step - loss: 0.3790 - accuracy: 0.8923 - val_loss: 0.3178 - val_accuracy: 0.9066\n",
      "Epoch 3/20\n",
      "938/938 [==============================] - 3s 3ms/step - loss: 0.3138 - accuracy: 0.9101 - val_loss: 0.2799 - val_accuracy: 0.9185\n",
      "Epoch 4/20\n",
      "938/938 [==============================] - 3s 4ms/step - loss: 0.2810 - accuracy: 0.9190 - val_loss: 0.2566 - val_accuracy: 0.9264\n",
      "Epoch 5/20\n",
      "938/938 [==============================] - 3s 4ms/step - loss: 0.2576 - accuracy: 0.9257 - val_loss: 0.2411 - val_accuracy: 0.9289\n",
      "Epoch 6/20\n",
      "938/938 [==============================] - 3s 3ms/step - loss: 0.2395 - accuracy: 0.9309 - val_loss: 0.2232 - val_accuracy: 0.9343\n",
      "Epoch 7/20\n",
      "938/938 [==============================] - 3s 4ms/step - loss: 0.2237 - accuracy: 0.9353 - val_loss: 0.2082 - val_accuracy: 0.9397\n",
      "Epoch 8/20\n",
      "938/938 [==============================] - 3s 3ms/step - loss: 0.2108 - accuracy: 0.9389 - val_loss: 0.2002 - val_accuracy: 0.9410\n",
      "Epoch 9/20\n",
      "938/938 [==============================] - 3s 3ms/step - loss: 0.1994 - accuracy: 0.9421 - val_loss: 0.1898 - val_accuracy: 0.9449\n",
      "Epoch 10/20\n",
      "938/938 [==============================] - 3s 3ms/step - loss: 0.1890 - accuracy: 0.9452 - val_loss: 0.1834 - val_accuracy: 0.9455\n",
      "Epoch 11/20\n",
      "938/938 [==============================] - 3s 3ms/step - loss: 0.1801 - accuracy: 0.9475 - val_loss: 0.1750 - val_accuracy: 0.9484\n",
      "Epoch 12/20\n",
      "938/938 [==============================] - 3s 3ms/step - loss: 0.1717 - accuracy: 0.9503 - val_loss: 0.1680 - val_accuracy: 0.9495\n",
      "Epoch 13/20\n",
      "938/938 [==============================] - 3s 3ms/step - loss: 0.1641 - accuracy: 0.9526 - val_loss: 0.1637 - val_accuracy: 0.9513\n",
      "Epoch 14/20\n",
      "938/938 [==============================] - 3s 3ms/step - loss: 0.1575 - accuracy: 0.9541 - val_loss: 0.1574 - val_accuracy: 0.9537\n",
      "Epoch 15/20\n",
      "938/938 [==============================] - 3s 3ms/step - loss: 0.1511 - accuracy: 0.9565 - val_loss: 0.1528 - val_accuracy: 0.9547\n",
      "Epoch 16/20\n",
      "938/938 [==============================] - 3s 3ms/step - loss: 0.1454 - accuracy: 0.9578 - val_loss: 0.1501 - val_accuracy: 0.9547\n",
      "Epoch 17/20\n",
      "938/938 [==============================] - 3s 3ms/step - loss: 0.1400 - accuracy: 0.9597 - val_loss: 0.1469 - val_accuracy: 0.9552\n",
      "Epoch 18/20\n",
      "938/938 [==============================] - 3s 3ms/step - loss: 0.1349 - accuracy: 0.9615 - val_loss: 0.1403 - val_accuracy: 0.9578\n",
      "Epoch 19/20\n",
      "938/938 [==============================] - 3s 3ms/step - loss: 0.1305 - accuracy: 0.9626 - val_loss: 0.1370 - val_accuracy: 0.9579\n",
      "Epoch 20/20\n",
      "938/938 [==============================] - 3s 3ms/step - loss: 0.1259 - accuracy: 0.9643 - val_loss: 0.1328 - val_accuracy: 0.9590\n"
     ]
    },
    {
     "data": {
      "text/plain": [
       "<keras.callbacks.History at 0x1a95e77b448>"
      ]
     },
     "execution_count": 42,
     "metadata": {},
     "output_type": "execute_result"
    }
   ],
   "source": [
    "# 神经网络训练是分批训练. epoch,完整遍历整个数据才算一次epoch训练. \n",
    "model.fit(x_train, y_train, batch_size=64, epochs=20, validation_data=(x_test, y_test))"
   ]
  },
  {
   "cell_type": "code",
   "execution_count": 22,
   "id": "140ccf0e",
   "metadata": {
    "ExecuteTime": {
     "end_time": "2022-09-26T13:43:19.189830Z",
     "start_time": "2022-09-26T13:43:19.125004Z"
    },
    "scrolled": true
   },
   "outputs": [
    {
     "name": "stdout",
     "output_type": "stream",
     "text": [
      "Model: \"sequential_1\"\n",
      "_________________________________________________________________\n",
      " Layer (type)                Output Shape              Param #   \n",
      "=================================================================\n",
      " dense_2 (Dense)             (None, 64)                50240     \n",
      "                                                                 \n",
      " dense_3 (Dense)             (None, 64)                4160      \n",
      "                                                                 \n",
      " dense_4 (Dense)             (None, 10)                650       \n",
      "                                                                 \n",
      "=================================================================\n",
      "Total params: 55,050\n",
      "Trainable params: 55,050\n",
      "Non-trainable params: 0\n",
      "_________________________________________________________________\n"
     ]
    }
   ],
   "source": [
    "model.summary()"
   ]
  },
  {
   "cell_type": "code",
   "execution_count": 23,
   "id": "736461cf",
   "metadata": {
    "ExecuteTime": {
     "end_time": "2022-09-26T13:51:14.883621Z",
     "start_time": "2022-09-26T13:51:13.919201Z"
    }
   },
   "outputs": [
    {
     "name": "stdout",
     "output_type": "stream",
     "text": [
      "313/313 [==============================] - 1s 3ms/step - loss: 0.0966 - accuracy: 0.9708\n"
     ]
    },
    {
     "data": {
      "text/plain": [
       "[0.09663257747888565, 0.97079998254776]"
      ]
     },
     "execution_count": 23,
     "metadata": {},
     "output_type": "execute_result"
    }
   ],
   "source": [
    "# 评估\n",
    "model.evaluate(x_test, y_test)"
   ]
  },
  {
   "cell_type": "code",
   "execution_count": 28,
   "id": "d2ac7dc9",
   "metadata": {
    "ExecuteTime": {
     "end_time": "2022-09-26T13:52:38.250154Z",
     "start_time": "2022-09-26T13:52:38.196298Z"
    }
   },
   "outputs": [
    {
     "name": "stdout",
     "output_type": "stream",
     "text": [
      "1/1 [==============================] - 0s 13ms/step\n"
     ]
    },
    {
     "data": {
      "text/plain": [
       "7"
      ]
     },
     "execution_count": 28,
     "metadata": {},
     "output_type": "execute_result"
    }
   ],
   "source": [
    "model.predict(x_test[:32])[0].argmax()"
   ]
  },
  {
   "cell_type": "code",
   "execution_count": 29,
   "id": "731b7ac4",
   "metadata": {
    "ExecuteTime": {
     "end_time": "2022-09-26T13:54:03.995674Z",
     "start_time": "2022-09-26T13:54:03.900926Z"
    }
   },
   "outputs": [],
   "source": [
    "# 保存模型\n",
    "# HDF5格式: 分层的存储的文件格式. \n",
    "model.save('./model.h5')"
   ]
  },
  {
   "cell_type": "code",
   "execution_count": 30,
   "id": "87973d53",
   "metadata": {
    "ExecuteTime": {
     "end_time": "2022-09-26T13:54:35.855876Z",
     "start_time": "2022-09-26T13:54:35.764119Z"
    }
   },
   "outputs": [],
   "source": [
    "# 加载模型\n",
    "model2 = tf.keras.models.load_model('./model.h5')"
   ]
  },
  {
   "cell_type": "code",
   "execution_count": 31,
   "id": "996bc72a",
   "metadata": {
    "ExecuteTime": {
     "end_time": "2022-09-26T13:54:45.184725Z",
     "start_time": "2022-09-26T13:54:45.117904Z"
    },
    "scrolled": true
   },
   "outputs": [
    {
     "name": "stdout",
     "output_type": "stream",
     "text": [
      "1/1 [==============================] - 0s 37ms/step\n"
     ]
    },
    {
     "data": {
      "text/plain": [
       "7"
      ]
     },
     "execution_count": 31,
     "metadata": {},
     "output_type": "execute_result"
    }
   ],
   "source": [
    "model2.predict(x_test[:32])[0].argmax()"
   ]
  },
  {
   "cell_type": "code",
   "execution_count": null,
   "id": "ffbbef42",
   "metadata": {},
   "outputs": [],
   "source": []
  }
 ],
 "metadata": {
  "kernelspec": {
   "display_name": "Python 3 (ipykernel)",
   "language": "python",
   "name": "python3"
  },
  "language_info": {
   "codemirror_mode": {
    "name": "ipython",
    "version": 3
   },
   "file_extension": ".py",
   "mimetype": "text/x-python",
   "name": "python",
   "nbconvert_exporter": "python",
   "pygments_lexer": "ipython3",
   "version": "3.7.8"
  },
  "toc": {
   "base_numbering": 1,
   "nav_menu": {},
   "number_sections": true,
   "sideBar": true,
   "skip_h1_title": false,
   "title_cell": "Table of Contents",
   "title_sidebar": "Contents",
   "toc_cell": false,
   "toc_position": {},
   "toc_section_display": true,
   "toc_window_display": false
  }
 },
 "nbformat": 4,
 "nbformat_minor": 5
}
