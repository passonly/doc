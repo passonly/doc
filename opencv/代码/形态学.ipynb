{
 "cells": [
  {
   "cell_type": "code",
   "execution_count": 1,
   "id": "fcf3a4dc",
   "metadata": {
    "ExecuteTime": {
     "end_time": "2022-08-29T12:15:18.069842Z",
     "start_time": "2022-08-29T12:15:16.957819Z"
    }
   },
   "outputs": [],
   "source": [
    "import numpy as np\n",
    "import cv2"
   ]
  },
  {
   "cell_type": "markdown",
   "id": "aebed6db",
   "metadata": {},
   "source": [
    "### 全局二值化"
   ]
  },
  {
   "cell_type": "code",
   "execution_count": 13,
   "id": "6a77067f",
   "metadata": {
    "ExecuteTime": {
     "end_time": "2022-08-29T12:29:30.681017Z",
     "start_time": "2022-08-29T12:29:16.565786Z"
    }
   },
   "outputs": [
    {
     "name": "stdout",
     "output_type": "stream",
     "text": [
      "127.0\n"
     ]
    }
   ],
   "source": [
    "img = cv2.imread('./dog.jpeg')\n",
    "\n",
    "# 转化为灰度图\n",
    "gray = cv2.cvtColor(img, cv2.COLOR_BGR2GRAY)\n",
    "\n",
    "# 返回阈值和黑白图片\n",
    "# thresh, dst = cv2.threshold(gray, 127, 255, cv2.THRESH_BINARY)\n",
    "# inv = inverse \n",
    "# thresh, dst = cv2.threshold(gray, 127, 255, cv2.THRESH_BINARY_INV)\n",
    "# 注意trunc得到的不是二值图. \n",
    "# thresh, dst = cv2.threshold(gray, 127, 255, cv2.THRESH_TRUNC)# truncate\n",
    "\n",
    "thresh, dst = cv2.threshold(gray, 127, 255, cv2.THRESH_TOZERO)\n",
    "thresh, dst = cv2.threshold(gray, 127, 255, cv2.THRESH_TOZERO_INV)\n",
    "print(thresh)\n",
    "cv2.imshow('dog', np.hstack((gray, dst)))\n",
    "cv2.waitKey(0)\n",
    "cv2.destroyAllWindows()"
   ]
  },
  {
   "cell_type": "code",
   "execution_count": 14,
   "id": "f86b70bb",
   "metadata": {
    "ExecuteTime": {
     "end_time": "2022-08-29T12:29:33.194291Z",
     "start_time": "2022-08-29T12:29:33.186313Z"
    },
    "collapsed": true
   },
   "outputs": [
    {
     "data": {
      "text/plain": [
       "array([  0,   1,   2,   3,   4,   5,   6,   7,   8,   9,  10,  11,  12,\n",
       "        13,  14,  15,  16,  17,  18,  19,  20,  21,  22,  23,  24,  25,\n",
       "        26,  27,  28,  29,  30,  31,  32,  33,  34,  35,  36,  37,  38,\n",
       "        39,  40,  41,  42,  43,  44,  45,  46,  47,  48,  49,  50,  51,\n",
       "        52,  53,  54,  55,  56,  57,  58,  59,  60,  61,  62,  63,  64,\n",
       "        65,  66,  67,  68,  69,  70,  71,  72,  73,  74,  75,  76,  77,\n",
       "        78,  79,  80,  81,  82,  83,  84,  85,  86,  87,  88,  89,  90,\n",
       "        91,  92,  93,  94,  95,  96,  97,  98,  99, 100, 101, 102, 103,\n",
       "       104, 105, 106, 107, 108, 109, 110, 111, 112, 113, 114, 115, 116,\n",
       "       117, 118, 119, 120, 121, 122, 123, 124, 125, 126, 127], dtype=uint8)"
      ]
     },
     "execution_count": 14,
     "metadata": {},
     "output_type": "execute_result"
    }
   ],
   "source": [
    "np.unique(dst)"
   ]
  },
  {
   "cell_type": "code",
   "execution_count": 4,
   "id": "e7f7eb93",
   "metadata": {
    "ExecuteTime": {
     "end_time": "2022-08-29T12:22:33.453903Z",
     "start_time": "2022-08-29T12:22:33.435951Z"
    },
    "collapsed": true
   },
   "outputs": [
    {
     "data": {
      "text/plain": [
       "array([  0,   1,   2,   3,   4,   5,   6,   7,   8,   9,  10,  11,  12,\n",
       "        13,  14,  15,  16,  17,  18,  19,  20,  21,  22,  23,  24,  25,\n",
       "        26,  27,  28,  29,  30,  31,  32,  33,  34,  35,  36,  37,  38,\n",
       "        39,  40,  41,  42,  43,  44,  45,  46,  47,  48,  49,  50,  51,\n",
       "        52,  53,  54,  55,  56,  57,  58,  59,  60,  61,  62,  63,  64,\n",
       "        65,  66,  67,  68,  69,  70,  71,  72,  73,  74,  75,  76,  77,\n",
       "        78,  79,  80,  81,  82,  83,  84,  85,  86,  87,  88,  89,  90,\n",
       "        91,  92,  93,  94,  95,  96,  97,  98,  99, 100, 101, 102, 103,\n",
       "       104, 105, 106, 107, 108, 109, 110, 111, 112, 113, 114, 115, 116,\n",
       "       117, 118, 119, 120, 121, 122, 123, 124, 125, 126, 127, 128, 129,\n",
       "       130, 131, 132, 133, 134, 135, 136, 137, 138, 139, 140, 141, 142,\n",
       "       143, 144, 145, 146, 147, 148, 149, 150, 151, 152, 153, 154, 155,\n",
       "       156, 157, 158, 159, 160, 161, 162, 163, 164, 165, 166, 167, 168,\n",
       "       169, 170, 171, 172, 173, 174, 175, 176, 177, 178, 179, 180, 181,\n",
       "       182, 183, 184, 185, 186, 187, 188, 189, 190, 191, 192, 193, 194,\n",
       "       195, 196, 197, 198, 199, 200, 201, 202, 203, 204, 205, 206, 207,\n",
       "       208, 209, 210, 211, 212, 213, 214, 215, 216, 217, 218, 219, 220,\n",
       "       221, 222, 223, 224, 225, 226, 227, 228, 229, 230, 231, 232, 233,\n",
       "       234, 235, 236, 237, 238, 239, 240, 241, 242, 243, 244, 245, 246,\n",
       "       247, 248, 249, 250, 251, 252, 253, 254, 255], dtype=uint8)"
      ]
     },
     "execution_count": 4,
     "metadata": {},
     "output_type": "execute_result"
    }
   ],
   "source": [
    "np.unique(gray)"
   ]
  },
  {
   "cell_type": "markdown",
   "id": "5acfba3e",
   "metadata": {},
   "source": [
    "### 自适应二值化"
   ]
  },
  {
   "cell_type": "code",
   "execution_count": 18,
   "id": "70c2c4d0",
   "metadata": {
    "ExecuteTime": {
     "end_time": "2022-08-29T12:40:51.414100Z",
     "start_time": "2022-08-29T12:40:44.400865Z"
    }
   },
   "outputs": [],
   "source": [
    "img = cv2.imread('./dog.jpeg')\n",
    "\n",
    "# 转化为灰度图\n",
    "gray = cv2.cvtColor(img, cv2.COLOR_BGR2GRAY)\n",
    "\n",
    "# 只有一个返回值\n",
    "dst = cv2.adaptiveThreshold(gray, 255, cv2.ADAPTIVE_THRESH_GAUSSIAN_C, cv2.THRESH_BINARY, 19, 0)\n",
    "\n",
    "cv2.imshow('dog', np.hstack((gray, dst)))\n",
    "cv2.waitKey(0)\n",
    "cv2.destroyAllWindows()"
   ]
  },
  {
   "cell_type": "code",
   "execution_count": 21,
   "id": "3c03447d",
   "metadata": {
    "ExecuteTime": {
     "end_time": "2022-08-29T12:43:23.800848Z",
     "start_time": "2022-08-29T12:42:52.369446Z"
    }
   },
   "outputs": [
    {
     "name": "stdout",
     "output_type": "stream",
     "text": [
      "127.0\n"
     ]
    }
   ],
   "source": [
    "img = cv2.imread('./math.png')\n",
    "\n",
    "cv2.namedWindow('img', cv2.WINDOW_NORMAL)\n",
    "cv2.resizeWindow('img', 1080, 720)\n",
    "\n",
    "# 转化为灰度图\n",
    "gray = cv2.cvtColor(img, cv2.COLOR_BGR2GRAY)\n",
    "\n",
    "# 返回阈值和黑白图片\n",
    "thresh, dst = cv2.threshold(gray, 127, 255, cv2.THRESH_BINARY_INV)\n",
    "\n",
    "print(thresh)\n",
    "cv2.imshow('img', np.hstack((gray, dst)))\n",
    "cv2.waitKey(0)\n",
    "cv2.destroyAllWindows()"
   ]
  },
  {
   "cell_type": "code",
   "execution_count": 25,
   "id": "cee65e41",
   "metadata": {
    "ExecuteTime": {
     "end_time": "2022-08-29T12:46:34.439753Z",
     "start_time": "2022-08-29T12:46:29.889928Z"
    }
   },
   "outputs": [
    {
     "name": "stdout",
     "output_type": "stream",
     "text": [
      "127.0\n"
     ]
    }
   ],
   "source": [
    "img = cv2.imread('./math.png')\n",
    "\n",
    "cv2.namedWindow('img', cv2.WINDOW_NORMAL)\n",
    "cv2.resizeWindow('img', 1920, 1080)\n",
    "\n",
    "# 转化为灰度图\n",
    "gray = cv2.cvtColor(img, cv2.COLOR_BGR2GRAY)\n",
    "\n",
    "\n",
    "dst = cv2.adaptiveThreshold(gray, 255, cv2.ADAPTIVE_THRESH_GAUSSIAN_C, cv2.THRESH_BINARY_INV, 3, 0)\n",
    "\n",
    "print(thresh)\n",
    "cv2.imshow('img', np.hstack((gray, dst)))\n",
    "cv2.waitKey(0)\n",
    "cv2.destroyAllWindows()"
   ]
  },
  {
   "cell_type": "markdown",
   "id": "51676c1e",
   "metadata": {},
   "source": [
    "### 腐蚀操作"
   ]
  },
  {
   "cell_type": "code",
   "execution_count": 32,
   "id": "e93b0b82",
   "metadata": {
    "ExecuteTime": {
     "end_time": "2022-08-29T13:16:41.880393Z",
     "start_time": "2022-08-29T13:16:31.420381Z"
    }
   },
   "outputs": [],
   "source": [
    "# erode\n",
    "img = cv2.imread('./j.png')\n",
    "\n",
    "# 定义核\n",
    "kernel = np.ones((5,5), np.uint8)\n",
    "\n",
    "dst = cv2.erode(img, kernel)\n",
    "\n",
    "cv2.imshow('img', np.hstack((img, dst)))\n",
    "cv2.waitKey(0)\n",
    "cv2.destroyAllWindows()"
   ]
  },
  {
   "cell_type": "markdown",
   "id": "ed6cbffc",
   "metadata": {},
   "source": [
    "### 获取形态学卷积核"
   ]
  },
  {
   "cell_type": "code",
   "execution_count": 37,
   "id": "df1c51d7",
   "metadata": {
    "ExecuteTime": {
     "end_time": "2022-08-29T13:22:45.112958Z",
     "start_time": "2022-08-29T13:22:41.038860Z"
    }
   },
   "outputs": [
    {
     "name": "stdout",
     "output_type": "stream",
     "text": [
      "[[0 0 1 0 0]\n",
      " [0 0 1 0 0]\n",
      " [1 1 1 1 1]\n",
      " [0 0 1 0 0]\n",
      " [0 0 1 0 0]]\n"
     ]
    }
   ],
   "source": [
    "# getStructuringElement\n",
    "# erode\n",
    "img = cv2.imread('./j.png')\n",
    "\n",
    "# 定义核\n",
    "# kernel = np.ones((5,5), np.uint8)\n",
    "# cv2.MORPH_RECT矩形卷积核, 使用最多的卷积核\n",
    "kernel = cv2.getStructuringElement(cv2.MORPH_CROSS, (5, 5))\n",
    "print(kernel)\n",
    "\n",
    "dst = cv2.erode(img, kernel)\n",
    "\n",
    "cv2.imshow('img', np.hstack((img, dst)))\n",
    "cv2.waitKey(0)\n",
    "cv2.destroyAllWindows()"
   ]
  },
  {
   "cell_type": "code",
   "execution_count": 42,
   "id": "e20e6537",
   "metadata": {
    "ExecuteTime": {
     "end_time": "2022-08-29T13:24:41.113588Z",
     "start_time": "2022-08-29T13:24:38.123588Z"
    }
   },
   "outputs": [],
   "source": [
    "# 腐蚀操作常用于消除一些图片里面我们不需要(不想要)的部分. \n",
    "img = cv2.imread('./msb.png')\n",
    "\n",
    "# 定义核\n",
    "kernel = np.ones((3,3), np.uint8)\n",
    "\n",
    "dst = cv2.erode(img, kernel, iterations=2)\n",
    "\n",
    "cv2.imshow('img', np.hstack((img, dst)))\n",
    "cv2.waitKey(0)\n",
    "cv2.destroyAllWindows()"
   ]
  },
  {
   "cell_type": "code",
   "execution_count": 44,
   "id": "12c18370",
   "metadata": {
    "ExecuteTime": {
     "end_time": "2022-08-29T13:26:31.204007Z",
     "start_time": "2022-08-29T13:25:48.619954Z"
    }
   },
   "outputs": [],
   "source": [
    "# 有一些噪点也可以用腐蚀来去掉. \n",
    "img = cv2.imread('./dotj.png')\n",
    "\n",
    "# 定义核\n",
    "kernel = np.ones((5,5), np.uint8)\n",
    "\n",
    "dst = cv2.erode(img, kernel, iterations=2)\n",
    "\n",
    "cv2.imshow('img', np.hstack((img, dst)))\n",
    "cv2.waitKey(0)\n",
    "cv2.destroyAllWindows()"
   ]
  },
  {
   "cell_type": "markdown",
   "id": "173ee8a6",
   "metadata": {},
   "source": [
    "### 膨胀"
   ]
  },
  {
   "cell_type": "code",
   "execution_count": 46,
   "id": "1ff3c040",
   "metadata": {
    "ExecuteTime": {
     "end_time": "2022-08-29T13:31:06.335401Z",
     "start_time": "2022-08-29T13:30:59.114722Z"
    },
    "scrolled": true
   },
   "outputs": [
    {
     "name": "stdout",
     "output_type": "stream",
     "text": [
      "[[1 1 1 1 1]\n",
      " [1 1 1 1 1]\n",
      " [1 1 1 1 1]\n",
      " [1 1 1 1 1]\n",
      " [1 1 1 1 1]]\n"
     ]
    }
   ],
   "source": [
    "# dilate\n",
    "\n",
    "img = cv2.imread('./j.png')\n",
    "\n",
    "# 定义核\n",
    "# kernel = np.ones((5,5), np.uint8)\n",
    "# cv2.MORPH_RECT矩形卷积核, 使用最多的卷积核\n",
    "kernel = cv2.getStructuringElement(cv2.MORPH_RECT, (5, 5))\n",
    "print(kernel)\n",
    "\n",
    "dst = cv2.dilate(img, kernel)\n",
    "\n",
    "cv2.imshow('img', np.hstack((img, dst)))\n",
    "cv2.waitKey(0)\n",
    "cv2.destroyAllWindows()"
   ]
  },
  {
   "cell_type": "code",
   "execution_count": 50,
   "id": "20467d4b",
   "metadata": {
    "ExecuteTime": {
     "end_time": "2022-08-29T13:33:27.907089Z",
     "start_time": "2022-08-29T13:32:45.267185Z"
    }
   },
   "outputs": [],
   "source": [
    "img = cv2.imread('./dotj.png')\n",
    "\n",
    "# 定义核\n",
    "kernel = np.ones((5,5), np.uint8)\n",
    "\n",
    "# 先腐蚀去掉噪声\n",
    "dst1 = cv2.erode(img, kernel, iterations=2)\n",
    "\n",
    "# 再膨胀还原\n",
    "dst2 = cv2.dilate(dst1, kernel, iterations=2)\n",
    "\n",
    "cv2.imshow('img', np.hstack((img, dst1, dst2)))\n",
    "cv2.waitKey(0)\n",
    "cv2.destroyAllWindows()"
   ]
  },
  {
   "cell_type": "markdown",
   "id": "06f57743",
   "metadata": {},
   "source": [
    "### 开运算"
   ]
  },
  {
   "cell_type": "code",
   "execution_count": 53,
   "id": "6111d0e7",
   "metadata": {
    "ExecuteTime": {
     "end_time": "2022-08-29T13:38:08.320820Z",
     "start_time": "2022-08-29T13:36:35.385961Z"
    }
   },
   "outputs": [],
   "source": [
    "img = cv2.imread('./dotj.png')\n",
    "\n",
    "# 定义核\n",
    "kernel = np.ones((5,5), np.uint8)\n",
    "kernel = cv2.getStructuringElement(cv2.MORPH_RECT, (5, 5))\n",
    "# # 先腐蚀去掉噪声\n",
    "# dst1 = cv2.erode(img, kernel, iterations=2)\n",
    "\n",
    "# # 再膨胀还原\n",
    "# dst2 = cv2.dilate(dst1, kernel, iterations=2)\n",
    "\n",
    "# 开运算就是腐蚀 + 膨胀\n",
    "dst = cv2.morphologyEx(img, cv2.MORPH_OPEN, kernel, iterations=2)\n",
    "\n",
    "cv2.imshow('img', np.hstack((img, dst)))\n",
    "cv2.waitKey(0)\n",
    "cv2.destroyAllWindows()"
   ]
  },
  {
   "cell_type": "code",
   "execution_count": 65,
   "id": "d5351b91",
   "metadata": {
    "ExecuteTime": {
     "end_time": "2022-08-29T13:45:27.241987Z",
     "start_time": "2022-08-29T13:45:08.539033Z"
    }
   },
   "outputs": [],
   "source": [
    "img = cv2.imread('./msb.png')\n",
    "\n",
    "# 定义核\n",
    "kernel = np.ones((5,5), np.uint8)\n",
    "kernel = cv2.getStructuringElement(cv2.MORPH_RECT, (5, 5))\n",
    "# # 先腐蚀去掉噪声\n",
    "# dst1 = cv2.erode(img, kernel, iterations=2)\n",
    "\n",
    "# # 再膨胀还原\n",
    "# dst2 = cv2.dilate(dst1, kernel, iterations=2)\n",
    "\n",
    "# 开运算就是腐蚀 + 膨胀\n",
    "dst = cv2.morphologyEx(img, cv2.MORPH_OPEN, kernel, iterations=1)\n",
    "\n",
    "cv2.imshow('img', np.hstack((img, dst)))\n",
    "cv2.waitKey(0)\n",
    "cv2.destroyAllWindows()"
   ]
  },
  {
   "cell_type": "markdown",
   "id": "f7ba3d95",
   "metadata": {},
   "source": [
    "### 闭运算"
   ]
  },
  {
   "cell_type": "code",
   "execution_count": 63,
   "id": "2d6afa1f",
   "metadata": {
    "ExecuteTime": {
     "end_time": "2022-08-29T13:43:45.735094Z",
     "start_time": "2022-08-29T13:43:38.321930Z"
    }
   },
   "outputs": [],
   "source": [
    "img = cv2.imread('./dotinj.png')\n",
    "\n",
    "# 定义核\n",
    "kernel = np.ones((5,5), np.uint8)\n",
    "kernel = cv2.getStructuringElement(cv2.MORPH_RECT, (5, 5))\n",
    "\n",
    "# 闭运算就是膨胀 + 腐蚀\n",
    "dst = cv2.morphologyEx(img, cv2.MORPH_CLOSE, kernel, iterations=2)\n",
    "\n",
    "cv2.imshow('img', np.hstack((img, dst)))\n",
    "cv2.waitKey(0)\n",
    "cv2.destroyAllWindows()"
   ]
  },
  {
   "cell_type": "code",
   "execution_count": 62,
   "id": "7462327c",
   "metadata": {
    "ExecuteTime": {
     "end_time": "2022-08-29T13:43:27.660459Z",
     "start_time": "2022-08-29T13:43:15.945804Z"
    }
   },
   "outputs": [],
   "source": [
    "img = cv2.imread('./dotinj.png')\n",
    "\n",
    "# 定义核\n",
    "kernel1 = np.ones((5,5), np.uint8)\n",
    "kernel2 = cv2.getStructuringElement(cv2.MORPH_ELLIPSE, (5, 5))\n",
    "\n",
    "dst1 = cv2.dilate(img, kernel1, iterations=2)\n",
    "\n",
    "dst2 = cv2.erode(dst1, kernel, iterations=2)\n",
    "\n",
    "# 闭运算就是膨胀 + 腐蚀\n",
    "# dst = cv2.morphologyEx(img, cv2.MORPH_OPEN, kernel, iterations=2)\n",
    "\n",
    "cv2.imshow('img', np.hstack((img, dst1, dst2)))\n",
    "cv2.waitKey(0)\n",
    "cv2.destroyAllWindows()"
   ]
  },
  {
   "cell_type": "markdown",
   "id": "1d84fd23",
   "metadata": {},
   "source": [
    "### 形态学梯度(即边缘)"
   ]
  },
  {
   "cell_type": "code",
   "execution_count": 69,
   "id": "7d79f82d",
   "metadata": {
    "ExecuteTime": {
     "end_time": "2022-08-29T13:50:29.371568Z",
     "start_time": "2022-08-29T13:50:19.737348Z"
    }
   },
   "outputs": [],
   "source": [
    "img = cv2.imread('./j.png')\n",
    "\n",
    "# 定义核\n",
    "kernel = cv2.getStructuringElement(cv2.MORPH_CROSS, (3, 3))\n",
    "\n",
    "# 形态学梯度= 原图 - 被腐蚀之后的图 = 边缘\n",
    "dst = cv2.morphologyEx(img, cv2.MORPH_GRADIENT, kernel, iterations=1)\n",
    "\n",
    "cv2.imshow('img', np.hstack((img, dst)))\n",
    "cv2.waitKey(0)\n",
    "cv2.destroyAllWindows()"
   ]
  },
  {
   "cell_type": "markdown",
   "id": "07838763",
   "metadata": {},
   "source": [
    "### 顶帽运算(tophat)"
   ]
  },
  {
   "cell_type": "code",
   "execution_count": 76,
   "id": "801db8d8",
   "metadata": {
    "ExecuteTime": {
     "end_time": "2022-08-29T13:55:45.899149Z",
     "start_time": "2022-08-29T13:55:41.825050Z"
    }
   },
   "outputs": [],
   "source": [
    "img = cv2.imread('./tophat.png')\n",
    "\n",
    "# 定义核\n",
    "kernel = cv2.getStructuringElement(cv2.MORPH_RECT, (9, 9))\n",
    "\n",
    "# 顶帽/礼帽\n",
    "dst = cv2.morphologyEx(img, cv2.MORPH_TOPHAT, kernel, iterations=1)\n",
    "\n",
    "cv2.imshow('img', np.hstack((img, dst)))\n",
    "cv2.waitKey(0)\n",
    "cv2.destroyAllWindows()"
   ]
  },
  {
   "cell_type": "code",
   "execution_count": 79,
   "id": "811b8f7d",
   "metadata": {
    "ExecuteTime": {
     "end_time": "2022-08-29T13:57:02.130689Z",
     "start_time": "2022-08-29T13:56:58.503394Z"
    }
   },
   "outputs": [],
   "source": [
    "img = cv2.imread('./msb.png')\n",
    "\n",
    "# 定义核\n",
    "kernel = cv2.getStructuringElement(cv2.MORPH_RECT, (5, 5))\n",
    "\n",
    "# 顶帽/礼帽\n",
    "dst = cv2.morphologyEx(img, cv2.MORPH_TOPHAT, kernel, iterations=1)\n",
    "\n",
    "cv2.imshow('img', np.hstack((img, dst)))\n",
    "cv2.waitKey(0)\n",
    "cv2.destroyAllWindows()"
   ]
  },
  {
   "cell_type": "markdown",
   "id": "cdbf77ad",
   "metadata": {},
   "source": [
    "### 黑帽操作"
   ]
  },
  {
   "cell_type": "code",
   "execution_count": 80,
   "id": "8339b01e",
   "metadata": {
    "ExecuteTime": {
     "end_time": "2022-08-29T13:58:50.848779Z",
     "start_time": "2022-08-29T13:58:25.640232Z"
    }
   },
   "outputs": [],
   "source": [
    "img = cv2.imread('./dotinj.png')\n",
    "\n",
    "# 定义核\n",
    "kernel = cv2.getStructuringElement(cv2.MORPH_RECT, (5, 5))\n",
    "\n",
    "# 黑帽: 原图 - 闭运算\n",
    "dst = cv2.morphologyEx(img, cv2.MORPH_BLACKHAT, kernel, iterations=1)\n",
    "\n",
    "cv2.imshow('img', np.hstack((img, dst)))\n",
    "cv2.waitKey(0)\n",
    "cv2.destroyAllWindows()"
   ]
  },
  {
   "cell_type": "code",
   "execution_count": null,
   "id": "9380ba88",
   "metadata": {},
   "outputs": [],
   "source": [
    "课后自行找一些图去练习这些形态学操作. "
   ]
  }
 ],
 "metadata": {
  "kernelspec": {
   "display_name": "Python 3 (ipykernel)",
   "language": "python",
   "name": "python3"
  },
  "language_info": {
   "codemirror_mode": {
    "name": "ipython",
    "version": 3
   },
   "file_extension": ".py",
   "mimetype": "text/x-python",
   "name": "python",
   "nbconvert_exporter": "python",
   "pygments_lexer": "ipython3",
   "version": "3.7.8"
  },
  "toc": {
   "base_numbering": 1,
   "nav_menu": {},
   "number_sections": true,
   "sideBar": true,
   "skip_h1_title": false,
   "title_cell": "Table of Contents",
   "title_sidebar": "Contents",
   "toc_cell": false,
   "toc_position": {},
   "toc_section_display": true,
   "toc_window_display": false
  }
 },
 "nbformat": 4,
 "nbformat_minor": 5
}
