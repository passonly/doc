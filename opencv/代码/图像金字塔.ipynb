{
 "cells": [
  {
   "cell_type": "markdown",
   "id": "8fe4ea9b",
   "metadata": {},
   "source": [
    "### 图像金字塔之高斯金字塔"
   ]
  },
  {
   "cell_type": "code",
   "execution_count": 1,
   "id": "92ca277e",
   "metadata": {
    "ExecuteTime": {
     "end_time": "2022-09-02T12:31:31.032463Z",
     "start_time": "2022-09-02T12:31:30.166778Z"
    }
   },
   "outputs": [],
   "source": [
    "import numpy as np\n",
    "import cv2"
   ]
  },
  {
   "cell_type": "code",
   "execution_count": 5,
   "id": "b53c6209",
   "metadata": {
    "ExecuteTime": {
     "end_time": "2022-09-02T12:41:10.452578Z",
     "start_time": "2022-09-02T12:39:59.551296Z"
    },
    "scrolled": true
   },
   "outputs": [
    {
     "name": "stdout",
     "output_type": "stream",
     "text": [
      "(512, 512, 3)\n",
      "(256, 256, 3)\n"
     ]
    }
   ],
   "source": [
    "# 下采样: 图片分辨率会变小 (缩小)\n",
    "\n",
    "img = cv2.imread('./lena.png')\n",
    "\n",
    "print(img.shape)\n",
    "\n",
    "# 使用下采样的高斯金字塔对img进行下采样\n",
    "dst1 = cv2.pyrDown(img)\n",
    "\n",
    "dst2 = cv2.pyrDown(dst1)\n",
    "\n",
    "print(dst.shape)\n",
    "\n",
    "cv2.imshow('img', img)\n",
    "cv2.imshow('dst1', dst1)\n",
    "cv2.imshow('dst2', dst2)\n",
    "\n",
    "cv2.waitKey(0)\n",
    "cv2.destroyAllWindows()"
   ]
  },
  {
   "cell_type": "code",
   "execution_count": null,
   "id": "fa21f012",
   "metadata": {},
   "outputs": [],
   "source": [
    "alex 20:35:50\n",
    "老师，高斯金字塔的下采样和cv2.resize的缩小在使用场景有什么不同？\n",
    "下采样只能缩小为原图的1/4, resize任意尺度都可以. \n",
    "下采样和resize从原理上就不一样. 下采样是用高斯平滑,然后去掉偶数行和列得到结果. resize是通过线性插值的方式来补全像素点. "
   ]
  },
  {
   "cell_type": "code",
   "execution_count": 6,
   "id": "7a2c3b5c",
   "metadata": {
    "ExecuteTime": {
     "end_time": "2022-09-02T12:43:22.969558Z",
     "start_time": "2022-09-02T12:42:11.941046Z"
    }
   },
   "outputs": [
    {
     "name": "stdout",
     "output_type": "stream",
     "text": [
      "(512, 512, 3)\n",
      "(256, 256, 3)\n"
     ]
    }
   ],
   "source": [
    "# 上采样: 图片分辨率会变大 (放大)\n",
    "\n",
    "img = cv2.imread('./lena.png')\n",
    "\n",
    "print(img.shape)\n",
    "\n",
    "# 使用上采样的高斯金字塔对img进行上采样\n",
    "dst1 = cv2.pyrUp(img)\n",
    "\n",
    "dst2 = cv2.pyrUp(dst1)\n",
    "\n",
    "print(dst.shape)\n",
    "\n",
    "cv2.imshow('img', img)\n",
    "cv2.imshow('dst1', dst1)\n",
    "cv2.imshow('dst2', dst2)\n",
    "\n",
    "cv2.waitKey(0)\n",
    "cv2.destroyAllWindows()"
   ]
  },
  {
   "cell_type": "code",
   "execution_count": null,
   "id": "aa62bb3f",
   "metadata": {},
   "outputs": [],
   "source": [
    "# 不管是上采样还是下采样, 都会丢失图片的一些信息. "
   ]
  },
  {
   "cell_type": "markdown",
   "id": "5648618e",
   "metadata": {},
   "source": [
    "### 高斯金字塔可逆性研究"
   ]
  },
  {
   "cell_type": "code",
   "execution_count": 9,
   "id": "28d58ae7",
   "metadata": {
    "ExecuteTime": {
     "end_time": "2022-09-02T12:46:57.562421Z",
     "start_time": "2022-09-02T12:46:28.812348Z"
    }
   },
   "outputs": [],
   "source": [
    "img = cv2.imread('./lena.png')\n",
    "\n",
    "dst1 = cv2.pyrDown(img)\n",
    "dst2 = cv2.pyrUp(dst1)\n",
    "\n",
    "dst3 = cv2.pyrDown(dst2)\n",
    "dst4 = cv2.pyrUp(dst3)\n",
    "\n",
    "cv2.imshow('img', img)\n",
    "cv2.imshow('dst1', dst4)\n",
    "cv2.imshow('dst2', dst2)\n",
    "\n",
    "cv2.waitKey(0)\n",
    "cv2.destroyAllWindows()"
   ]
  },
  {
   "cell_type": "code",
   "execution_count": 14,
   "id": "42348692",
   "metadata": {
    "ExecuteTime": {
     "end_time": "2022-09-02T12:50:51.860027Z",
     "start_time": "2022-09-02T12:50:42.493091Z"
    }
   },
   "outputs": [],
   "source": [
    "# 丢失的细节\n",
    "cv2.imshow('dst2', img - dst2) # 拉普拉斯金字塔第0层\n",
    "cv2.imshow('dst4', dst2 - dst4) # 拉普拉斯金字塔第1层. \n",
    "\n",
    "cv2.waitKey(0)\n",
    "cv2.destroyAllWindows()"
   ]
  },
  {
   "cell_type": "code",
   "execution_count": null,
   "id": "18e96e1f",
   "metadata": {},
   "outputs": [],
   "source": [
    "# 因为拉普拉斯金字塔太简单, opencv甚至没有给拉普拉斯金字塔一个api. "
   ]
  },
  {
   "cell_type": "code",
   "execution_count": 20,
   "id": "97e02a18",
   "metadata": {
    "ExecuteTime": {
     "end_time": "2022-09-02T12:58:38.586188Z",
     "start_time": "2022-09-02T12:58:29.378824Z"
    }
   },
   "outputs": [],
   "source": [
    "cv2.imshow('dst2', cv2.subtract(img, dst2)) \n",
    "cv2.imshow('dst4', img - dst2) \n",
    "\n",
    "cv2.waitKey(0)\n",
    "cv2.destroyAllWindows()"
   ]
  },
  {
   "cell_type": "code",
   "execution_count": 16,
   "id": "4372a186",
   "metadata": {
    "ExecuteTime": {
     "end_time": "2022-09-02T12:55:50.373262Z",
     "start_time": "2022-09-02T12:55:50.355310Z"
    },
    "collapsed": true
   },
   "outputs": [
    {
     "data": {
      "text/plain": [
       "array([[[  1,   1,   1],\n",
       "        [  0,   0,   0],\n",
       "        [  0, 255,   0],\n",
       "        ...,\n",
       "        [  7,   7,  12],\n",
       "        [254, 254,   1],\n",
       "        [232, 231, 236]],\n",
       "\n",
       "       [[  0,   0,   0],\n",
       "        [  0,   0,   0],\n",
       "        [  1,   0,   0],\n",
       "        ...,\n",
       "        [ 11,  12,  11],\n",
       "        [  0,   0, 255],\n",
       "        [229, 228, 228]],\n",
       "\n",
       "       [[  0, 255,   0],\n",
       "        [  1, 255,   0],\n",
       "        [  2,   1,   1],\n",
       "        ...,\n",
       "        [ 10,  12,   8],\n",
       "        [  1,   3, 255],\n",
       "        [232, 233, 232]],\n",
       "\n",
       "       ...,\n",
       "\n",
       "       [[252, 253, 252],\n",
       "        [251, 251, 249],\n",
       "        [  2,   2,   2],\n",
       "        ...,\n",
       "        [  2,   3,   4],\n",
       "        [255,   0,   2],\n",
       "        [251, 253,   1]],\n",
       "\n",
       "       [[253, 251, 251],\n",
       "        [253, 251, 250],\n",
       "        [  6,   6,   6],\n",
       "        ...,\n",
       "        [  0, 255,   3],\n",
       "        [  0,   1,   4],\n",
       "        [  1,   2,   5]],\n",
       "\n",
       "       [[254, 253, 252],\n",
       "        [255, 253, 252],\n",
       "        [  7,   8,   8],\n",
       "        ...,\n",
       "        [255, 254,   1],\n",
       "        [  0,   2,   5],\n",
       "        [  4,   4,   9]]], dtype=uint8)"
      ]
     },
     "execution_count": 16,
     "metadata": {},
     "output_type": "execute_result"
    }
   ],
   "source": [
    "img - dst2"
   ]
  },
  {
   "cell_type": "code",
   "execution_count": 18,
   "id": "647cbfa5",
   "metadata": {
    "ExecuteTime": {
     "end_time": "2022-09-02T12:56:03.620814Z",
     "start_time": "2022-09-02T12:56:03.611838Z"
    },
    "collapsed": true
   },
   "outputs": [
    {
     "data": {
      "text/plain": [
       "array([[[128, 138, 225],\n",
       "        [127, 137, 224],\n",
       "        [126, 136, 224],\n",
       "        ...,\n",
       "        [126, 145, 236],\n",
       "        [110, 129, 220],\n",
       "        [ 86, 104, 197]],\n",
       "\n",
       "       [[127, 137, 224],\n",
       "        [127, 137, 224],\n",
       "        [127, 137, 224],\n",
       "        ...,\n",
       "        [130, 150, 235],\n",
       "        [112, 132, 217],\n",
       "        [ 83, 102, 189]],\n",
       "\n",
       "       [[127, 137, 224],\n",
       "        [127, 137, 224],\n",
       "        [128, 138, 225],\n",
       "        ...,\n",
       "        [127, 148, 230],\n",
       "        [112, 133, 215],\n",
       "        [ 85, 105, 190]]], dtype=uint8)"
      ]
     },
     "execution_count": 18,
     "metadata": {},
     "output_type": "execute_result"
    }
   ],
   "source": [
    "img[:3]"
   ]
  },
  {
   "cell_type": "code",
   "execution_count": 19,
   "id": "23232c73",
   "metadata": {
    "ExecuteTime": {
     "end_time": "2022-09-02T12:56:08.853812Z",
     "start_time": "2022-09-02T12:56:08.843838Z"
    },
    "collapsed": true
   },
   "outputs": [
    {
     "data": {
      "text/plain": [
       "array([[[127, 137, 224],\n",
       "        [127, 137, 224],\n",
       "        [126, 137, 224],\n",
       "        ...,\n",
       "        [119, 138, 224],\n",
       "        [112, 131, 219],\n",
       "        [110, 129, 217]],\n",
       "\n",
       "       [[127, 137, 224],\n",
       "        [127, 137, 224],\n",
       "        [126, 137, 224],\n",
       "        ...,\n",
       "        [119, 138, 224],\n",
       "        [112, 132, 218],\n",
       "        [110, 130, 217]],\n",
       "\n",
       "       [[127, 138, 224],\n",
       "        [126, 138, 224],\n",
       "        [126, 137, 224],\n",
       "        ...,\n",
       "        [117, 136, 222],\n",
       "        [111, 130, 216],\n",
       "        [109, 128, 214]]], dtype=uint8)"
      ]
     },
     "execution_count": 19,
     "metadata": {},
     "output_type": "execute_result"
    }
   ],
   "source": [
    "dst2[:3]"
   ]
  },
  {
   "cell_type": "code",
   "execution_count": null,
   "id": "af265f26",
   "metadata": {},
   "outputs": [],
   "source": [
    "# cv2.subtract 他是小于0的都给0. "
   ]
  }
 ],
 "metadata": {
  "kernelspec": {
   "display_name": "Python 3 (ipykernel)",
   "language": "python",
   "name": "python3"
  },
  "language_info": {
   "codemirror_mode": {
    "name": "ipython",
    "version": 3
   },
   "file_extension": ".py",
   "mimetype": "text/x-python",
   "name": "python",
   "nbconvert_exporter": "python",
   "pygments_lexer": "ipython3",
   "version": "3.7.8"
  },
  "toc": {
   "base_numbering": 1,
   "nav_menu": {},
   "number_sections": true,
   "sideBar": true,
   "skip_h1_title": false,
   "title_cell": "Table of Contents",
   "title_sidebar": "Contents",
   "toc_cell": false,
   "toc_position": {},
   "toc_section_display": true,
   "toc_window_display": false
  }
 },
 "nbformat": 4,
 "nbformat_minor": 5
}
