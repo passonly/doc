{
 "cells": [
  {
   "cell_type": "code",
   "execution_count": 1,
   "id": "74afc374",
   "metadata": {
    "ExecuteTime": {
     "end_time": "2022-08-26T12:10:30.347144Z",
     "start_time": "2022-08-26T12:10:30.215494Z"
    }
   },
   "outputs": [],
   "source": [
    "import numpy as np\n",
    "import cv2 "
   ]
  },
  {
   "cell_type": "markdown",
   "id": "8655cd80",
   "metadata": {},
   "source": [
    "$$G(x,y) = \\frac{1}{2\\pi \\sigma^2}e^{-\\frac{x^2+y^2}{2\\sigma^2}}$$"
   ]
  },
  {
   "cell_type": "code",
   "execution_count": 2,
   "id": "974b78ff",
   "metadata": {
    "ExecuteTime": {
     "end_time": "2022-08-26T12:14:55.724044Z",
     "start_time": "2022-08-26T12:14:55.701105Z"
    }
   },
   "outputs": [
    {
     "data": {
      "text/plain": [
       "0.0707355302630646"
      ]
     },
     "execution_count": 2,
     "metadata": {},
     "output_type": "execute_result"
    }
   ],
   "source": [
    "1 / (2 * np.pi*1.5**2) * np.exp(-0)"
   ]
  },
  {
   "cell_type": "code",
   "execution_count": 3,
   "id": "b121031a",
   "metadata": {
    "ExecuteTime": {
     "end_time": "2022-08-26T12:17:19.537732Z",
     "start_time": "2022-08-26T12:17:19.524766Z"
    }
   },
   "outputs": [
    {
     "data": {
      "text/plain": [
       "0.05664058479678963"
      ]
     },
     "execution_count": 3,
     "metadata": {},
     "output_type": "execute_result"
    }
   ],
   "source": [
    "1 / (2 * np.pi*1.5**2) * np.exp(-(1/(2*1.5**2)))"
   ]
  },
  {
   "cell_type": "markdown",
   "id": "4eb8c323",
   "metadata": {},
   "source": [
    "### 高斯滤波"
   ]
  },
  {
   "cell_type": "code",
   "execution_count": 7,
   "id": "81dce462",
   "metadata": {
    "ExecuteTime": {
     "end_time": "2022-08-26T12:29:48.162145Z",
     "start_time": "2022-08-26T12:29:25.843866Z"
    }
   },
   "outputs": [],
   "source": [
    "lena = cv2.imread('./lena.png')\n",
    "\n",
    "sigma1 = cv2.GaussianBlur(lena, (13,13), 1)\n",
    "sigma10 = cv2.GaussianBlur(lena, (13,13), 10)\n",
    "sigma100 = cv2.GaussianBlur(lena, (13,13), 100)\n",
    "\n",
    "cv2.imshow('gaussian', np.hstack((lena, sigma1, sigma10, sigma100)))\n",
    "\n",
    "cv2.waitKey(0)\n",
    "cv2.destroyAllWindows()"
   ]
  },
  {
   "cell_type": "code",
   "execution_count": 8,
   "id": "b257d4cd",
   "metadata": {
    "ExecuteTime": {
     "end_time": "2022-08-26T12:32:03.161912Z",
     "start_time": "2022-08-26T12:31:33.259924Z"
    }
   },
   "outputs": [],
   "source": [
    "lena = cv2.imread('./lena.png')\n",
    "\n",
    "# 不指定sigmaX,那么把sigmaX赋值为0即可\n",
    "sigma1 = cv2.GaussianBlur(lena, (5,5), sigmaX=0)\n",
    "sigma10 = cv2.GaussianBlur(lena, (9,9), sigmaX=0)\n",
    "sigma100 = cv2.GaussianBlur(lena, (13,13), sigmaX=0)\n",
    "\n",
    "cv2.imshow('gaussian', np.hstack((lena, sigma1, sigma10, sigma100)))\n",
    "\n",
    "cv2.waitKey(0)\n",
    "cv2.destroyAllWindows()"
   ]
  },
  {
   "cell_type": "code",
   "execution_count": 10,
   "id": "c94b3597",
   "metadata": {
    "ExecuteTime": {
     "end_time": "2022-08-26T12:33:02.997803Z",
     "start_time": "2022-08-26T12:32:57.851574Z"
    }
   },
   "outputs": [],
   "source": [
    "# 高斯滤波\n",
    "import cv2\n",
    "import numpy as np\n",
    "\n",
    "#导入图片\n",
    "img = cv2.imread('./gaussian.png')\n",
    "\n",
    "dst = cv2.GaussianBlur(img, (5, 5), sigmaX=1)\n",
    "\n",
    "cv2.imshow('img', np.hstack((img, dst)))\n",
    "\n",
    "\n",
    "cv2.waitKey(0)\n",
    "cv2.destroyAllWindows()\n"
   ]
  },
  {
   "cell_type": "markdown",
   "id": "b15286c3",
   "metadata": {},
   "source": [
    "### 中值滤波"
   ]
  },
  {
   "cell_type": "code",
   "execution_count": 21,
   "id": "c25b775e",
   "metadata": {
    "ExecuteTime": {
     "end_time": "2022-08-26T12:42:16.209096Z",
     "start_time": "2022-08-26T12:42:14.482716Z"
    }
   },
   "outputs": [],
   "source": [
    "img = cv2.imread('./papper.png')\n",
    "\n",
    "# img = cv2.imread('./gaussian.png')\n",
    "\n",
    "# img = cv2.imread('./lena.png')\n",
    "\n",
    "# 中值滤波\n",
    "# 中值滤波对于椒盐噪声有奇效. 对于一般噪声, 效果就比较差了. \n",
    "dst = cv2.medianBlur(img, 5)\n",
    "\n",
    "\n",
    "cv2.imshow('img', np.hstack((img, dst)))\n",
    "\n",
    "cv2.waitKey(0)\n",
    "cv2.destroyAllWindows()"
   ]
  },
  {
   "cell_type": "markdown",
   "id": "59ba6aba",
   "metadata": {},
   "source": [
    "### 双边滤波"
   ]
  },
  {
   "cell_type": "code",
   "execution_count": 23,
   "id": "426689d0",
   "metadata": {
    "ExecuteTime": {
     "end_time": "2022-08-26T12:54:38.755556Z",
     "start_time": "2022-08-26T12:54:17.264063Z"
    }
   },
   "outputs": [],
   "source": [
    "img = cv2.imread('./lena.png')\n",
    "\n",
    "dst = cv2.bilateralFilter(img, 7, sigmaColor=10, sigmaSpace=20)\n",
    "\n",
    "cv2.imshow('img', np.hstack((img, dst)))\n",
    "\n",
    "cv2.waitKey(0)\n",
    "cv2.destroyAllWindows()"
   ]
  },
  {
   "cell_type": "code",
   "execution_count": 34,
   "id": "95ed53c8",
   "metadata": {
    "ExecuteTime": {
     "end_time": "2022-08-26T12:59:42.709786Z",
     "start_time": "2022-08-26T12:59:33.031683Z"
    }
   },
   "outputs": [],
   "source": [
    "# 双边滤波进行美颜. \n",
    "img = cv2.imread('./2.jpeg')\n",
    "\n",
    "# 双边滤波美颜的效果, 非常依赖参数, sigmaColor和sigmaSpace\n",
    "dst = cv2.bilateralFilter(img, 20, sigmaColor=60, sigmaSpace=30)\n",
    "\n",
    "# dst = cv2.medianBlur(img, 5)\n",
    "cv2.imshow('img', np.hstack((img, dst)))\n",
    "\n",
    "cv2.waitKey(0)\n",
    "cv2.destroyAllWindows()"
   ]
  },
  {
   "cell_type": "markdown",
   "id": "54a6b357",
   "metadata": {},
   "source": [
    "### 索贝尔(sobel)算子"
   ]
  },
  {
   "cell_type": "code",
   "execution_count": 43,
   "id": "c8a64b30",
   "metadata": {
    "ExecuteTime": {
     "end_time": "2022-08-26T13:31:31.023018Z",
     "start_time": "2022-08-26T13:31:28.419983Z"
    }
   },
   "outputs": [],
   "source": [
    "img = cv2.imread('./chess.png')\n",
    "\n",
    "# sobel算子水平和垂直方向最好不要一起算, 效果会比较差. \n",
    "\n",
    "# 位深实际就是计算之后的图片的数据类型. \n",
    "dx = cv2.Sobel(img, cv2.CV_64F, dx=1, dy=0)\n",
    "# y轴方向\n",
    "dy = cv2.Sobel(img, cv2.CV_64F, dx=0, dy=1)\n",
    "\n",
    "# 通过addweighted\n",
    "dst = cv2.addWeighted(dx, 0.5, dy, 0.5, gamma=0)\n",
    "# dst = cv2.bitwise_or(dx, dy)\n",
    "\n",
    "cv2.imshow('img', np.hstack((dx, dy, dst)))\n",
    "\n",
    "cv2.waitKey(0)\n",
    "cv2.destroyAllWindows()"
   ]
  },
  {
   "cell_type": "markdown",
   "id": "bbfdc942",
   "metadata": {},
   "source": [
    "### 沙尔算子"
   ]
  },
  {
   "cell_type": "code",
   "execution_count": 46,
   "id": "faed18eb",
   "metadata": {
    "ExecuteTime": {
     "end_time": "2022-08-26T13:37:58.045436Z",
     "start_time": "2022-08-26T13:37:54.746264Z"
    }
   },
   "outputs": [],
   "source": [
    "img = cv2.imread('./lena.png')\n",
    "\n",
    "dx = cv2.Scharr(img, cv2.CV_64F, dx=1, dy=0)\n",
    "dy = cv2.Scharr(img, cv2.CV_64F, dx=0, dy=1)\n",
    "\n",
    "\n",
    "dst = cv2.addWeighted(dx, 0.5, dy, 0.5, gamma=0)\n",
    "\n",
    "\n",
    "cv2.imshow('img', np.hstack((dx, dy, dst)))\n",
    "\n",
    "cv2.waitKey(0)\n",
    "cv2.destroyAllWindows()"
   ]
  },
  {
   "cell_type": "markdown",
   "id": "3052d773",
   "metadata": {},
   "source": [
    "### 拉普拉斯算子"
   ]
  },
  {
   "cell_type": "code",
   "execution_count": 51,
   "id": "79876a2f",
   "metadata": {
    "ExecuteTime": {
     "end_time": "2022-08-26T13:50:13.322007Z",
     "start_time": "2022-08-26T13:49:58.089764Z"
    }
   },
   "outputs": [],
   "source": [
    "img = cv2.imread('./chess.png')\n",
    "\n",
    "# 拉普拉斯算子不需要分别求x轴和y轴方向的梯度. \n",
    "dst = cv2.Laplacian(img, -1)\n",
    "cv2.imshow('img', np.hstack((img, dst)))\n",
    "\n",
    "cv2.waitKey(0)\n",
    "cv2.destroyAllWindows()"
   ]
  },
  {
   "cell_type": "code",
   "execution_count": 49,
   "id": "5bca2185",
   "metadata": {
    "ExecuteTime": {
     "end_time": "2022-08-26T13:48:28.590691Z",
     "start_time": "2022-08-26T13:47:52.969006Z"
    }
   },
   "outputs": [],
   "source": [
    "# 拉普拉斯很容易受到噪声影响. 如果有比较多噪声, 建议先降噪, 再用拉普拉斯\n",
    "\n",
    "img = cv2.imread('./papper.png')\n",
    "\n",
    "img = cv2.medianBlur(img, 5)\n",
    "# 拉普拉斯算子不需要分别求x轴和y轴方向的梯度. \n",
    "dst = cv2.Laplacian(img, -1)\n",
    "cv2.imshow('img', np.hstack((img, dst)))\n",
    "\n",
    "cv2.waitKey(0)\n",
    "cv2.destroyAllWindows()"
   ]
  },
  {
   "cell_type": "markdown",
   "id": "c08adaea",
   "metadata": {},
   "source": [
    "### canny边缘检测"
   ]
  },
  {
   "cell_type": "code",
   "execution_count": 53,
   "id": "b4deace3",
   "metadata": {
    "ExecuteTime": {
     "end_time": "2022-08-26T14:02:51.871826Z",
     "start_time": "2022-08-26T14:02:26.151648Z"
    }
   },
   "outputs": [],
   "source": [
    "img = cv2.imread('./lena.png')\n",
    "\n",
    "# 降噪\n",
    "dst = cv2.bilateralFilter(img, 7, sigmaColor=10, sigmaSpace=20)\n",
    "\n",
    "# 大阈值, 得到边缘会相对少一些\n",
    "lena1 = cv2.Canny(dst, 100, 200)\n",
    "\n",
    "lena2 = cv2.Canny(dst, 50, 100)\n",
    "\n",
    "cv2.imshow('img', np.hstack((lena1, lena2)))\n",
    "\n",
    "cv2.waitKey(0)\n",
    "cv2.destroyAllWindows()"
   ]
  },
  {
   "cell_type": "code",
   "execution_count": null,
   "id": "a0853aad",
   "metadata": {},
   "outputs": [],
   "source": [
    "课后自己去找一些图片, 用不同的算法去做边缘检测和降噪, 对比加深对各种降噪和检测算法的效果和理解. "
   ]
  }
 ],
 "metadata": {
  "kernelspec": {
   "display_name": "Python 3 (ipykernel)",
   "language": "python",
   "name": "python3"
  },
  "language_info": {
   "codemirror_mode": {
    "name": "ipython",
    "version": 3
   },
   "file_extension": ".py",
   "mimetype": "text/x-python",
   "name": "python",
   "nbconvert_exporter": "python",
   "pygments_lexer": "ipython3",
   "version": "3.7.8"
  },
  "toc": {
   "base_numbering": 1,
   "nav_menu": {},
   "number_sections": true,
   "sideBar": true,
   "skip_h1_title": false,
   "title_cell": "Table of Contents",
   "title_sidebar": "Contents",
   "toc_cell": false,
   "toc_position": {},
   "toc_section_display": true,
   "toc_window_display": false
  }
 },
 "nbformat": 4,
 "nbformat_minor": 5
}
