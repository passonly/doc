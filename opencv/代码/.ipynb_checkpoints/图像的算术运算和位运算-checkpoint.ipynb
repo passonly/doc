{
 "cells": [
  {
   "cell_type": "code",
   "execution_count": 3,
   "id": "2657a36a",
   "metadata": {
    "ExecuteTime": {
     "end_time": "2022-08-17T12:54:28.815737Z",
     "start_time": "2022-08-17T12:54:28.759885Z"
    }
   },
   "outputs": [],
   "source": [
    "import numpy as np\n",
    "import cv2 "
   ]
  },
  {
   "cell_type": "markdown",
   "id": "4dcd2ac7",
   "metadata": {},
   "source": [
    "### 加法运算"
   ]
  },
  {
   "cell_type": "code",
   "execution_count": 6,
   "id": "028a7e08",
   "metadata": {
    "ExecuteTime": {
     "end_time": "2022-08-17T13:59:55.747476Z",
     "start_time": "2022-08-17T13:59:17.554577Z"
    }
   },
   "outputs": [
    {
     "name": "stdout",
     "output_type": "stream",
     "text": [
      "(480, 640, 3) (360, 499, 3)\n"
     ]
    }
   ],
   "source": [
    "# 图像本质上是ndarray(矩阵), ndarray的加法运算要求两个矩阵的shape必须完全一致. \n",
    "# ndarray的加法: 对应位置的元素进行相加\n",
    "cat = cv2.imread('./cat.jpeg')\n",
    "dog = cv2.imread('./dog.jpeg')\n",
    "print(cat.shape, dog.shape)\n",
    "# 如果shape不同, 会尝试进行广播. \n",
    "# 1. 维度不够会补维度. 2. 会用已有的数据进行填充. \n",
    "# cat + dog\n",
    "# cv2.add(cat, dog)\n",
    "# 可以对猫的图片进行裁剪, 裁剪出狗的大小, 不太推荐. \n",
    "# opencv中修改图片大小的函数: resize\n",
    "# ndarray中行数是高度, 列数是宽度. \n",
    "# resize中是先宽度, 再高度. \n",
    "new_dog = cv2.resize(dog, (640, 480))\n",
    "\n",
    "# opencv 的add方法会让超过255的数, 全部变成255, 相当于做了截断. \n",
    "img = cv2.add(cat, new_dog)\n",
    "# ndarray的加法, 会产生大于255的数据, 又因为数据类型是uint8的类型, 就会% 256, 用余数来填充. \n",
    "# img = cat + new_dog\n",
    "\n",
    "cv2.imshow('img', np.hstack((cat, new_dog, img)))\n",
    "cv2.waitKey(0)\n",
    "cv2.destroyAllWindows()"
   ]
  },
  {
   "cell_type": "code",
   "execution_count": 15,
   "id": "289ac447",
   "metadata": {
    "ExecuteTime": {
     "end_time": "2022-08-17T13:20:51.061404Z",
     "start_time": "2022-08-17T13:20:51.056417Z"
    }
   },
   "outputs": [
    {
     "data": {
      "text/plain": [
       "255"
      ]
     },
     "execution_count": 15,
     "metadata": {},
     "output_type": "execute_result"
    }
   ],
   "source": [
    "# 因为是uint8的类型, 所以不会超过255. 但是超了怎么办. \n",
    "np.max(img)"
   ]
  },
  {
   "cell_type": "code",
   "execution_count": 16,
   "id": "1bc533b7",
   "metadata": {
    "ExecuteTime": {
     "end_time": "2022-08-17T13:22:55.291806Z",
     "start_time": "2022-08-17T13:22:55.280836Z"
    },
    "scrolled": true
   },
   "outputs": [
    {
     "data": {
      "text/plain": [
       "array([[[204, 203, 205],\n",
       "        [205, 204, 206],\n",
       "        [206, 205, 207]],\n",
       "\n",
       "       [[204, 203, 205],\n",
       "        [205, 204, 206],\n",
       "        [206, 205, 207]],\n",
       "\n",
       "       [[204, 203, 205],\n",
       "        [204, 203, 205],\n",
       "        [205, 204, 206]]], dtype=uint8)"
      ]
     },
     "execution_count": 16,
     "metadata": {},
     "output_type": "execute_result"
    }
   ],
   "source": [
    "cat[:3, :3]"
   ]
  },
  {
   "cell_type": "code",
   "execution_count": 33,
   "id": "09877d49",
   "metadata": {
    "ExecuteTime": {
     "end_time": "2022-08-17T13:36:27.345487Z",
     "start_time": "2022-08-17T13:36:27.336511Z"
    }
   },
   "outputs": [
    {
     "data": {
      "text/plain": [
       "0.9488372093023256"
      ]
     },
     "execution_count": 33,
     "metadata": {},
     "output_type": "execute_result"
    }
   ],
   "source": [
    "204 / 215 "
   ]
  },
  {
   "cell_type": "code",
   "execution_count": 34,
   "id": "bc420f8d",
   "metadata": {
    "ExecuteTime": {
     "end_time": "2022-08-17T13:36:46.822419Z",
     "start_time": "2022-08-17T13:36:46.809454Z"
    }
   },
   "outputs": [
    {
     "data": {
      "text/plain": [
       "1.16"
      ]
     },
     "execution_count": 34,
     "metadata": {},
     "output_type": "execute_result"
    }
   ],
   "source": [
    "203 / 175"
   ]
  },
  {
   "cell_type": "code",
   "execution_count": 17,
   "id": "2206ddaf",
   "metadata": {
    "ExecuteTime": {
     "end_time": "2022-08-17T13:23:19.780342Z",
     "start_time": "2022-08-17T13:23:19.760394Z"
    },
    "scrolled": true
   },
   "outputs": [
    {
     "data": {
      "text/plain": [
       "array([[[215, 175, 140],\n",
       "        [216, 176, 141],\n",
       "        [220, 178, 143]],\n",
       "\n",
       "       [[222, 180, 145],\n",
       "        [222, 180, 145],\n",
       "        [220, 178, 143]],\n",
       "\n",
       "       [[225, 180, 146],\n",
       "        [223, 181, 146],\n",
       "        [223, 181, 146]]], dtype=uint8)"
      ]
     },
     "execution_count": 17,
     "metadata": {},
     "output_type": "execute_result"
    }
   ],
   "source": [
    "dog[:3, :3]"
   ]
  },
  {
   "cell_type": "code",
   "execution_count": null,
   "id": "a61f94a3",
   "metadata": {},
   "outputs": [],
   "source": [
    "204 + 215 = 163"
   ]
  },
  {
   "cell_type": "code",
   "execution_count": 19,
   "id": "6038ce95",
   "metadata": {
    "ExecuteTime": {
     "end_time": "2022-08-17T13:24:15.947693Z",
     "start_time": "2022-08-17T13:24:15.936723Z"
    }
   },
   "outputs": [
    {
     "data": {
      "text/plain": [
       "419"
      ]
     },
     "execution_count": 19,
     "metadata": {},
     "output_type": "execute_result"
    }
   ],
   "source": [
    "204 + 215"
   ]
  },
  {
   "cell_type": "code",
   "execution_count": 21,
   "id": "2ded396e",
   "metadata": {
    "ExecuteTime": {
     "end_time": "2022-08-17T13:24:52.530918Z",
     "start_time": "2022-08-17T13:24:52.520943Z"
    }
   },
   "outputs": [
    {
     "data": {
      "text/plain": [
       "163"
      ]
     },
     "execution_count": 21,
     "metadata": {},
     "output_type": "execute_result"
    }
   ],
   "source": [
    "419 % 256"
   ]
  },
  {
   "cell_type": "code",
   "execution_count": 18,
   "id": "9ab983c9",
   "metadata": {
    "ExecuteTime": {
     "end_time": "2022-08-17T13:23:41.344200Z",
     "start_time": "2022-08-17T13:23:41.329240Z"
    },
    "scrolled": true
   },
   "outputs": [
    {
     "data": {
      "text/plain": [
       "array([[[163, 122,  89],\n",
       "        [164, 123,  91],\n",
       "        [168, 126,  93]],\n",
       "\n",
       "       [[167, 125,  92],\n",
       "        [169, 126,  93],\n",
       "        [170, 127,  94]],\n",
       "\n",
       "       [[171, 127,  94],\n",
       "        [171, 127,  94],\n",
       "        [171, 128,  95]]], dtype=uint8)"
      ]
     },
     "execution_count": 18,
     "metadata": {},
     "output_type": "execute_result"
    }
   ],
   "source": [
    "img[:3, :3]"
   ]
  },
  {
   "cell_type": "code",
   "execution_count": 23,
   "id": "31d9b853",
   "metadata": {
    "ExecuteTime": {
     "end_time": "2022-08-17T13:26:12.761507Z",
     "start_time": "2022-08-17T13:26:12.753529Z"
    },
    "scrolled": true
   },
   "outputs": [
    {
     "data": {
      "text/plain": [
       "array([[[255, 255, 255],\n",
       "        [255, 255, 255],\n",
       "        [255, 255, 255]],\n",
       "\n",
       "       [[255, 255, 255],\n",
       "        [255, 255, 255],\n",
       "        [255, 255, 255]],\n",
       "\n",
       "       [[255, 255, 255],\n",
       "        [255, 255, 255],\n",
       "        [255, 255, 255]]], dtype=uint8)"
      ]
     },
     "execution_count": 23,
     "metadata": {},
     "output_type": "execute_result"
    }
   ],
   "source": [
    "# opencv 的add之后的结果\n",
    "img[:3, :3]"
   ]
  },
  {
   "cell_type": "markdown",
   "id": "86b32f4a",
   "metadata": {},
   "source": [
    "### 图像的减法运算"
   ]
  },
  {
   "cell_type": "code",
   "execution_count": 29,
   "id": "5b7f8cba",
   "metadata": {
    "ExecuteTime": {
     "end_time": "2022-08-17T13:33:16.827788Z",
     "start_time": "2022-08-17T13:33:00.969183Z"
    }
   },
   "outputs": [],
   "source": [
    "cat = cv2.imread('./cat.jpeg')\n",
    "dog = cv2.imread('./dog.jpeg')\n",
    "\n",
    " \n",
    "new_dog = cv2.resize(dog, (640, 480))\n",
    " \n",
    "# 如果减完之后, 小于0, 那么统一变成0\n",
    "img = cv2.subtract(cat, new_dog)\n",
    "\n",
    "# img = cat - new_dog\n",
    "\n",
    "cv2.imshow('img', np.hstack((cat, new_dog, img)))\n",
    "cv2.waitKey(0)\n",
    "cv2.destroyAllWindows()"
   ]
  },
  {
   "cell_type": "code",
   "execution_count": 28,
   "id": "f4fd2b2a",
   "metadata": {
    "ExecuteTime": {
     "end_time": "2022-08-17T13:32:45.312040Z",
     "start_time": "2022-08-17T13:32:45.297080Z"
    },
    "collapsed": true
   },
   "outputs": [
    {
     "data": {
      "text/plain": [
       "array([[[ 0,  0, 30],\n",
       "        [ 0,  0, 25],\n",
       "        [ 0,  1, 31],\n",
       "        ...,\n",
       "        [ 0,  0, 18],\n",
       "        [ 0,  0, 11],\n",
       "        [ 0,  0, 11]],\n",
       "\n",
       "       [[ 0,  0, 26],\n",
       "        [ 0,  0, 22],\n",
       "        [ 0,  0, 29],\n",
       "        ...,\n",
       "        [ 0,  0, 25],\n",
       "        [ 0,  0, 16],\n",
       "        [ 0,  0, 12]],\n",
       "\n",
       "       [[ 0,  0, 28],\n",
       "        [ 0,  0, 24],\n",
       "        [ 0,  0, 19],\n",
       "        ...,\n",
       "        [ 0,  0, 32],\n",
       "        [ 0,  0, 34],\n",
       "        [ 0,  1, 36]],\n",
       "\n",
       "       ...,\n",
       "\n",
       "       [[ 0,  0,  0],\n",
       "        [ 0,  0,  0],\n",
       "        [ 0,  0,  0],\n",
       "        ...,\n",
       "        [ 0,  0,  0],\n",
       "        [ 0,  0,  0],\n",
       "        [ 0,  0,  0]],\n",
       "\n",
       "       [[ 0,  0,  0],\n",
       "        [ 0,  0,  0],\n",
       "        [ 0,  0,  0],\n",
       "        ...,\n",
       "        [ 0,  0,  0],\n",
       "        [ 0,  0,  0],\n",
       "        [ 0,  0,  0]],\n",
       "\n",
       "       [[ 0,  0,  0],\n",
       "        [ 0,  0,  0],\n",
       "        [ 0,  0,  0],\n",
       "        ...,\n",
       "        [ 0,  0,  0],\n",
       "        [ 0,  0,  0],\n",
       "        [ 0,  0,  0]]], dtype=uint8)"
      ]
     },
     "execution_count": 28,
     "metadata": {},
     "output_type": "execute_result"
    }
   ],
   "source": [
    "img[20:50, 150:200]"
   ]
  },
  {
   "cell_type": "markdown",
   "id": "e6b9d944",
   "metadata": {},
   "source": [
    "### 图像的乘法和除法\n"
   ]
  },
  {
   "cell_type": "code",
   "execution_count": 30,
   "id": "8532cf20",
   "metadata": {
    "ExecuteTime": {
     "end_time": "2022-08-17T13:34:48.203020Z",
     "start_time": "2022-08-17T13:34:13.777051Z"
    }
   },
   "outputs": [],
   "source": [
    "# 乘法\n",
    "cat = cv2.imread('./cat.jpeg')\n",
    "dog = cv2.imread('./dog.jpeg')\n",
    "\n",
    " \n",
    "new_dog = cv2.resize(dog, (640, 480))\n",
    " \n",
    "# 超过255, 全部变成255\n",
    "img = cv2.multiply(cat, new_dog)\n",
    "\n",
    "# img = cat - new_dog\n",
    "\n",
    "cv2.imshow('img', np.hstack((cat, new_dog, img)))\n",
    "cv2.waitKey(0)\n",
    "cv2.destroyAllWindows()"
   ]
  },
  {
   "cell_type": "code",
   "execution_count": 31,
   "id": "d52fdaad",
   "metadata": {
    "ExecuteTime": {
     "end_time": "2022-08-17T13:35:57.281856Z",
     "start_time": "2022-08-17T13:35:28.864824Z"
    }
   },
   "outputs": [],
   "source": [
    "# 除法\n",
    "cat = cv2.imread('./cat.jpeg')\n",
    "dog = cv2.imread('./dog.jpeg')\n",
    "\n",
    " \n",
    "new_dog = cv2.resize(dog, (640, 480))\n",
    " \n",
    "\n",
    "img = cv2.divide(cat, new_dog)\n",
    "\n",
    "# img = cat - new_dog\n",
    "\n",
    "cv2.imshow('img', np.hstack((cat, new_dog, img)))\n",
    "cv2.waitKey(0)\n",
    "cv2.destroyAllWindows()"
   ]
  },
  {
   "cell_type": "code",
   "execution_count": 32,
   "id": "c8624cfb",
   "metadata": {
    "ExecuteTime": {
     "end_time": "2022-08-17T13:36:05.903807Z",
     "start_time": "2022-08-17T13:36:05.897824Z"
    },
    "collapsed": true
   },
   "outputs": [
    {
     "data": {
      "text/plain": [
       "array([[[1, 1, 1],\n",
       "        [1, 1, 1],\n",
       "        [1, 1, 1]],\n",
       "\n",
       "       [[1, 1, 1],\n",
       "        [1, 1, 1],\n",
       "        [1, 1, 1]],\n",
       "\n",
       "       [[1, 1, 1],\n",
       "        [1, 1, 1],\n",
       "        [1, 1, 1]]], dtype=uint8)"
      ]
     },
     "execution_count": 32,
     "metadata": {},
     "output_type": "execute_result"
    }
   ],
   "source": [
    "img[:3, :3]"
   ]
  },
  {
   "cell_type": "markdown",
   "id": "0e35c6a1",
   "metadata": {},
   "source": [
    "### 图像的融合"
   ]
  },
  {
   "cell_type": "code",
   "execution_count": 39,
   "id": "c2bd6c11",
   "metadata": {
    "ExecuteTime": {
     "end_time": "2022-08-17T13:41:52.317749Z",
     "start_time": "2022-08-17T13:41:09.147157Z"
    }
   },
   "outputs": [],
   "source": [
    "# cv2.addWeighted\n",
    "cat = cv2.imread('./cat.jpeg')\n",
    "dog = cv2.imread('./dog.jpeg')\n",
    "\n",
    " \n",
    "new_dog = cv2.resize(dog, (640, 480))\n",
    " \n",
    "\n",
    "img = cv2.addWeighted(cat, 0.2, new_dog, 0.8, 0)\n",
    "\n",
    "# img = cat - new_dog\n",
    "\n",
    "cv2.imshow('img', np.hstack((cat, new_dog, img)))\n",
    "cv2.waitKey(0)\n",
    "cv2.destroyAllWindows()"
   ]
  },
  {
   "cell_type": "markdown",
   "id": "7883e0e6",
   "metadata": {},
   "source": [
    "## 图像的位运算"
   ]
  },
  {
   "cell_type": "code",
   "execution_count": null,
   "id": "7fee6314",
   "metadata": {},
   "outputs": [],
   "source": [
    "# 图像的位运算就是对图像进行与或非, 异或."
   ]
  },
  {
   "cell_type": "markdown",
   "id": "c40fa3a3",
   "metadata": {},
   "source": [
    "### 与运算"
   ]
  },
  {
   "cell_type": "code",
   "execution_count": 45,
   "id": "d56615c2",
   "metadata": {
    "ExecuteTime": {
     "end_time": "2022-08-17T13:46:31.656510Z",
     "start_time": "2022-08-17T13:46:26.026560Z"
    }
   },
   "outputs": [],
   "source": [
    "cat = cv2.imread('./cat.jpeg')\n",
    "dog = cv2.imread('./dog.jpeg')\n",
    "\n",
    " \n",
    "new_dog = cv2.resize(dog, (640, 480))\n",
    " \n",
    "\n",
    "img = cv2.bitwise_and(cat, new_dog)\n",
    "\n",
    "# img = cat - new_dog\n",
    "\n",
    "cv2.imshow('img', np.hstack((cat, new_dog, img)))\n",
    "cv2.waitKey(0)\n",
    "cv2.destroyAllWindows()"
   ]
  },
  {
   "cell_type": "code",
   "execution_count": 42,
   "id": "686959c5",
   "metadata": {
    "ExecuteTime": {
     "end_time": "2022-08-17T13:45:28.186679Z",
     "start_time": "2022-08-17T13:45:28.177703Z"
    }
   },
   "outputs": [
    {
     "data": {
      "text/plain": [
       "array([[[204, 203, 205],\n",
       "        [205, 204, 206],\n",
       "        [206, 205, 207]],\n",
       "\n",
       "       [[204, 203, 205],\n",
       "        [205, 204, 206],\n",
       "        [206, 205, 207]],\n",
       "\n",
       "       [[204, 203, 205],\n",
       "        [204, 203, 205],\n",
       "        [205, 204, 206]]], dtype=uint8)"
      ]
     },
     "execution_count": 42,
     "metadata": {},
     "output_type": "execute_result"
    }
   ],
   "source": [
    "cat[:3, :3]"
   ]
  },
  {
   "cell_type": "code",
   "execution_count": 43,
   "id": "3459bfef",
   "metadata": {
    "ExecuteTime": {
     "end_time": "2022-08-17T13:45:35.375461Z",
     "start_time": "2022-08-17T13:45:35.362495Z"
    },
    "scrolled": true
   },
   "outputs": [
    {
     "data": {
      "text/plain": [
       "array([[[215, 175, 140],\n",
       "        [215, 175, 141],\n",
       "        [218, 177, 142]],\n",
       "\n",
       "       [[219, 178, 143],\n",
       "        [220, 178, 143],\n",
       "        [220, 178, 143]],\n",
       "\n",
       "       [[223, 180, 145],\n",
       "        [223, 180, 145],\n",
       "        [222, 180, 145]]], dtype=uint8)"
      ]
     },
     "execution_count": 43,
     "metadata": {},
     "output_type": "execute_result"
    }
   ],
   "source": [
    "new_dog[:3, :3]"
   ]
  },
  {
   "cell_type": "code",
   "execution_count": 53,
   "id": "dec26c97",
   "metadata": {
    "ExecuteTime": {
     "end_time": "2022-08-17T13:50:49.998386Z",
     "start_time": "2022-08-17T13:50:49.986418Z"
    }
   },
   "outputs": [
    {
     "data": {
      "text/plain": [
       "223"
      ]
     },
     "execution_count": 53,
     "metadata": {},
     "output_type": "execute_result"
    }
   ],
   "source": [
    "204 | 215"
   ]
  },
  {
   "cell_type": "code",
   "execution_count": 44,
   "id": "20ee2d0c",
   "metadata": {
    "ExecuteTime": {
     "end_time": "2022-08-17T13:45:48.049579Z",
     "start_time": "2022-08-17T13:45:48.041600Z"
    }
   },
   "outputs": [
    {
     "data": {
      "text/plain": [
       "196"
      ]
     },
     "execution_count": 44,
     "metadata": {},
     "output_type": "execute_result"
    }
   ],
   "source": [
    "204 & 215"
   ]
  },
  {
   "cell_type": "code",
   "execution_count": 46,
   "id": "05cccfb8",
   "metadata": {
    "ExecuteTime": {
     "end_time": "2022-08-17T13:46:49.262443Z",
     "start_time": "2022-08-17T13:46:49.257457Z"
    }
   },
   "outputs": [
    {
     "data": {
      "text/plain": [
       "-205"
      ]
     },
     "execution_count": 46,
     "metadata": {},
     "output_type": "execute_result"
    }
   ],
   "source": [
    "~204"
   ]
  },
  {
   "cell_type": "code",
   "execution_count": 41,
   "id": "48b7b076",
   "metadata": {
    "ExecuteTime": {
     "end_time": "2022-08-17T13:45:16.969665Z",
     "start_time": "2022-08-17T13:45:16.952711Z"
    }
   },
   "outputs": [
    {
     "data": {
      "text/plain": [
       "array([[[196, 139, 140],\n",
       "        [197, 140, 140],\n",
       "        [202, 129, 142]],\n",
       "\n",
       "       [[200, 130, 141],\n",
       "        [204, 128, 142],\n",
       "        [204, 128, 143]],\n",
       "\n",
       "       [[204, 128, 129],\n",
       "        [204, 128, 129],\n",
       "        [204, 132, 128]]], dtype=uint8)"
      ]
     },
     "execution_count": 41,
     "metadata": {},
     "output_type": "execute_result"
    }
   ],
   "source": [
    "img[:3, :3]"
   ]
  },
  {
   "cell_type": "markdown",
   "id": "f8770168",
   "metadata": {},
   "source": [
    "### 非运算"
   ]
  },
  {
   "cell_type": "code",
   "execution_count": 47,
   "id": "23d6c52c",
   "metadata": {
    "ExecuteTime": {
     "end_time": "2022-08-17T13:48:12.576717Z",
     "start_time": "2022-08-17T13:47:42.393407Z"
    }
   },
   "outputs": [],
   "source": [
    "cat = cv2.imread('./cat.jpeg')\n",
    "dog = cv2.imread('./dog.jpeg')\n",
    "\n",
    " \n",
    "new_dog = cv2.resize(dog, (640, 480))\n",
    " \n",
    "# 相当于255 - cat\n",
    "img = cv2.bitwise_not(cat)\n",
    "\n",
    "# img = cat - new_dog\n",
    "\n",
    "cv2.imshow('img', np.hstack((cat, new_dog, img)))\n",
    "cv2.waitKey(0)\n",
    "cv2.destroyAllWindows()"
   ]
  },
  {
   "cell_type": "code",
   "execution_count": 48,
   "id": "242a29b7",
   "metadata": {
    "ExecuteTime": {
     "end_time": "2022-08-17T13:48:17.749888Z",
     "start_time": "2022-08-17T13:48:17.737920Z"
    },
    "scrolled": false
   },
   "outputs": [
    {
     "data": {
      "text/plain": [
       "array([[[204, 203, 205],\n",
       "        [205, 204, 206],\n",
       "        [206, 205, 207]],\n",
       "\n",
       "       [[204, 203, 205],\n",
       "        [205, 204, 206],\n",
       "        [206, 205, 207]],\n",
       "\n",
       "       [[204, 203, 205],\n",
       "        [204, 203, 205],\n",
       "        [205, 204, 206]]], dtype=uint8)"
      ]
     },
     "execution_count": 48,
     "metadata": {},
     "output_type": "execute_result"
    }
   ],
   "source": [
    "cat[:3, :3]"
   ]
  },
  {
   "cell_type": "code",
   "execution_count": 50,
   "id": "df39b160",
   "metadata": {
    "ExecuteTime": {
     "end_time": "2022-08-17T13:48:37.823731Z",
     "start_time": "2022-08-17T13:48:37.811763Z"
    }
   },
   "outputs": [
    {
     "data": {
      "text/plain": [
       "-205"
      ]
     },
     "execution_count": 50,
     "metadata": {},
     "output_type": "execute_result"
    }
   ],
   "source": [
    "~204"
   ]
  },
  {
   "cell_type": "code",
   "execution_count": 51,
   "id": "b5be9408",
   "metadata": {
    "ExecuteTime": {
     "end_time": "2022-08-17T13:49:03.107140Z",
     "start_time": "2022-08-17T13:49:03.090185Z"
    }
   },
   "outputs": [
    {
     "data": {
      "text/plain": [
       "51"
      ]
     },
     "execution_count": 51,
     "metadata": {},
     "output_type": "execute_result"
    }
   ],
   "source": [
    "255 - 204"
   ]
  },
  {
   "cell_type": "code",
   "execution_count": 49,
   "id": "9f1834e3",
   "metadata": {
    "ExecuteTime": {
     "end_time": "2022-08-17T13:48:25.796882Z",
     "start_time": "2022-08-17T13:48:25.776935Z"
    },
    "scrolled": true
   },
   "outputs": [
    {
     "data": {
      "text/plain": [
       "array([[[51, 52, 50],\n",
       "        [50, 51, 49],\n",
       "        [49, 50, 48]],\n",
       "\n",
       "       [[51, 52, 50],\n",
       "        [50, 51, 49],\n",
       "        [49, 50, 48]],\n",
       "\n",
       "       [[51, 52, 50],\n",
       "        [51, 52, 50],\n",
       "        [50, 51, 49]]], dtype=uint8)"
      ]
     },
     "execution_count": 49,
     "metadata": {},
     "output_type": "execute_result"
    }
   ],
   "source": [
    "img[:3, :3]"
   ]
  },
  {
   "cell_type": "markdown",
   "id": "0b5a6acc",
   "metadata": {},
   "source": [
    "### 或运算"
   ]
  },
  {
   "cell_type": "code",
   "execution_count": 52,
   "id": "cee92542",
   "metadata": {
    "ExecuteTime": {
     "end_time": "2022-08-17T13:50:21.682085Z",
     "start_time": "2022-08-17T13:50:13.921830Z"
    }
   },
   "outputs": [],
   "source": [
    "cat = cv2.imread('./cat.jpeg')\n",
    "dog = cv2.imread('./dog.jpeg')\n",
    "\n",
    " \n",
    "new_dog = cv2.resize(dog, (640, 480))\n",
    " \n",
    "\n",
    "# 对应位置元素进行或运算. \n",
    "img = cv2.bitwise_or(cat, new_dog)\n",
    "\n",
    "# img = cat - new_dog\n",
    "\n",
    "cv2.imshow('img', np.hstack((cat, new_dog, img)))\n",
    "cv2.waitKey(0)\n",
    "cv2.destroyAllWindows()"
   ]
  },
  {
   "cell_type": "code",
   "execution_count": 54,
   "id": "55afdcae",
   "metadata": {
    "ExecuteTime": {
     "end_time": "2022-08-17T13:50:58.283237Z",
     "start_time": "2022-08-17T13:50:58.273264Z"
    },
    "collapsed": true
   },
   "outputs": [
    {
     "data": {
      "text/plain": [
       "array([[[223, 239, 205],\n",
       "        [223, 239, 207],\n",
       "        [222, 253, 207]],\n",
       "\n",
       "       [[223, 251, 207],\n",
       "        [221, 254, 207],\n",
       "        [222, 255, 207]],\n",
       "\n",
       "       [[223, 255, 221],\n",
       "        [223, 255, 221],\n",
       "        [223, 252, 223]]], dtype=uint8)"
      ]
     },
     "execution_count": 54,
     "metadata": {},
     "output_type": "execute_result"
    }
   ],
   "source": [
    "img[:3, :3]"
   ]
  },
  {
   "cell_type": "markdown",
   "id": "7e331eb9",
   "metadata": {},
   "source": [
    "### 异或运算"
   ]
  },
  {
   "cell_type": "code",
   "execution_count": 56,
   "id": "df274aa6",
   "metadata": {
    "ExecuteTime": {
     "end_time": "2022-08-17T13:52:11.858547Z",
     "start_time": "2022-08-17T13:52:06.211643Z"
    }
   },
   "outputs": [],
   "source": [
    "cat = cv2.imread('./cat.jpeg')\n",
    "dog = cv2.imread('./dog.jpeg')\n",
    "\n",
    " \n",
    "new_dog = cv2.resize(dog, (640, 480))\n",
    " \n",
    "\n",
    "# 对应位置元素进行异或运算. \n",
    "img = cv2.bitwise_xor(cat, new_dog)\n",
    "\n",
    "# img = cat - new_dog\n",
    "\n",
    "cv2.imshow('img', np.hstack((cat, new_dog, img)))\n",
    "cv2.waitKey(0)\n",
    "cv2.destroyAllWindows()"
   ]
  },
  {
   "cell_type": "code",
   "execution_count": 58,
   "id": "88dd3c03",
   "metadata": {
    "ExecuteTime": {
     "end_time": "2022-08-17T13:52:36.155614Z",
     "start_time": "2022-08-17T13:52:36.138659Z"
    },
    "scrolled": true
   },
   "outputs": [
    {
     "data": {
      "text/plain": [
       "27"
      ]
     },
     "execution_count": 58,
     "metadata": {},
     "output_type": "execute_result"
    }
   ],
   "source": [
    "204 ^ 215"
   ]
  },
  {
   "cell_type": "code",
   "execution_count": 57,
   "id": "7f5a3632",
   "metadata": {
    "ExecuteTime": {
     "end_time": "2022-08-17T13:52:18.670337Z",
     "start_time": "2022-08-17T13:52:18.659366Z"
    },
    "collapsed": true
   },
   "outputs": [
    {
     "data": {
      "text/plain": [
       "array([[[ 27, 100,  65],\n",
       "        [ 26,  99,  67],\n",
       "        [ 20, 124,  65]],\n",
       "\n",
       "       [[ 23, 121,  66],\n",
       "        [ 17, 126,  65],\n",
       "        [ 18, 127,  64]],\n",
       "\n",
       "       [[ 19, 127,  92],\n",
       "        [ 19, 127,  92],\n",
       "        [ 19, 120,  95]]], dtype=uint8)"
      ]
     },
     "execution_count": 57,
     "metadata": {},
     "output_type": "execute_result"
    }
   ],
   "source": [
    "img[:3, :3]"
   ]
  },
  {
   "cell_type": "code",
   "execution_count": 5,
   "id": "f22c22a0",
   "metadata": {
    "ExecuteTime": {
     "end_time": "2022-08-17T13:58:10.841922Z",
     "start_time": "2022-08-17T13:57:52.882932Z"
    }
   },
   "outputs": [],
   "source": [
    "import cv2\n",
    "import numpy as np\n",
    "\n",
    "#创建一张图片\n",
    "img = np.zeros((200,200), np.uint8)\n",
    "img2 = np.zeros((200,200), np.uint8)\n",
    "\n",
    "img[20:120, 20:120] = 255\n",
    "img2[80:180, 80:180] = 255\n",
    "\n",
    "# new_img = cv2.bitwise_not(img)\n",
    "# new_img = cv2.bitwise_and(img, img2)\n",
    "# new_img = cv2.bitwise_or(img, img2)\n",
    "new_img = cv2.bitwise_xor(img, img2)\n",
    "\n",
    "\n",
    "cv2.imshow('new_img', np.hstack((img, img2, new_img)))\n",
    "cv2.waitKey(0)\n",
    "\n",
    "cv2.destroyAllWindows()"
   ]
  }
 ],
 "metadata": {
  "kernelspec": {
   "display_name": "Python 3 (ipykernel)",
   "language": "python",
   "name": "python3"
  },
  "language_info": {
   "codemirror_mode": {
    "name": "ipython",
    "version": 3
   },
   "file_extension": ".py",
   "mimetype": "text/x-python",
   "name": "python",
   "nbconvert_exporter": "python",
   "pygments_lexer": "ipython3",
   "version": "3.7.8"
  },
  "toc": {
   "base_numbering": 1,
   "nav_menu": {},
   "number_sections": true,
   "sideBar": true,
   "skip_h1_title": false,
   "title_cell": "Table of Contents",
   "title_sidebar": "Contents",
   "toc_cell": false,
   "toc_position": {},
   "toc_section_display": true,
   "toc_window_display": false
  }
 },
 "nbformat": 4,
 "nbformat_minor": 5
}
