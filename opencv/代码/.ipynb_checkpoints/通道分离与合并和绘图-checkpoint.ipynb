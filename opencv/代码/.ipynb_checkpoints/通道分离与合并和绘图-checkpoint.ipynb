{
 "cells": [
  {
   "cell_type": "code",
   "execution_count": 1,
   "id": "665401a8",
   "metadata": {
    "ExecuteTime": {
     "end_time": "2022-08-15T12:23:20.546530Z",
     "start_time": "2022-08-15T12:23:20.308167Z"
    }
   },
   "outputs": [],
   "source": [
    "import cv2\n",
    "import numpy as np"
   ]
  },
  {
   "cell_type": "markdown",
   "id": "7ccb5b3d",
   "metadata": {
    "ExecuteTime": {
     "end_time": "2022-08-15T12:24:29.564181Z",
     "start_time": "2022-08-15T12:24:29.547227Z"
    }
   },
   "source": [
    "### 通道分离与合并"
   ]
  },
  {
   "cell_type": "code",
   "execution_count": null,
   "id": "ebf089d4",
   "metadata": {},
   "outputs": [],
   "source": [
    "img[:] = [b, g, r]"
   ]
  },
  {
   "cell_type": "code",
   "execution_count": 8,
   "id": "9f7dd807",
   "metadata": {
    "ExecuteTime": {
     "end_time": "2022-08-15T12:38:53.257217Z",
     "start_time": "2022-08-15T12:38:46.923639Z"
    }
   },
   "outputs": [],
   "source": [
    "# 创建一个全黑的图片\n",
    "img = np.zeros((200,200, 3), np.uint8)\n",
    "\n",
    "# 使用split分离通道, 分割出来的通道是二维的ndarray\n",
    "b, g, r = cv2.split(img)\n",
    "# 修改一些颜色\n",
    "b[10: 100, 10:100] = 127\n",
    "g[10:100, 10:100] = 255\n",
    "\n",
    "# 合并通道叫merge\n",
    "img2 = cv2.merge((b, g, r))\n",
    "\n",
    "# 展示单通道的图片和合并之后的图片. \n",
    "# 单通道的图片就是灰度图, 0表示黑色, 255表示白色. 其他值表示不同的灰度值. \n",
    "# 3通道的图片, 每个通道的数值就表示相应颜色的数值.\n",
    "cv2.imshow('b_g', np.hstack((b, g)))\n",
    "cv2.imshow('img2', np.hstack((img, img2)))\n",
    "\n",
    "cv2.waitKey(0)\n",
    "cv2.destroyAllWindows()"
   ]
  },
  {
   "cell_type": "code",
   "execution_count": 9,
   "id": "c97798a3",
   "metadata": {
    "ExecuteTime": {
     "end_time": "2022-08-15T12:40:51.230168Z",
     "start_time": "2022-08-15T12:40:51.220194Z"
    },
    "collapsed": true
   },
   "outputs": [
    {
     "data": {
      "text/plain": [
       "array([[[0, 0, 0],\n",
       "        [0, 0, 0],\n",
       "        [0, 0, 0],\n",
       "        ...,\n",
       "        [0, 0, 0],\n",
       "        [0, 0, 0],\n",
       "        [0, 0, 0]],\n",
       "\n",
       "       [[0, 0, 0],\n",
       "        [0, 0, 0],\n",
       "        [0, 0, 0],\n",
       "        ...,\n",
       "        [0, 0, 0],\n",
       "        [0, 0, 0],\n",
       "        [0, 0, 0]],\n",
       "\n",
       "       [[0, 0, 0],\n",
       "        [0, 0, 0],\n",
       "        [0, 0, 0],\n",
       "        ...,\n",
       "        [0, 0, 0],\n",
       "        [0, 0, 0],\n",
       "        [0, 0, 0]],\n",
       "\n",
       "       ...,\n",
       "\n",
       "       [[0, 0, 0],\n",
       "        [0, 0, 0],\n",
       "        [0, 0, 0],\n",
       "        ...,\n",
       "        [0, 0, 0],\n",
       "        [0, 0, 0],\n",
       "        [0, 0, 0]],\n",
       "\n",
       "       [[0, 0, 0],\n",
       "        [0, 0, 0],\n",
       "        [0, 0, 0],\n",
       "        ...,\n",
       "        [0, 0, 0],\n",
       "        [0, 0, 0],\n",
       "        [0, 0, 0]],\n",
       "\n",
       "       [[0, 0, 0],\n",
       "        [0, 0, 0],\n",
       "        [0, 0, 0],\n",
       "        ...,\n",
       "        [0, 0, 0],\n",
       "        [0, 0, 0],\n",
       "        [0, 0, 0]]], dtype=uint8)"
      ]
     },
     "execution_count": 9,
     "metadata": {},
     "output_type": "execute_result"
    }
   ],
   "source": [
    "img"
   ]
  },
  {
   "cell_type": "code",
   "execution_count": 25,
   "id": "68064278",
   "metadata": {
    "ExecuteTime": {
     "end_time": "2022-08-15T12:51:44.265369Z",
     "start_time": "2022-08-15T12:51:44.260382Z"
    }
   },
   "outputs": [],
   "source": [
    "# 不用opencv的api, 我们使用numpy的基础操作也可以实现通道的分离与合并. \n",
    "b, g, r = img[:, :, 0], img[:, :, 1], img[:, :, 2]\n",
    "\n",
    "r[10: 100, 10:100] = 255\n",
    "g[10:100, 10:100] = 255\n",
    "\n",
    "\n",
    "\n",
    "# 3个2维ndarray 要合并成一个3维的ndarray\n"
   ]
  },
  {
   "cell_type": "code",
   "execution_count": 27,
   "id": "a9cfe9b2",
   "metadata": {
    "ExecuteTime": {
     "end_time": "2022-08-15T12:52:37.678622Z",
     "start_time": "2022-08-15T12:51:49.804585Z"
    }
   },
   "outputs": [],
   "source": [
    "# 这个就是把多个ndarray合并在一起的. \n",
    "# np.hstack, np.vstack\n",
    "img3 = np.concatenate((b.reshape(200, 200, 1), g.reshape(200, 200, 1), r.reshape(200, 200, 1)), axis=-1)\n",
    "cv2.imshow('img3', img3)\n",
    "\n",
    "cv2.waitKey(0)\n",
    "cv2.destroyAllWindows()"
   ]
  },
  {
   "cell_type": "code",
   "execution_count": 26,
   "id": "091dfa8c",
   "metadata": {
    "ExecuteTime": {
     "end_time": "2022-08-15T12:51:48.090168Z",
     "start_time": "2022-08-15T12:51:48.084184Z"
    }
   },
   "outputs": [
    {
     "data": {
      "text/plain": [
       "array([[255, 255, 255, ..., 255, 255, 255],\n",
       "       [255, 255, 255, ..., 255, 255, 255],\n",
       "       [255, 255, 255, ..., 255, 255, 255],\n",
       "       ...,\n",
       "       [255, 255, 255, ..., 255, 255, 255],\n",
       "       [255, 255, 255, ..., 255, 255, 255],\n",
       "       [255, 255, 255, ..., 255, 255, 255]], dtype=uint8)"
      ]
     },
     "execution_count": 26,
     "metadata": {},
     "output_type": "execute_result"
    }
   ],
   "source": [
    "r[10:100, 10:100]"
   ]
  },
  {
   "cell_type": "code",
   "execution_count": 20,
   "id": "3e2dd7d8",
   "metadata": {
    "ExecuteTime": {
     "end_time": "2022-08-15T12:49:12.649318Z",
     "start_time": "2022-08-15T12:49:12.630369Z"
    }
   },
   "outputs": [
    {
     "data": {
      "text/plain": [
       "array([[0, 0, 0, ..., 0, 0, 0],\n",
       "       [0, 0, 0, ..., 0, 0, 0],\n",
       "       [0, 0, 0, ..., 0, 0, 0],\n",
       "       ...,\n",
       "       [0, 0, 0, ..., 0, 0, 0],\n",
       "       [0, 0, 0, ..., 0, 0, 0],\n",
       "       [0, 0, 0, ..., 0, 0, 0]], dtype=uint8)"
      ]
     },
     "execution_count": 20,
     "metadata": {},
     "output_type": "execute_result"
    }
   ],
   "source": [
    "b"
   ]
  },
  {
   "cell_type": "code",
   "execution_count": 17,
   "id": "c26c8736",
   "metadata": {
    "ExecuteTime": {
     "end_time": "2022-08-15T12:48:53.009802Z",
     "start_time": "2022-08-15T12:48:52.995838Z"
    },
    "collapsed": true
   },
   "outputs": [
    {
     "data": {
      "text/plain": [
       "array([[[0],\n",
       "        [0],\n",
       "        [0],\n",
       "        ...,\n",
       "        [0],\n",
       "        [0],\n",
       "        [0]],\n",
       "\n",
       "       [[0],\n",
       "        [0],\n",
       "        [0],\n",
       "        ...,\n",
       "        [0],\n",
       "        [0],\n",
       "        [0]],\n",
       "\n",
       "       [[0],\n",
       "        [0],\n",
       "        [0],\n",
       "        ...,\n",
       "        [0],\n",
       "        [0],\n",
       "        [0]],\n",
       "\n",
       "       ...,\n",
       "\n",
       "       [[0],\n",
       "        [0],\n",
       "        [0],\n",
       "        ...,\n",
       "        [0],\n",
       "        [0],\n",
       "        [0]],\n",
       "\n",
       "       [[0],\n",
       "        [0],\n",
       "        [0],\n",
       "        ...,\n",
       "        [0],\n",
       "        [0],\n",
       "        [0]],\n",
       "\n",
       "       [[0],\n",
       "        [0],\n",
       "        [0],\n",
       "        ...,\n",
       "        [0],\n",
       "        [0],\n",
       "        [0]]], dtype=uint8)"
      ]
     },
     "execution_count": 17,
     "metadata": {},
     "output_type": "execute_result"
    }
   ],
   "source": [
    "b.reshape(200, 200, 1)"
   ]
  },
  {
   "cell_type": "markdown",
   "id": "2f949db4",
   "metadata": {},
   "source": [
    "### 绘图"
   ]
  },
  {
   "cell_type": "markdown",
   "id": "45a1bb55",
   "metadata": {},
   "source": [
    "#### 画直线"
   ]
  },
  {
   "cell_type": "code",
   "execution_count": 35,
   "id": "de3a3063",
   "metadata": {
    "ExecuteTime": {
     "end_time": "2022-08-15T13:02:52.148254Z",
     "start_time": "2022-08-15T13:02:47.916062Z"
    }
   },
   "outputs": [],
   "source": [
    "# cv.line()\n",
    "# 创建背景图片\n",
    "img = np.zeros((800, 800, 3), np.uint8)\n",
    "# line(img, pt1, pt2, color[, thickness[, lineType[, shift]]]) -> img\n",
    "cv2.line(img, (10, 20), (400, 400), (255, 255, 255), 10, 16)\n",
    "\n",
    "\n",
    "cv2.imshow('img', img)\n",
    "cv2.waitKey(0)\n",
    "cv2.destroyAllWindows()"
   ]
  },
  {
   "cell_type": "markdown",
   "id": "a1811ed0",
   "metadata": {},
   "source": [
    "#### 画矩形"
   ]
  },
  {
   "cell_type": "code",
   "execution_count": 38,
   "id": "09d6103b",
   "metadata": {
    "ExecuteTime": {
     "end_time": "2022-08-15T13:19:35.553344Z",
     "start_time": "2022-08-15T13:19:27.696841Z"
    }
   },
   "outputs": [],
   "source": [
    "# cv.line()\n",
    "# 创建背景图片\n",
    "img = np.zeros((800, 800, 3), np.uint8)\n",
    "cv2.rectangle(img, (10, 20), (400, 400), (255, 255, 0), 3, 8)\n",
    "\n",
    "\n",
    "cv2.imshow('img', img)\n",
    "cv2.waitKey(0)\n",
    "cv2.destroyAllWindows()"
   ]
  },
  {
   "cell_type": "markdown",
   "id": "54f782b1",
   "metadata": {},
   "source": [
    "#### 画圆"
   ]
  },
  {
   "cell_type": "code",
   "execution_count": 40,
   "id": "f56dbecb",
   "metadata": {
    "ExecuteTime": {
     "end_time": "2022-08-15T13:22:32.737793Z",
     "start_time": "2022-08-15T13:22:27.332728Z"
    }
   },
   "outputs": [],
   "source": [
    "img = np.zeros((800, 800, 3), np.uint8)\n",
    "# circle(img, center, radius, color[, thickness[, lineType[, shift]]])\n",
    "cv2.circle(img, (400, 400), 100, (255, 255, 0), 3, 16)\n",
    "\n",
    "\n",
    "cv2.imshow('img', img)\n",
    "cv2.waitKey(0)\n",
    "cv2.destroyAllWindows()"
   ]
  },
  {
   "cell_type": "markdown",
   "id": "3d690512",
   "metadata": {},
   "source": [
    "#### 画椭圆"
   ]
  },
  {
   "cell_type": "code",
   "execution_count": 45,
   "id": "207f668a",
   "metadata": {
    "ExecuteTime": {
     "end_time": "2022-08-15T13:32:42.411731Z",
     "start_time": "2022-08-15T13:32:25.026901Z"
    }
   },
   "outputs": [],
   "source": [
    "img = np.zeros((800, 800, 3), np.uint8)\n",
    "# ellipse(img, center, axes, angle, startAngle, endAngle, color[, thickness[, lineType[, shift]]])\n",
    "# angle就是指椭圆的旋转角度, starangle和endangle控制画椭圆的哪一部分, 0到360就是画一个完整的椭圆\n",
    "cv2.ellipse(img, (400, 400), (100, 200), 90, 0, 360, [0, 0, 255], 3, 16)\n",
    "\n",
    "\n",
    "cv2.imshow('img', img)\n",
    "cv2.waitKey(0)\n",
    "cv2.destroyAllWindows()"
   ]
  },
  {
   "cell_type": "markdown",
   "id": "9a858eb4",
   "metadata": {},
   "source": [
    "#### 画多边形"
   ]
  },
  {
   "cell_type": "code",
   "execution_count": 53,
   "id": "0706e378",
   "metadata": {
    "ExecuteTime": {
     "end_time": "2022-08-15T13:40:59.711936Z",
     "start_time": "2022-08-15T13:40:39.581682Z"
    }
   },
   "outputs": [],
   "source": [
    "img = np.zeros((800, 800, 3), np.uint8)\n",
    "# polylines(img, pts, isClosed, color[, thickness[, lineType[, shift]]])\n",
    "# 点集必须是int32, 本质上是二维, 里面放的是成对x,y坐标\n",
    "# isClosed表示是否要把多边形封闭起来. \n",
    "pts = np.array([[250, 100], [150, 600], [50, 280], [300, 400], [240, 300]], np.int32)\n",
    "cv2.polylines(img, [pts], True, [0, 0, 255], 3, 16)\n",
    "\n",
    "\n",
    "cv2.imshow('img', img)\n",
    "cv2.waitKey(0)\n",
    "cv2.destroyAllWindows()"
   ]
  },
  {
   "cell_type": "markdown",
   "id": "8551af7e",
   "metadata": {},
   "source": [
    "#### 填充多边形"
   ]
  },
  {
   "cell_type": "code",
   "execution_count": 57,
   "id": "e9a439c5",
   "metadata": {
    "ExecuteTime": {
     "end_time": "2022-08-15T13:44:43.118960Z",
     "start_time": "2022-08-15T13:44:00.926836Z"
    }
   },
   "outputs": [],
   "source": [
    "img = np.zeros((800, 800, 3), np.uint8)\n",
    "# fillPoly(img, pts, color[, lineType[, shift[, offset]]])\n",
    "pts = np.array([[250, 100], [150, 300], [50, 280], [300, 400], [240, 300]], np.int32)\n",
    "# fillpoly因为是填充的多边形, 没有thickness这个参数. 也没有isClosed参数\n",
    "cv2.fillPoly(img, [pts], [0, 255, 255], 16)\n",
    "\n",
    "\n",
    "cv2.imshow('img', img)\n",
    "cv2.waitKey(0)\n",
    "cv2.destroyAllWindows()"
   ]
  },
  {
   "cell_type": "markdown",
   "id": "cbc6aecc",
   "metadata": {},
   "source": [
    "#### 显示文本"
   ]
  },
  {
   "cell_type": "code",
   "execution_count": 58,
   "id": "e19982cb",
   "metadata": {
    "ExecuteTime": {
     "end_time": "2022-08-15T13:48:29.407421Z",
     "start_time": "2022-08-15T13:48:11.781008Z"
    }
   },
   "outputs": [],
   "source": [
    "img = np.zeros((800, 800, 3), np.uint8)\n",
    "\n",
    "# putText(img, text, org, fontFace, fontScale, color[, thickness[, lineType[, bottomLeftOrigin]]])\n",
    "text = '你好, opencv'\n",
    "# org就是显示文本时的起始坐标, fontFace字体, fontScale字体的大小\n",
    "# opencv是默认不能显示中文字体的.因为没有提供中文字体文件\n",
    "cv2.putText(img, text, (50, 300), cv2.FONT_HERSHEY_COMPLEX, 5, [0, 0, 255])\n",
    "\n",
    "cv2.imshow('img', img)\n",
    "cv2.waitKey(0)\n",
    "cv2.destroyAllWindows()"
   ]
  },
  {
   "cell_type": "code",
   "execution_count": null,
   "id": "ba5b31c1",
   "metadata": {},
   "outputs": [],
   "source": [
    "# 如果实在要在图片里面绘制中文. 那么要换个包了, opencv是做不到了. \n",
    "# python 处理图片最万能的包, 是pillow ,即PIL"
   ]
  },
  {
   "cell_type": "code",
   "execution_count": 62,
   "id": "d2cb7740",
   "metadata": {
    "ExecuteTime": {
     "end_time": "2022-08-15T13:58:13.775242Z",
     "start_time": "2022-08-15T13:57:50.183244Z"
    }
   },
   "outputs": [],
   "source": [
    "from PIL import ImageFont, ImageDraw, Image\n",
    "\n",
    "img = np.zeros((800, 800, 3), np.uint8)\n",
    "\n",
    "# 从字体文件中导入字体.\n",
    "font = ImageFont.truetype('./msyhbd.ttc')\n",
    "# 创建一个pillow的图片\n",
    "img_pil = Image.fromarray(img)\n",
    "draw = ImageDraw.Draw(img_pil)\n",
    "# 利用draw去绘制中文\n",
    "text = '你好, opencv'\n",
    "# fill是RGBA\n",
    "draw.text((100, 250), text, font=font, fill=(0, 0, 255, 0))\n",
    "\n",
    "# img_pil\n",
    "# 变回ndarray方便在opencv中显示\n",
    "img = np.array(img_pil)\n",
    "cv2.imshow('img', img)\n",
    "cv2.waitKey(0)\n",
    "cv2.destroyAllWindows()"
   ]
  },
  {
   "cell_type": "code",
   "execution_count": null,
   "id": "6d93e777",
   "metadata": {},
   "outputs": [],
   "source": [
    "# 作业 按住鼠标左键, 就可以绘制图形. 通过键盘上的按键控制绘制不同的图形, 基本图形有直线, 圆, 矩形. "
   ]
  }
 ],
 "metadata": {
  "kernelspec": {
   "display_name": "Python 3 (ipykernel)",
   "language": "python",
   "name": "python3"
  },
  "language_info": {
   "codemirror_mode": {
    "name": "ipython",
    "version": 3
   },
   "file_extension": ".py",
   "mimetype": "text/x-python",
   "name": "python",
   "nbconvert_exporter": "python",
   "pygments_lexer": "ipython3",
   "version": "3.7.8"
  },
  "toc": {
   "base_numbering": 1,
   "nav_menu": {},
   "number_sections": true,
   "sideBar": true,
   "skip_h1_title": false,
   "title_cell": "Table of Contents",
   "title_sidebar": "Contents",
   "toc_cell": false,
   "toc_position": {},
   "toc_section_display": true,
   "toc_window_display": false
  }
 },
 "nbformat": 4,
 "nbformat_minor": 5
}
