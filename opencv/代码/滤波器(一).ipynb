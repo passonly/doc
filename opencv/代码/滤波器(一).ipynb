{
 "cells": [
  {
   "cell_type": "code",
   "execution_count": 1,
   "id": "bf453c5f",
   "metadata": {
    "ExecuteTime": {
     "end_time": "2022-08-24T13:28:41.343053Z",
     "start_time": "2022-08-24T13:28:41.211403Z"
    }
   },
   "outputs": [],
   "source": [
    "import numpy as np\n",
    "import cv2 "
   ]
  },
  {
   "cell_type": "markdown",
   "id": "3e6a7b9e",
   "metadata": {},
   "source": [
    "### 卷积操作"
   ]
  },
  {
   "cell_type": "code",
   "execution_count": 5,
   "id": "1bca7ad3",
   "metadata": {
    "ExecuteTime": {
     "end_time": "2022-08-24T13:41:11.751163Z",
     "start_time": "2022-08-24T13:40:44.096163Z"
    }
   },
   "outputs": [],
   "source": [
    "# opencv提供了卷积操作的函数.\n",
    "dog = cv2.imread('./dog.jpeg')\n",
    "gray_dog = cv2.cvtColor(dog, cv2.COLOR_BGR2GRAY)\n",
    "\n",
    "# kernel = np.array([[-1, -1, -1], [-1, 8, -1], [-1, -1, -1]], dtype=np.float32)\n",
    "# 锐化\n",
    "# kernel = np.array([[0, -1, 0], [-1, 5, -1], [0, -1, 0]], dtype=np.float32)\n",
    "# 浮雕\n",
    "kernel = np.array([[-1, -1, 0], [-1, 0, 1], [1, 1, 0]], dtype=np.float32)\n",
    "\n",
    "# opencv中默认会补0, 保持图片大小不变. \n",
    "dst = cv2.filter2D(gray_dog, -1, kernel)\n",
    "\n",
    "cv2.imshow('dog', np.hstack((gray_dog, dst)))\n",
    "\n",
    "cv2.waitKey(0)\n",
    "cv2.destroyAllWindows()"
   ]
  },
  {
   "cell_type": "code",
   "execution_count": 6,
   "id": "c1646e71",
   "metadata": {
    "ExecuteTime": {
     "end_time": "2022-08-24T13:42:34.789967Z",
     "start_time": "2022-08-24T13:42:30.960214Z"
    }
   },
   "outputs": [],
   "source": [
    "\n",
    "# OpenCV图像卷积操作\n",
    "import cv2\n",
    "import numpy as np\n",
    "\n",
    "#导入图片\n",
    "img = cv2.imread('./dog.jpeg')\n",
    "\n",
    "# 相当于原始图片中的每个点都被平均了一下, 所以图像变模糊了.\n",
    "kernel = np.ones((5, 5), np.float32) / 25\n",
    "# ddepth = -1 表示图片的数据类型不变\n",
    "dst = cv2.filter2D(img, -1, kernel)\n",
    "\n",
    "# 很明显卷积之后的图片模糊了.\n",
    "cv2.imshow('img', np.hstack((img, dst)))\n",
    "\n",
    "cv2.waitKey(0)\n",
    "cv2.destroyAllWindows()\n"
   ]
  },
  {
   "cell_type": "markdown",
   "id": "5aa19cf6",
   "metadata": {},
   "source": [
    "### 方盒滤波和均值滤波"
   ]
  },
  {
   "cell_type": "markdown",
   "id": "06336bb8",
   "metadata": {},
   "source": [
    "$$[\\texttt{K} =  \\alpha \\begin{bmatrix} 1 & 1 & 1 &  \\cdots & 1 & 1  \\\\ 1 & 1 & 1 &  \\cdots & 1 & 1  \\\\ \\hdotsfor{6} \\\\ 1 & 1 & 1 &  \\cdots & 1 & 1 \\end{bmatrix}$$"
   ]
  },
  {
   "cell_type": "code",
   "execution_count": 10,
   "id": "dcba06c3",
   "metadata": {
    "ExecuteTime": {
     "end_time": "2022-08-24T13:52:50.236739Z",
     "start_time": "2022-08-24T13:52:46.798938Z"
    }
   },
   "outputs": [],
   "source": [
    "import cv2\n",
    "import numpy as np\n",
    "\n",
    "#导入图片\n",
    "img = cv2.imread('./dog.jpeg')\n",
    "\n",
    "# kernel = np.ones((5, 5), np.float32)\n",
    "# 只需要指定卷积核大小\n",
    "# normalize默认=True\n",
    "dst = cv2.boxFilter(img, -1, (5, 5), normalize=True)\n",
    "\n",
    "# 很明显卷积之后的图片模糊了.\n",
    "cv2.imshow('img', np.hstack((img, dst)))\n",
    "\n",
    "cv2.waitKey(0)\n",
    "cv2.destroyAllWindows()\n"
   ]
  },
  {
   "cell_type": "code",
   "execution_count": 12,
   "id": "131b971a",
   "metadata": {
    "ExecuteTime": {
     "end_time": "2022-08-24T13:56:36.357690Z",
     "start_time": "2022-08-24T13:54:20.950007Z"
    }
   },
   "outputs": [],
   "source": [
    "# 方盒滤波和均值滤波其实是一样的. \n",
    "import cv2\n",
    "import numpy as np\n",
    "\n",
    "#导入图片\n",
    "img = cv2.imread('./dog.jpeg')\n",
    "\n",
    "# kernel = np.ones((5, 5), np.float32)\n",
    "# 只需要指定卷积核大小\n",
    "# normalize默认=True\n",
    "dst = cv2.blur(img, (9, 9))\n",
    "\n",
    "# 很明显卷积之后的图片模糊了.\n",
    "cv2.imshow('img', np.hstack((img, dst)))\n",
    "\n",
    "cv2.waitKey(0)\n",
    "cv2.destroyAllWindows()"
   ]
  },
  {
   "cell_type": "code",
   "execution_count": null,
   "id": "2466e489",
   "metadata": {},
   "outputs": [],
   "source": []
  }
 ],
 "metadata": {
  "kernelspec": {
   "display_name": "Python 3 (ipykernel)",
   "language": "python",
   "name": "python3"
  },
  "language_info": {
   "codemirror_mode": {
    "name": "ipython",
    "version": 3
   },
   "file_extension": ".py",
   "mimetype": "text/x-python",
   "name": "python",
   "nbconvert_exporter": "python",
   "pygments_lexer": "ipython3",
   "version": "3.7.8"
  },
  "toc": {
   "base_numbering": 1,
   "nav_menu": {},
   "number_sections": true,
   "sideBar": true,
   "skip_h1_title": false,
   "title_cell": "Table of Contents",
   "title_sidebar": "Contents",
   "toc_cell": false,
   "toc_position": {},
   "toc_section_display": true,
   "toc_window_display": false
  }
 },
 "nbformat": 4,
 "nbformat_minor": 5
}
